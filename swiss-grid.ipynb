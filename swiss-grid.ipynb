{
 "cells": [
  {
   "cell_type": "markdown",
   "metadata": {},
   "source": [
    "# Clustering the swiss map"
   ]
  },
  {
   "cell_type": "markdown",
   "metadata": {},
   "source": [
    "Our idea is to create squares all over the swiss map to create areas and then count the accident per area\n",
    "\n",
    "Swiss coordinates system is designed so that no two x and y coordinates can be mixed, 1 unit is one meter on the field.\n",
    "\n",
    "min coord Y : 480000, 070000 (bottom left)\n",
    "max coord X : 840000, 300000 (top right)\n",
    "\n",
    "There are squares that are outside Switzerland, but we are not interesting in area with 0 value (as if there are not road there cannot be any accident as well)"
   ]
  },
  {
   "cell_type": "code",
   "execution_count": null,
   "metadata": {
    "collapsed": false
   },
   "outputs": [],
   "source": [
    "import math\n",
    "import numpy as np\n",
    "xRange=840000-480000\n",
    "yRange=300000-70000\n",
    "print(xRange, yRange)"
   ]
  },
  {
   "cell_type": "code",
   "execution_count": null,
   "metadata": {
    "collapsed": false
   },
   "outputs": [],
   "source": [
    "#PAS TRES UTILE, IDEE DE DEPART\n",
    "print(\"very small\", \"0.5 x 0.5\\t\", xRange/500, \"x\", yRange/500, \"\\t\", math.ceil(xRange/500 * yRange/500), \"squares\") #0.25 km2\n",
    "print(\"small\",\"1 x 1\\t\\t\", xRange/1000,\"x\", yRange/1000, \"\\t\", math.ceil(xRange/1000 * yRange/1000), \"squares\")       #1 km2\n",
    "print(\"medium\", \"1.5 x 1.5\\t\", xRange/1500,\"x\", yRange/1500, \"\\t\", math.ceil(xRange/1500 * yRange/1500), \"squares\")   #2.25 km2\n",
    "print(\"large\", \"2 x 2\\t\\t\", xRange/2000,\"x\", yRange/2000, \"\\t\", math.ceil(xRange/2000 * yRange/2000), \"squares\")      #4 km2\n",
    "print(\"very large\", \"5 x 5\\t\", xRange/5000,\"x\", yRange/5000, \"\\t\", math.ceil(xRange/5000 * yRange/5000), \"squares\") #25 km2\n",
    "print(\"huge\", \"10 x 10\\t\\t\", xRange/10000,\"x\", yRange/10000, \"\\t\", math.ceil(xRange/10000 * yRange/10000), \"squares\") #100 km2"
   ]
  },
  {
   "cell_type": "code",
   "execution_count": null,
   "metadata": {
    "collapsed": false
   },
   "outputs": [],
   "source": [
    "def create_count_grid(square_size, df):\n",
    "    \"\"\"\n",
    "    Creates and fills an array with the count of accidents per squares of size 'square_size' on the map with the provided DataFrame\n",
    "    \"\"\"\n",
    "    nb_x=math.ceil(xRange/square_size)\n",
    "    nb_y=math.ceil(yRange/square_size)\n",
    "    \n",
    "    grid=np.ndarray((nb_x, nb_y))\n",
    "    grid.fill(0)\n",
    "    \n",
    "    for index, row in df.iterrows():\n",
    "        x=math.floor(row['geometry_coordinates'][0]/nb_x)\n",
    "        y=math.floor(row['geometry_coordinates'][1]/nb_y)\n",
    "        grid[x,y]+=1\n",
    "    return grid"
   ]
  },
  {
   "cell_type": "code",
   "execution_count": null,
   "metadata": {
    "collapsed": true
   },
   "outputs": [],
   "source": [
    "def compute_ratio(grid):\n",
    "    \"\"\"\n",
    "    To find a good square size length, we compute a ratio that is (% of non empty squares)/(mean of non zero values)\n",
    "    \"\"\"\n",
    "    non_empty_indices=np.nonzero(grid)\n",
    "    grid_non_zero=grid[non_empty_indices]\n",
    "    \n",
    "    non_empty_pct=len(non_empty_indices)/(grid.shape[0]*grid.shape[1])\n",
    "    \n",
    "    mean=grid.mean\n",
    "    mean_non_zero=grid_non_zero.mean\n",
    "    \n",
    "    #return non_empty_pct/mean\n",
    "    return non_empty_pct/mean_non_zero   "
   ]
  },
  {
   "cell_type": "code",
   "execution_count": null,
   "metadata": {
    "collapsed": false
   },
   "outputs": [],
   "source": [
    "def optimality_plot(df):\n",
    "    \"\"\"\n",
    "    Plot the result of the ratio per square length\n",
    "    \"\"\"\n",
    "    grid_ratio_list=list()\n",
    "    for i in range (500, 15000, 500):\n",
    "        tmp_grid=create_count_grid(i, df)\n",
    "        grid_ratio_list.append(i,compute_ratio(tmp_grid))     "
   ]
  }
 ],
 "metadata": {
  "kernelspec": {
   "display_name": "Python [Root]",
   "language": "python",
   "name": "Python [Root]"
  },
  "language_info": {
   "codemirror_mode": {
    "name": "ipython",
    "version": 3
   },
   "file_extension": ".py",
   "mimetype": "text/x-python",
   "name": "python",
   "nbconvert_exporter": "python",
   "pygments_lexer": "ipython3",
   "version": "3.5.2"
  }
 },
 "nbformat": 4,
 "nbformat_minor": 0
}
