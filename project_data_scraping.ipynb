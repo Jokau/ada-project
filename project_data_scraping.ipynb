{
 "cells": [
  {
   "cell_type": "markdown",
   "metadata": {},
   "source": [
    "# Road Traffic Accidents in Switzerland"
   ]
  },
  {
   "cell_type": "markdown",
   "metadata": {},
   "source": [
    "In this project, we work with the data from Switzerland's road accidents."
   ]
  },
  {
   "cell_type": "code",
   "execution_count": 1,
   "metadata": {
    "collapsed": false
   },
   "outputs": [],
   "source": [
    "import helpers\n",
    "from grid_helpers import *\n",
    "import json\n",
    "import math\n",
    "import matplotlib.pyplot as plt\n",
    "import numpy as np\n",
    "import pandas as pd\n",
    "import pickle\n",
    "import requests\n",
    "import seaborn as sns"
   ]
  },
  {
   "cell_type": "code",
   "execution_count": 2,
   "metadata": {
    "collapsed": false
   },
   "outputs": [],
   "source": [
    "%load_ext autoreload\n",
    "%autoreload 2\n",
    "%matplotlib inline"
   ]
  },
  {
   "cell_type": "markdown",
   "metadata": {},
   "source": [
    "## Scraping the data"
   ]
  },
  {
   "cell_type": "markdown",
   "metadata": {},
   "source": [
    "Writing to the \"Office Fédéral des Statistiques\" was unsuccessful, so we resort to web scraping.\n",
    "\n",
    "The scraped data comes from http://map.donneesaccidents.ch/ (or https://map.geo.admin.ch/?topic=vu&lang=fr&bgLayer=ch.swisstopo.pixelkarte-grau&layers=ch.astra.unfaelle-personenschaeden_alle&layers_timestamp=&catalogNodes=1318, after redirections).\n",
    "\n",
    "![Map](Resources/images/swissaccidentsmap.png)\n",
    "\n",
    "#### Layers\n",
    "\n",
    "The map contains the following layers:\n",
    "* Accidents with personal injury\n",
    "* Accidents with fatalities\n",
    "* Accidents involving a pedestrian\n",
    "* Accidents involving a bicycle\n",
    "* Accidents involving a motorcycle\n",
    "\n",
    "There is no information regarding accidents where nobody is unjured, since by law only accidents in which someone is injured require police intervention. This explains why only these are archived.\n",
    "\n",
    "#### Getting detailed accident data\n",
    "\n",
    "The map only displays markers for each accident. When one or more markers are selected, a web query retrieves the information related to the selected markers. Using postman, we analysed such queries and found a way to select several or all markers on the map.\n",
    "\n",
    "This is achieved by defining a rectangle, and querying for all markers inside it. We declare a rectangle that encompasses all Switzerland. This behaviour can be simulated on the browser by holding the ctrl key (or cmd on mac) and dragging a rectangle over the map.\n",
    "The returned data is paginated, so it is necessary to go over all the pages to obtain all detailed accident data.\n",
    "\n",
    "Example query parameters:\n",
    "```\n",
    "geometry:443999.04209536605,39001.6733318335,870499.0420953662,303001.67333183356\n",
    "geometryFormat:geojson\n",
    "geometryType:esriGeometryEnvelope\n",
    "imageDisplay:1536,759,96\n",
    "lang:en\n",
    "layers:all:LAYER_PARAM\n",
    "offset:200\n",
    "mapExtent:269999.04209536605,9501.673331833561,1037999.042095366,389001.67333183356\n",
    "returnGeometry:true\n",
    "tolerance:5\n",
    "```\n",
    "\n",
    "`LAYER_PARAM` can be replaced by the appropriate layer name and `offset` is optional."
   ]
  },
  {
   "cell_type": "code",
   "execution_count": 3,
   "metadata": {
    "collapsed": false
   },
   "outputs": [],
   "source": [
    "# Import raw data from http://map.donneesaccidents.ch/\n",
    "# Do not run thoses cells if the pickle is already computed\n",
    "# file info : data/data_raw.pickle, md5: 5c075c9d5a0195bd61b6871feb14bcdf\n",
    "#data = helpers.import_data()"
   ]
  },
  {
   "cell_type": "code",
   "execution_count": 4,
   "metadata": {
    "collapsed": false
   },
   "outputs": [],
   "source": [
    "#pickle.dump(data, open('data/data_raw.pickle', 'wb'))"
   ]
  },
  {
   "cell_type": "code",
   "execution_count": 5,
   "metadata": {
    "collapsed": false
   },
   "outputs": [],
   "source": [
    "#raw_df = pd.DataFrame(data)\n",
    "#raw_df.sample(5)"
   ]
  },
  {
   "cell_type": "markdown",
   "metadata": {},
   "source": [
    "## Cleaning the data"
   ]
  },
  {
   "cell_type": "code",
   "execution_count": 3,
   "metadata": {
    "collapsed": false
   },
   "outputs": [],
   "source": [
    "data = pickle.load(open('data/data_raw.pickle', 'rb'))"
   ]
  },
  {
   "cell_type": "markdown",
   "metadata": {},
   "source": [
    "In this initial data dump, we see the following fields:\n",
    "* **`bbox`** Redundant coordinates to place the accident on the map.\n",
    "* **`featureId`** Unique ID for an accident.\n",
    "* **`geometry`**  GeoJSON *geometry* object for the accident. Example:\n",
    "```\n",
    "{'coordinates': [[663430.0, 193370.0]], 'type': 'MultiPoint'}\n",
    "```\n",
    "* **`geometryType`** GeoJSON type\n",
    "* **`id`** Redundancy of `featureId`\n",
    "* **`layerBodId`** Map layers the accident belongs to\n",
    "* **`layerName`** Layer name\n",
    "* **`properties`** Accident properties. Example:\n",
    "```\n",
    "{'accidentday_de': 'Mittwoch / 12h-13h / Mai 2014',\n",
    " 'accidentday_fr': 'mercredi / 12h-13h / mai 2014',\n",
    " 'accidentday_it': 'Mercoledì / 12h-13h / Maggio 2014',\n",
    " 'accidenttype_de': 'Abbiegeunfall',\n",
    " 'accidenttype_fr': 'accident en quittant une route',\n",
    " 'accidenttype_it': 'Incidente nello svoltare',\n",
    " 'accidenttypecode': 3,\n",
    " 'accidentyear': 2014,\n",
    " 'canton': 'BE',\n",
    " 'fsocommunecode': '0979',\n",
    " 'label': 'Abbiegeunfall',\n",
    " 'roadtype_de': 'Nebenstrasse',\n",
    " 'roadtype_fr': 'route secondaire',\n",
    " 'roadtype_it': 'Strada secondaria',\n",
    " 'roadtypecode': 433,\n",
    " 'severitycategory_de': 'Unfall mit Leichtverletzten',\n",
    " 'severitycategory_fr': 'accident avec blessés légers',\n",
    " 'severitycategory_it': 'Incidente con feriti leggeri',\n",
    " 'severitycategorycode': 'ULV'}\n",
    "```\n",
    "* **`type`** Redundancy of `geometryType`\n",
    "\n",
    "The first step to be able to fully manipulate this data is to flatten it:"
   ]
  },
  {
   "cell_type": "code",
   "execution_count": 4,
   "metadata": {
    "collapsed": false
   },
   "outputs": [],
   "source": [
    "flat_data = [helpers.flatten(entry) for entry in data]"
   ]
  },
  {
   "cell_type": "code",
   "execution_count": 5,
   "metadata": {
    "collapsed": false
   },
   "outputs": [
    {
     "data": {
      "text/plain": [
       "Index(['bbox', 'featureId', 'geometryType', 'geometry_coordinates',\n",
       "       'geometry_type', 'id', 'layerBodId', 'layerName',\n",
       "       'properties_accidentday_de', 'properties_accidentday_fr',\n",
       "       'properties_accidentday_it', 'properties_accidenttype_de',\n",
       "       'properties_accidenttype_fr', 'properties_accidenttype_it',\n",
       "       'properties_accidenttypecode', 'properties_accidentyear',\n",
       "       'properties_canton', 'properties_fsocommunecode', 'properties_label',\n",
       "       'properties_roadtype_de', 'properties_roadtype_fr',\n",
       "       'properties_roadtype_it', 'properties_roadtypecode',\n",
       "       'properties_severitycategory_de', 'properties_severitycategory_fr',\n",
       "       'properties_severitycategory_it', 'properties_severitycategorycode',\n",
       "       'type'],\n",
       "      dtype='object')"
      ]
     },
     "execution_count": 5,
     "metadata": {},
     "output_type": "execute_result"
    }
   ],
   "source": [
    "accidents_df = pd.DataFrame(flat_data)\n",
    "accidents_df.columns"
   ]
  },
  {
   "cell_type": "markdown",
   "metadata": {},
   "source": [
    "To clean the data, we start by removing the columns that are irrelevant or redundant, such as:\n",
    "* **`bbox`** coordinates for the accident are available in the `geometry_coordinates` column.\n",
    "* **`featureId`** we keep `id`\n",
    "* **`geometryType` and `type`** Innecessary GeoJSON info\n",
    "* **`layerBodId`** we keep `layerName`\n",
    "* **Translations**: all translated fields are only kept in french (english not available).\n",
    "\n",
    "After removing all "
   ]
  },
  {
   "cell_type": "code",
   "execution_count": 6,
   "metadata": {
    "collapsed": false
   },
   "outputs": [],
   "source": [
    "accidents_df = accidents_df.drop([\n",
    "    'bbox',\n",
    "    'featureId',\n",
    "    'geometryType',\n",
    "    'type',\n",
    "    'layerName',\n",
    "    'properties_accidentday_de',\n",
    "    'properties_accidentday_it',\n",
    "    'properties_severitycategory_de',\n",
    "    'properties_severitycategory_it',\n",
    "    'properties_severitycategory_fr',\n",
    "    'properties_roadtype_de',\n",
    "    'properties_roadtype_it',\n",
    "    'properties_accidenttype_de',\n",
    "    'properties_accidenttype_it',\n",
    "    'properties_accidenttype_fr',\n",
    "    'properties_roadtype_fr',\n",
    "    'properties_label',\n",
    "    'geometry_type'\n",
    "], axis=1)\n",
    "\n",
    "# Select one set of coordinates for the accident\n",
    "accidents_df.geometry_coordinates = accidents_df.geometry_coordinates.apply(lambda x: x[0])\n",
    "\n",
    "accidents_df = accidents_df.set_index('id')\n",
    "accidents_df = accidents_df.sort_index()"
   ]
  },
  {
   "cell_type": "code",
   "execution_count": 7,
   "metadata": {
    "collapsed": false
   },
   "outputs": [
    {
     "data": {
      "text/html": [
       "<div>\n",
       "<table border=\"1\" class=\"dataframe\">\n",
       "  <thead>\n",
       "    <tr style=\"text-align: right;\">\n",
       "      <th></th>\n",
       "      <th>geometry_coordinates</th>\n",
       "      <th>layerBodId</th>\n",
       "      <th>properties_accidentday_fr</th>\n",
       "      <th>properties_accidenttypecode</th>\n",
       "      <th>properties_accidentyear</th>\n",
       "      <th>properties_canton</th>\n",
       "      <th>properties_fsocommunecode</th>\n",
       "      <th>properties_roadtypecode</th>\n",
       "      <th>properties_severitycategorycode</th>\n",
       "    </tr>\n",
       "    <tr>\n",
       "      <th>id</th>\n",
       "      <th></th>\n",
       "      <th></th>\n",
       "      <th></th>\n",
       "      <th></th>\n",
       "      <th></th>\n",
       "      <th></th>\n",
       "      <th></th>\n",
       "      <th></th>\n",
       "      <th></th>\n",
       "    </tr>\n",
       "  </thead>\n",
       "  <tbody>\n",
       "    <tr>\n",
       "      <th>000632B7E4500082E0530A83942743EA</th>\n",
       "      <td>[647210.0, 177439.0]</td>\n",
       "      <td>ch.astra.unfaelle-personenschaeden_fahrraeder</td>\n",
       "      <td>samedi / 22h-23h / juillet 2014</td>\n",
       "      <td>4</td>\n",
       "      <td>2014</td>\n",
       "      <td>BE</td>\n",
       "      <td>0573</td>\n",
       "      <td>432</td>\n",
       "      <td>USV</td>\n",
       "    </tr>\n",
       "    <tr>\n",
       "      <th>000632B7E4500082E0530A83942743EA</th>\n",
       "      <td>[647210.0, 177439.0]</td>\n",
       "      <td>ch.astra.unfaelle-personenschaeden_alle</td>\n",
       "      <td>samedi / 22h-23h / juillet 2014</td>\n",
       "      <td>4</td>\n",
       "      <td>2014</td>\n",
       "      <td>BE</td>\n",
       "      <td>0573</td>\n",
       "      <td>432</td>\n",
       "      <td>USV</td>\n",
       "    </tr>\n",
       "    <tr>\n",
       "      <th>000750DA26760038E0530A8394272B98</th>\n",
       "      <td>[685704.0, 252693.0]</td>\n",
       "      <td>ch.astra.unfaelle-personenschaeden_alle</td>\n",
       "      <td>jeudi / 16h-17h / juillet 2014</td>\n",
       "      <td>2</td>\n",
       "      <td>2014</td>\n",
       "      <td>ZH</td>\n",
       "      <td>0069</td>\n",
       "      <td>430</td>\n",
       "      <td>ULV</td>\n",
       "    </tr>\n",
       "    <tr>\n",
       "      <th>000750DA26760038E0530A8394272B98</th>\n",
       "      <td>[685704.0, 252693.0]</td>\n",
       "      <td>ch.astra.unfaelle-personenschaeden_alle</td>\n",
       "      <td>jeudi / 16h-17h / juillet 2014</td>\n",
       "      <td>2</td>\n",
       "      <td>2014</td>\n",
       "      <td>ZH</td>\n",
       "      <td>0069</td>\n",
       "      <td>430</td>\n",
       "      <td>ULV</td>\n",
       "    </tr>\n",
       "    <tr>\n",
       "      <th>0007F58D137500F0E0530A839427CD36</th>\n",
       "      <td>[750913.0, 256375.0]</td>\n",
       "      <td>ch.astra.unfaelle-personenschaeden_alle</td>\n",
       "      <td>mardi / 06h-07h / juin 2014</td>\n",
       "      <td>0</td>\n",
       "      <td>2014</td>\n",
       "      <td>SG</td>\n",
       "      <td>3212</td>\n",
       "      <td>432</td>\n",
       "      <td>USV</td>\n",
       "    </tr>\n",
       "  </tbody>\n",
       "</table>\n",
       "</div>"
      ],
      "text/plain": [
       "                                  geometry_coordinates  \\\n",
       "id                                                       \n",
       "000632B7E4500082E0530A83942743EA  [647210.0, 177439.0]   \n",
       "000632B7E4500082E0530A83942743EA  [647210.0, 177439.0]   \n",
       "000750DA26760038E0530A8394272B98  [685704.0, 252693.0]   \n",
       "000750DA26760038E0530A8394272B98  [685704.0, 252693.0]   \n",
       "0007F58D137500F0E0530A839427CD36  [750913.0, 256375.0]   \n",
       "\n",
       "                                                                     layerBodId  \\\n",
       "id                                                                                \n",
       "000632B7E4500082E0530A83942743EA  ch.astra.unfaelle-personenschaeden_fahrraeder   \n",
       "000632B7E4500082E0530A83942743EA        ch.astra.unfaelle-personenschaeden_alle   \n",
       "000750DA26760038E0530A8394272B98        ch.astra.unfaelle-personenschaeden_alle   \n",
       "000750DA26760038E0530A8394272B98        ch.astra.unfaelle-personenschaeden_alle   \n",
       "0007F58D137500F0E0530A839427CD36        ch.astra.unfaelle-personenschaeden_alle   \n",
       "\n",
       "                                        properties_accidentday_fr  \\\n",
       "id                                                                  \n",
       "000632B7E4500082E0530A83942743EA  samedi / 22h-23h / juillet 2014   \n",
       "000632B7E4500082E0530A83942743EA  samedi / 22h-23h / juillet 2014   \n",
       "000750DA26760038E0530A8394272B98   jeudi / 16h-17h / juillet 2014   \n",
       "000750DA26760038E0530A8394272B98   jeudi / 16h-17h / juillet 2014   \n",
       "0007F58D137500F0E0530A839427CD36      mardi / 06h-07h / juin 2014   \n",
       "\n",
       "                                  properties_accidenttypecode  \\\n",
       "id                                                              \n",
       "000632B7E4500082E0530A83942743EA                            4   \n",
       "000632B7E4500082E0530A83942743EA                            4   \n",
       "000750DA26760038E0530A8394272B98                            2   \n",
       "000750DA26760038E0530A8394272B98                            2   \n",
       "0007F58D137500F0E0530A839427CD36                            0   \n",
       "\n",
       "                                  properties_accidentyear properties_canton  \\\n",
       "id                                                                            \n",
       "000632B7E4500082E0530A83942743EA                     2014                BE   \n",
       "000632B7E4500082E0530A83942743EA                     2014                BE   \n",
       "000750DA26760038E0530A8394272B98                     2014                ZH   \n",
       "000750DA26760038E0530A8394272B98                     2014                ZH   \n",
       "0007F58D137500F0E0530A839427CD36                     2014                SG   \n",
       "\n",
       "                                 properties_fsocommunecode  \\\n",
       "id                                                           \n",
       "000632B7E4500082E0530A83942743EA                      0573   \n",
       "000632B7E4500082E0530A83942743EA                      0573   \n",
       "000750DA26760038E0530A8394272B98                      0069   \n",
       "000750DA26760038E0530A8394272B98                      0069   \n",
       "0007F58D137500F0E0530A839427CD36                      3212   \n",
       "\n",
       "                                  properties_roadtypecode  \\\n",
       "id                                                          \n",
       "000632B7E4500082E0530A83942743EA                      432   \n",
       "000632B7E4500082E0530A83942743EA                      432   \n",
       "000750DA26760038E0530A8394272B98                      430   \n",
       "000750DA26760038E0530A8394272B98                      430   \n",
       "0007F58D137500F0E0530A839427CD36                      432   \n",
       "\n",
       "                                 properties_severitycategorycode  \n",
       "id                                                                \n",
       "000632B7E4500082E0530A83942743EA                             USV  \n",
       "000632B7E4500082E0530A83942743EA                             USV  \n",
       "000750DA26760038E0530A8394272B98                             ULV  \n",
       "000750DA26760038E0530A8394272B98                             ULV  \n",
       "0007F58D137500F0E0530A839427CD36                             USV  "
      ]
     },
     "execution_count": 7,
     "metadata": {},
     "output_type": "execute_result"
    }
   ],
   "source": [
    "accidents_df.head(5)"
   ]
  },
  {
   "cell_type": "code",
   "execution_count": 8,
   "metadata": {
    "collapsed": false
   },
   "outputs": [
    {
     "name": "stdout",
     "output_type": "stream",
     "text": [
      "Total accident entries: 141461\n"
     ]
    },
    {
     "data": {
      "text/html": [
       "<div>\n",
       "<table border=\"1\" class=\"dataframe\">\n",
       "  <thead>\n",
       "    <tr style=\"text-align: right;\">\n",
       "      <th></th>\n",
       "      <th>geometry_coordinates</th>\n",
       "      <th>properties_accidenttypecode</th>\n",
       "      <th>properties_canton</th>\n",
       "      <th>properties_fsocommunecode</th>\n",
       "      <th>properties_roadtypecode</th>\n",
       "      <th>properties_severitycategorycode</th>\n",
       "      <th>withBodilyDamage</th>\n",
       "      <th>involvesBicycles</th>\n",
       "      <th>involvesMotorcycles</th>\n",
       "      <th>involvesPedestrians</th>\n",
       "      <th>withFatality</th>\n",
       "      <th>weekday</th>\n",
       "      <th>time</th>\n",
       "      <th>month</th>\n",
       "      <th>year</th>\n",
       "    </tr>\n",
       "    <tr>\n",
       "      <th>id</th>\n",
       "      <th></th>\n",
       "      <th></th>\n",
       "      <th></th>\n",
       "      <th></th>\n",
       "      <th></th>\n",
       "      <th></th>\n",
       "      <th></th>\n",
       "      <th></th>\n",
       "      <th></th>\n",
       "      <th></th>\n",
       "      <th></th>\n",
       "      <th></th>\n",
       "      <th></th>\n",
       "      <th></th>\n",
       "      <th></th>\n",
       "    </tr>\n",
       "  </thead>\n",
       "  <tbody>\n",
       "    <tr>\n",
       "      <th>F08F62FA02E60178E0430A8394271738</th>\n",
       "      <td>[601365.0, 207171.0]</td>\n",
       "      <td>Joining a road</td>\n",
       "      <td>BE</td>\n",
       "      <td>0546</td>\n",
       "      <td>Primary road</td>\n",
       "      <td>light injuries</td>\n",
       "      <td>False</td>\n",
       "      <td>True</td>\n",
       "      <td>False</td>\n",
       "      <td>False</td>\n",
       "      <td>False</td>\n",
       "      <td>3 Wednesday</td>\n",
       "      <td>07h-08h</td>\n",
       "      <td>10 October</td>\n",
       "      <td>2013</td>\n",
       "    </tr>\n",
       "    <tr>\n",
       "      <th>A23127EFE5C4B0D0E0430A865E33B0D0</th>\n",
       "      <td>[718117.0, 96701.0]</td>\n",
       "      <td>Collision</td>\n",
       "      <td>TI</td>\n",
       "      <td>5192</td>\n",
       "      <td>Primary road</td>\n",
       "      <td>light injuries</td>\n",
       "      <td>True</td>\n",
       "      <td>False</td>\n",
       "      <td>False</td>\n",
       "      <td>False</td>\n",
       "      <td>False</td>\n",
       "      <td>3 Wednesday</td>\n",
       "      <td>09h-10h</td>\n",
       "      <td>05 May</td>\n",
       "      <td>2011</td>\n",
       "    </tr>\n",
       "    <tr>\n",
       "      <th>1AD5347FEB5F01CAE0530A83942779F1</th>\n",
       "      <td>[536423.0, 152730.0]</td>\n",
       "      <td>Skidding or control loss</td>\n",
       "      <td>VD</td>\n",
       "      <td>5586</td>\n",
       "      <td>Primary road</td>\n",
       "      <td>light injuries</td>\n",
       "      <td>True</td>\n",
       "      <td>False</td>\n",
       "      <td>False</td>\n",
       "      <td>False</td>\n",
       "      <td>False</td>\n",
       "      <td>4 Thursday</td>\n",
       "      <td>16h-17h</td>\n",
       "      <td>06 June</td>\n",
       "      <td>2015</td>\n",
       "    </tr>\n",
       "    <tr>\n",
       "      <th>FB9D858651C40180E0430A839427ABBB</th>\n",
       "      <td>[593532.0, 199952.0]</td>\n",
       "      <td>With animals</td>\n",
       "      <td>BE</td>\n",
       "      <td>0351</td>\n",
       "      <td>Primary road</td>\n",
       "      <td>heavy injuries</td>\n",
       "      <td>False</td>\n",
       "      <td>True</td>\n",
       "      <td>False</td>\n",
       "      <td>False</td>\n",
       "      <td>False</td>\n",
       "      <td>3 Wednesday</td>\n",
       "      <td>05h-06h</td>\n",
       "      <td>04 April</td>\n",
       "      <td>2014</td>\n",
       "    </tr>\n",
       "    <tr>\n",
       "      <th>DF6CEE3033C5019AE0430A8394275F8B</th>\n",
       "      <td>[539333.0, 181696.0]</td>\n",
       "      <td>Collision</td>\n",
       "      <td>VD</td>\n",
       "      <td>5938</td>\n",
       "      <td>Secondary road</td>\n",
       "      <td>light injuries</td>\n",
       "      <td>True</td>\n",
       "      <td>False</td>\n",
       "      <td>False</td>\n",
       "      <td>False</td>\n",
       "      <td>False</td>\n",
       "      <td>5 Friday</td>\n",
       "      <td>17h-18h</td>\n",
       "      <td>06 June</td>\n",
       "      <td>2013</td>\n",
       "    </tr>\n",
       "  </tbody>\n",
       "</table>\n",
       "</div>"
      ],
      "text/plain": [
       "                                  geometry_coordinates  \\\n",
       "id                                                       \n",
       "F08F62FA02E60178E0430A8394271738  [601365.0, 207171.0]   \n",
       "A23127EFE5C4B0D0E0430A865E33B0D0   [718117.0, 96701.0]   \n",
       "1AD5347FEB5F01CAE0530A83942779F1  [536423.0, 152730.0]   \n",
       "FB9D858651C40180E0430A839427ABBB  [593532.0, 199952.0]   \n",
       "DF6CEE3033C5019AE0430A8394275F8B  [539333.0, 181696.0]   \n",
       "\n",
       "                                 properties_accidenttypecode  \\\n",
       "id                                                             \n",
       "F08F62FA02E60178E0430A8394271738              Joining a road   \n",
       "A23127EFE5C4B0D0E0430A865E33B0D0                   Collision   \n",
       "1AD5347FEB5F01CAE0530A83942779F1    Skidding or control loss   \n",
       "FB9D858651C40180E0430A839427ABBB                With animals   \n",
       "DF6CEE3033C5019AE0430A8394275F8B                   Collision   \n",
       "\n",
       "                                 properties_canton properties_fsocommunecode  \\\n",
       "id                                                                             \n",
       "F08F62FA02E60178E0430A8394271738                BE                      0546   \n",
       "A23127EFE5C4B0D0E0430A865E33B0D0                TI                      5192   \n",
       "1AD5347FEB5F01CAE0530A83942779F1                VD                      5586   \n",
       "FB9D858651C40180E0430A839427ABBB                BE                      0351   \n",
       "DF6CEE3033C5019AE0430A8394275F8B                VD                      5938   \n",
       "\n",
       "                                 properties_roadtypecode  \\\n",
       "id                                                         \n",
       "F08F62FA02E60178E0430A8394271738            Primary road   \n",
       "A23127EFE5C4B0D0E0430A865E33B0D0            Primary road   \n",
       "1AD5347FEB5F01CAE0530A83942779F1            Primary road   \n",
       "FB9D858651C40180E0430A839427ABBB            Primary road   \n",
       "DF6CEE3033C5019AE0430A8394275F8B          Secondary road   \n",
       "\n",
       "                                 properties_severitycategorycode  \\\n",
       "id                                                                 \n",
       "F08F62FA02E60178E0430A8394271738                  light injuries   \n",
       "A23127EFE5C4B0D0E0430A865E33B0D0                  light injuries   \n",
       "1AD5347FEB5F01CAE0530A83942779F1                  light injuries   \n",
       "FB9D858651C40180E0430A839427ABBB                  heavy injuries   \n",
       "DF6CEE3033C5019AE0430A8394275F8B                  light injuries   \n",
       "\n",
       "                                 withBodilyDamage involvesBicycles  \\\n",
       "id                                                                   \n",
       "F08F62FA02E60178E0430A8394271738            False             True   \n",
       "A23127EFE5C4B0D0E0430A865E33B0D0             True            False   \n",
       "1AD5347FEB5F01CAE0530A83942779F1             True            False   \n",
       "FB9D858651C40180E0430A839427ABBB            False             True   \n",
       "DF6CEE3033C5019AE0430A8394275F8B             True            False   \n",
       "\n",
       "                                 involvesMotorcycles involvesPedestrians  \\\n",
       "id                                                                         \n",
       "F08F62FA02E60178E0430A8394271738               False               False   \n",
       "A23127EFE5C4B0D0E0430A865E33B0D0               False               False   \n",
       "1AD5347FEB5F01CAE0530A83942779F1               False               False   \n",
       "FB9D858651C40180E0430A839427ABBB               False               False   \n",
       "DF6CEE3033C5019AE0430A8394275F8B               False               False   \n",
       "\n",
       "                                 withFatality      weekday     time  \\\n",
       "id                                                                    \n",
       "F08F62FA02E60178E0430A8394271738        False  3 Wednesday  07h-08h   \n",
       "A23127EFE5C4B0D0E0430A865E33B0D0        False  3 Wednesday  09h-10h   \n",
       "1AD5347FEB5F01CAE0530A83942779F1        False   4 Thursday  16h-17h   \n",
       "FB9D858651C40180E0430A839427ABBB        False  3 Wednesday  05h-06h   \n",
       "DF6CEE3033C5019AE0430A8394275F8B        False     5 Friday  17h-18h   \n",
       "\n",
       "                                       month  year  \n",
       "id                                                  \n",
       "F08F62FA02E60178E0430A8394271738  10 October  2013  \n",
       "A23127EFE5C4B0D0E0430A865E33B0D0      05 May  2011  \n",
       "1AD5347FEB5F01CAE0530A83942779F1     06 June  2015  \n",
       "FB9D858651C40180E0430A839427ABBB    04 April  2014  \n",
       "DF6CEE3033C5019AE0430A8394275F8B     06 June  2013  "
      ]
     },
     "execution_count": 8,
     "metadata": {},
     "output_type": "execute_result"
    }
   ],
   "source": [
    "# Accident layers\n",
    "accidents_df['withBodilyDamage'] = accidents_df.layerBodId == 'ch.astra.unfaelle-personenschaeden_alle'\n",
    "accidents_df['involvesBicycles'] = accidents_df.layerBodId == 'ch.astra.unfaelle-personenschaeden_fahrraeder'\n",
    "accidents_df['involvesMotorcycles'] = accidents_df.layerBodId == 'ch.astra.unfaelle-personenschaeden_motorraeder'\n",
    "accidents_df['involvesPedestrians'] = accidents_df.layerBodId == 'ch.astra.unfaelle-personenschaeden_fussgaenger'\n",
    "accidents_df['withFatality'] = accidents_df.layerBodId == 'ch.astra.unfaelle-personenschaeden_getoetete'\n",
    "accidents_df = accidents_df.drop('layerBodId', axis=1)\n",
    "\n",
    "# Time properties\n",
    "weekdays_fr_en = {\n",
    "    'lundi': '1 Monday',\n",
    "    'mardi': '2 Tuesday',\n",
    "    'mercredi': '3 Wednesday',\n",
    "    'jeudi': '4 Thursday',\n",
    "    'vendredi': '5 Friday',\n",
    "    'samedi': '6 Saturday',\n",
    "    'dimanche': '7 Sunday'\n",
    "}\n",
    "accidents_df.properties_accidentday_fr = accidents_df.properties_accidentday_fr.apply(lambda x: str.split(x, '/'))\n",
    "accidents_df['weekday'] = accidents_df.properties_accidentday_fr.apply(lambda x: weekdays_fr_en[x[0].strip(' ')])\n",
    "accidents_df['time'] = accidents_df.properties_accidentday_fr.apply(lambda x: x[1].strip(' '))\n",
    "accidents_df['month'] = accidents_df.properties_accidentday_fr.apply(lambda x: x[2].split()[0])\n",
    "accidents_df['year'] = accidents_df.properties_accidentyear\n",
    "accidents_df = accidents_df.drop('properties_accidentday_fr', axis=1)\n",
    "accidents_df = accidents_df.drop('properties_accidentyear', axis=1)\n",
    "months_fr_en = {\n",
    "    'janvier': '01 January',\n",
    "    'février': '02 February',\n",
    "    'mars': '03 March',\n",
    "    'avril': '04 April',\n",
    "    'mai': '05 May',\n",
    "    'juin': '06 June',\n",
    "    'juillet': '07 July',\n",
    "    'août': '08 August',\n",
    "    'septembre': '09 September',\n",
    "    'octobre': '10 October',\n",
    "    'novembre': '11 November',\n",
    "    'décembre': '12 December'\n",
    "}\n",
    "accidents_df.month = accidents_df.month.apply(lambda x: months_fr_en[x])\n",
    "\n",
    "# Accident severity\n",
    "severity_codes = {\n",
    "    'ULV': 'light injuries',\n",
    "    'USV': 'heavy injuries',\n",
    "    'UGT': 'deceased'\n",
    "}\n",
    "accidents_df.properties_severitycategorycode = accidents_df.properties_severitycategorycode.apply(lambda x: severity_codes[x])\n",
    "\n",
    "# Accident type\n",
    "type_of_accident = {\n",
    "    0: 'Skidding or control loss',\n",
    "    1: 'Overtaking or changing roads',\n",
    "    2: 'Collision',\n",
    "    3: 'Leaving a road',\n",
    "    4: \"Joining a road\",\n",
    "    5: 'Crossing a road',\n",
    "    6: 'Frontal collision',\n",
    "    7: 'Parking accident',\n",
    "    8: 'With pedestrians',\n",
    "    9: 'With animals',\n",
    "    99: 'Other'\n",
    "}\n",
    "accidents_df.properties_accidenttypecode = accidents_df.properties_accidenttypecode.apply(lambda x: type_of_accident[x])\n",
    "\n",
    "# Road type\n",
    "road_type = {\n",
    "    433: 'Secondary road',\n",
    "    432: 'Primary road',\n",
    "    431: 'Fast road',\n",
    "    430: 'Motorway',\n",
    "    439: 'Other',\n",
    "    434: 'Accessory road'\n",
    "}\n",
    "accidents_df.properties_roadtypecode = accidents_df.properties_roadtypecode.apply(lambda x: road_type[x])\n",
    "\n",
    "print('Total accident entries:', len(accidents_df))\n",
    "accidents_df.sample(5)"
   ]
  },
  {
   "cell_type": "markdown",
   "metadata": {},
   "source": [
    "Many accidents appear in several layers of the map with different attributes.\n",
    "We group all these accidents to avoid duplicates and we make sure not to loose any information associated to the incidents.\n",
    "\n",
    "Most data is exactly the same among duplicates except the information in columns that tell if the accident produced bodily damage, involved pedestrians, bicycles or motorcycles and if the accident had one or more fatalities."
   ]
  },
  {
   "cell_type": "code",
   "execution_count": 9,
   "metadata": {
    "collapsed": false
   },
   "outputs": [
    {
     "name": "stdout",
     "output_type": "stream",
     "text": [
      "There are 74441 accidents\n"
     ]
    }
   ],
   "source": [
    "accidents_df = accidents_df.groupby(by=accidents_df.index).agg({\n",
    "    'geometry_coordinates': 'first',\n",
    "    'properties_accidenttypecode': 'first',\n",
    "    'properties_canton': 'first',\n",
    "    'properties_fsocommunecode': 'first',\n",
    "    'properties_roadtypecode': 'first',\n",
    "    'properties_severitycategorycode': 'first',\n",
    "    'withBodilyDamage': np.max,\n",
    "    'involvesBicycles': np.max,\n",
    "    'involvesMotorcycles': np.max,\n",
    "    'involvesPedestrians': np.max,\n",
    "    'withFatality': np.max,\n",
    "    'weekday': 'first',\n",
    "    'time': 'first',\n",
    "    'month': 'first',\n",
    "    'year': 'first'\n",
    "})\n",
    "\n",
    "print('There are', len(accidents_df), 'accidents')"
   ]
  },
  {
   "cell_type": "markdown",
   "metadata": {},
   "source": [
    "All fields look good except ```time```, which has 2 unwanted values"
   ]
  },
  {
   "cell_type": "code",
   "execution_count": 10,
   "metadata": {
    "collapsed": false
   },
   "outputs": [
    {
     "name": "stdout",
     "output_type": "stream",
     "text": [
      "All values :  ['00h-01h', '01h-02h', '02h-03h', '03h-04h', '04h-05h', '05h-06h', '06h-07h', '07h-08h', '08h-09h', '09h-10h', '10h-11h', '11h-12h', '12h-13h', '13h-14h', '14h-15h', '15h-16h', '16h-17h', '17h-18h', '18h-19h', '19h-20h', '20h-21h', '21h-22h', '22h-23h', '23h-00h', 'ERROR!!!', 'inconnu'] \n",
      "\n",
      "561 values replaced with 'unknown', 0.008% of all entries\n"
     ]
    }
   ],
   "source": [
    "print('All values : ', sorted(set(accidents_df['time'].values)), '\\n')\n",
    "accidents_df['time'].replace(to_replace=['ERROR!!!', 'inconnu'], value='unknown', inplace=True, method='pad')\n",
    "\n",
    "nb_replaced = len(accidents_df[accidents_df['time'] == 'unknown'])\n",
    "print(nb_replaced, 'values replaced with \\'unknown\\', {0}% of all entries'.format(\"%.3f\" %(nb_replaced/len(accidents_df))))"
   ]
  },
  {
   "cell_type": "code",
   "execution_count": 11,
   "metadata": {
    "collapsed": false
   },
   "outputs": [],
   "source": [
    "categorical_columns = list(accidents_df.columns)\n",
    "categorical_columns.remove('geometry_coordinates')\n",
    "for col in categorical_columns:\n",
    "    accidents_df[col] = accidents_df[col].astype('category')"
   ]
  },
  {
   "cell_type": "code",
   "execution_count": 12,
   "metadata": {
    "collapsed": false
   },
   "outputs": [],
   "source": [
    "accidents_df.to_csv('data/accidents.csv')"
   ]
  },
  {
   "cell_type": "markdown",
   "metadata": {},
   "source": [
    "## Transforming the coordinates\n",
    "\n",
    "The coordinate system used in this dataset is the swiss coordinate system, which doesn't play well with most software.\n",
    "Thus, we using the formulas described by *U. Marti, 1999* (based on Bollinger, 1967) we convert the accident coordinates from the Swiss projection coordinates to WGS84 coordinate system."
   ]
  },
  {
   "cell_type": "code",
   "execution_count": 13,
   "metadata": {
    "collapsed": false
   },
   "outputs": [],
   "source": [
    "def ch1903_to_wgs84(east, north):\n",
    "    # Convert origin, where Bern is 0,0\n",
    "    east -= 600000\n",
    "    north -= 200000\n",
    "    east /= 1000000\n",
    "    north /= 1000000\n",
    "    # Calculate longitude and latitude in 10000\" units\n",
    "    lon = 2.6779094\n",
    "    lon += 4.728982 * east\n",
    "    lon += 0.791484 * east * north\n",
    "    lon += 0.1306 * east * north * north\n",
    "    lon -= 0.0436 * east * east * east\n",
    "    lat = 16.9023892\n",
    "    lat += 3.238272 * north;\n",
    "    lat -= 0.270978 * east * east\n",
    "    lat -= 0.002528 * north * north\n",
    "    lat -= 0.0447 * east * east * north\n",
    "    lat -= 0.0140 * north * north * north\n",
    "    # Convert longitude and latitude back in degrees.\n",
    "    lon *= 100 / 36\n",
    "    lat *= 100 / 36\n",
    "    return [lat, lon]"
   ]
  },
  {
   "cell_type": "code",
   "execution_count": 14,
   "metadata": {
    "collapsed": false
   },
   "outputs": [],
   "source": [
    "accidents_df['wgs84_coordinates'] = accidents_df.geometry_coordinates.apply(lambda x: ch1903_to_wgs84(*x))"
   ]
  },
  {
   "cell_type": "code",
   "execution_count": 15,
   "metadata": {
    "collapsed": false
   },
   "outputs": [
    {
     "data": {
      "text/html": [
       "<div>\n",
       "<table border=\"1\" class=\"dataframe\">\n",
       "  <thead>\n",
       "    <tr style=\"text-align: right;\">\n",
       "      <th></th>\n",
       "      <th>weekday</th>\n",
       "      <th>properties_severitycategorycode</th>\n",
       "      <th>month</th>\n",
       "      <th>involvesPedestrians</th>\n",
       "      <th>year</th>\n",
       "      <th>time</th>\n",
       "      <th>properties_accidenttypecode</th>\n",
       "      <th>withFatality</th>\n",
       "      <th>involvesBicycles</th>\n",
       "      <th>properties_roadtypecode</th>\n",
       "      <th>geometry_coordinates</th>\n",
       "      <th>withBodilyDamage</th>\n",
       "      <th>properties_canton</th>\n",
       "      <th>involvesMotorcycles</th>\n",
       "      <th>properties_fsocommunecode</th>\n",
       "      <th>wgs84_coordinates</th>\n",
       "    </tr>\n",
       "    <tr>\n",
       "      <th>id</th>\n",
       "      <th></th>\n",
       "      <th></th>\n",
       "      <th></th>\n",
       "      <th></th>\n",
       "      <th></th>\n",
       "      <th></th>\n",
       "      <th></th>\n",
       "      <th></th>\n",
       "      <th></th>\n",
       "      <th></th>\n",
       "      <th></th>\n",
       "      <th></th>\n",
       "      <th></th>\n",
       "      <th></th>\n",
       "      <th></th>\n",
       "      <th></th>\n",
       "    </tr>\n",
       "  </thead>\n",
       "  <tbody>\n",
       "    <tr>\n",
       "      <th>F182E11F26D1029CE0430A8394270F3F</th>\n",
       "      <td>2 Tuesday</td>\n",
       "      <td>light injuries</td>\n",
       "      <td>02 February</td>\n",
       "      <td>False</td>\n",
       "      <td>2014</td>\n",
       "      <td>06h-07h</td>\n",
       "      <td>Collision</td>\n",
       "      <td>False</td>\n",
       "      <td>False</td>\n",
       "      <td>Primary road</td>\n",
       "      <td>[707765.0, 227231.0]</td>\n",
       "      <td>True</td>\n",
       "      <td>SZ</td>\n",
       "      <td>False</td>\n",
       "      <td>1344</td>\n",
       "      <td>[47.187242622334715, 8.8605740672981]</td>\n",
       "    </tr>\n",
       "    <tr>\n",
       "      <th>1B8CC7D34C3B01FCE0530A83942727DF</th>\n",
       "      <td>2 Tuesday</td>\n",
       "      <td>light injuries</td>\n",
       "      <td>07 July</td>\n",
       "      <td>False</td>\n",
       "      <td>2015</td>\n",
       "      <td>18h-19h</td>\n",
       "      <td>Leaving a road</td>\n",
       "      <td>False</td>\n",
       "      <td>True</td>\n",
       "      <td>Secondary road</td>\n",
       "      <td>[697296.0, 262501.0]</td>\n",
       "      <td>True</td>\n",
       "      <td>ZH</td>\n",
       "      <td>False</td>\n",
       "      <td>0230</td>\n",
       "      <td>[47.50605411374588, 8.730119454703217]</td>\n",
       "    </tr>\n",
       "    <tr>\n",
       "      <th>2525F8C2827E01A4E0530A83942791F3</th>\n",
       "      <td>3 Wednesday</td>\n",
       "      <td>light injuries</td>\n",
       "      <td>11 November</td>\n",
       "      <td>False</td>\n",
       "      <td>2015</td>\n",
       "      <td>14h-15h</td>\n",
       "      <td>Overtaking or changing roads</td>\n",
       "      <td>False</td>\n",
       "      <td>True</td>\n",
       "      <td>Primary road</td>\n",
       "      <td>[718777.0, 98929.0]</td>\n",
       "      <td>True</td>\n",
       "      <td>TI</td>\n",
       "      <td>False</td>\n",
       "      <td>5192</td>\n",
       "      <td>[46.03145341097463, 8.972742787021986]</td>\n",
       "    </tr>\n",
       "    <tr>\n",
       "      <th>1DBC5BD0E1FA0184E0530A839427BB34</th>\n",
       "      <td>4 Thursday</td>\n",
       "      <td>light injuries</td>\n",
       "      <td>08 August</td>\n",
       "      <td>False</td>\n",
       "      <td>2015</td>\n",
       "      <td>15h-16h</td>\n",
       "      <td>Crossing a road</td>\n",
       "      <td>False</td>\n",
       "      <td>True</td>\n",
       "      <td>Secondary road</td>\n",
       "      <td>[755027.0, 225397.0]</td>\n",
       "      <td>True</td>\n",
       "      <td>SG</td>\n",
       "      <td>False</td>\n",
       "      <td>3271</td>\n",
       "      <td>[47.161360932078225, 9.483322647415392]</td>\n",
       "    </tr>\n",
       "    <tr>\n",
       "      <th>B3ECE10E77510184E0430A8394270184</th>\n",
       "      <td>5 Friday</td>\n",
       "      <td>light injuries</td>\n",
       "      <td>12 December</td>\n",
       "      <td>True</td>\n",
       "      <td>2011</td>\n",
       "      <td>17h-18h</td>\n",
       "      <td>With pedestrians</td>\n",
       "      <td>False</td>\n",
       "      <td>False</td>\n",
       "      <td>Secondary road</td>\n",
       "      <td>[495635.0, 119193.0]</td>\n",
       "      <td>True</td>\n",
       "      <td>GE</td>\n",
       "      <td>False</td>\n",
       "      <td>6643</td>\n",
       "      <td>[46.21609130678586, 6.086124093380893]</td>\n",
       "    </tr>\n",
       "  </tbody>\n",
       "</table>\n",
       "</div>"
      ],
      "text/plain": [
       "                                      weekday properties_severitycategorycode  \\\n",
       "id                                                                              \n",
       "F182E11F26D1029CE0430A8394270F3F    2 Tuesday                  light injuries   \n",
       "1B8CC7D34C3B01FCE0530A83942727DF    2 Tuesday                  light injuries   \n",
       "2525F8C2827E01A4E0530A83942791F3  3 Wednesday                  light injuries   \n",
       "1DBC5BD0E1FA0184E0530A839427BB34   4 Thursday                  light injuries   \n",
       "B3ECE10E77510184E0430A8394270184     5 Friday                  light injuries   \n",
       "\n",
       "                                        month involvesPedestrians  year  \\\n",
       "id                                                                        \n",
       "F182E11F26D1029CE0430A8394270F3F  02 February               False  2014   \n",
       "1B8CC7D34C3B01FCE0530A83942727DF      07 July               False  2015   \n",
       "2525F8C2827E01A4E0530A83942791F3  11 November               False  2015   \n",
       "1DBC5BD0E1FA0184E0530A839427BB34    08 August               False  2015   \n",
       "B3ECE10E77510184E0430A8394270184  12 December                True  2011   \n",
       "\n",
       "                                     time   properties_accidenttypecode  \\\n",
       "id                                                                        \n",
       "F182E11F26D1029CE0430A8394270F3F  06h-07h                     Collision   \n",
       "1B8CC7D34C3B01FCE0530A83942727DF  18h-19h                Leaving a road   \n",
       "2525F8C2827E01A4E0530A83942791F3  14h-15h  Overtaking or changing roads   \n",
       "1DBC5BD0E1FA0184E0530A839427BB34  15h-16h               Crossing a road   \n",
       "B3ECE10E77510184E0430A8394270184  17h-18h              With pedestrians   \n",
       "\n",
       "                                 withFatality involvesBicycles  \\\n",
       "id                                                               \n",
       "F182E11F26D1029CE0430A8394270F3F        False            False   \n",
       "1B8CC7D34C3B01FCE0530A83942727DF        False             True   \n",
       "2525F8C2827E01A4E0530A83942791F3        False             True   \n",
       "1DBC5BD0E1FA0184E0530A839427BB34        False             True   \n",
       "B3ECE10E77510184E0430A8394270184        False            False   \n",
       "\n",
       "                                 properties_roadtypecode  \\\n",
       "id                                                         \n",
       "F182E11F26D1029CE0430A8394270F3F            Primary road   \n",
       "1B8CC7D34C3B01FCE0530A83942727DF          Secondary road   \n",
       "2525F8C2827E01A4E0530A83942791F3            Primary road   \n",
       "1DBC5BD0E1FA0184E0530A839427BB34          Secondary road   \n",
       "B3ECE10E77510184E0430A8394270184          Secondary road   \n",
       "\n",
       "                                  geometry_coordinates withBodilyDamage  \\\n",
       "id                                                                        \n",
       "F182E11F26D1029CE0430A8394270F3F  [707765.0, 227231.0]             True   \n",
       "1B8CC7D34C3B01FCE0530A83942727DF  [697296.0, 262501.0]             True   \n",
       "2525F8C2827E01A4E0530A83942791F3   [718777.0, 98929.0]             True   \n",
       "1DBC5BD0E1FA0184E0530A839427BB34  [755027.0, 225397.0]             True   \n",
       "B3ECE10E77510184E0430A8394270184  [495635.0, 119193.0]             True   \n",
       "\n",
       "                                 properties_canton involvesMotorcycles  \\\n",
       "id                                                                       \n",
       "F182E11F26D1029CE0430A8394270F3F                SZ               False   \n",
       "1B8CC7D34C3B01FCE0530A83942727DF                ZH               False   \n",
       "2525F8C2827E01A4E0530A83942791F3                TI               False   \n",
       "1DBC5BD0E1FA0184E0530A839427BB34                SG               False   \n",
       "B3ECE10E77510184E0430A8394270184                GE               False   \n",
       "\n",
       "                                 properties_fsocommunecode  \\\n",
       "id                                                           \n",
       "F182E11F26D1029CE0430A8394270F3F                      1344   \n",
       "1B8CC7D34C3B01FCE0530A83942727DF                      0230   \n",
       "2525F8C2827E01A4E0530A83942791F3                      5192   \n",
       "1DBC5BD0E1FA0184E0530A839427BB34                      3271   \n",
       "B3ECE10E77510184E0430A8394270184                      6643   \n",
       "\n",
       "                                                        wgs84_coordinates  \n",
       "id                                                                         \n",
       "F182E11F26D1029CE0430A8394270F3F    [47.187242622334715, 8.8605740672981]  \n",
       "1B8CC7D34C3B01FCE0530A83942727DF   [47.50605411374588, 8.730119454703217]  \n",
       "2525F8C2827E01A4E0530A83942791F3   [46.03145341097463, 8.972742787021986]  \n",
       "1DBC5BD0E1FA0184E0530A839427BB34  [47.161360932078225, 9.483322647415392]  \n",
       "B3ECE10E77510184E0430A8394270184   [46.21609130678586, 6.086124093380893]  "
      ]
     },
     "execution_count": 15,
     "metadata": {},
     "output_type": "execute_result"
    }
   ],
   "source": [
    "accidents_df.sample(5)"
   ]
  },
  {
   "cell_type": "markdown",
   "metadata": {},
   "source": [
    "## Exploring the data"
   ]
  },
  {
   "cell_type": "code",
   "execution_count": 16,
   "metadata": {
    "collapsed": false
   },
   "outputs": [
    {
     "data": {
      "text/plain": [
       "<matplotlib.axes._subplots.AxesSubplot at 0x19fdd6c3be0>"
      ]
     },
     "execution_count": 16,
     "metadata": {},
     "output_type": "execute_result"
    },
    {
     "data": {
      "image/png": "[encoded data removed]",
      "text/plain": [
       "<matplotlib.figure.Figure at 0x19fd94ab710>"
      ]
     },
     "metadata": {},
     "output_type": "display_data"
    }
   ],
   "source": [
    "plt.figure(figsize=(14, 5))\n",
    "sns.countplot(x='year', hue='properties_severitycategorycode', data=accidents_df)"
   ]
  },
  {
   "cell_type": "markdown",
   "metadata": {},
   "source": [
    "We observe no big variations in accidents in the last 5 years."
   ]
  },
  {
   "cell_type": "code",
   "execution_count": 17,
   "metadata": {
    "collapsed": false
   },
   "outputs": [
    {
     "data": {
      "text/plain": [
       "(2011    15597\n",
       " 2014    14933\n",
       " 2015    14896\n",
       " 2012    14722\n",
       " 2013    14293\n",
       " Name: year, dtype: int64, 14888.2)"
      ]
     },
     "execution_count": 17,
     "metadata": {},
     "output_type": "execute_result"
    }
   ],
   "source": [
    "accidents_df.year.value_counts(), accidents_df.year.value_counts().mean()"
   ]
  },
  {
   "cell_type": "code",
   "execution_count": 18,
   "metadata": {
    "collapsed": false
   },
   "outputs": [
    {
     "name": "stdout",
     "output_type": "stream",
     "text": [
      "Average number of accidents over 5 years : 3602.8\n"
     ]
    },
    {
     "data": {
      "text/plain": [
       "<matplotlib.axes._subplots.AxesSubplot at 0x19fda95ebe0>"
      ]
     },
     "execution_count": 18,
     "metadata": {},
     "output_type": "execute_result"
    },
    {
     "data": {
      "image/png": "[encoded data removed]",
      "text/plain": [
       "<matplotlib.figure.Figure at 0x19fdce48668>"
      ]
     },
     "metadata": {},
     "output_type": "display_data"
    }
   ],
   "source": [
    "# Bicycle accidents\n",
    "print('Average number of accidents over 5 years :', accidents_df[accidents_df.involvesBicycles == True].year.value_counts().mean())\n",
    "accidents_df[accidents_df.involvesBicycles == True].year.value_counts().sort_index().plot(title='Number of Bicycle accidents')"
   ]
  },
  {
   "cell_type": "markdown",
   "metadata": {},
   "source": [
    "We observe that the number of Bicycle accidents has strongly increased since 2013"
   ]
  },
  {
   "cell_type": "code",
   "execution_count": 21,
   "metadata": {
    "collapsed": false
   },
   "outputs": [
    {
     "name": "stdout",
     "output_type": "stream",
     "text": [
      "Average number of accidents over 5 years : 3915.8\n"
     ]
    },
    {
     "data": {
      "text/plain": [
       "<matplotlib.axes._subplots.AxesSubplot at 0x19fdaaf0c88>"
      ]
     },
     "execution_count": 21,
     "metadata": {},
     "output_type": "execute_result"
    },
    {
     "data": {
      "image/png": "[encoded data removed]",
      "text/plain": [
       "<matplotlib.figure.Figure at 0x19fdafec588>"
      ]
     },
     "metadata": {},
     "output_type": "display_data"
    }
   ],
   "source": [
    "# Motorcycle accidents\n",
    "print('Average number of accidents over 5 years :', accidents_df[accidents_df.involvesMotorcycles == True].year.value_counts().mean())\n",
    "accidents_df[accidents_df.involvesMotorcycles == True].year.value_counts().sort_index().plot(title='Number of Motorcycle accidents')"
   ]
  },
  {
   "cell_type": "code",
   "execution_count": 22,
   "metadata": {
    "collapsed": false
   },
   "outputs": [
    {
     "name": "stdout",
     "output_type": "stream",
     "text": [
      "Average number of accidents over 5 years : 2336.0\n"
     ]
    },
    {
     "data": {
      "text/plain": [
       "<matplotlib.axes._subplots.AxesSubplot at 0x19fdb017eb8>"
      ]
     },
     "execution_count": 22,
     "metadata": {},
     "output_type": "execute_result"
    },
    {
     "data": {
      "image/png": "[encoded data removed]",
      "text/plain": [
       "<matplotlib.figure.Figure at 0x19fdb04bb38>"
      ]
     },
     "metadata": {},
     "output_type": "display_data"
    }
   ],
   "source": [
    "# Pedestrian accidents\n",
    "print('Average number of accidents over 5 years :', accidents_df[accidents_df.involvesPedestrians == True].year.value_counts().mean())\n",
    "accidents_df[accidents_df.involvesPedestrians == True].year.value_counts().sort_index().plot(title='Number of pedestrian accidents')"
   ]
  },
  {
   "cell_type": "code",
   "execution_count": 23,
   "metadata": {
    "collapsed": false
   },
   "outputs": [
    {
     "data": {
      "image/png": "[encoded data removed]",
      "text/plain": [
       "<matplotlib.figure.Figure at 0x19fdb0c7da0>"
      ]
     },
     "metadata": {},
     "output_type": "display_data"
    }
   ],
   "source": [
    "fig, ax = plt.subplots()\n",
    "fig.set_size_inches(12, 4)\n",
    "g = sns.countplot(x='time', data=accidents_df, color='grey')\n",
    "g.set_xticklabels(g.get_xticklabels(), rotation=60)\n",
    "plt.title('Number of accidents depending on day hours between 2011 and 2015')\n",
    "plt.show()"
   ]
  },
  {
   "cell_type": "markdown",
   "metadata": {},
   "source": [
    "This plot shows two peaks of accidents located around 7-8am and 5-6pm, which makes sense since it corresponds to the periods of time where people go to work and go back home, so the traffic is the most dense.\n",
    "One can imagine that there are more accident in the evening because people are tired or eager to get back home."
   ]
  },
  {
   "cell_type": "markdown",
   "metadata": {},
   "source": [
    "Accidents distribution over the whole set of data (2011-2015) : Hour of day"
   ]
  },
  {
   "cell_type": "code",
   "execution_count": 24,
   "metadata": {
    "collapsed": false
   },
   "outputs": [
    {
     "data": {
      "text/plain": [
       "<matplotlib.axes._subplots.AxesSubplot at 0x19fdb4a2c88>"
      ]
     },
     "execution_count": 24,
     "metadata": {},
     "output_type": "execute_result"
    },
    {
     "data": {
      "image/png": "[encoded data removed]",
      "text/plain": [
       "<matplotlib.figure.Figure at 0x19fdb4e7e48>"
      ]
     },
     "metadata": {},
     "output_type": "display_data"
    }
   ],
   "source": [
    "plt.figure(figsize=(14, 5))\n",
    "time_aware_accidents_df = accidents_df[(accidents_df.time != 'unknown')]\n",
    "time_aware_accidents_df = time_aware_accidents_df[['time', 'weekday']]\n",
    "time_aware_accidents_df = time_aware_accidents_df.reset_index()\n",
    "time_aware_accidents_df = time_aware_accidents_df.groupby(('weekday', 'time')).count().reset_index()\n",
    "time_aware_accidents_df = time_aware_accidents_df.pivot('weekday', 'time', 'id')\n",
    "sns.heatmap(time_aware_accidents_df, cmap=\"YlGnBu\")"
   ]
  },
  {
   "cell_type": "markdown",
   "metadata": {},
   "source": [
    "This heatmap confirms the results of the previous plots, as most accidents occur between 5pm and 6pm, only during weekdays, as the density of traffic at that time is due to the end of workdays."
   ]
  },
  {
   "cell_type": "markdown",
   "metadata": {},
   "source": [
    "Accidents distribution over the whole set of data (2011-2015) : Day of month"
   ]
  },
  {
   "cell_type": "code",
   "execution_count": 25,
   "metadata": {
    "collapsed": false
   },
   "outputs": [
    {
     "data": {
      "image/png": "[encoded data removed]",
      "text/plain": [
       "<matplotlib.figure.Figure at 0x19fdb581550>"
      ]
     },
     "metadata": {},
     "output_type": "display_data"
    }
   ],
   "source": [
    "plt.figure(figsize=(14, 5))\n",
    "time_aware_accidents_df = accidents_df[(accidents_df.time != 'unknown')]\n",
    "time_aware_accidents_df = time_aware_accidents_df[['month', 'weekday']]\n",
    "time_aware_accidents_df = time_aware_accidents_df.reset_index()\n",
    "time_aware_accidents_df = time_aware_accidents_df.groupby(('weekday', 'month')).count().reset_index()\n",
    "time_aware_accidents_df = time_aware_accidents_df.pivot('weekday', 'month', 'id')\n",
    "g = sns.heatmap(time_aware_accidents_df, cmap=\"YlGnBu\")\n",
    "g.set_xticklabels(g.get_xticklabels(), rotation=60)\n",
    "plt.show()"
   ]
  },
  {
   "cell_type": "markdown",
   "metadata": {},
   "source": [
    "This heatmap contradicts our initial beliefs. We assumed at first that there would be more accidents during the winter season due to the meteorological conditions (rain, frozen roads), but the data shows us that the most dense period of the year in terms of accidents is the summer season.\n",
    "This result might be caused by the fact that during winter, drivers are more careful, knowing the risks that come with winter, while during summer, drivers tend to drive faster."
   ]
  },
  {
   "cell_type": "markdown",
   "metadata": {},
   "source": [
    "Accidents distribution over the whole set of data (2011-2015) : Month"
   ]
  },
  {
   "cell_type": "code",
   "execution_count": 26,
   "metadata": {
    "collapsed": false
   },
   "outputs": [
    {
     "data": {
      "image/png": "[encoded data removed]",
      "text/plain": [
       "<matplotlib.figure.Figure at 0x19fda211278>"
      ]
     },
     "metadata": {},
     "output_type": "display_data"
    }
   ],
   "source": [
    "fig, ax = plt.subplots()\n",
    "fig.set_size_inches(12, 4)\n",
    "g = sns.countplot(x='month', data=accidents_df, color='grey')\n",
    "g.set_xticklabels(g.get_xticklabels(), rotation=60)\n",
    "plt.show()"
   ]
  },
  {
   "cell_type": "markdown",
   "metadata": {},
   "source": [
    "Accidents distribution over the whole set of data (2011-2015) : Road type per day of week"
   ]
  },
  {
   "cell_type": "code",
   "execution_count": 27,
   "metadata": {
    "collapsed": false
   },
   "outputs": [
    {
     "data": {
      "image/png": "[encoded data removed]",
      "text/plain": [
       "<matplotlib.figure.Figure at 0x19fdc9a5e80>"
      ]
     },
     "metadata": {},
     "output_type": "display_data"
    }
   ],
   "source": [
    "fig, ax = plt.subplots()\n",
    "fig.set_size_inches(12, 4)\n",
    "g = sns.countplot(x='properties_roadtypecode', hue='weekday', data=accidents_df, color='grey')\n",
    "g.set_xticklabels(g.get_xticklabels(), rotation=60)\n",
    "plt.show()"
   ]
  },
  {
   "cell_type": "markdown",
   "metadata": {},
   "source": [
    "# Vizualisation"
   ]
  },
  {
   "cell_type": "markdown",
   "metadata": {},
   "source": [
    "This heatmap shows the accidents density (all accidents type).\n",
    "\n",
    "Clicking on the top right button allows the user to select the year(s) to display"
   ]
  },
  {
   "cell_type": "code",
   "execution_count": 28,
   "metadata": {
    "collapsed": true
   },
   "outputs": [],
   "source": [
    "accidents_df.to_json('data/accidents.json', orient='index')"
   ]
  },
  {
   "cell_type": "code",
   "execution_count": 29,
   "metadata": {
    "collapsed": false
   },
   "outputs": [
    {
     "data": {
      "text/html": [
       "<iframe src=\"heatmap.html\" width=\"1000px\" height=\"600px\"></iframe>"
      ],
      "text/plain": [
       "<IPython.core.display.HTML object>"
      ]
     },
     "metadata": {},
     "output_type": "display_data"
    }
   ],
   "source": [
    "%%html\n",
    "<iframe src=\"heatmap.html\" width=\"1000px\" height=\"600px\"></iframe>"
   ]
  },
  {
   "cell_type": "markdown",
   "metadata": {},
   "source": [
    "## Grid\n",
    "\n",
    "Our idea is to create squares all over the swiss map to create areas and then count the accident per area.\n",
    "\n",
    "Swiss coordinates system is designed so that no two x and y coordinates can be mixed, 1 unit is one meter on the field.\n",
    "\n",
    "min coord Y : 480000, 070000 (bottom left)\n",
    "max coord X : 840000, 300000 (top right)\n",
    "\n",
    "There are squares that are outside Switzerland, but we are not interested in areas with 0 value (as if there are no roads, there cannot be any accident either)."
   ]
  },
  {
   "cell_type": "code",
   "execution_count": 43,
   "metadata": {
    "collapsed": false
   },
   "outputs": [],
   "source": [
    "goejson_highest_variance_areas(accidents_df)"
   ]
  },
  {
   "cell_type": "code",
   "execution_count": 45,
   "metadata": {
    "collapsed": false
   },
   "outputs": [
    {
     "data": {
      "text/html": [
       "<iframe src=\"heatmap_w_grid.html\" width=\"1000px\" height=\"600px\"></iframe>"
      ],
      "text/plain": [
       "<IPython.core.display.HTML object>"
      ]
     },
     "metadata": {},
     "output_type": "display_data"
    }
   ],
   "source": [
    "%%html\n",
    "<iframe src=\"heatmap_w_grid.html\" width=\"1000px\" height=\"600px\"></iframe>"
   ]
  },
  {
   "cell_type": "code",
   "execution_count": null,
   "metadata": {
    "collapsed": true
   },
   "outputs": [],
   "source": []
  }
 ],
 "metadata": {
  "anaconda-cloud": {},
  "kernelspec": {
   "display_name": "Python [Root]",
   "language": "python",
   "name": "Python [Root]"
  },
  "language_info": {
   "codemirror_mode": {
    "name": "ipython",
    "version": 3
   },
   "file_extension": ".py",
   "mimetype": "text/x-python",
   "name": "python",
   "nbconvert_exporter": "python",
   "pygments_lexer": "ipython3",
   "version": "3.5.2"
  }
 },
 "nbformat": 4,
 "nbformat_minor": 0
}
