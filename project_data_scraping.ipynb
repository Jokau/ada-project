{
 "cells": [
  {
   "cell_type": "markdown",
   "metadata": {},
   "source": [
    "# Road Traffic Accidents in Switzerland"
   ]
  },
  {
   "cell_type": "markdown",
   "metadata": {},
   "source": [
    "Our project goal is to scrap all traffic accidents from the accidents map from http://map.donneesaccidents.ch/"
   ]
  },
  {
   "cell_type": "markdown",
   "metadata": {},
   "source": [
    "## Data scraping strategy"
   ]
  },
  {
   "cell_type": "markdown",
   "metadata": {},
   "source": [
    "Accessing http://map.donneesaccidents.ch/, wich redirects to : <br>\n",
    "https://map.geo.admin.ch/?topic=vu&lang=fr&bgLayer=ch.swisstopo.pixelkarte-grau&layers=ch.astra.unfaelle-personenschaeden_alle&layers_timestamp=&catalogNodes=1318\n",
    "\n",
    "\n",
    "Postman parses the following parameters : \n",
    "<code>\n",
    "topic:vu\n",
    "lang:en\n",
    "bgLayer:ch.swisstopo.pixelkarte-grau\n",
    "layers:ch.astra.unfaelle-personenschaeden_alle\n",
    "layers_timestamp:\n",
    "catalogNodes:1318\n",
    "</code>\n",
    "\n",
    "The most important one is layers:ch.astra.unfaelle-personenschaeden_alle.<br>\n",
    "It is the layer that contains all the geo-information dots on \"Accidents with personal injury\" which is the selected data layer.\n",
    "<img src=\"layer_selector.png\">\n",
    "\n",
    "Selection all kinds of accidents returns the following :<br>\n",
    "<img src=\"layer_selector_all.png\">\n",
    "with layer parameters :<br>\n",
    "layers:<br>\n",
    "    &nbsp;ch.astra.unfaelle-personenschaeden_alle,<br>\n",
    "    &nbsp;ch.astra.unfaelle-personenschaeden_getoetete,<br>\n",
    "    &nbsp;ch.astra.unfaelle-personenschaeden_fussgaenger,<br>\n",
    "    &nbsp;ch.astra.unfaelle-personenschaeden_fahrraeder,<br>\n",
    "    &nbsp;ch.astra.unfaelle-personenschaeden_motorraeder<br>\n",
    "layers_timestamp:,,,,<br>\n",
    "\n",
    "Now we want every data for each layer. By selecting a dot on the map, it queries the related data to the server.\n",
    "What we want to do is selecting all the entries in the map to retrieves all data. This is done by ctrl clicking the whole area.\n",
    "\n",
    "This makes a query for each \"layers\" parameter :\n",
    "<code>\n",
    "geometry:443999.04209536605,39001.6733318335,870499.0420953662,303001.67333183356\n",
    "geometryFormat:geojson\n",
    "geometryType:esriGeometryEnvelope\n",
    "imageDisplay:1536,759,96\n",
    "lang:en\n",
    "layers:all:<i>LAYER_PARAM</i>\n",
    "mapExtent:269999.04209536605,9501.673331833561,1037999.042095366,389001.67333183356\n",
    "returnGeometry:true\n",
    "tolerance:5\n",
    "</code><br>\n",
    "But doesn't select all dots on map, so let's try the \"load more results\" button on a 'accidetns with fatalities' layer, we get :\n",
    "<code>\n",
    "geometry:443999.04209536605,39001.6733318335,870499.0420953662,303001.67333183356\n",
    "geometryFormat:geojson\n",
    "geometryType:esriGeometryEnvelope\n",
    "imageDisplay:1536,759,96\n",
    "lang:en\n",
    "layers:all:ch.astra.unfaelle-personenschaeden_getoetete\n",
    "mapExtent:136199.04209536605,-28148.32666816644,1134599.042095366,465201.67333183356\n",
    "<b>offset:200</b>\n",
    "returnGeometry:true\n",
    "tolerance:5\n",
    "</code>\n",
    "Pressing load more until no more possible give offset=1200 (for a total of 1337 objects) i.e it loads data entries 200 by 200"
   ]
  },
  {
   "cell_type": "markdown",
   "metadata": {},
   "source": [
    "## JSON Data scraping"
   ]
  },
  {
   "cell_type": "code",
   "execution_count": 1,
   "metadata": {
    "collapsed": false
   },
   "outputs": [],
   "source": [
    "import requests\n",
    "import json\n",
    "\n",
    "import numpy as np\n",
    "import pandas as pd\n",
    "\n",
    "import matplotlib.pyplot as plt\n",
    "\n",
    "from Scripts.helpers import *\n",
    "from Scripts.plots import *\n",
    "\n",
    "\n",
    "import pprint\n",
    "#from bs4 import BeautifulSoup"
   ]
  },
  {
   "cell_type": "code",
   "execution_count": 2,
   "metadata": {
    "collapsed": false
   },
   "outputs": [],
   "source": [
    "pp = pprint.PrettyPrinter(indent=4)"
   ]
  },
  {
   "cell_type": "code",
   "execution_count": 3,
   "metadata": {
    "collapsed": false
   },
   "outputs": [
    {
     "name": "stdout",
     "output_type": "stream",
     "text": [
      "Processing layer : ch.astra.unfaelle-personenschaeden_alle\n",
      "Layer processed : 201 records\n",
      "\n",
      "Whole dataset processed : 201 records\n",
      "\n"
     ]
    }
   ],
   "source": [
    "#import raw data\n",
    "data = import_data(all_data = False)"
   ]
  },
  {
   "cell_type": "code",
   "execution_count": 4,
   "metadata": {
    "collapsed": false
   },
   "outputs": [],
   "source": [
    "#translate data from german\n",
    "json_data_preprocessed = preprocess_data(data)"
   ]
  },
  {
   "cell_type": "code",
   "execution_count": 5,
   "metadata": {
    "collapsed": false
   },
   "outputs": [
    {
     "name": "stdout",
     "output_type": "stream",
     "text": [
      "Data entry example after clean and reformat:\n",
      "\n"
     ]
    },
    {
     "data": {
      "text/plain": [
       "{'accidentday_fr': 'mercredi / 12h-13h / octobre 2014',\n",
       " 'accidenttype_fr': 'dérapage ou perte de maîtrise',\n",
       " 'accidenttypecode': 0,\n",
       " 'accidentyear': 2014,\n",
       " 'bbox': [673752.0, 250106.0, 673752.0, 250106.0],\n",
       " 'canton': 'ZH',\n",
       " 'coordinates': [[673752.0, 250106.0]],\n",
       " 'featureId': '05E9B741E6040188E0530A839427C016',\n",
       " 'fsocommunecode': '0243',\n",
       " 'geometryType': 'Feature',\n",
       " 'id': '05E9B741E6040188E0530A839427C016',\n",
       " 'label': 'Schleuder- oder Selbstunfall',\n",
       " 'layerBodId': 'ch.astra.unfaelle-personenschaeden_alle',\n",
       " 'layerName': 'Accidents avec dommages corporels',\n",
       " 'roadtype_fr': 'route secondaire',\n",
       " 'roadtypecode': 433,\n",
       " 'severitycategory_fr': 'accident avec blessés légers',\n",
       " 'severitycategorycode': 'ULV',\n",
       " 'type': 'Feature'}"
      ]
     },
     "execution_count": 5,
     "metadata": {},
     "output_type": "execute_result"
    }
   ],
   "source": [
    "print(\"Data entry example after clean and reformat:\\n\")\n",
    "json_data_preprocessed[0]"
   ]
  },
  {
   "cell_type": "code",
   "execution_count": 6,
   "metadata": {
    "collapsed": false
   },
   "outputs": [
    {
     "data": {
      "text/html": [
       "<div>\n",
       "<table border=\"1\" class=\"dataframe\">\n",
       "  <thead>\n",
       "    <tr style=\"text-align: right;\">\n",
       "      <th></th>\n",
       "      <th>accidentday_fr</th>\n",
       "      <th>accidenttype_fr</th>\n",
       "      <th>accidenttypecode</th>\n",
       "      <th>accidentyear</th>\n",
       "      <th>bbox</th>\n",
       "      <th>canton</th>\n",
       "      <th>coordinates</th>\n",
       "      <th>featureId</th>\n",
       "      <th>fsocommunecode</th>\n",
       "      <th>geometryType</th>\n",
       "      <th>label</th>\n",
       "      <th>layerBodId</th>\n",
       "      <th>layerName</th>\n",
       "      <th>roadtype_fr</th>\n",
       "      <th>roadtypecode</th>\n",
       "      <th>severitycategory_fr</th>\n",
       "      <th>severitycategorycode</th>\n",
       "      <th>type</th>\n",
       "    </tr>\n",
       "    <tr>\n",
       "      <th>id</th>\n",
       "      <th></th>\n",
       "      <th></th>\n",
       "      <th></th>\n",
       "      <th></th>\n",
       "      <th></th>\n",
       "      <th></th>\n",
       "      <th></th>\n",
       "      <th></th>\n",
       "      <th></th>\n",
       "      <th></th>\n",
       "      <th></th>\n",
       "      <th></th>\n",
       "      <th></th>\n",
       "      <th></th>\n",
       "      <th></th>\n",
       "      <th></th>\n",
       "      <th></th>\n",
       "      <th></th>\n",
       "    </tr>\n",
       "  </thead>\n",
       "  <tbody>\n",
       "    <tr>\n",
       "      <th>05E9B741E6040188E0530A839427C016</th>\n",
       "      <td>mercredi / 12h-13h / octobre 2014</td>\n",
       "      <td>dérapage ou perte de maîtrise</td>\n",
       "      <td>0</td>\n",
       "      <td>2014</td>\n",
       "      <td>[673752.0, 250106.0, 673752.0, 250106.0]</td>\n",
       "      <td>ZH</td>\n",
       "      <td>[[673752.0, 250106.0]]</td>\n",
       "      <td>05E9B741E6040188E0530A839427C016</td>\n",
       "      <td>0243</td>\n",
       "      <td>Feature</td>\n",
       "      <td>Schleuder- oder Selbstunfall</td>\n",
       "      <td>ch.astra.unfaelle-personenschaeden_alle</td>\n",
       "      <td>Accidents avec dommages corporels</td>\n",
       "      <td>route secondaire</td>\n",
       "      <td>433</td>\n",
       "      <td>accident avec blessés légers</td>\n",
       "      <td>ULV</td>\n",
       "      <td>Feature</td>\n",
       "    </tr>\n",
       "    <tr>\n",
       "      <th>05E9B939FE3E0116E0530A839427B6FD</th>\n",
       "      <td>mercredi / 06h-07h / octobre 2014</td>\n",
       "      <td>accident en quittant une route</td>\n",
       "      <td>3</td>\n",
       "      <td>2014</td>\n",
       "      <td>[831057.0, 169150.0, 831057.0, 169150.0]</td>\n",
       "      <td>GR</td>\n",
       "      <td>[[831057.0, 169150.0]]</td>\n",
       "      <td>05E9B939FE3E0116E0530A839427B6FD</td>\n",
       "      <td>3847</td>\n",
       "      <td>Feature</td>\n",
       "      <td>Abbiegeunfall</td>\n",
       "      <td>ch.astra.unfaelle-personenschaeden_alle</td>\n",
       "      <td>Accidents avec dommages corporels</td>\n",
       "      <td>route principale</td>\n",
       "      <td>432</td>\n",
       "      <td>accident avec blessés légers</td>\n",
       "      <td>ULV</td>\n",
       "      <td>Feature</td>\n",
       "    </tr>\n",
       "    <tr>\n",
       "      <th>05E9B93A00AD0116E0530A839427B6FD</th>\n",
       "      <td>mercredi / 15h-16h / octobre 2014</td>\n",
       "      <td>dérapage ou perte de maîtrise</td>\n",
       "      <td>0</td>\n",
       "      <td>2014</td>\n",
       "      <td>[683001.0, 248929.0, 683001.0, 248929.0]</td>\n",
       "      <td>ZH</td>\n",
       "      <td>[[683001.0, 248929.0]]</td>\n",
       "      <td>05E9B93A00AD0116E0530A839427B6FD</td>\n",
       "      <td>0261</td>\n",
       "      <td>Feature</td>\n",
       "      <td>Schleuder- oder Selbstunfall</td>\n",
       "      <td>ch.astra.unfaelle-personenschaeden_alle</td>\n",
       "      <td>Accidents avec dommages corporels</td>\n",
       "      <td>semi-autoroute</td>\n",
       "      <td>431</td>\n",
       "      <td>accident avec blessés légers</td>\n",
       "      <td>ULV</td>\n",
       "      <td>Feature</td>\n",
       "    </tr>\n",
       "    <tr>\n",
       "      <th>0612A7B27C56017CE0530A839427BC68</th>\n",
       "      <td>mercredi / 06h-07h / octobre 2014</td>\n",
       "      <td>accident par tamponnement</td>\n",
       "      <td>2</td>\n",
       "      <td>2014</td>\n",
       "      <td>[674274.0, 251041.0, 674274.0, 251041.0]</td>\n",
       "      <td>ZH</td>\n",
       "      <td>[[674274.0, 251041.0]]</td>\n",
       "      <td>0612A7B27C56017CE0530A839427BC68</td>\n",
       "      <td>0251</td>\n",
       "      <td>Feature</td>\n",
       "      <td>Auffahrunfall</td>\n",
       "      <td>ch.astra.unfaelle-personenschaeden_alle</td>\n",
       "      <td>Accidents avec dommages corporels</td>\n",
       "      <td>autoroute</td>\n",
       "      <td>430</td>\n",
       "      <td>accident avec blessés légers</td>\n",
       "      <td>ULV</td>\n",
       "      <td>Feature</td>\n",
       "    </tr>\n",
       "    <tr>\n",
       "      <th>0612A7B27F9A017CE0530A839427BC68</th>\n",
       "      <td>mercredi / 17h-18h / octobre 2014</td>\n",
       "      <td>accident par tamponnement</td>\n",
       "      <td>2</td>\n",
       "      <td>2014</td>\n",
       "      <td>[686475.0, 256393.0, 686475.0, 256393.0]</td>\n",
       "      <td>ZH</td>\n",
       "      <td>[[686475.0, 256393.0]]</td>\n",
       "      <td>0612A7B27F9A017CE0530A839427BC68</td>\n",
       "      <td>0062</td>\n",
       "      <td>Feature</td>\n",
       "      <td>Auffahrunfall</td>\n",
       "      <td>ch.astra.unfaelle-personenschaeden_alle</td>\n",
       "      <td>Accidents avec dommages corporels</td>\n",
       "      <td>route principale</td>\n",
       "      <td>432</td>\n",
       "      <td>accident avec blessés légers</td>\n",
       "      <td>ULV</td>\n",
       "      <td>Feature</td>\n",
       "    </tr>\n",
       "  </tbody>\n",
       "</table>\n",
       "</div>"
      ],
      "text/plain": [
       "                                                     accidentday_fr  \\\n",
       "id                                                                    \n",
       "05E9B741E6040188E0530A839427C016  mercredi / 12h-13h / octobre 2014   \n",
       "05E9B939FE3E0116E0530A839427B6FD  mercredi / 06h-07h / octobre 2014   \n",
       "05E9B93A00AD0116E0530A839427B6FD  mercredi / 15h-16h / octobre 2014   \n",
       "0612A7B27C56017CE0530A839427BC68  mercredi / 06h-07h / octobre 2014   \n",
       "0612A7B27F9A017CE0530A839427BC68  mercredi / 17h-18h / octobre 2014   \n",
       "\n",
       "                                                 accidenttype_fr  \\\n",
       "id                                                                 \n",
       "05E9B741E6040188E0530A839427C016   dérapage ou perte de maîtrise   \n",
       "05E9B939FE3E0116E0530A839427B6FD  accident en quittant une route   \n",
       "05E9B93A00AD0116E0530A839427B6FD   dérapage ou perte de maîtrise   \n",
       "0612A7B27C56017CE0530A839427BC68       accident par tamponnement   \n",
       "0612A7B27F9A017CE0530A839427BC68       accident par tamponnement   \n",
       "\n",
       "                                  accidenttypecode  accidentyear  \\\n",
       "id                                                                 \n",
       "05E9B741E6040188E0530A839427C016                 0          2014   \n",
       "05E9B939FE3E0116E0530A839427B6FD                 3          2014   \n",
       "05E9B93A00AD0116E0530A839427B6FD                 0          2014   \n",
       "0612A7B27C56017CE0530A839427BC68                 2          2014   \n",
       "0612A7B27F9A017CE0530A839427BC68                 2          2014   \n",
       "\n",
       "                                                                      bbox  \\\n",
       "id                                                                           \n",
       "05E9B741E6040188E0530A839427C016  [673752.0, 250106.0, 673752.0, 250106.0]   \n",
       "05E9B939FE3E0116E0530A839427B6FD  [831057.0, 169150.0, 831057.0, 169150.0]   \n",
       "05E9B93A00AD0116E0530A839427B6FD  [683001.0, 248929.0, 683001.0, 248929.0]   \n",
       "0612A7B27C56017CE0530A839427BC68  [674274.0, 251041.0, 674274.0, 251041.0]   \n",
       "0612A7B27F9A017CE0530A839427BC68  [686475.0, 256393.0, 686475.0, 256393.0]   \n",
       "\n",
       "                                 canton             coordinates  \\\n",
       "id                                                                \n",
       "05E9B741E6040188E0530A839427C016     ZH  [[673752.0, 250106.0]]   \n",
       "05E9B939FE3E0116E0530A839427B6FD     GR  [[831057.0, 169150.0]]   \n",
       "05E9B93A00AD0116E0530A839427B6FD     ZH  [[683001.0, 248929.0]]   \n",
       "0612A7B27C56017CE0530A839427BC68     ZH  [[674274.0, 251041.0]]   \n",
       "0612A7B27F9A017CE0530A839427BC68     ZH  [[686475.0, 256393.0]]   \n",
       "\n",
       "                                                         featureId  \\\n",
       "id                                                                   \n",
       "05E9B741E6040188E0530A839427C016  05E9B741E6040188E0530A839427C016   \n",
       "05E9B939FE3E0116E0530A839427B6FD  05E9B939FE3E0116E0530A839427B6FD   \n",
       "05E9B93A00AD0116E0530A839427B6FD  05E9B93A00AD0116E0530A839427B6FD   \n",
       "0612A7B27C56017CE0530A839427BC68  0612A7B27C56017CE0530A839427BC68   \n",
       "0612A7B27F9A017CE0530A839427BC68  0612A7B27F9A017CE0530A839427BC68   \n",
       "\n",
       "                                 fsocommunecode geometryType  \\\n",
       "id                                                             \n",
       "05E9B741E6040188E0530A839427C016           0243      Feature   \n",
       "05E9B939FE3E0116E0530A839427B6FD           3847      Feature   \n",
       "05E9B93A00AD0116E0530A839427B6FD           0261      Feature   \n",
       "0612A7B27C56017CE0530A839427BC68           0251      Feature   \n",
       "0612A7B27F9A017CE0530A839427BC68           0062      Feature   \n",
       "\n",
       "                                                         label  \\\n",
       "id                                                               \n",
       "05E9B741E6040188E0530A839427C016  Schleuder- oder Selbstunfall   \n",
       "05E9B939FE3E0116E0530A839427B6FD                 Abbiegeunfall   \n",
       "05E9B93A00AD0116E0530A839427B6FD  Schleuder- oder Selbstunfall   \n",
       "0612A7B27C56017CE0530A839427BC68                 Auffahrunfall   \n",
       "0612A7B27F9A017CE0530A839427BC68                 Auffahrunfall   \n",
       "\n",
       "                                                               layerBodId  \\\n",
       "id                                                                          \n",
       "05E9B741E6040188E0530A839427C016  ch.astra.unfaelle-personenschaeden_alle   \n",
       "05E9B939FE3E0116E0530A839427B6FD  ch.astra.unfaelle-personenschaeden_alle   \n",
       "05E9B93A00AD0116E0530A839427B6FD  ch.astra.unfaelle-personenschaeden_alle   \n",
       "0612A7B27C56017CE0530A839427BC68  ch.astra.unfaelle-personenschaeden_alle   \n",
       "0612A7B27F9A017CE0530A839427BC68  ch.astra.unfaelle-personenschaeden_alle   \n",
       "\n",
       "                                                          layerName  \\\n",
       "id                                                                    \n",
       "05E9B741E6040188E0530A839427C016  Accidents avec dommages corporels   \n",
       "05E9B939FE3E0116E0530A839427B6FD  Accidents avec dommages corporels   \n",
       "05E9B93A00AD0116E0530A839427B6FD  Accidents avec dommages corporels   \n",
       "0612A7B27C56017CE0530A839427BC68  Accidents avec dommages corporels   \n",
       "0612A7B27F9A017CE0530A839427BC68  Accidents avec dommages corporels   \n",
       "\n",
       "                                       roadtype_fr  roadtypecode  \\\n",
       "id                                                                 \n",
       "05E9B741E6040188E0530A839427C016  route secondaire           433   \n",
       "05E9B939FE3E0116E0530A839427B6FD  route principale           432   \n",
       "05E9B93A00AD0116E0530A839427B6FD    semi-autoroute           431   \n",
       "0612A7B27C56017CE0530A839427BC68         autoroute           430   \n",
       "0612A7B27F9A017CE0530A839427BC68  route principale           432   \n",
       "\n",
       "                                           severitycategory_fr  \\\n",
       "id                                                               \n",
       "05E9B741E6040188E0530A839427C016  accident avec blessés légers   \n",
       "05E9B939FE3E0116E0530A839427B6FD  accident avec blessés légers   \n",
       "05E9B93A00AD0116E0530A839427B6FD  accident avec blessés légers   \n",
       "0612A7B27C56017CE0530A839427BC68  accident avec blessés légers   \n",
       "0612A7B27F9A017CE0530A839427BC68  accident avec blessés légers   \n",
       "\n",
       "                                 severitycategorycode     type  \n",
       "id                                                              \n",
       "05E9B741E6040188E0530A839427C016                  ULV  Feature  \n",
       "05E9B939FE3E0116E0530A839427B6FD                  ULV  Feature  \n",
       "05E9B93A00AD0116E0530A839427B6FD                  ULV  Feature  \n",
       "0612A7B27C56017CE0530A839427BC68                  ULV  Feature  \n",
       "0612A7B27F9A017CE0530A839427BC68                  ULV  Feature  "
      ]
     },
     "execution_count": 6,
     "metadata": {},
     "output_type": "execute_result"
    }
   ],
   "source": [
    "df = pd.DataFrame.from_dict(json_data_preprocessed)\n",
    "df.set_index('id', inplace=True)\n",
    "df.head()"
   ]
  },
  {
   "cell_type": "code",
   "execution_count": 7,
   "metadata": {
    "collapsed": false
   },
   "outputs": [
    {
     "name": "stdout",
     "output_type": "stream",
     "text": [
      "plotting feature accidentday_fr\n",
      "plotting feature accidenttype_fr\n",
      "plotting feature accidenttypecode\n",
      "plotting feature accidentyear\n",
      "plotting feature bbox\n",
      "plotting feature canton\n",
      "plotting feature coordinates\n",
      "plotting feature featureId\n",
      "plotting feature fsocommunecode\n",
      "plotting feature geometryType\n",
      "plotting feature label\n",
      "plotting feature layerBodId\n",
      "plotting feature layerName\n",
      "plotting feature roadtype_fr\n",
      "plotting feature roadtypecode\n",
      "plotting feature severitycategory_fr\n",
      "plotting feature severitycategorycode\n",
      "plotting feature type\n",
      "Done plotting\n"
     ]
    }
   ],
   "source": [
    "for feature in df : \n",
    "    print(\"plotting feature {}\".format(feature))\n",
    "    plot_feature(df, feature)\n",
    "print(\"Done plotting\")"
   ]
  },
  {
   "cell_type": "markdown",
   "metadata": {},
   "source": [
    "# Data analysis"
   ]
  },
  {
   "cell_type": "markdown",
   "metadata": {},
   "source": [
    "1) Accidents par rapport au temps<br>\n",
    "2) Corrélation nombre/type d'accident avec les endroits (Valais ivresse)<br>\n",
    "3) Tracker des anomalies (fin/début d'une série d'accident) et essayer d'en trouver la cause<br>"
   ]
  },
  {
   "cell_type": "code",
   "execution_count": null,
   "metadata": {
    "collapsed": true
   },
   "outputs": [],
   "source": []
  }
 ],
 "metadata": {
  "anaconda-cloud": {},
  "kernelspec": {
   "display_name": "Python [default]",
   "language": "python",
   "name": "python3"
  },
  "language_info": {
   "codemirror_mode": {
    "name": "ipython",
    "version": 3
   },
   "file_extension": ".py",
   "mimetype": "text/x-python",
   "name": "python",
   "nbconvert_exporter": "python",
   "pygments_lexer": "ipython3",
   "version": "3.5.2"
  }
 },
 "nbformat": 4,
 "nbformat_minor": 0
}
