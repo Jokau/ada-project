{
 "cells": [
  {
   "cell_type": "markdown",
   "metadata": {},
   "source": [
    "# Road Traffic Accidents in Switzerland"
   ]
  },
  {
   "cell_type": "markdown",
   "metadata": {},
   "source": [
    "Our project goal is to scrap all traffic accidents from the accidents map from http://map.donneesaccidents.ch/"
   ]
  },
  {
   "cell_type": "markdown",
   "metadata": {},
   "source": [
    "## Data scraping strategy"
   ]
  },
  {
   "cell_type": "markdown",
   "metadata": {},
   "source": [
    "Accessing http://map.donneesaccidents.ch/, wich redirects to : <br>\n",
    "https://map.geo.admin.ch/?topic=vu&lang=fr&bgLayer=ch.swisstopo.pixelkarte-grau&layers=ch.astra.unfaelle-personenschaeden_alle&layers_timestamp=&catalogNodes=1318\n",
    "\n",
    "\n",
    "Postman parses the following parameters : \n",
    "<code>\n",
    "topic:vu\n",
    "lang:en\n",
    "bgLayer:ch.swisstopo.pixelkarte-grau\n",
    "layers:ch.astra.unfaelle-personenschaeden_alle\n",
    "layers_timestamp:\n",
    "catalogNodes:1318\n",
    "</code>\n",
    "\n",
    "The most important one is layers:ch.astra.unfaelle-personenschaeden_alle.<br>\n",
    "It is the layer that contains all the geo-information dots on \"Accidents with personal injury\" which is the selected data layer.\n",
    "<img src=\"Resources/images/layer_selector.png\">\n",
    "\n",
    "Selection all kinds of accidents returns the following :<br>\n",
    "<img src=\"Resources/images/layer_selector_all.png\">\n",
    "with layer parameters :<br>\n",
    "layers:<br>\n",
    "    &nbsp;ch.astra.unfaelle-personenschaeden_alle,<br>\n",
    "    &nbsp;ch.astra.unfaelle-personenschaeden_getoetete,<br>\n",
    "    &nbsp;ch.astra.unfaelle-personenschaeden_fussgaenger,<br>\n",
    "    &nbsp;ch.astra.unfaelle-personenschaeden_fahrraeder,<br>\n",
    "    &nbsp;ch.astra.unfaelle-personenschaeden_motorraeder<br>\n",
    "layers_timestamp:,,,,<br>\n",
    "\n",
    "Now we want every data for each layer. By selecting a dot on the map, it queries the related data to the server.\n",
    "What we want to do is selecting all the entries in the map to retrieves all data. This is done by ctrl clicking the whole area.\n",
    "\n",
    "This makes a query for each \"layers\" parameter :\n",
    "<code>\n",
    "geometry:443999.04209536605,39001.6733318335,870499.0420953662,303001.67333183356\n",
    "geometryFormat:geojson\n",
    "geometryType:esriGeometryEnvelope\n",
    "imageDisplay:1536,759,96\n",
    "lang:en\n",
    "layers:all:<i>LAYER_PARAM</i>\n",
    "mapExtent:269999.04209536605,9501.673331833561,1037999.042095366,389001.67333183356\n",
    "returnGeometry:true\n",
    "tolerance:5\n",
    "</code><br>\n",
    "But doesn't select all dots on map, so let's try the \"load more results\" button on a 'accidetns with fatalities' layer, we get :\n",
    "<code>\n",
    "geometry:443999.04209536605,39001.6733318335,870499.0420953662,303001.67333183356\n",
    "geometryFormat:geojson\n",
    "geometryType:esriGeometryEnvelope\n",
    "imageDisplay:1536,759,96\n",
    "lang:en\n",
    "layers:all:ch.astra.unfaelle-personenschaeden_getoetete\n",
    "mapExtent:136199.04209536605,-28148.32666816644,1134599.042095366,465201.67333183356\n",
    "<b>offset:200</b>\n",
    "returnGeometry:true\n",
    "tolerance:5\n",
    "</code>\n",
    "Pressing load more until no more possible give offset=1200 (for a total of 1337 objects) i.e it loads data entries 200 by 200"
   ]
  },
  {
   "cell_type": "markdown",
   "metadata": {},
   "source": [
    "## JSON Data scraping"
   ]
  },
  {
   "cell_type": "code",
   "execution_count": 1,
   "metadata": {
    "collapsed": false
   },
   "outputs": [],
   "source": [
    "import requests\n",
    "import json\n",
    "\n",
    "import numpy as np\n",
    "import pandas as pd\n",
    "\n",
    "import matplotlib.pyplot as plt\n",
    "\n",
    "from Scripts.helpers import *\n",
    "from Scripts.plots import *\n",
    "\n",
    "\n",
    "import pprint\n",
    "#from bs4 import BeautifulSoup"
   ]
  },
  {
   "cell_type": "code",
   "execution_count": 2,
   "metadata": {
    "collapsed": false
   },
   "outputs": [],
   "source": [
    "pp = pprint.PrettyPrinter(indent=4)"
   ]
  },
  {
   "cell_type": "code",
   "execution_count": 10,
   "metadata": {
    "collapsed": false
   },
   "outputs": [
    {
     "name": "stdout",
     "output_type": "stream",
     "text": [
      "Processing layer : ch.astra.unfaelle-personenschaeden_alle\n",
      "Break in loop while\n",
      "Layer processed : 603 records\n",
      "\n",
      "Processing layer : ch.astra.unfaelle-personenschaeden_getoetete\n",
      "Break in loop while\n",
      "Layer processed : 603 records\n",
      "\n",
      "Processing layer : ch.astra.unfaelle-personenschaeden_fussgaenger\n",
      "Break in loop while\n",
      "Layer processed : 603 records\n",
      "\n",
      "Processing layer : ch.astra.unfaelle-personenschaeden_fahrraeder\n",
      "Break in loop while\n",
      "Layer processed : 603 records\n",
      "\n",
      "Processing layer : ch.astra.unfaelle-personenschaeden_motorraeder\n",
      "Break in loop while\n",
      "Layer processed : 603 records\n",
      "\n",
      "Whole dataset processed : 3015 records\n",
      "\n"
     ]
    },
    {
     "data": {
      "text/plain": [
       "{'bbox': [538884.0, 152061.0, 538884.0, 152061.0],\n",
       " 'featureId': 'ED164DF7603600FEE0430A839427FAFB',\n",
       " 'geometry': {'coordinates': [[538884.0, 152061.0]], 'type': 'MultiPoint'},\n",
       " 'geometryType': 'Feature',\n",
       " 'id': 'ED164DF7603600FEE0430A839427FAFB',\n",
       " 'layerBodId': 'ch.astra.unfaelle-personenschaeden_alle',\n",
       " 'layerName': 'Accidents avec dommages corporels',\n",
       " 'properties': {'accidentday_de': 'Freitag / 17h-18h / November 2013',\n",
       "  'accidentday_fr': 'vendredi / 17h-18h / novembre 2013',\n",
       "  'accidentday_it': 'Venerdì / 17h-18h / Novembre 2013',\n",
       "  'accidenttype_de': 'Fussgängerunfall',\n",
       "  'accidenttype_fr': 'accident impliquant des piétons',\n",
       "  'accidenttype_it': 'Incidente con pedoni',\n",
       "  'accidenttypecode': 8,\n",
       "  'accidentyear': 2013,\n",
       "  'canton': 'VD',\n",
       "  'fsocommunecode': '5586',\n",
       "  'label': 'Fussgängerunfall',\n",
       "  'roadtype_de': 'Nebenstrasse',\n",
       "  'roadtype_fr': 'route secondaire',\n",
       "  'roadtype_it': 'Strada secondaria',\n",
       "  'roadtypecode': 433,\n",
       "  'severitycategory_de': 'Unfall mit Schwerverletzten',\n",
       "  'severitycategory_fr': 'accident avec blessés graves',\n",
       "  'severitycategory_it': 'Incidente con feriti gravi',\n",
       "  'severitycategorycode': 'USV'},\n",
       " 'type': 'Feature'}"
      ]
     },
     "execution_count": 10,
     "metadata": {},
     "output_type": "execute_result"
    }
   ],
   "source": [
    "#import raw data\n",
    "data = import_data(all_data = False)\n",
    "data[1]"
   ]
  },
  {
   "cell_type": "code",
   "execution_count": 4,
   "metadata": {
    "collapsed": false
   },
   "outputs": [],
   "source": [
    "#translate data from german\n",
    "json_data_preprocessed = preprocess_data(data)"
   ]
  },
  {
   "cell_type": "code",
   "execution_count": 5,
   "metadata": {
    "collapsed": false
   },
   "outputs": [
    {
     "name": "stdout",
     "output_type": "stream",
     "text": [
      "Data entry example after clean and reformat:\n",
      "\n"
     ]
    },
    {
     "data": {
      "text/plain": [
       "{'accidenttype_fr': 'dérapage ou perte de maîtrise',\n",
       " 'accidenttypecode': 0,\n",
       " 'accidentyear': 2011,\n",
       " 'canton': 'GE',\n",
       " 'coordinates': [501537.0, 124408.0],\n",
       " 'day': 'vendredi',\n",
       " 'fsocommunecode': '6622',\n",
       " 'id': 'A774A9B811D400CAE0430A83942700CA',\n",
       " 'label': 'Schleuder- oder Selbstunfall',\n",
       " 'layerName': 'Accidents avec dommages corporels',\n",
       " 'month': 'juillet',\n",
       " 'roadtype_fr': 'route principale',\n",
       " 'roadtypecode': 432,\n",
       " 'severitycategory_fr': 'accident avec blessés graves',\n",
       " 'severitycategorycode': 'USV',\n",
       " 'time': '19h-20h'}"
      ]
     },
     "execution_count": 5,
     "metadata": {},
     "output_type": "execute_result"
    }
   ],
   "source": [
    "print(\"Data entry example after clean and reformat:\\n\")\n",
    "json_data_preprocessed[0]"
   ]
  },
  {
   "cell_type": "code",
   "execution_count": 6,
   "metadata": {
    "collapsed": false
   },
   "outputs": [
    {
     "data": {
      "text/html": [
       "<div>\n",
       "<table border=\"1\" class=\"dataframe\">\n",
       "  <thead>\n",
       "    <tr style=\"text-align: right;\">\n",
       "      <th></th>\n",
       "      <th>accidenttype_fr</th>\n",
       "      <th>accidenttypecode</th>\n",
       "      <th>accidentyear</th>\n",
       "      <th>canton</th>\n",
       "      <th>coordinates</th>\n",
       "      <th>day</th>\n",
       "      <th>fsocommunecode</th>\n",
       "      <th>label</th>\n",
       "      <th>layerName</th>\n",
       "      <th>month</th>\n",
       "      <th>roadtype_fr</th>\n",
       "      <th>roadtypecode</th>\n",
       "      <th>severitycategory_fr</th>\n",
       "      <th>severitycategorycode</th>\n",
       "      <th>time</th>\n",
       "    </tr>\n",
       "    <tr>\n",
       "      <th>id</th>\n",
       "      <th></th>\n",
       "      <th></th>\n",
       "      <th></th>\n",
       "      <th></th>\n",
       "      <th></th>\n",
       "      <th></th>\n",
       "      <th></th>\n",
       "      <th></th>\n",
       "      <th></th>\n",
       "      <th></th>\n",
       "      <th></th>\n",
       "      <th></th>\n",
       "      <th></th>\n",
       "      <th></th>\n",
       "      <th></th>\n",
       "    </tr>\n",
       "  </thead>\n",
       "  <tbody>\n",
       "    <tr>\n",
       "      <th>28D0634E478C00DAE0530A8394278B29</th>\n",
       "      <td>dérapage ou perte de maîtrise</td>\n",
       "      <td>0</td>\n",
       "      <td>2015</td>\n",
       "      <td>FR</td>\n",
       "      <td>[554723.0, 149961.0]</td>\n",
       "      <td>samedi</td>\n",
       "      <td>2321</td>\n",
       "      <td>Schleuder- oder Selbstunfall</td>\n",
       "      <td>Accidents avec la part. de motos</td>\n",
       "      <td>décembre</td>\n",
       "      <td>route principale</td>\n",
       "      <td>432</td>\n",
       "      <td>accident avec blessés légers</td>\n",
       "      <td>ULV</td>\n",
       "      <td>21h-22h</td>\n",
       "    </tr>\n",
       "    <tr>\n",
       "      <th>EF646051FB4102FEE0430A8394277C00</th>\n",
       "      <td>accident en traversant une route</td>\n",
       "      <td>5</td>\n",
       "      <td>2013</td>\n",
       "      <td>BE</td>\n",
       "      <td>[613910.0, 191136.0]</td>\n",
       "      <td>jeudi</td>\n",
       "      <td>0612</td>\n",
       "      <td>Überqueren der Fahrbahn</td>\n",
       "      <td>Accidents avec dommages corporels</td>\n",
       "      <td>novembre</td>\n",
       "      <td>route principale</td>\n",
       "      <td>432</td>\n",
       "      <td>accident avec blessés légers</td>\n",
       "      <td>ULV</td>\n",
       "      <td>12h-13h</td>\n",
       "    </tr>\n",
       "    <tr>\n",
       "      <th>25C36F0ABA43015EE0530A839427DB43</th>\n",
       "      <td>accident en quittant une route</td>\n",
       "      <td>3</td>\n",
       "      <td>2015</td>\n",
       "      <td>TG</td>\n",
       "      <td>[713950.0, 254074.0]</td>\n",
       "      <td>samedi</td>\n",
       "      <td>4726</td>\n",
       "      <td>Abbiegeunfall</td>\n",
       "      <td>Accidents avec la part. de vélos</td>\n",
       "      <td>novembre</td>\n",
       "      <td>route secondaire</td>\n",
       "      <td>433</td>\n",
       "      <td>accident avec blessés graves</td>\n",
       "      <td>USV</td>\n",
       "      <td>14h-15h</td>\n",
       "    </tr>\n",
       "    <tr>\n",
       "      <th>F0F128CC05E70058E0430A839427247B</th>\n",
       "      <td>dérapage ou perte de maîtrise</td>\n",
       "      <td>0</td>\n",
       "      <td>2014</td>\n",
       "      <td>ZH</td>\n",
       "      <td>[676678.0, 258361.0]</td>\n",
       "      <td>mardi</td>\n",
       "      <td>0086</td>\n",
       "      <td>Schleuder- oder Selbstunfall</td>\n",
       "      <td>Accidents mortels</td>\n",
       "      <td>janvier</td>\n",
       "      <td>route principale</td>\n",
       "      <td>432</td>\n",
       "      <td>accident avec tués</td>\n",
       "      <td>UGT</td>\n",
       "      <td>22h-23h</td>\n",
       "    </tr>\n",
       "    <tr>\n",
       "      <th>2715BA20BD370068E0530A8394271104</th>\n",
       "      <td>dérapage ou perte de maîtrise</td>\n",
       "      <td>0</td>\n",
       "      <td>2015</td>\n",
       "      <td>BE</td>\n",
       "      <td>[596767.0, 186404.0]</td>\n",
       "      <td>samedi</td>\n",
       "      <td>0855</td>\n",
       "      <td>Schleuder- oder Selbstunfall</td>\n",
       "      <td>Accidents avec la part. de vélos</td>\n",
       "      <td>novembre</td>\n",
       "      <td>route secondaire</td>\n",
       "      <td>433</td>\n",
       "      <td>accident avec blessés légers</td>\n",
       "      <td>ULV</td>\n",
       "      <td>14h-15h</td>\n",
       "    </tr>\n",
       "  </tbody>\n",
       "</table>\n",
       "</div>"
      ],
      "text/plain": [
       "                                                   accidenttype_fr  \\\n",
       "id                                                                   \n",
       "28D0634E478C00DAE0530A8394278B29     dérapage ou perte de maîtrise   \n",
       "EF646051FB4102FEE0430A8394277C00  accident en traversant une route   \n",
       "25C36F0ABA43015EE0530A839427DB43    accident en quittant une route   \n",
       "F0F128CC05E70058E0430A839427247B     dérapage ou perte de maîtrise   \n",
       "2715BA20BD370068E0530A8394271104     dérapage ou perte de maîtrise   \n",
       "\n",
       "                                  accidenttypecode  accidentyear canton  \\\n",
       "id                                                                        \n",
       "28D0634E478C00DAE0530A8394278B29                 0          2015     FR   \n",
       "EF646051FB4102FEE0430A8394277C00                 5          2013     BE   \n",
       "25C36F0ABA43015EE0530A839427DB43                 3          2015     TG   \n",
       "F0F128CC05E70058E0430A839427247B                 0          2014     ZH   \n",
       "2715BA20BD370068E0530A8394271104                 0          2015     BE   \n",
       "\n",
       "                                           coordinates     day fsocommunecode  \\\n",
       "id                                                                              \n",
       "28D0634E478C00DAE0530A8394278B29  [554723.0, 149961.0]  samedi           2321   \n",
       "EF646051FB4102FEE0430A8394277C00  [613910.0, 191136.0]   jeudi           0612   \n",
       "25C36F0ABA43015EE0530A839427DB43  [713950.0, 254074.0]  samedi           4726   \n",
       "F0F128CC05E70058E0430A839427247B  [676678.0, 258361.0]   mardi           0086   \n",
       "2715BA20BD370068E0530A8394271104  [596767.0, 186404.0]  samedi           0855   \n",
       "\n",
       "                                                         label  \\\n",
       "id                                                               \n",
       "28D0634E478C00DAE0530A8394278B29  Schleuder- oder Selbstunfall   \n",
       "EF646051FB4102FEE0430A8394277C00       Überqueren der Fahrbahn   \n",
       "25C36F0ABA43015EE0530A839427DB43                 Abbiegeunfall   \n",
       "F0F128CC05E70058E0430A839427247B  Schleuder- oder Selbstunfall   \n",
       "2715BA20BD370068E0530A8394271104  Schleuder- oder Selbstunfall   \n",
       "\n",
       "                                                          layerName     month  \\\n",
       "id                                                                              \n",
       "28D0634E478C00DAE0530A8394278B29   Accidents avec la part. de motos  décembre   \n",
       "EF646051FB4102FEE0430A8394277C00  Accidents avec dommages corporels  novembre   \n",
       "25C36F0ABA43015EE0530A839427DB43   Accidents avec la part. de vélos  novembre   \n",
       "F0F128CC05E70058E0430A839427247B                  Accidents mortels   janvier   \n",
       "2715BA20BD370068E0530A8394271104   Accidents avec la part. de vélos  novembre   \n",
       "\n",
       "                                       roadtype_fr  roadtypecode  \\\n",
       "id                                                                 \n",
       "28D0634E478C00DAE0530A8394278B29  route principale           432   \n",
       "EF646051FB4102FEE0430A8394277C00  route principale           432   \n",
       "25C36F0ABA43015EE0530A839427DB43  route secondaire           433   \n",
       "F0F128CC05E70058E0430A839427247B  route principale           432   \n",
       "2715BA20BD370068E0530A8394271104  route secondaire           433   \n",
       "\n",
       "                                           severitycategory_fr  \\\n",
       "id                                                               \n",
       "28D0634E478C00DAE0530A8394278B29  accident avec blessés légers   \n",
       "EF646051FB4102FEE0430A8394277C00  accident avec blessés légers   \n",
       "25C36F0ABA43015EE0530A839427DB43  accident avec blessés graves   \n",
       "F0F128CC05E70058E0430A839427247B            accident avec tués   \n",
       "2715BA20BD370068E0530A8394271104  accident avec blessés légers   \n",
       "\n",
       "                                 severitycategorycode     time  \n",
       "id                                                              \n",
       "28D0634E478C00DAE0530A8394278B29                  ULV  21h-22h  \n",
       "EF646051FB4102FEE0430A8394277C00                  ULV  12h-13h  \n",
       "25C36F0ABA43015EE0530A839427DB43                  USV  14h-15h  \n",
       "F0F128CC05E70058E0430A839427247B                  UGT  22h-23h  \n",
       "2715BA20BD370068E0530A8394271104                  ULV  14h-15h  "
      ]
     },
     "execution_count": 6,
     "metadata": {},
     "output_type": "execute_result"
    }
   ],
   "source": [
    "df = pd.DataFrame.from_dict(json_data_preprocessed)\n",
    "df.set_index('id', inplace=True)\n",
    "df.sample(5)"
   ]
  },
  {
   "cell_type": "code",
   "execution_count": 7,
   "metadata": {
    "collapsed": false
   },
   "outputs": [
    {
     "name": "stdout",
     "output_type": "stream",
     "text": [
      "Plotting all features\n",
      "plotting feature accidenttype_fr\n",
      "plotting feature accidenttypecode\n",
      "->    Key Error : 'accidenttypecode'\n",
      "plotting feature accidentyear\n",
      "plotting feature canton\n",
      "plotting feature coordinates\n",
      "->    Type Error : unhashable type: 'list'\n",
      "plotting feature day\n",
      "plotting feature label\n",
      "plotting feature layerName\n",
      "plotting feature month\n",
      "plotting feature roadtype_fr\n",
      "plotting feature roadtypecode\n",
      "plotting feature severitycategory_fr\n",
      "plotting feature severitycategorycode\n",
      "plotting feature time\n",
      "Done plotting\n"
     ]
    }
   ],
   "source": [
    "plot_all_features(df)"
   ]
  },
  {
   "cell_type": "markdown",
   "metadata": {},
   "source": [
    "# Data analysis"
   ]
  },
  {
   "cell_type": "markdown",
   "metadata": {},
   "source": [
    "1) Accidents par rapport au temps<br>\n",
    "2) Corrélation nombre/type d'accident avec les endroits (Valais ivresse)<br>\n",
    "3) Tracker des anomalies (fin/début d'une série d'accident) et essayer d'en trouver la cause<br>"
   ]
  },
  {
   "cell_type": "code",
   "execution_count": 9,
   "metadata": {
    "collapsed": false
   },
   "outputs": [
    {
     "name": "stdout",
     "output_type": "stream",
     "text": [
      "Plotting features : ['month', 'accidentyear', 'canton']\n",
      "Done plotting ['month', 'accidentyear', 'canton']\n"
     ]
    }
   ],
   "source": [
    "plot_feature_combination(df, ['month', 'accidentyear', 'canton'])"
   ]
  },
  {
   "cell_type": "code",
   "execution_count": null,
   "metadata": {
    "collapsed": true
   },
   "outputs": [],
   "source": []
  }
 ],
 "metadata": {
  "anaconda-cloud": {},
  "kernelspec": {
   "display_name": "Python [default]",
   "language": "python",
   "name": "python3"
  },
  "language_info": {
   "codemirror_mode": {
    "name": "ipython",
    "version": 3
   },
   "file_extension": ".py",
   "mimetype": "text/x-python",
   "name": "python",
   "nbconvert_exporter": "python",
   "pygments_lexer": "ipython3",
   "version": "3.5.2"
  }
 },
 "nbformat": 4,
 "nbformat_minor": 0
}
