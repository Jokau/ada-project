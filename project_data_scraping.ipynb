{
 "cells": [
  {
   "cell_type": "markdown",
   "metadata": {},
   "source": [
    "# Road Traffic Accidents in Switzerland"
   ]
  },
  {
   "cell_type": "markdown",
   "metadata": {},
   "source": [
    "Our project goal is to scrap all traffic accidents from the accidents map from http://map.donneesaccidents.ch/"
   ]
  },
  {
   "cell_type": "markdown",
   "metadata": {},
   "source": [
    "## Data scraping strategy"
   ]
  },
  {
   "cell_type": "markdown",
   "metadata": {},
   "source": [
    "Accessing http://map.donneesaccidents.ch/, wich redirects to : <br>\n",
    "https://map.geo.admin.ch/?topic=vu&lang=fr&bgLayer=ch.swisstopo.pixelkarte-grau&layers=ch.astra.unfaelle-personenschaeden_alle&layers_timestamp=&catalogNodes=1318\n",
    "\n",
    "\n",
    "Postman parses the following parameters : \n",
    "<code>\n",
    "topic:vu\n",
    "lang:en\n",
    "bgLayer:ch.swisstopo.pixelkarte-grau\n",
    "layers:ch.astra.unfaelle-personenschaeden_alle\n",
    "layers_timestamp:\n",
    "catalogNodes:1318\n",
    "</code>\n",
    "\n",
    "The most important one is layers:ch.astra.unfaelle-personenschaeden_alle.<br>\n",
    "It is the layer that contains all the geo-information dots on \"Accidents with personal injury\" which is the selected data layer.\n",
    "<img src=\"layer_selector.png\">\n",
    "\n",
    "Selection all kinds of accidents returns the following :<br>\n",
    "<img src=\"layer_selector_all.png\">\n",
    "with layer parameters :<br>\n",
    "layers:<br>\n",
    "    &nbsp;ch.astra.unfaelle-personenschaeden_alle,<br>\n",
    "    &nbsp;ch.astra.unfaelle-personenschaeden_getoetete,<br>\n",
    "    &nbsp;ch.astra.unfaelle-personenschaeden_fussgaenger,<br>\n",
    "    &nbsp;ch.astra.unfaelle-personenschaeden_fahrraeder,<br>\n",
    "    &nbsp;ch.astra.unfaelle-personenschaeden_motorraeder<br>\n",
    "layers_timestamp:,,,,<br>\n",
    "\n",
    "Now we want every data for each layer. By selecting a dot on the map, it queries the related data to the server.\n",
    "What we want to do is selecting all the entries in the map to retrieves all data. This is done by ctrl clicking the whole area.\n",
    "\n",
    "This makes a query for each \"layers\" parameter :\n",
    "<code>\n",
    "geometry:443999.04209536605,39001.6733318335,870499.0420953662,303001.67333183356\n",
    "geometryFormat:geojson\n",
    "geometryType:esriGeometryEnvelope\n",
    "imageDisplay:1536,759,96\n",
    "lang:en\n",
    "layers:all:<i>LAYER_PARAM</i>\n",
    "mapExtent:269999.04209536605,9501.673331833561,1037999.042095366,389001.67333183356\n",
    "returnGeometry:true\n",
    "tolerance:5\n",
    "</code><br>\n",
    "But doesn't select all dots on map, so let's try the \"load more results\" button on a 'accidetns with fatalities' layer, we get :\n",
    "<code>\n",
    "geometry:443999.04209536605,39001.6733318335,870499.0420953662,303001.67333183356\n",
    "geometryFormat:geojson\n",
    "geometryType:esriGeometryEnvelope\n",
    "imageDisplay:1536,759,96\n",
    "lang:en\n",
    "layers:all:ch.astra.unfaelle-personenschaeden_getoetete\n",
    "mapExtent:136199.04209536605,-28148.32666816644,1134599.042095366,465201.67333183356\n",
    "<b>offset:200</b>\n",
    "returnGeometry:true\n",
    "tolerance:5\n",
    "</code>\n",
    "Pressing load more until no more possible give offset=1200 (for a total of 1337 objects) i.e it loads data entries 200 by 200"
   ]
  },
  {
   "cell_type": "markdown",
   "metadata": {},
   "source": [
    "## JSON Data scraping"
   ]
  },
  {
   "cell_type": "code",
   "execution_count": 1,
   "metadata": {
    "collapsed": false
   },
   "outputs": [],
   "source": [
    "import requests\n",
    "import json\n",
    "\n",
    "import numpy as np\n",
    "import pandas as pd\n",
    "\n",
    "import matplotlib.pyplot as plt\n",
    "\n",
    "from Scripts.helpers import *\n",
    "from Scripts.plots import *\n",
    "\n",
    "\n",
    "import pprint\n",
    "#from bs4 import BeautifulSoup"
   ]
  },
  {
   "cell_type": "code",
   "execution_count": 2,
   "metadata": {
    "collapsed": false
   },
   "outputs": [],
   "source": [
    "pp = pprint.PrettyPrinter(indent=4)"
   ]
  },
  {
   "cell_type": "code",
   "execution_count": 3,
   "metadata": {
    "collapsed": false
   },
   "outputs": [
    {
     "name": "stdout",
     "output_type": "stream",
     "text": [
      "Processing layer : ch.astra.unfaelle-personenschaeden_alle\n",
      "Layer processed : 90600 records\n",
      "\n",
      "Processing layer : ch.astra.unfaelle-personenschaeden_getoetete\n",
      "Layer processed : 1343 records\n",
      "\n",
      "Processing layer : ch.astra.unfaelle-personenschaeden_fussgaenger\n",
      "Layer processed : 11738 records\n",
      "\n",
      "Processing layer : ch.astra.unfaelle-personenschaeden_fahrraeder\n",
      "Layer processed : 18104 records\n",
      "\n",
      "Processing layer : ch.astra.unfaelle-personenschaeden_motorraeder\n",
      "Layer processed : 19676 records\n",
      "\n",
      "Whole dataset processed : 141461 records\n",
      "\n"
     ]
    }
   ],
   "source": [
    "#import raw data\n",
    "data = import_data(all_data = True)"
   ]
  },
  {
   "cell_type": "code",
   "execution_count": 4,
   "metadata": {
    "collapsed": false
   },
   "outputs": [],
   "source": [
    "#translate data from german\n",
    "json_data_preprocessed = preprocess_data(data)"
   ]
  },
  {
   "cell_type": "code",
   "execution_count": 5,
   "metadata": {
    "collapsed": false
   },
   "outputs": [
    {
     "name": "stdout",
     "output_type": "stream",
     "text": [
      "Data entry example after clean and reformat:\n",
      "\n"
     ]
    },
    {
     "data": {
      "text/plain": [
       "{'accidentday_fr': 'mardi / 17h-18h / mars 2013',\n",
       " 'accidenttype_fr': 'dérapage ou perte de maîtrise',\n",
       " 'accidenttypecode': 0,\n",
       " 'accidentyear': 2013,\n",
       " 'bbox': [599334.0, 210608.0, 599334.0, 210608.0],\n",
       " 'canton': 'BE',\n",
       " 'coordinates': [[599334.0, 210608.0]],\n",
       " 'featureId': 'DA1679BAB84B02BEE0430A8394271E0D',\n",
       " 'fsocommunecode': '0310',\n",
       " 'geometryType': 'Feature',\n",
       " 'id': 'DA1679BAB84B02BEE0430A8394271E0D',\n",
       " 'label': 'Schleuder- oder Selbstunfall',\n",
       " 'layerBodId': 'ch.astra.unfaelle-personenschaeden_alle',\n",
       " 'layerName': 'Accidents avec dommages corporels',\n",
       " 'roadtype_fr': 'route principale',\n",
       " 'roadtypecode': 432,\n",
       " 'severitycategory_fr': 'accident avec blessés légers',\n",
       " 'severitycategorycode': 'ULV',\n",
       " 'type': 'Feature'}"
      ]
     },
     "execution_count": 5,
     "metadata": {},
     "output_type": "execute_result"
    }
   ],
   "source": [
    "print(\"Data entry example after clean and reformat:\\n\")\n",
    "json_data_preprocessed[0]"
   ]
  },
  {
   "cell_type": "code",
   "execution_count": 6,
   "metadata": {
    "collapsed": false
   },
   "outputs": [
    {
     "data": {
      "text/html": [
       "<div>\n",
       "<table border=\"1\" class=\"dataframe\">\n",
       "  <thead>\n",
       "    <tr style=\"text-align: right;\">\n",
       "      <th></th>\n",
       "      <th>accidentday_fr</th>\n",
       "      <th>accidenttype_fr</th>\n",
       "      <th>accidenttypecode</th>\n",
       "      <th>accidentyear</th>\n",
       "      <th>bbox</th>\n",
       "      <th>canton</th>\n",
       "      <th>coordinates</th>\n",
       "      <th>featureId</th>\n",
       "      <th>fsocommunecode</th>\n",
       "      <th>geometryType</th>\n",
       "      <th>label</th>\n",
       "      <th>layerBodId</th>\n",
       "      <th>layerName</th>\n",
       "      <th>roadtype_fr</th>\n",
       "      <th>roadtypecode</th>\n",
       "      <th>severitycategory_fr</th>\n",
       "      <th>severitycategorycode</th>\n",
       "      <th>type</th>\n",
       "    </tr>\n",
       "    <tr>\n",
       "      <th>id</th>\n",
       "      <th></th>\n",
       "      <th></th>\n",
       "      <th></th>\n",
       "      <th></th>\n",
       "      <th></th>\n",
       "      <th></th>\n",
       "      <th></th>\n",
       "      <th></th>\n",
       "      <th></th>\n",
       "      <th></th>\n",
       "      <th></th>\n",
       "      <th></th>\n",
       "      <th></th>\n",
       "      <th></th>\n",
       "      <th></th>\n",
       "      <th></th>\n",
       "      <th></th>\n",
       "      <th></th>\n",
       "    </tr>\n",
       "  </thead>\n",
       "  <tbody>\n",
       "    <tr>\n",
       "      <th>DA1679BAB84B02BEE0430A8394271E0D</th>\n",
       "      <td>mardi / 17h-18h / mars 2013</td>\n",
       "      <td>dérapage ou perte de maîtrise</td>\n",
       "      <td>0</td>\n",
       "      <td>2013</td>\n",
       "      <td>[599334.0, 210608.0, 599334.0, 210608.0]</td>\n",
       "      <td>BE</td>\n",
       "      <td>[[599334.0, 210608.0]]</td>\n",
       "      <td>DA1679BAB84B02BEE0430A8394271E0D</td>\n",
       "      <td>0310</td>\n",
       "      <td>Feature</td>\n",
       "      <td>Schleuder- oder Selbstunfall</td>\n",
       "      <td>ch.astra.unfaelle-personenschaeden_alle</td>\n",
       "      <td>Accidents avec dommages corporels</td>\n",
       "      <td>route principale</td>\n",
       "      <td>432</td>\n",
       "      <td>accident avec blessés légers</td>\n",
       "      <td>ULV</td>\n",
       "      <td>Feature</td>\n",
       "    </tr>\n",
       "    <tr>\n",
       "      <th>DA1683A9406C0114E0430A8394277AA8</th>\n",
       "      <td>mardi / 17h-18h / mars 2013</td>\n",
       "      <td>dérapage ou perte de maîtrise</td>\n",
       "      <td>0</td>\n",
       "      <td>2013</td>\n",
       "      <td>[596996.0, 198498.0, 596996.0, 198498.0]</td>\n",
       "      <td>BE</td>\n",
       "      <td>[[596996.0, 198498.0]]</td>\n",
       "      <td>DA1683A9406C0114E0430A8394277AA8</td>\n",
       "      <td>0351</td>\n",
       "      <td>Feature</td>\n",
       "      <td>Schleuder- oder Selbstunfall</td>\n",
       "      <td>ch.astra.unfaelle-personenschaeden_alle</td>\n",
       "      <td>Accidents avec dommages corporels</td>\n",
       "      <td>autoroute</td>\n",
       "      <td>430</td>\n",
       "      <td>accident avec blessés légers</td>\n",
       "      <td>ULV</td>\n",
       "      <td>Feature</td>\n",
       "    </tr>\n",
       "    <tr>\n",
       "      <th>DA249317CD4E01D0E0430A839427E8A4</th>\n",
       "      <td>mardi / 13h-14h / mars 2013</td>\n",
       "      <td>accident impliquant des piétons</td>\n",
       "      <td>8</td>\n",
       "      <td>2013</td>\n",
       "      <td>[604459.0, 202727.0, 604459.0, 202727.0]</td>\n",
       "      <td>BE</td>\n",
       "      <td>[[604459.0, 202727.0]]</td>\n",
       "      <td>DA249317CD4E01D0E0430A839427E8A4</td>\n",
       "      <td>0352</td>\n",
       "      <td>Feature</td>\n",
       "      <td>Fussgängerunfall</td>\n",
       "      <td>ch.astra.unfaelle-personenschaeden_alle</td>\n",
       "      <td>Accidents avec dommages corporels</td>\n",
       "      <td>route secondaire</td>\n",
       "      <td>433</td>\n",
       "      <td>accident avec blessés légers</td>\n",
       "      <td>ULV</td>\n",
       "      <td>Feature</td>\n",
       "    </tr>\n",
       "    <tr>\n",
       "      <th>DA795D17EC3A02D8E0430A8394278BF3</th>\n",
       "      <td>mardi / 11h-12h / mars 2013</td>\n",
       "      <td>accident impliquant des piétons</td>\n",
       "      <td>8</td>\n",
       "      <td>2013</td>\n",
       "      <td>[585172.0, 220301.0, 585172.0, 220301.0]</td>\n",
       "      <td>BE</td>\n",
       "      <td>[[585172.0, 220301.0]]</td>\n",
       "      <td>DA795D17EC3A02D8E0430A8394278BF3</td>\n",
       "      <td>0371</td>\n",
       "      <td>Feature</td>\n",
       "      <td>Fussgängerunfall</td>\n",
       "      <td>ch.astra.unfaelle-personenschaeden_alle</td>\n",
       "      <td>Accidents avec dommages corporels</td>\n",
       "      <td>route secondaire</td>\n",
       "      <td>433</td>\n",
       "      <td>accident avec blessés légers</td>\n",
       "      <td>ULV</td>\n",
       "      <td>Feature</td>\n",
       "    </tr>\n",
       "    <tr>\n",
       "      <th>DA7961683A7F01F4E0430A839427DE79</th>\n",
       "      <td>mardi / 18h-19h / mars 2013</td>\n",
       "      <td>dérapage ou perte de maîtrise</td>\n",
       "      <td>0</td>\n",
       "      <td>2013</td>\n",
       "      <td>[731330.0, 255478.0, 731330.0, 255478.0]</td>\n",
       "      <td>SG</td>\n",
       "      <td>[[731330.0, 255478.0]]</td>\n",
       "      <td>DA7961683A7F01F4E0430A839427DE79</td>\n",
       "      <td>3424</td>\n",
       "      <td>Feature</td>\n",
       "      <td>Schleuder- oder Selbstunfall</td>\n",
       "      <td>ch.astra.unfaelle-personenschaeden_alle</td>\n",
       "      <td>Accidents avec dommages corporels</td>\n",
       "      <td>autoroute</td>\n",
       "      <td>430</td>\n",
       "      <td>accident avec blessés légers</td>\n",
       "      <td>ULV</td>\n",
       "      <td>Feature</td>\n",
       "    </tr>\n",
       "  </tbody>\n",
       "</table>\n",
       "</div>"
      ],
      "text/plain": [
       "                                               accidentday_fr  \\\n",
       "id                                                              \n",
       "DA1679BAB84B02BEE0430A8394271E0D  mardi / 17h-18h / mars 2013   \n",
       "DA1683A9406C0114E0430A8394277AA8  mardi / 17h-18h / mars 2013   \n",
       "DA249317CD4E01D0E0430A839427E8A4  mardi / 13h-14h / mars 2013   \n",
       "DA795D17EC3A02D8E0430A8394278BF3  mardi / 11h-12h / mars 2013   \n",
       "DA7961683A7F01F4E0430A839427DE79  mardi / 18h-19h / mars 2013   \n",
       "\n",
       "                                                  accidenttype_fr  \\\n",
       "id                                                                  \n",
       "DA1679BAB84B02BEE0430A8394271E0D    dérapage ou perte de maîtrise   \n",
       "DA1683A9406C0114E0430A8394277AA8    dérapage ou perte de maîtrise   \n",
       "DA249317CD4E01D0E0430A839427E8A4  accident impliquant des piétons   \n",
       "DA795D17EC3A02D8E0430A8394278BF3  accident impliquant des piétons   \n",
       "DA7961683A7F01F4E0430A839427DE79    dérapage ou perte de maîtrise   \n",
       "\n",
       "                                  accidenttypecode  accidentyear  \\\n",
       "id                                                                 \n",
       "DA1679BAB84B02BEE0430A8394271E0D                 0          2013   \n",
       "DA1683A9406C0114E0430A8394277AA8                 0          2013   \n",
       "DA249317CD4E01D0E0430A839427E8A4                 8          2013   \n",
       "DA795D17EC3A02D8E0430A8394278BF3                 8          2013   \n",
       "DA7961683A7F01F4E0430A839427DE79                 0          2013   \n",
       "\n",
       "                                                                      bbox  \\\n",
       "id                                                                           \n",
       "DA1679BAB84B02BEE0430A8394271E0D  [599334.0, 210608.0, 599334.0, 210608.0]   \n",
       "DA1683A9406C0114E0430A8394277AA8  [596996.0, 198498.0, 596996.0, 198498.0]   \n",
       "DA249317CD4E01D0E0430A839427E8A4  [604459.0, 202727.0, 604459.0, 202727.0]   \n",
       "DA795D17EC3A02D8E0430A8394278BF3  [585172.0, 220301.0, 585172.0, 220301.0]   \n",
       "DA7961683A7F01F4E0430A839427DE79  [731330.0, 255478.0, 731330.0, 255478.0]   \n",
       "\n",
       "                                 canton             coordinates  \\\n",
       "id                                                                \n",
       "DA1679BAB84B02BEE0430A8394271E0D     BE  [[599334.0, 210608.0]]   \n",
       "DA1683A9406C0114E0430A8394277AA8     BE  [[596996.0, 198498.0]]   \n",
       "DA249317CD4E01D0E0430A839427E8A4     BE  [[604459.0, 202727.0]]   \n",
       "DA795D17EC3A02D8E0430A8394278BF3     BE  [[585172.0, 220301.0]]   \n",
       "DA7961683A7F01F4E0430A839427DE79     SG  [[731330.0, 255478.0]]   \n",
       "\n",
       "                                                         featureId  \\\n",
       "id                                                                   \n",
       "DA1679BAB84B02BEE0430A8394271E0D  DA1679BAB84B02BEE0430A8394271E0D   \n",
       "DA1683A9406C0114E0430A8394277AA8  DA1683A9406C0114E0430A8394277AA8   \n",
       "DA249317CD4E01D0E0430A839427E8A4  DA249317CD4E01D0E0430A839427E8A4   \n",
       "DA795D17EC3A02D8E0430A8394278BF3  DA795D17EC3A02D8E0430A8394278BF3   \n",
       "DA7961683A7F01F4E0430A839427DE79  DA7961683A7F01F4E0430A839427DE79   \n",
       "\n",
       "                                 fsocommunecode geometryType  \\\n",
       "id                                                             \n",
       "DA1679BAB84B02BEE0430A8394271E0D           0310      Feature   \n",
       "DA1683A9406C0114E0430A8394277AA8           0351      Feature   \n",
       "DA249317CD4E01D0E0430A839427E8A4           0352      Feature   \n",
       "DA795D17EC3A02D8E0430A8394278BF3           0371      Feature   \n",
       "DA7961683A7F01F4E0430A839427DE79           3424      Feature   \n",
       "\n",
       "                                                         label  \\\n",
       "id                                                               \n",
       "DA1679BAB84B02BEE0430A8394271E0D  Schleuder- oder Selbstunfall   \n",
       "DA1683A9406C0114E0430A8394277AA8  Schleuder- oder Selbstunfall   \n",
       "DA249317CD4E01D0E0430A839427E8A4              Fussgängerunfall   \n",
       "DA795D17EC3A02D8E0430A8394278BF3              Fussgängerunfall   \n",
       "DA7961683A7F01F4E0430A839427DE79  Schleuder- oder Selbstunfall   \n",
       "\n",
       "                                                               layerBodId  \\\n",
       "id                                                                          \n",
       "DA1679BAB84B02BEE0430A8394271E0D  ch.astra.unfaelle-personenschaeden_alle   \n",
       "DA1683A9406C0114E0430A8394277AA8  ch.astra.unfaelle-personenschaeden_alle   \n",
       "DA249317CD4E01D0E0430A839427E8A4  ch.astra.unfaelle-personenschaeden_alle   \n",
       "DA795D17EC3A02D8E0430A8394278BF3  ch.astra.unfaelle-personenschaeden_alle   \n",
       "DA7961683A7F01F4E0430A839427DE79  ch.astra.unfaelle-personenschaeden_alle   \n",
       "\n",
       "                                                          layerName  \\\n",
       "id                                                                    \n",
       "DA1679BAB84B02BEE0430A8394271E0D  Accidents avec dommages corporels   \n",
       "DA1683A9406C0114E0430A8394277AA8  Accidents avec dommages corporels   \n",
       "DA249317CD4E01D0E0430A839427E8A4  Accidents avec dommages corporels   \n",
       "DA795D17EC3A02D8E0430A8394278BF3  Accidents avec dommages corporels   \n",
       "DA7961683A7F01F4E0430A839427DE79  Accidents avec dommages corporels   \n",
       "\n",
       "                                       roadtype_fr  roadtypecode  \\\n",
       "id                                                                 \n",
       "DA1679BAB84B02BEE0430A8394271E0D  route principale           432   \n",
       "DA1683A9406C0114E0430A8394277AA8         autoroute           430   \n",
       "DA249317CD4E01D0E0430A839427E8A4  route secondaire           433   \n",
       "DA795D17EC3A02D8E0430A8394278BF3  route secondaire           433   \n",
       "DA7961683A7F01F4E0430A839427DE79         autoroute           430   \n",
       "\n",
       "                                           severitycategory_fr  \\\n",
       "id                                                               \n",
       "DA1679BAB84B02BEE0430A8394271E0D  accident avec blessés légers   \n",
       "DA1683A9406C0114E0430A8394277AA8  accident avec blessés légers   \n",
       "DA249317CD4E01D0E0430A839427E8A4  accident avec blessés légers   \n",
       "DA795D17EC3A02D8E0430A8394278BF3  accident avec blessés légers   \n",
       "DA7961683A7F01F4E0430A839427DE79  accident avec blessés légers   \n",
       "\n",
       "                                 severitycategorycode     type  \n",
       "id                                                              \n",
       "DA1679BAB84B02BEE0430A8394271E0D                  ULV  Feature  \n",
       "DA1683A9406C0114E0430A8394277AA8                  ULV  Feature  \n",
       "DA249317CD4E01D0E0430A839427E8A4                  ULV  Feature  \n",
       "DA795D17EC3A02D8E0430A8394278BF3                  ULV  Feature  \n",
       "DA7961683A7F01F4E0430A839427DE79                  ULV  Feature  "
      ]
     },
     "execution_count": 6,
     "metadata": {},
     "output_type": "execute_result"
    }
   ],
   "source": [
    "df = pd.DataFrame.from_dict(json_data_preprocessed)\n",
    "df.set_index('id', inplace=True)\n",
    "df.head()"
   ]
  },
  {
   "cell_type": "code",
   "execution_count": 7,
   "metadata": {
    "collapsed": false
   },
   "outputs": [
    {
     "name": "stdout",
     "output_type": "stream",
     "text": [
      "plotting feature accidentday_fr\n",
      "plotting feature accidenttype_fr\n",
      "plotting feature accidenttypecode\n",
      "plotting feature accidentyear\n",
      "plotting feature bbox\n",
      "plotting feature canton\n",
      "plotting feature coordinates\n",
      "plotting feature featureId\n",
      "plotting feature fsocommunecode\n",
      "plotting feature geometryType\n",
      "plotting feature label\n",
      "plotting feature layerBodId\n",
      "plotting feature layerName\n",
      "plotting feature roadtype_fr\n",
      "plotting feature roadtypecode\n",
      "plotting feature severitycategory_fr\n",
      "plotting feature severitycategorycode\n",
      "plotting feature type\n",
      "Done plotting\n"
     ]
    }
   ],
   "source": [
    "for feature in df : \n",
    "    print(\"plotting feature {}\".format(feature))\n",
    "    plot_feature(df, feature)\n",
    "print(\"Done plotting\")"
   ]
  },
  {
   "cell_type": "markdown",
   "metadata": {},
   "source": [
    "# Data analysis"
   ]
  },
  {
   "cell_type": "markdown",
   "metadata": {},
   "source": [
    "1) Accidents par rapport au temps<br>\n",
    "2) Corrélation nombre/type d'accident avec les endroits (Valais ivresse)<br>\n",
    "3) Tracker des anomalies (fin/début d'une série d'accident) et essayer d'en trouver la cause<br>"
   ]
  },
  {
   "cell_type": "code",
   "execution_count": null,
   "metadata": {
    "collapsed": true
   },
   "outputs": [],
   "source": []
  }
 ],
 "metadata": {
  "anaconda-cloud": {},
  "kernelspec": {
   "display_name": "Python [default]",
   "language": "python",
   "name": "python3"
  },
  "language_info": {
   "codemirror_mode": {
    "name": "ipython",
    "version": 3
   },
   "file_extension": ".py",
   "mimetype": "text/x-python",
   "name": "python",
   "nbconvert_exporter": "python",
   "pygments_lexer": "ipython3",
   "version": "3.5.2"
  }
 },
 "nbformat": 4,
 "nbformat_minor": 0
}
