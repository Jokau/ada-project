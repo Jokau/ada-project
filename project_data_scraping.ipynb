{
 "cells": [
  {
   "cell_type": "markdown",
   "metadata": {},
   "source": [
    "# Road Traffic Accidents in Switzerland"
   ]
  },
  {
   "cell_type": "markdown",
   "metadata": {},
   "source": [
    "In this project, we work with the data from Switzerland's road accidents."
   ]
  },
  {
   "cell_type": "code",
   "execution_count": 1,
   "metadata": {
    "collapsed": false
   },
   "outputs": [],
   "source": [
    "import helpers\n",
    "import json\n",
    "import math\n",
    "import matplotlib.pyplot as plt\n",
    "import numpy as np\n",
    "import pandas as pd\n",
    "import pickle\n",
    "import requests\n",
    "import seaborn as sns\n",
    "\n",
    "%load_ext autoreload\n",
    "%autoreload 2\n",
    "%matplotlib inline"
   ]
  },
  {
   "cell_type": "markdown",
   "metadata": {},
   "source": [
    "## Scraping the data"
   ]
  },
  {
   "cell_type": "markdown",
   "metadata": {},
   "source": [
    "Writing to the \"Office Fédéral des Statistiques\" was unsuccessful, so we resort to web scraping.\n",
    "\n",
    "The scraped data comes from http://map.donneesaccidents.ch/ (or https://map.geo.admin.ch/?topic=vu&lang=fr&bgLayer=ch.swisstopo.pixelkarte-grau&layers=ch.astra.unfaelle-personenschaeden_alle&layers_timestamp=&catalogNodes=1318, after redirections).\n",
    "\n",
    "![Map](Resources/images/swissaccidentsmap.png)\n",
    "\n",
    "#### Layers\n",
    "\n",
    "The map contains the following layers:\n",
    "* Accidents with personal injury\n",
    "* Accidents with fatalities\n",
    "* Accidents involving a pedestrian\n",
    "* Accidents involving a bicycle\n",
    "* Accidents involving a motorcycle\n",
    "\n",
    "There is no information regarding accidents where nobody is unjured, since by law only accidents in which someone is injured require police intervention. This explains why only these are archived.\n",
    "\n",
    "#### Getting detailed accident data\n",
    "\n",
    "The map only displays markers for each accident. When one or more markers are selected, a web query retrieves the information related to the selected markers. Using postman, we analysed such queries and found a way to select several or all markers on the map.\n",
    "\n",
    "This is achieved by defining a rectangle, and querying for all markers inside it. We declare a rectangle that encompasses all Switzerland. This behaviour can be simulated on the browser by holding the ctrl key (or cmd on mac) and dragging a rectangle over the map.\n",
    "The returned data is paginated, so it is necessary to go over all the pages to obtain all detailed accident data.\n",
    "\n",
    "Example query parameters:\n",
    "```\n",
    "geometry:443999.04209536605,39001.6733318335,870499.0420953662,303001.67333183356\n",
    "geometryFormat:geojson\n",
    "geometryType:esriGeometryEnvelope\n",
    "imageDisplay:1536,759,96\n",
    "lang:en\n",
    "layers:all:LAYER_PARAM\n",
    "offset:200\n",
    "mapExtent:269999.04209536605,9501.673331833561,1037999.042095366,389001.67333183356\n",
    "returnGeometry:true\n",
    "tolerance:5\n",
    "```\n",
    "\n",
    "`LAYER_PARAM` can be replaced by the appropriate layer name and `offset` is optional."
   ]
  },
  {
   "cell_type": "code",
   "execution_count": null,
   "metadata": {
    "collapsed": false
   },
   "outputs": [],
   "source": [
    "# Import raw data from http://map.donneesaccidents.ch/\n",
    "# Do not run thoses cells if the pickle is already computed\n",
    "# file info : data/data_raw.pickle, md5: ef2338f1e9e295bd1bf055396dbd1058\n",
    "data = helpers.import_data()"
   ]
  },
  {
   "cell_type": "code",
   "execution_count": null,
   "metadata": {
    "collapsed": false
   },
   "outputs": [],
   "source": [
    "pickle.dump(data, open('data/data_raw.pickle', 'wb'))"
   ]
  },
  {
   "cell_type": "code",
   "execution_count": null,
   "metadata": {
    "collapsed": false
   },
   "outputs": [],
   "source": [
    "raw_df = pd.DataFrame(data)\n",
    "raw_df.sample(5)"
   ]
  },
  {
   "cell_type": "markdown",
   "metadata": {},
   "source": [
    "## Cleaning the data"
   ]
  },
  {
   "cell_type": "code",
   "execution_count": 2,
   "metadata": {
    "collapsed": false
   },
   "outputs": [],
   "source": [
    "data = pickle.load(open('data/data_raw.pickle', 'rb'))"
   ]
  },
  {
   "cell_type": "markdown",
   "metadata": {},
   "source": [
    "In this initial data dump, we see the following fields:\n",
    "* **`bbox`** Redundant coordinates to place the accident on the map.\n",
    "* **`featureId`** Unique ID for an accident.\n",
    "* **`geometry`**  GeoJSON *geometry* object for the accident. Example:\n",
    "```\n",
    "{'coordinates': [[663430.0, 193370.0]], 'type': 'MultiPoint'}\n",
    "```\n",
    "* **`geometryType`** GeoJSON type\n",
    "* **`id`** Redundancy of `featureId`\n",
    "* **`layerBodId`** Map layers the accident belongs to\n",
    "* **`layerName`** Layer name\n",
    "* **`properties`** Accident properties. Example:\n",
    "```\n",
    "{'accidentday_de': 'Mittwoch / 12h-13h / Mai 2014',\n",
    " 'accidentday_fr': 'mercredi / 12h-13h / mai 2014',\n",
    " 'accidentday_it': 'Mercoledì / 12h-13h / Maggio 2014',\n",
    " 'accidenttype_de': 'Abbiegeunfall',\n",
    " 'accidenttype_fr': 'accident en quittant une route',\n",
    " 'accidenttype_it': 'Incidente nello svoltare',\n",
    " 'accidenttypecode': 3,\n",
    " 'accidentyear': 2014,\n",
    " 'canton': 'BE',\n",
    " 'fsocommunecode': '0979',\n",
    " 'label': 'Abbiegeunfall',\n",
    " 'roadtype_de': 'Nebenstrasse',\n",
    " 'roadtype_fr': 'route secondaire',\n",
    " 'roadtype_it': 'Strada secondaria',\n",
    " 'roadtypecode': 433,\n",
    " 'severitycategory_de': 'Unfall mit Leichtverletzten',\n",
    " 'severitycategory_fr': 'accident avec blessés légers',\n",
    " 'severitycategory_it': 'Incidente con feriti leggeri',\n",
    " 'severitycategorycode': 'ULV'}\n",
    "```\n",
    "* **`type`** Redundancy of `geometryType`\n",
    "\n",
    "The first step to be able to fully manipulate this data is to flatten it:"
   ]
  },
  {
   "cell_type": "code",
   "execution_count": 3,
   "metadata": {
    "collapsed": false
   },
   "outputs": [],
   "source": [
    "flat_data = [helpers.flatten(entry) for entry in data]"
   ]
  },
  {
   "cell_type": "code",
   "execution_count": 4,
   "metadata": {
    "collapsed": false
   },
   "outputs": [
    {
     "data": {
      "text/plain": [
       "Index(['bbox', 'featureId', 'geometryType', 'geometry_coordinates',\n",
       "       'geometry_type', 'id', 'layerBodId', 'layerName',\n",
       "       'properties_accidentday_de', 'properties_accidentday_fr',\n",
       "       'properties_accidentday_it', 'properties_accidenttype_de',\n",
       "       'properties_accidenttype_fr', 'properties_accidenttype_it',\n",
       "       'properties_accidenttypecode', 'properties_accidentyear',\n",
       "       'properties_canton', 'properties_fsocommunecode', 'properties_label',\n",
       "       'properties_roadtype_de', 'properties_roadtype_fr',\n",
       "       'properties_roadtype_it', 'properties_roadtypecode',\n",
       "       'properties_severitycategory_de', 'properties_severitycategory_fr',\n",
       "       'properties_severitycategory_it', 'properties_severitycategorycode',\n",
       "       'type'],\n",
       "      dtype='object')"
      ]
     },
     "execution_count": 4,
     "metadata": {},
     "output_type": "execute_result"
    }
   ],
   "source": [
    "accidents_df = pd.DataFrame(flat_data)\n",
    "accidents_df.columns"
   ]
  },
  {
   "cell_type": "markdown",
   "metadata": {},
   "source": [
    "To clean the data, we start by removing the columns that are irrelevant or redundant, such as:\n",
    "* **`bbox`** coordinates for the accident are available in the `geometry_coordinates` column.\n",
    "* **`featureId`** we keep `id`\n",
    "* **`geometryType` and `type`** Innecessary GeoJSON info\n",
    "* **`layerBodId`** we keep `layerName`\n",
    "* **Translations**: all translated fields are only kept in french (english not available).\n",
    "\n",
    "After removing all "
   ]
  },
  {
   "cell_type": "code",
   "execution_count": 5,
   "metadata": {
    "collapsed": false
   },
   "outputs": [],
   "source": [
    "accidents_df = accidents_df.drop([\n",
    "    'bbox',\n",
    "    'featureId',\n",
    "    'geometryType',\n",
    "    'type',\n",
    "    'layerName',\n",
    "    'properties_accidentday_de',\n",
    "    'properties_accidentday_it',\n",
    "    'properties_severitycategory_de',\n",
    "    'properties_severitycategory_it',\n",
    "    'properties_severitycategory_fr',\n",
    "    'properties_roadtype_de',\n",
    "    'properties_roadtype_it',\n",
    "    'properties_accidenttype_de',\n",
    "    'properties_accidenttype_it',\n",
    "    'properties_accidenttype_fr',\n",
    "    'properties_roadtype_fr',\n",
    "    'properties_label',\n",
    "    'geometry_type'\n",
    "], axis=1)\n",
    "\n",
    "# Select one set of coordinates for the accident\n",
    "accidents_df.geometry_coordinates = accidents_df.geometry_coordinates.apply(lambda x: x[0])\n",
    "\n",
    "accidents_df = accidents_df.set_index('id')\n",
    "accidents_df = accidents_df.sort_index()"
   ]
  },
  {
   "cell_type": "code",
   "execution_count": 6,
   "metadata": {
    "collapsed": false
   },
   "outputs": [
    {
     "data": {
      "text/html": [
       "<div>\n",
       "<table border=\"1\" class=\"dataframe\">\n",
       "  <thead>\n",
       "    <tr style=\"text-align: right;\">\n",
       "      <th></th>\n",
       "      <th>geometry_coordinates</th>\n",
       "      <th>layerBodId</th>\n",
       "      <th>properties_accidentday_fr</th>\n",
       "      <th>properties_accidenttypecode</th>\n",
       "      <th>properties_accidentyear</th>\n",
       "      <th>properties_canton</th>\n",
       "      <th>properties_fsocommunecode</th>\n",
       "      <th>properties_roadtypecode</th>\n",
       "      <th>properties_severitycategorycode</th>\n",
       "    </tr>\n",
       "    <tr>\n",
       "      <th>id</th>\n",
       "      <th></th>\n",
       "      <th></th>\n",
       "      <th></th>\n",
       "      <th></th>\n",
       "      <th></th>\n",
       "      <th></th>\n",
       "      <th></th>\n",
       "      <th></th>\n",
       "      <th></th>\n",
       "    </tr>\n",
       "  </thead>\n",
       "  <tbody>\n",
       "    <tr>\n",
       "      <th>000632B7E4500082E0530A83942743EA</th>\n",
       "      <td>[647210.0, 177439.0]</td>\n",
       "      <td>ch.astra.unfaelle-personenschaeden_fahrraeder</td>\n",
       "      <td>samedi / 22h-23h / juillet 2014</td>\n",
       "      <td>4</td>\n",
       "      <td>2014</td>\n",
       "      <td>BE</td>\n",
       "      <td>0573</td>\n",
       "      <td>432</td>\n",
       "      <td>USV</td>\n",
       "    </tr>\n",
       "    <tr>\n",
       "      <th>000632B7E4500082E0530A83942743EA</th>\n",
       "      <td>[647210.0, 177439.0]</td>\n",
       "      <td>ch.astra.unfaelle-personenschaeden_alle</td>\n",
       "      <td>samedi / 22h-23h / juillet 2014</td>\n",
       "      <td>4</td>\n",
       "      <td>2014</td>\n",
       "      <td>BE</td>\n",
       "      <td>0573</td>\n",
       "      <td>432</td>\n",
       "      <td>USV</td>\n",
       "    </tr>\n",
       "    <tr>\n",
       "      <th>000750DA26760038E0530A8394272B98</th>\n",
       "      <td>[685704.0, 252693.0]</td>\n",
       "      <td>ch.astra.unfaelle-personenschaeden_alle</td>\n",
       "      <td>jeudi / 16h-17h / juillet 2014</td>\n",
       "      <td>2</td>\n",
       "      <td>2014</td>\n",
       "      <td>ZH</td>\n",
       "      <td>0069</td>\n",
       "      <td>430</td>\n",
       "      <td>ULV</td>\n",
       "    </tr>\n",
       "    <tr>\n",
       "      <th>0007F58D137500F0E0530A839427CD36</th>\n",
       "      <td>[750913.0, 256375.0]</td>\n",
       "      <td>ch.astra.unfaelle-personenschaeden_motorraeder</td>\n",
       "      <td>mardi / 06h-07h / juin 2014</td>\n",
       "      <td>0</td>\n",
       "      <td>2014</td>\n",
       "      <td>SG</td>\n",
       "      <td>3212</td>\n",
       "      <td>432</td>\n",
       "      <td>USV</td>\n",
       "    </tr>\n",
       "    <tr>\n",
       "      <th>0007F58D151500F0E0530A839427CD36</th>\n",
       "      <td>[689567.0, 231957.0]</td>\n",
       "      <td>ch.astra.unfaelle-personenschaeden_alle</td>\n",
       "      <td>mercredi / 08h-09h / juin 2014</td>\n",
       "      <td>0</td>\n",
       "      <td>2014</td>\n",
       "      <td>ZH</td>\n",
       "      <td>0133</td>\n",
       "      <td>430</td>\n",
       "      <td>USV</td>\n",
       "    </tr>\n",
       "  </tbody>\n",
       "</table>\n",
       "</div>"
      ],
      "text/plain": [
       "                                  geometry_coordinates  \\\n",
       "id                                                       \n",
       "000632B7E4500082E0530A83942743EA  [647210.0, 177439.0]   \n",
       "000632B7E4500082E0530A83942743EA  [647210.0, 177439.0]   \n",
       "000750DA26760038E0530A8394272B98  [685704.0, 252693.0]   \n",
       "0007F58D137500F0E0530A839427CD36  [750913.0, 256375.0]   \n",
       "0007F58D151500F0E0530A839427CD36  [689567.0, 231957.0]   \n",
       "\n",
       "                                                                      layerBodId  \\\n",
       "id                                                                                 \n",
       "000632B7E4500082E0530A83942743EA   ch.astra.unfaelle-personenschaeden_fahrraeder   \n",
       "000632B7E4500082E0530A83942743EA         ch.astra.unfaelle-personenschaeden_alle   \n",
       "000750DA26760038E0530A8394272B98         ch.astra.unfaelle-personenschaeden_alle   \n",
       "0007F58D137500F0E0530A839427CD36  ch.astra.unfaelle-personenschaeden_motorraeder   \n",
       "0007F58D151500F0E0530A839427CD36         ch.astra.unfaelle-personenschaeden_alle   \n",
       "\n",
       "                                        properties_accidentday_fr  \\\n",
       "id                                                                  \n",
       "000632B7E4500082E0530A83942743EA  samedi / 22h-23h / juillet 2014   \n",
       "000632B7E4500082E0530A83942743EA  samedi / 22h-23h / juillet 2014   \n",
       "000750DA26760038E0530A8394272B98   jeudi / 16h-17h / juillet 2014   \n",
       "0007F58D137500F0E0530A839427CD36      mardi / 06h-07h / juin 2014   \n",
       "0007F58D151500F0E0530A839427CD36   mercredi / 08h-09h / juin 2014   \n",
       "\n",
       "                                  properties_accidenttypecode  \\\n",
       "id                                                              \n",
       "000632B7E4500082E0530A83942743EA                            4   \n",
       "000632B7E4500082E0530A83942743EA                            4   \n",
       "000750DA26760038E0530A8394272B98                            2   \n",
       "0007F58D137500F0E0530A839427CD36                            0   \n",
       "0007F58D151500F0E0530A839427CD36                            0   \n",
       "\n",
       "                                  properties_accidentyear properties_canton  \\\n",
       "id                                                                            \n",
       "000632B7E4500082E0530A83942743EA                     2014                BE   \n",
       "000632B7E4500082E0530A83942743EA                     2014                BE   \n",
       "000750DA26760038E0530A8394272B98                     2014                ZH   \n",
       "0007F58D137500F0E0530A839427CD36                     2014                SG   \n",
       "0007F58D151500F0E0530A839427CD36                     2014                ZH   \n",
       "\n",
       "                                 properties_fsocommunecode  \\\n",
       "id                                                           \n",
       "000632B7E4500082E0530A83942743EA                      0573   \n",
       "000632B7E4500082E0530A83942743EA                      0573   \n",
       "000750DA26760038E0530A8394272B98                      0069   \n",
       "0007F58D137500F0E0530A839427CD36                      3212   \n",
       "0007F58D151500F0E0530A839427CD36                      0133   \n",
       "\n",
       "                                  properties_roadtypecode  \\\n",
       "id                                                          \n",
       "000632B7E4500082E0530A83942743EA                      432   \n",
       "000632B7E4500082E0530A83942743EA                      432   \n",
       "000750DA26760038E0530A8394272B98                      430   \n",
       "0007F58D137500F0E0530A839427CD36                      432   \n",
       "0007F58D151500F0E0530A839427CD36                      430   \n",
       "\n",
       "                                 properties_severitycategorycode  \n",
       "id                                                                \n",
       "000632B7E4500082E0530A83942743EA                             USV  \n",
       "000632B7E4500082E0530A83942743EA                             USV  \n",
       "000750DA26760038E0530A8394272B98                             ULV  \n",
       "0007F58D137500F0E0530A839427CD36                             USV  \n",
       "0007F58D151500F0E0530A839427CD36                             USV  "
      ]
     },
     "execution_count": 6,
     "metadata": {},
     "output_type": "execute_result"
    }
   ],
   "source": [
    "accidents_df.head(5)"
   ]
  },
  {
   "cell_type": "code",
   "execution_count": 7,
   "metadata": {
    "collapsed": false
   },
   "outputs": [
    {
     "name": "stdout",
     "output_type": "stream",
     "text": [
      "Total accident entries: 141461\n"
     ]
    },
    {
     "data": {
      "text/html": [
       "<div>\n",
       "<table border=\"1\" class=\"dataframe\">\n",
       "  <thead>\n",
       "    <tr style=\"text-align: right;\">\n",
       "      <th></th>\n",
       "      <th>geometry_coordinates</th>\n",
       "      <th>properties_accidenttypecode</th>\n",
       "      <th>properties_canton</th>\n",
       "      <th>properties_fsocommunecode</th>\n",
       "      <th>properties_roadtypecode</th>\n",
       "      <th>properties_severitycategorycode</th>\n",
       "      <th>withBodilyDamage</th>\n",
       "      <th>involvesBicycles</th>\n",
       "      <th>involvesMotorcycles</th>\n",
       "      <th>involvesPedestrians</th>\n",
       "      <th>withFatality</th>\n",
       "      <th>weekday</th>\n",
       "      <th>time</th>\n",
       "      <th>month</th>\n",
       "      <th>year</th>\n",
       "    </tr>\n",
       "    <tr>\n",
       "      <th>id</th>\n",
       "      <th></th>\n",
       "      <th></th>\n",
       "      <th></th>\n",
       "      <th></th>\n",
       "      <th></th>\n",
       "      <th></th>\n",
       "      <th></th>\n",
       "      <th></th>\n",
       "      <th></th>\n",
       "      <th></th>\n",
       "      <th></th>\n",
       "      <th></th>\n",
       "      <th></th>\n",
       "      <th></th>\n",
       "      <th></th>\n",
       "    </tr>\n",
       "  </thead>\n",
       "  <tbody>\n",
       "    <tr>\n",
       "      <th>D3C82505B3D60178E0430A839427BB02</th>\n",
       "      <td>[499875.0, 115765.0]</td>\n",
       "      <td>Skidding or control loss</td>\n",
       "      <td>GE</td>\n",
       "      <td>6608</td>\n",
       "      <td>Secondary road</td>\n",
       "      <td>light injuries</td>\n",
       "      <td>True</td>\n",
       "      <td>False</td>\n",
       "      <td>False</td>\n",
       "      <td>False</td>\n",
       "      <td>False</td>\n",
       "      <td>3 Wednesday</td>\n",
       "      <td>10h-11h</td>\n",
       "      <td>01 January</td>\n",
       "      <td>2013</td>\n",
       "    </tr>\n",
       "    <tr>\n",
       "      <th>25EC238D98A4002AE0530A8394276191</th>\n",
       "      <td>[499606.0, 119200.0]</td>\n",
       "      <td>Joining a road</td>\n",
       "      <td>GE</td>\n",
       "      <td>6621</td>\n",
       "      <td>Primary road</td>\n",
       "      <td>light injuries</td>\n",
       "      <td>True</td>\n",
       "      <td>False</td>\n",
       "      <td>False</td>\n",
       "      <td>False</td>\n",
       "      <td>False</td>\n",
       "      <td>3 Wednesday</td>\n",
       "      <td>12h-13h</td>\n",
       "      <td>11 November</td>\n",
       "      <td>2015</td>\n",
       "    </tr>\n",
       "    <tr>\n",
       "      <th>D01B20647DAB01B0E0430A8394279A56</th>\n",
       "      <td>[594745.0, 225540.0]</td>\n",
       "      <td>Joining a road</td>\n",
       "      <td>BE</td>\n",
       "      <td>0387</td>\n",
       "      <td>Primary road</td>\n",
       "      <td>light injuries</td>\n",
       "      <td>True</td>\n",
       "      <td>False</td>\n",
       "      <td>False</td>\n",
       "      <td>False</td>\n",
       "      <td>False</td>\n",
       "      <td>4 Thursday</td>\n",
       "      <td>17h-18h</td>\n",
       "      <td>11 November</td>\n",
       "      <td>2012</td>\n",
       "    </tr>\n",
       "    <tr>\n",
       "      <th>C4A30E895DB501A6E0430A83942716CD</th>\n",
       "      <td>[502965.0, 137167.0]</td>\n",
       "      <td>Joining a road</td>\n",
       "      <td>VD</td>\n",
       "      <td>5706</td>\n",
       "      <td>Secondary road</td>\n",
       "      <td>light injuries</td>\n",
       "      <td>False</td>\n",
       "      <td>False</td>\n",
       "      <td>True</td>\n",
       "      <td>False</td>\n",
       "      <td>False</td>\n",
       "      <td>4 Thursday</td>\n",
       "      <td>18h-19h</td>\n",
       "      <td>06 June</td>\n",
       "      <td>2012</td>\n",
       "    </tr>\n",
       "    <tr>\n",
       "      <th>ADD7E1DBA79201BAE0430A83942701BA</th>\n",
       "      <td>[579750.0, 184750.0]</td>\n",
       "      <td>Skidding or control loss</td>\n",
       "      <td>FR</td>\n",
       "      <td>2196</td>\n",
       "      <td>Primary road</td>\n",
       "      <td>light injuries</td>\n",
       "      <td>False</td>\n",
       "      <td>False</td>\n",
       "      <td>False</td>\n",
       "      <td>True</td>\n",
       "      <td>False</td>\n",
       "      <td>2 Tuesday</td>\n",
       "      <td>12h-13h</td>\n",
       "      <td>07 July</td>\n",
       "      <td>2011</td>\n",
       "    </tr>\n",
       "  </tbody>\n",
       "</table>\n",
       "</div>"
      ],
      "text/plain": [
       "                                  geometry_coordinates  \\\n",
       "id                                                       \n",
       "D3C82505B3D60178E0430A839427BB02  [499875.0, 115765.0]   \n",
       "25EC238D98A4002AE0530A8394276191  [499606.0, 119200.0]   \n",
       "D01B20647DAB01B0E0430A8394279A56  [594745.0, 225540.0]   \n",
       "C4A30E895DB501A6E0430A83942716CD  [502965.0, 137167.0]   \n",
       "ADD7E1DBA79201BAE0430A83942701BA  [579750.0, 184750.0]   \n",
       "\n",
       "                                 properties_accidenttypecode  \\\n",
       "id                                                             \n",
       "D3C82505B3D60178E0430A839427BB02    Skidding or control loss   \n",
       "25EC238D98A4002AE0530A8394276191              Joining a road   \n",
       "D01B20647DAB01B0E0430A8394279A56              Joining a road   \n",
       "C4A30E895DB501A6E0430A83942716CD              Joining a road   \n",
       "ADD7E1DBA79201BAE0430A83942701BA    Skidding or control loss   \n",
       "\n",
       "                                 properties_canton properties_fsocommunecode  \\\n",
       "id                                                                             \n",
       "D3C82505B3D60178E0430A839427BB02                GE                      6608   \n",
       "25EC238D98A4002AE0530A8394276191                GE                      6621   \n",
       "D01B20647DAB01B0E0430A8394279A56                BE                      0387   \n",
       "C4A30E895DB501A6E0430A83942716CD                VD                      5706   \n",
       "ADD7E1DBA79201BAE0430A83942701BA                FR                      2196   \n",
       "\n",
       "                                 properties_roadtypecode  \\\n",
       "id                                                         \n",
       "D3C82505B3D60178E0430A839427BB02          Secondary road   \n",
       "25EC238D98A4002AE0530A8394276191            Primary road   \n",
       "D01B20647DAB01B0E0430A8394279A56            Primary road   \n",
       "C4A30E895DB501A6E0430A83942716CD          Secondary road   \n",
       "ADD7E1DBA79201BAE0430A83942701BA            Primary road   \n",
       "\n",
       "                                 properties_severitycategorycode  \\\n",
       "id                                                                 \n",
       "D3C82505B3D60178E0430A839427BB02                  light injuries   \n",
       "25EC238D98A4002AE0530A8394276191                  light injuries   \n",
       "D01B20647DAB01B0E0430A8394279A56                  light injuries   \n",
       "C4A30E895DB501A6E0430A83942716CD                  light injuries   \n",
       "ADD7E1DBA79201BAE0430A83942701BA                  light injuries   \n",
       "\n",
       "                                 withBodilyDamage involvesBicycles  \\\n",
       "id                                                                   \n",
       "D3C82505B3D60178E0430A839427BB02             True            False   \n",
       "25EC238D98A4002AE0530A8394276191             True            False   \n",
       "D01B20647DAB01B0E0430A8394279A56             True            False   \n",
       "C4A30E895DB501A6E0430A83942716CD            False            False   \n",
       "ADD7E1DBA79201BAE0430A83942701BA            False            False   \n",
       "\n",
       "                                 involvesMotorcycles involvesPedestrians  \\\n",
       "id                                                                         \n",
       "D3C82505B3D60178E0430A839427BB02               False               False   \n",
       "25EC238D98A4002AE0530A8394276191               False               False   \n",
       "D01B20647DAB01B0E0430A8394279A56               False               False   \n",
       "C4A30E895DB501A6E0430A83942716CD                True               False   \n",
       "ADD7E1DBA79201BAE0430A83942701BA               False                True   \n",
       "\n",
       "                                 withFatality      weekday     time  \\\n",
       "id                                                                    \n",
       "D3C82505B3D60178E0430A839427BB02        False  3 Wednesday  10h-11h   \n",
       "25EC238D98A4002AE0530A8394276191        False  3 Wednesday  12h-13h   \n",
       "D01B20647DAB01B0E0430A8394279A56        False   4 Thursday  17h-18h   \n",
       "C4A30E895DB501A6E0430A83942716CD        False   4 Thursday  18h-19h   \n",
       "ADD7E1DBA79201BAE0430A83942701BA        False    2 Tuesday  12h-13h   \n",
       "\n",
       "                                        month  year  \n",
       "id                                                   \n",
       "D3C82505B3D60178E0430A839427BB02   01 January  2013  \n",
       "25EC238D98A4002AE0530A8394276191  11 November  2015  \n",
       "D01B20647DAB01B0E0430A8394279A56  11 November  2012  \n",
       "C4A30E895DB501A6E0430A83942716CD      06 June  2012  \n",
       "ADD7E1DBA79201BAE0430A83942701BA      07 July  2011  "
      ]
     },
     "execution_count": 7,
     "metadata": {},
     "output_type": "execute_result"
    }
   ],
   "source": [
    "# Accident layers\n",
    "accidents_df['withBodilyDamage'] = accidents_df.layerBodId == 'ch.astra.unfaelle-personenschaeden_alle'\n",
    "accidents_df['involvesBicycles'] = accidents_df.layerBodId == 'ch.astra.unfaelle-personenschaeden_fahrraeder'\n",
    "accidents_df['involvesMotorcycles'] = accidents_df.layerBodId == 'ch.astra.unfaelle-personenschaeden_motorraeder'\n",
    "accidents_df['involvesPedestrians'] = accidents_df.layerBodId == 'ch.astra.unfaelle-personenschaeden_fussgaenger'\n",
    "accidents_df['withFatality'] = accidents_df.layerBodId == 'ch.astra.unfaelle-personenschaeden_getoetete'\n",
    "accidents_df = accidents_df.drop('layerBodId', axis=1)\n",
    "\n",
    "# Time properties\n",
    "weekdays_fr_en = {\n",
    "    'lundi': '1 Monday',\n",
    "    'mardi': '2 Tuesday',\n",
    "    'mercredi': '3 Wednesday',\n",
    "    'jeudi': '4 Thursday',\n",
    "    'vendredi': '5 Friday',\n",
    "    'samedi': '6 Saturday',\n",
    "    'dimanche': '7 Sunday'\n",
    "}\n",
    "accidents_df.properties_accidentday_fr = accidents_df.properties_accidentday_fr.apply(lambda x: str.split(x, '/'))\n",
    "accidents_df['weekday'] = accidents_df.properties_accidentday_fr.apply(lambda x: weekdays_fr_en[x[0].strip(' ')])\n",
    "accidents_df['time'] = accidents_df.properties_accidentday_fr.apply(lambda x: x[1].strip(' '))\n",
    "accidents_df['month'] = accidents_df.properties_accidentday_fr.apply(lambda x: x[2].split()[0])\n",
    "accidents_df['year'] = accidents_df.properties_accidentyear\n",
    "accidents_df = accidents_df.drop('properties_accidentday_fr', axis=1)\n",
    "accidents_df = accidents_df.drop('properties_accidentyear', axis=1)\n",
    "months_fr_en = {\n",
    "    'janvier': '01 January',\n",
    "    'février': '02 February',\n",
    "    'mars': '03 March',\n",
    "    'avril': '04 April',\n",
    "    'mai': '05 May',\n",
    "    'juin': '06 June',\n",
    "    'juillet': '07 July',\n",
    "    'août': '08 August',\n",
    "    'septembre': '09 September',\n",
    "    'octobre': '10 October',\n",
    "    'novembre': '11 November',\n",
    "    'décembre': '12 December'\n",
    "}\n",
    "accidents_df.month = accidents_df.month.apply(lambda x: months_fr_en[x])\n",
    "\n",
    "# Accident severity\n",
    "severity_codes = {\n",
    "    'ULV': 'light injuries',\n",
    "    'USV': 'heavy injuries',\n",
    "    'UGT': 'deceased'\n",
    "}\n",
    "accidents_df.properties_severitycategorycode = accidents_df.properties_severitycategorycode.apply(lambda x: severity_codes[x])\n",
    "\n",
    "# Accident type\n",
    "type_of_accident = {\n",
    "    0: 'Skidding or control loss',\n",
    "    1: 'Overtaking or changing roads',\n",
    "    2: 'Collision',\n",
    "    3: 'Leaving a road',\n",
    "    4: \"Joining a road\",\n",
    "    5: 'Crossing a road',\n",
    "    6: 'Frontal collision',\n",
    "    7: 'Parking accident',\n",
    "    8: 'With pedestrians',\n",
    "    9: 'With animals',\n",
    "    99: 'Other'\n",
    "}\n",
    "accidents_df.properties_accidenttypecode = accidents_df.properties_accidenttypecode.apply(lambda x: type_of_accident[x])\n",
    "\n",
    "# Road type\n",
    "road_type = {\n",
    "    433: 'Secondary road',\n",
    "    432: 'Primary road',\n",
    "    431: 'Fast road',\n",
    "    430: 'Motorway',\n",
    "    439: 'Other',\n",
    "    434: 'Accessory road'\n",
    "}\n",
    "accidents_df.properties_roadtypecode = accidents_df.properties_roadtypecode.apply(lambda x: road_type[x])\n",
    "\n",
    "print('Total accident entries:', len(accidents_df))\n",
    "accidents_df.sample(5)"
   ]
  },
  {
   "cell_type": "markdown",
   "metadata": {},
   "source": [
    "Many accidents appear in several layers of the map with different attributes.\n",
    "We group all these accidents to avoid duplicates and we make sure not to loose any information associated to the incidents.\n",
    "\n",
    "Most data is exactly the same among duplicates except the information in columns that tell if the accident produced bodily damage, involved pedestrians, bicycles or motorcycles and if the accident had one or more fatalities."
   ]
  },
  {
   "cell_type": "code",
   "execution_count": 8,
   "metadata": {
    "collapsed": false
   },
   "outputs": [
    {
     "name": "stdout",
     "output_type": "stream",
     "text": [
      "There are 75022 accidents\n"
     ]
    }
   ],
   "source": [
    "accidents_df = accidents_df.groupby(by=accidents_df.index).agg({\n",
    "    'geometry_coordinates': 'first',\n",
    "    'properties_accidenttypecode': 'first',\n",
    "    'properties_canton': 'first',\n",
    "    'properties_fsocommunecode': 'first',\n",
    "    'properties_roadtypecode': 'first',\n",
    "    'properties_severitycategorycode': 'first',\n",
    "    'withBodilyDamage': np.max,\n",
    "    'involvesBicycles': np.max,\n",
    "    'involvesMotorcycles': np.max,\n",
    "    'involvesPedestrians': np.max,\n",
    "    'withFatality': np.max,\n",
    "    'weekday': 'first',\n",
    "    'time': 'first',\n",
    "    'month': 'first',\n",
    "    'year': 'first'\n",
    "})\n",
    "\n",
    "print('There are', len(accidents_df), 'accidents')"
   ]
  },
  {
   "cell_type": "markdown",
   "metadata": {},
   "source": [
    "All fields look good except ```time```, which has 2 unwanted values"
   ]
  },
  {
   "cell_type": "code",
   "execution_count": 11,
   "metadata": {
    "collapsed": false
   },
   "outputs": [
    {
     "name": "stdout",
     "output_type": "stream",
     "text": [
      "All values :  ['00h-01h', '01h-02h', '02h-03h', '03h-04h', '04h-05h', '05h-06h', '06h-07h', '07h-08h', '08h-09h', '09h-10h', '10h-11h', '11h-12h', '12h-13h', '13h-14h', '14h-15h', '15h-16h', '16h-17h', '17h-18h', '18h-19h', '19h-20h', '20h-21h', '21h-22h', '22h-23h', '23h-00h', 'ERROR!!!', 'inconnu'] \n",
      "\n",
      "610 values replaced with 'unknown', 0.008% of all entries\n"
     ]
    }
   ],
   "source": [
    "print('All values : ', sorted(set(accidents_df['time'].values)), '\\n')\n",
    "accidents_df['time'].replace(to_replace=['ERROR!!!', 'inconnu'], value='unknown', inplace=True, method='pad')\n",
    "\n",
    "nb_replaced = len(accidents_df[accidents_df['time'] == 'unknown'])\n",
    "print(nb_replaced, 'values replaced with \\'unknown\\', {0}% of all entries'.format(\"%.3f\" %(nb_replaced/len(accidents_df))))"
   ]
  },
  {
   "cell_type": "code",
   "execution_count": 12,
   "metadata": {
    "collapsed": false
   },
   "outputs": [],
   "source": [
    "categorical_columns = list(accidents_df.columns)\n",
    "categorical_columns.remove('geometry_coordinates')\n",
    "for col in categorical_columns:\n",
    "    accidents_df[col] = accidents_df[col].astype('category')"
   ]
  },
  {
   "cell_type": "code",
   "execution_count": 13,
   "metadata": {
    "collapsed": false
   },
   "outputs": [],
   "source": [
    "accidents_df.to_csv('data/accidents.csv')"
   ]
  },
  {
   "cell_type": "markdown",
   "metadata": {},
   "source": [
    "## Transforming the coordinates\n",
    "\n",
    "The coordinate system used in this dataset is the swiss coordinate system, which doesn't play well with most software.\n",
    "Thus, we using the formulas described by *U. Marti, 1999* (based on Bollinger, 1967) we convert the accident coordinates from the Swiss projection coordinates to WGS84 coordinate system."
   ]
  },
  {
   "cell_type": "code",
   "execution_count": 14,
   "metadata": {
    "collapsed": false
   },
   "outputs": [],
   "source": [
    "def ch1903_to_wgs84(east, north):\n",
    "    # Convert origin, where Bern is 0,0\n",
    "    east -= 600000\n",
    "    north -= 200000\n",
    "    east /= 1000000\n",
    "    north /= 1000000\n",
    "    # Calculate longitude and latitude in 10000\" units\n",
    "    lon = 2.6779094\n",
    "    lon += 4.728982 * east\n",
    "    lon += 0.791484 * east * north\n",
    "    lon += 0.1306 * east * north * north\n",
    "    lon -= 0.0436 * east * east * east\n",
    "    lat = 16.9023892\n",
    "    lat += 3.238272 * north;\n",
    "    lat -= 0.270978 * east * east\n",
    "    lat -= 0.002528 * north * north\n",
    "    lat -= 0.0447 * east * east * north\n",
    "    lat -= 0.0140 * north * north * north\n",
    "    # Convert longitude and latitude back in degrees.\n",
    "    lon *= 100 / 36\n",
    "    lat *= 100 / 36\n",
    "    return [lat, lon]"
   ]
  },
  {
   "cell_type": "code",
   "execution_count": 15,
   "metadata": {
    "collapsed": false
   },
   "outputs": [],
   "source": [
    "accidents_df['wgs84_coordinates'] = accidents_df.geometry_coordinates.apply(lambda x: ch1903_to_wgs84(*x))"
   ]
  },
  {
   "cell_type": "code",
   "execution_count": 16,
   "metadata": {
    "collapsed": false
   },
   "outputs": [
    {
     "data": {
      "text/html": [
       "<div>\n",
       "<table border=\"1\" class=\"dataframe\">\n",
       "  <thead>\n",
       "    <tr style=\"text-align: right;\">\n",
       "      <th></th>\n",
       "      <th>withFatality</th>\n",
       "      <th>geometry_coordinates</th>\n",
       "      <th>year</th>\n",
       "      <th>withBodilyDamage</th>\n",
       "      <th>month</th>\n",
       "      <th>properties_accidenttypecode</th>\n",
       "      <th>involvesBicycles</th>\n",
       "      <th>involvesMotorcycles</th>\n",
       "      <th>properties_fsocommunecode</th>\n",
       "      <th>properties_severitycategorycode</th>\n",
       "      <th>time</th>\n",
       "      <th>properties_roadtypecode</th>\n",
       "      <th>involvesPedestrians</th>\n",
       "      <th>weekday</th>\n",
       "      <th>properties_canton</th>\n",
       "      <th>wgs84_coordinates</th>\n",
       "    </tr>\n",
       "    <tr>\n",
       "      <th>id</th>\n",
       "      <th></th>\n",
       "      <th></th>\n",
       "      <th></th>\n",
       "      <th></th>\n",
       "      <th></th>\n",
       "      <th></th>\n",
       "      <th></th>\n",
       "      <th></th>\n",
       "      <th></th>\n",
       "      <th></th>\n",
       "      <th></th>\n",
       "      <th></th>\n",
       "      <th></th>\n",
       "      <th></th>\n",
       "      <th></th>\n",
       "      <th></th>\n",
       "    </tr>\n",
       "  </thead>\n",
       "  <tbody>\n",
       "    <tr>\n",
       "      <th>EDBB1083DA5000CCE0430A8394276671</th>\n",
       "      <td>False</td>\n",
       "      <td>[706818.0, 249873.0]</td>\n",
       "      <td>2013</td>\n",
       "      <td>True</td>\n",
       "      <td>11 November</td>\n",
       "      <td>Joining a road</td>\n",
       "      <td>False</td>\n",
       "      <td>False</td>\n",
       "      <td>0297</td>\n",
       "      <td>light injuries</td>\n",
       "      <td>15h-16h</td>\n",
       "      <td>Primary road</td>\n",
       "      <td>False</td>\n",
       "      <td>1 Monday</td>\n",
       "      <td>ZH</td>\n",
       "      <td>[47.39101721113586, 8.853466273148909]</td>\n",
       "    </tr>\n",
       "    <tr>\n",
       "      <th>FB8FFD046AD20162E0430A8394270CEC</th>\n",
       "      <td>False</td>\n",
       "      <td>[581496.0, 202681.0]</td>\n",
       "      <td>2014</td>\n",
       "      <td>True</td>\n",
       "      <td>04 April</td>\n",
       "      <td>With pedestrians</td>\n",
       "      <td>False</td>\n",
       "      <td>False</td>\n",
       "      <td>2265</td>\n",
       "      <td>light injuries</td>\n",
       "      <td>13h-14h</td>\n",
       "      <td>Primary road</td>\n",
       "      <td>True</td>\n",
       "      <td>2 Tuesday</td>\n",
       "      <td>FR</td>\n",
       "      <td>[46.97493934841321, 7.195459197313336]</td>\n",
       "    </tr>\n",
       "    <tr>\n",
       "      <th>B247F875E2FE0046E0430A8394270046</th>\n",
       "      <td>False</td>\n",
       "      <td>[665221.0, 189605.0]</td>\n",
       "      <td>2011</td>\n",
       "      <td>False</td>\n",
       "      <td>10 October</td>\n",
       "      <td>Skidding or control loss</td>\n",
       "      <td>False</td>\n",
       "      <td>True</td>\n",
       "      <td>1404</td>\n",
       "      <td>light injuries</td>\n",
       "      <td>08h-09h</td>\n",
       "      <td>Primary road</td>\n",
       "      <td>False</td>\n",
       "      <td>6 Saturday</td>\n",
       "      <td>OW</td>\n",
       "      <td>[46.85437889217492, 8.293862652798587]</td>\n",
       "    </tr>\n",
       "    <tr>\n",
       "      <th>B1952822352A01C4E0430A83942701C4</th>\n",
       "      <td>False</td>\n",
       "      <td>[671003.0, 256973.0]</td>\n",
       "      <td>2011</td>\n",
       "      <td>True</td>\n",
       "      <td>06 June</td>\n",
       "      <td>Leaving a road</td>\n",
       "      <td>True</td>\n",
       "      <td>False</td>\n",
       "      <td>0094</td>\n",
       "      <td>light injuries</td>\n",
       "      <td>06h-07h</td>\n",
       "      <td>Primary road</td>\n",
       "      <td>False</td>\n",
       "      <td>2 Tuesday</td>\n",
       "      <td>ZH</td>\n",
       "      <td>[47.459704226227956, 8.380270986710842]</td>\n",
       "    </tr>\n",
       "    <tr>\n",
       "      <th>0D692B53FED5002AE0530A8394278DBF</th>\n",
       "      <td>False</td>\n",
       "      <td>[586510.0, 147328.0]</td>\n",
       "      <td>2014</td>\n",
       "      <td>True</td>\n",
       "      <td>09 September</td>\n",
       "      <td>Frontal collision</td>\n",
       "      <td>True</td>\n",
       "      <td>False</td>\n",
       "      <td>0843</td>\n",
       "      <td>light injuries</td>\n",
       "      <td>19h-20h</td>\n",
       "      <td>Secondary road</td>\n",
       "      <td>False</td>\n",
       "      <td>5 Friday</td>\n",
       "      <td>BE</td>\n",
       "      <td>[46.47713634823092, 7.262980659054738]</td>\n",
       "    </tr>\n",
       "  </tbody>\n",
       "</table>\n",
       "</div>"
      ],
      "text/plain": [
       "                                 withFatality  geometry_coordinates  year  \\\n",
       "id                                                                          \n",
       "EDBB1083DA5000CCE0430A8394276671        False  [706818.0, 249873.0]  2013   \n",
       "FB8FFD046AD20162E0430A8394270CEC        False  [581496.0, 202681.0]  2014   \n",
       "B247F875E2FE0046E0430A8394270046        False  [665221.0, 189605.0]  2011   \n",
       "B1952822352A01C4E0430A83942701C4        False  [671003.0, 256973.0]  2011   \n",
       "0D692B53FED5002AE0530A8394278DBF        False  [586510.0, 147328.0]  2014   \n",
       "\n",
       "                                 withBodilyDamage         month  \\\n",
       "id                                                                \n",
       "EDBB1083DA5000CCE0430A8394276671             True   11 November   \n",
       "FB8FFD046AD20162E0430A8394270CEC             True      04 April   \n",
       "B247F875E2FE0046E0430A8394270046            False    10 October   \n",
       "B1952822352A01C4E0430A83942701C4             True       06 June   \n",
       "0D692B53FED5002AE0530A8394278DBF             True  09 September   \n",
       "\n",
       "                                 properties_accidenttypecode involvesBicycles  \\\n",
       "id                                                                              \n",
       "EDBB1083DA5000CCE0430A8394276671              Joining a road            False   \n",
       "FB8FFD046AD20162E0430A8394270CEC            With pedestrians            False   \n",
       "B247F875E2FE0046E0430A8394270046    Skidding or control loss            False   \n",
       "B1952822352A01C4E0430A83942701C4              Leaving a road             True   \n",
       "0D692B53FED5002AE0530A8394278DBF           Frontal collision             True   \n",
       "\n",
       "                                 involvesMotorcycles  \\\n",
       "id                                                     \n",
       "EDBB1083DA5000CCE0430A8394276671               False   \n",
       "FB8FFD046AD20162E0430A8394270CEC               False   \n",
       "B247F875E2FE0046E0430A8394270046                True   \n",
       "B1952822352A01C4E0430A83942701C4               False   \n",
       "0D692B53FED5002AE0530A8394278DBF               False   \n",
       "\n",
       "                                 properties_fsocommunecode  \\\n",
       "id                                                           \n",
       "EDBB1083DA5000CCE0430A8394276671                      0297   \n",
       "FB8FFD046AD20162E0430A8394270CEC                      2265   \n",
       "B247F875E2FE0046E0430A8394270046                      1404   \n",
       "B1952822352A01C4E0430A83942701C4                      0094   \n",
       "0D692B53FED5002AE0530A8394278DBF                      0843   \n",
       "\n",
       "                                 properties_severitycategorycode     time  \\\n",
       "id                                                                          \n",
       "EDBB1083DA5000CCE0430A8394276671                  light injuries  15h-16h   \n",
       "FB8FFD046AD20162E0430A8394270CEC                  light injuries  13h-14h   \n",
       "B247F875E2FE0046E0430A8394270046                  light injuries  08h-09h   \n",
       "B1952822352A01C4E0430A83942701C4                  light injuries  06h-07h   \n",
       "0D692B53FED5002AE0530A8394278DBF                  light injuries  19h-20h   \n",
       "\n",
       "                                 properties_roadtypecode involvesPedestrians  \\\n",
       "id                                                                             \n",
       "EDBB1083DA5000CCE0430A8394276671            Primary road               False   \n",
       "FB8FFD046AD20162E0430A8394270CEC            Primary road                True   \n",
       "B247F875E2FE0046E0430A8394270046            Primary road               False   \n",
       "B1952822352A01C4E0430A83942701C4            Primary road               False   \n",
       "0D692B53FED5002AE0530A8394278DBF          Secondary road               False   \n",
       "\n",
       "                                     weekday properties_canton  \\\n",
       "id                                                               \n",
       "EDBB1083DA5000CCE0430A8394276671    1 Monday                ZH   \n",
       "FB8FFD046AD20162E0430A8394270CEC   2 Tuesday                FR   \n",
       "B247F875E2FE0046E0430A8394270046  6 Saturday                OW   \n",
       "B1952822352A01C4E0430A83942701C4   2 Tuesday                ZH   \n",
       "0D692B53FED5002AE0530A8394278DBF    5 Friday                BE   \n",
       "\n",
       "                                                        wgs84_coordinates  \n",
       "id                                                                         \n",
       "EDBB1083DA5000CCE0430A8394276671   [47.39101721113586, 8.853466273148909]  \n",
       "FB8FFD046AD20162E0430A8394270CEC   [46.97493934841321, 7.195459197313336]  \n",
       "B247F875E2FE0046E0430A8394270046   [46.85437889217492, 8.293862652798587]  \n",
       "B1952822352A01C4E0430A83942701C4  [47.459704226227956, 8.380270986710842]  \n",
       "0D692B53FED5002AE0530A8394278DBF   [46.47713634823092, 7.262980659054738]  "
      ]
     },
     "execution_count": 16,
     "metadata": {},
     "output_type": "execute_result"
    }
   ],
   "source": [
    "accidents_df.sample(5)"
   ]
  },
  {
   "cell_type": "markdown",
   "metadata": {},
   "source": [
    "## Exploring the data"
   ]
  },
  {
   "cell_type": "code",
   "execution_count": 17,
   "metadata": {
    "collapsed": false
   },
   "outputs": [
    {
     "data": {
      "text/plain": [
       "<matplotlib.axes._subplots.AxesSubplot at 0x1c265cc7828>"
      ]
     },
     "execution_count": 17,
     "metadata": {},
     "output_type": "execute_result"
    },
    {
     "data": {
      "image/png": "[encoded data removed]",
      "text/plain": [
       "<matplotlib.figure.Figure at 0x1c269f0dc18>"
      ]
     },
     "metadata": {},
     "output_type": "display_data"
    }
   ],
   "source": [
    "plt.figure(figsize=(14, 5))\n",
    "sns.countplot(x='year', hue='properties_severitycategorycode', data=accidents_df)"
   ]
  },
  {
   "cell_type": "markdown",
   "metadata": {},
   "source": [
    "We observe no big variations in accidents in the last 5 years."
   ]
  },
  {
   "cell_type": "code",
   "execution_count": 24,
   "metadata": {
    "collapsed": false
   },
   "outputs": [
    {
     "data": {
      "text/plain": [
       "(2014    15145\n",
       " 2012    15131\n",
       " 2011    15123\n",
       " 2015    14826\n",
       " 2013    14797\n",
       " Name: year, dtype: int64, 15004.4)"
      ]
     },
     "execution_count": 24,
     "metadata": {},
     "output_type": "execute_result"
    }
   ],
   "source": [
    "accidents_df.year.value_counts(), accidents_df.year.value_counts().mean()"
   ]
  },
  {
   "cell_type": "code",
   "execution_count": 31,
   "metadata": {
    "collapsed": false
   },
   "outputs": [
    {
     "name": "stdout",
     "output_type": "stream",
     "text": [
      "Average number of accidents over 5 years : 3602.8\n"
     ]
    },
    {
     "data": {
      "text/plain": [
       "<matplotlib.axes._subplots.AxesSubplot at 0x1c267df2a20>"
      ]
     },
     "execution_count": 31,
     "metadata": {},
     "output_type": "execute_result"
    },
    {
     "data": {
      "image/png": "[encoded data removed]",
      "text/plain": [
       "<matplotlib.figure.Figure at 0x1c267dfd390>"
      ]
     },
     "metadata": {},
     "output_type": "display_data"
    }
   ],
   "source": [
    "# Bicycle accidents\n",
    "print('Average number of accidents over 5 years :', accidents_df[accidents_df.involvesBicycles == True].year.value_counts().mean())\n",
    "accidents_df[accidents_df.involvesBicycles == True].year.value_counts().sort_index().plot(title='Number of Bicycle accidents')"
   ]
  },
  {
   "cell_type": "code",
   "execution_count": 33,
   "metadata": {
    "collapsed": false
   },
   "outputs": [
    {
     "name": "stdout",
     "output_type": "stream",
     "text": [
      "Average number of accidents over 5 years : 3915.8\n"
     ]
    },
    {
     "data": {
      "text/plain": [
       "<matplotlib.axes._subplots.AxesSubplot at 0x1c267e07d68>"
      ]
     },
     "execution_count": 33,
     "metadata": {},
     "output_type": "execute_result"
    },
    {
     "data": {
      "image/png": "[encoded data removed]",
      "text/plain": [
       "<matplotlib.figure.Figure at 0x1c267e35710>"
      ]
     },
     "metadata": {},
     "output_type": "display_data"
    }
   ],
   "source": [
    "# Motorcycle accidents\n",
    "print('Average number of accidents over 5 years :', accidents_df[accidents_df.involvesMotorcycles == True].year.value_counts().mean())\n",
    "accidents_df[accidents_df.involvesMotorcycles == True].year.value_counts().sort_index().plot(title='Number of Motorcycle accidents')"
   ]
  },
  {
   "cell_type": "code",
   "execution_count": 34,
   "metadata": {
    "collapsed": false
   },
   "outputs": [
    {
     "name": "stdout",
     "output_type": "stream",
     "text": [
      "Average number of accidents over 5 years : 2336.0\n"
     ]
    },
    {
     "data": {
      "text/plain": [
       "<matplotlib.axes._subplots.AxesSubplot at 0x1c267ee0be0>"
      ]
     },
     "execution_count": 34,
     "metadata": {},
     "output_type": "execute_result"
    },
    {
     "data": {
      "image/png": "[encoded data removed]",
      "text/plain": [
       "<matplotlib.figure.Figure at 0x1c267ee77b8>"
      ]
     },
     "metadata": {},
     "output_type": "display_data"
    }
   ],
   "source": [
    "# Pedestrian accidents\n",
    "print('Average number of accidents over 5 years :', accidents_df[accidents_df.involvesPedestrians == True].year.value_counts().mean())\n",
    "accidents_df[accidents_df.involvesPedestrians == True].year.value_counts().sort_index().plot(title='Number of pedestrian accidents')"
   ]
  },
  {
   "cell_type": "code",
   "execution_count": 38,
   "metadata": {
    "collapsed": false
   },
   "outputs": [
    {
     "data": {
      "image/png": "[encoded data removed]",
      "text/plain": [
       "<matplotlib.figure.Figure at 0x1c2691cfdd8>"
      ]
     },
     "metadata": {},
     "output_type": "display_data"
    }
   ],
   "source": [
    "fig, ax = plt.subplots()\n",
    "fig.set_size_inches(12, 4)\n",
    "g = sns.countplot(x='time', data=accidents_df, color='grey')\n",
    "g.set_xticklabels(g.get_xticklabels(), rotation=60)\n",
    "plt.title('Number of accidents depending on day hours between 2011 and 2015')\n",
    "plt.show()"
   ]
  },
  {
   "cell_type": "markdown",
   "metadata": {},
   "source": [
    "Accidents distribution over the whole set of data (2011-2015) : Hour of day"
   ]
  },
  {
   "cell_type": "code",
   "execution_count": 87,
   "metadata": {
    "collapsed": false
   },
   "outputs": [
    {
     "data": {
      "text/plain": [
       "<matplotlib.axes._subplots.AxesSubplot at 0x1c273273dd8>"
      ]
     },
     "execution_count": 87,
     "metadata": {},
     "output_type": "execute_result"
    },
    {
     "data": {
      "image/png": "[encoded data removed]",
      "text/plain": [
       "<matplotlib.figure.Figure at 0x1c272d37828>"
      ]
     },
     "metadata": {},
     "output_type": "display_data"
    }
   ],
   "source": [
    "plt.figure(figsize=(14, 5))\n",
    "time_aware_accidents_df = accidents_df[(accidents_df.time != 'unknown')]\n",
    "time_aware_accidents_df = time_aware_accidents_df[['time', 'weekday']]\n",
    "time_aware_accidents_df = time_aware_accidents_df.reset_index()\n",
    "time_aware_accidents_df = time_aware_accidents_df.groupby(('weekday', 'time')).count().reset_index()\n",
    "time_aware_accidents_df = time_aware_accidents_df.pivot('weekday', 'time', 'id')\n",
    "sns.heatmap(time_aware_accidents_df, cmap=\"YlGnBu\")"
   ]
  },
  {
   "cell_type": "markdown",
   "metadata": {},
   "source": [
    "Accidents distribution over the whole set of data (2011-2015) : Day of month"
   ]
  },
  {
   "cell_type": "code",
   "execution_count": 88,
   "metadata": {
    "collapsed": false
   },
   "outputs": [
    {
     "data": {
      "image/png": "[encoded data removed]",
      "text/plain": [
       "<matplotlib.figure.Figure at 0x1c272d8b2e8>"
      ]
     },
     "metadata": {},
     "output_type": "display_data"
    }
   ],
   "source": [
    "plt.figure(figsize=(14, 5))\n",
    "time_aware_accidents_df = accidents_df[(accidents_df.time != 'unknown')]\n",
    "time_aware_accidents_df = time_aware_accidents_df[['month', 'weekday']]\n",
    "time_aware_accidents_df = time_aware_accidents_df.reset_index()\n",
    "time_aware_accidents_df = time_aware_accidents_df.groupby(('weekday', 'month')).count().reset_index()\n",
    "time_aware_accidents_df = time_aware_accidents_df.pivot('weekday', 'month', 'id')\n",
    "g = sns.heatmap(time_aware_accidents_df, cmap=\"YlGnBu\")\n",
    "g.set_xticklabels(g.get_xticklabels(), rotation=60)\n",
    "plt.show()"
   ]
  },
  {
   "cell_type": "markdown",
   "metadata": {},
   "source": [
    "Accidents distribution over the whole set of data (2011-2015) : Month"
   ]
  },
  {
   "cell_type": "code",
   "execution_count": 89,
   "metadata": {
    "collapsed": false
   },
   "outputs": [
    {
     "data": {
      "image/png": "[encoded data removed]",
      "text/plain": [
       "<matplotlib.figure.Figure at 0x1c26a844438>"
      ]
     },
     "metadata": {},
     "output_type": "display_data"
    }
   ],
   "source": [
    "fig, ax = plt.subplots()\n",
    "fig.set_size_inches(12, 4)\n",
    "g = sns.countplot(x='month', data=accidents_df, color='grey')\n",
    "g.set_xticklabels(g.get_xticklabels(), rotation=60)\n",
    "plt.show()"
   ]
  },
  {
   "cell_type": "markdown",
   "metadata": {},
   "source": [
    "Accidents distribution over the whole set of data (2011-2015) : Road type per day of week"
   ]
  },
  {
   "cell_type": "code",
   "execution_count": 90,
   "metadata": {
    "collapsed": false
   },
   "outputs": [
    {
     "data": {
      "image/png": "[encoded data removed]",
      "text/plain": [
       "<matplotlib.figure.Figure at 0x1c2735ffd30>"
      ]
     },
     "metadata": {},
     "output_type": "display_data"
    }
   ],
   "source": [
    "fig, ax = plt.subplots()\n",
    "fig.set_size_inches(12, 4)\n",
    "g = sns.countplot(x='properties_roadtypecode', hue='weekday', data=accidents_df, color='grey')\n",
    "g.set_xticklabels(g.get_xticklabels(), rotation=60)\n",
    "plt.show()"
   ]
  },
  {
   "cell_type": "code",
   "execution_count": 91,
   "metadata": {
    "collapsed": true
   },
   "outputs": [],
   "source": [
    "accidents_df.to_json('data/accidents.json', orient='index')"
   ]
  },
  {
   "cell_type": "code",
   "execution_count": 92,
   "metadata": {
    "collapsed": false
   },
   "outputs": [
    {
     "data": {
      "text/html": [
       "<iframe src=\"heatmap.html\" width=\"1000px\" height=\"600px\"></iframe>"
      ],
      "text/plain": [
       "<IPython.core.display.HTML object>"
      ]
     },
     "metadata": {},
     "output_type": "display_data"
    }
   ],
   "source": [
    "%%html\n",
    "<iframe src=\"heatmap.html\" width=\"1000px\" height=\"600px\"></iframe>"
   ]
  },
  {
   "cell_type": "markdown",
   "metadata": {},
   "source": [
    "## Grid\n",
    "\n",
    "Our idea is to create squares all over the swiss map to create areas and then count the accident per area.\n",
    "\n",
    "Swiss coordinates system is designed so that no two x and y coordinates can be mixed, 1 unit is one meter on the field.\n",
    "\n",
    "min coord Y : 480000, 070000 (bottom left)\n",
    "max coord X : 840000, 300000 (top right)\n",
    "\n",
    "There are squares that are outside Switzerland, but we are not interesting in area with 0 value (as if there are not road there cannot be any accident as well)."
   ]
  },
  {
   "cell_type": "code",
   "execution_count": 93,
   "metadata": {
    "collapsed": true
   },
   "outputs": [],
   "source": [
    "xRange=840000-480000\n",
    "yRange=300000-70000\n",
    "\n",
    "def create_count_grid(square_size, df):\n",
    "    \"\"\"\n",
    "    Creates and fills an array with the count of accidents per squares\n",
    "    of size square_size on the map with the provided DataFrame df.\n",
    "    \"\"\"\n",
    "    nb_x = math.ceil(xRange/square_size)\n",
    "    nb_y = math.ceil(yRange/square_size)\n",
    "    \n",
    "    grid = np.zeros((nb_x, nb_y))\n",
    "    print(nb_x, nb_y, square_size, grid.shape)\n",
    "    \n",
    "    for index, row in df.iterrows():\n",
    "        x = math.floor((row['geometry_coordinates'][0] - 480000) / square_size)\n",
    "        y = math.floor((row['geometry_coordinates'][1] - 70000) / square_size)\n",
    "        grid[x, y] += 1\n",
    "    return grid\n",
    "\n",
    "\n",
    "def compute_ratio(grid):\n",
    "    \"\"\"\n",
    "    To find a good square size length, we compute a ratio that is (% of non empty squares)/(mean of non zero values)\n",
    "    \"\"\"\n",
    "    non_empty_indices = np.nonzero(grid)\n",
    "    grid_non_zero = grid[non_empty_indices]\n",
    "    \n",
    "    non_empty_pct = len(non_empty_indices) / (grid.shape[0] * grid.shape[1])\n",
    "    \n",
    "    mean = grid.mean()\n",
    "    mean_non_zero = grid_non_zero.mean()\n",
    "    \n",
    "    return non_empty_pct / mean_non_zero, non_empty_pct / mean\n",
    "\n",
    "\n",
    "def optimality_plot(df):\n",
    "    \"\"\"\n",
    "    Plot the result of the ratio per square length\n",
    "    \"\"\"\n",
    "    return [[i, compute_ratio(create_count_grid(i, df))] for i in range (500, 15000, 1000)]"
   ]
  },
  {
   "cell_type": "code",
   "execution_count": 94,
   "metadata": {
    "collapsed": true
   },
   "outputs": [],
   "source": [
    "def create_grid_per_year(all_data_df):\n",
    "    grid_count_list = list()\n",
    "    years = [2011, 2012, 2013, 2014, 2015]\n",
    "    for year in years:\n",
    "        filterer_year_df = all_data_df[all_data_df['year'] == year]\n",
    "        year_grid = create_count_grid(1000, filterer_year_df)\n",
    "        grid_count_list.append(year_grid)\n",
    "    return grid_count_list"
   ]
  },
  {
   "cell_type": "code",
   "execution_count": 95,
   "metadata": {
    "collapsed": false
   },
   "outputs": [
    {
     "name": "stdout",
     "output_type": "stream",
     "text": [
      "360 230 1000 (360, 230)\n",
      "360 230 1000 (360, 230)\n",
      "360 230 1000 (360, 230)\n",
      "360 230 1000 (360, 230)\n",
      "360 230 1000 (360, 230)\n"
     ]
    }
   ],
   "source": [
    "year_grids = create_grid_per_year(accidents_df)\n",
    "comp_grids = [np.abs(year_grids[i] - year_grids[i+1]) for i in range(len(year_grids) - 1)]"
   ]
  },
  {
   "cell_type": "code",
   "execution_count": 96,
   "metadata": {
    "collapsed": false
   },
   "outputs": [
    {
     "data": {
      "text/plain": [
       "17.0"
      ]
     },
     "execution_count": 96,
     "metadata": {},
     "output_type": "execute_result"
    }
   ],
   "source": [
    "x = comp_grids[3]\n",
    "x.max()"
   ]
  },
  {
   "cell_type": "code",
   "execution_count": 97,
   "metadata": {
    "collapsed": false
   },
   "outputs": [
    {
     "data": {
      "text/plain": [
       "(array([ 19, 131, 199, 201, 202, 202], dtype=int64),\n",
       " array([ 46, 196, 178, 155, 178, 180], dtype=int64))"
      ]
     },
     "execution_count": 97,
     "metadata": {},
     "output_type": "execute_result"
    }
   ],
   "source": [
    "where = np.where(x > x.max() - 5)\n",
    "where"
   ]
  },
  {
   "cell_type": "code",
   "execution_count": 98,
   "metadata": {
    "collapsed": false
   },
   "outputs": [
    {
     "name": "stdout",
     "output_type": "stream",
     "text": [
      "[46.187885745624435, 6.1304139347388888]\n",
      "[47.544630471599433, 7.5847472755055554]\n",
      "[47.378095330034434, 8.4847293336588869]\n",
      "[47.170997174095824, 8.5070642719372209]\n",
      "[47.377728889204434, 8.5244495538222207]\n",
      "[47.395715682744424, 8.5248159493199989]\n"
     ]
    }
   ],
   "source": [
    "for i in range(len(where[0])):\n",
    "    print(ch1903_to_wgs84(where[0][i]*1000 + 480000, where[1][i]*1000 + 70000))"
   ]
  },
  {
   "cell_type": "code",
   "execution_count": 99,
   "metadata": {
    "collapsed": false
   },
   "outputs": [
    {
     "data": {
      "text/plain": [
       "[47.34592423287776, 7.90180454296111]"
      ]
     },
     "execution_count": 99,
     "metadata": {},
     "output_type": "execute_result"
    }
   ],
   "source": [
    "ch1903_to_wgs84(155000 + 480000, 174000 + 70000)"
   ]
  },
  {
   "cell_type": "code",
   "execution_count": 100,
   "metadata": {
    "collapsed": false
   },
   "outputs": [
    {
     "name": "stdout",
     "output_type": "stream",
     "text": [
      "635000 244000\n"
     ]
    }
   ],
   "source": [
    "print(155000 + 480000, 174000 + 70000)"
   ]
  },
  {
   "cell_type": "code",
   "execution_count": null,
   "metadata": {
    "collapsed": true
   },
   "outputs": [],
   "source": []
  },
  {
   "cell_type": "code",
   "execution_count": null,
   "metadata": {
    "collapsed": true
   },
   "outputs": [],
   "source": []
  },
  {
   "cell_type": "code",
   "execution_count": null,
   "metadata": {
    "collapsed": true
   },
   "outputs": [],
   "source": []
  },
  {
   "cell_type": "code",
   "execution_count": null,
   "metadata": {
    "collapsed": true
   },
   "outputs": [],
   "source": []
  }
 ],
 "metadata": {
  "anaconda-cloud": {},
  "kernelspec": {
   "display_name": "Python [Root]",
   "language": "python",
   "name": "Python [Root]"
  },
  "language_info": {
   "codemirror_mode": {
    "name": "ipython",
    "version": 3
   },
   "file_extension": ".py",
   "mimetype": "text/x-python",
   "name": "python",
   "nbconvert_exporter": "python",
   "pygments_lexer": "ipython3",
   "version": "3.5.2"
  }
 },
 "nbformat": 4,
 "nbformat_minor": 0
}
