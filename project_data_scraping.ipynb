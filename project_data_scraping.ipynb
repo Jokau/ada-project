{
 "cells": [
  {
   "cell_type": "markdown",
   "metadata": {},
   "source": [
    "# Road Traffic Accidents in Switzerland"
   ]
  },
  {
   "cell_type": "markdown",
   "metadata": {},
   "source": [
    "In this project, we work with the data from Switzerland's road accidents."
   ]
  },
  {
   "cell_type": "code",
   "execution_count": 1,
   "metadata": {
    "collapsed": false
   },
   "outputs": [],
   "source": [
    "import helpers\n",
    "import json\n",
    "import math\n",
    "import matplotlib.pyplot as plt\n",
    "import numpy as np\n",
    "import pandas as pd\n",
    "import pickle\n",
    "import requests\n",
    "import seaborn as sns\n",
    "\n",
    "%load_ext autoreload\n",
    "%autoreload 2\n",
    "%matplotlib inline"
   ]
  },
  {
   "cell_type": "markdown",
   "metadata": {},
   "source": [
    "## Scraping the data"
   ]
  },
  {
   "cell_type": "markdown",
   "metadata": {},
   "source": [
    "Writing to the \"Office Fédéral des Statistiques\" was unsuccessful, so we resort to web scraping.\n",
    "\n",
    "The scraped data comes from http://map.donneesaccidents.ch/ (or https://map.geo.admin.ch/?topic=vu&lang=fr&bgLayer=ch.swisstopo.pixelkarte-grau&layers=ch.astra.unfaelle-personenschaeden_alle&layers_timestamp=&catalogNodes=1318, after redirections).\n",
    "\n",
    "![Map](Resources/images/swissaccidentsmap.png)\n",
    "\n",
    "#### Layers\n",
    "\n",
    "The map contains the following layers:\n",
    "* Accidents with personal injury\n",
    "* Accidents with fatalities\n",
    "* Accidents involving a pedestrian\n",
    "* Accidents involving a bicycle\n",
    "* Accidents involving a motorcycle\n",
    "\n",
    "There is no information regarding accidents where nobody is unjured, since by law only accidents in which someone is injured require police intervention. This explains why only these are archived.\n",
    "\n",
    "#### Getting detailed accident data\n",
    "\n",
    "The map only displays markers for each accident. When one or more markers are selected, a web query retrieves the information related to the selected markers. Using postman, we analysed such queries and found a way to select several or all markers on the map.\n",
    "\n",
    "This is achieved by defining a rectangle, and querying for all markers inside it. We declare a rectangle that encompasses all Switzerland. This behaviour can be simulated on the browser by holding the ctrl key (or cmd on mac) and dragging a rectangle over the map.\n",
    "The returned data is paginated, so it is necessary to go over all the pages to obtain all detailed accident data.\n",
    "\n",
    "Example query parameters:\n",
    "```\n",
    "geometry:443999.04209536605,39001.6733318335,870499.0420953662,303001.67333183356\n",
    "geometryFormat:geojson\n",
    "geometryType:esriGeometryEnvelope\n",
    "imageDisplay:1536,759,96\n",
    "lang:en\n",
    "layers:all:LAYER_PARAM\n",
    "offset:200\n",
    "mapExtent:269999.04209536605,9501.673331833561,1037999.042095366,389001.67333183356\n",
    "returnGeometry:true\n",
    "tolerance:5\n",
    "```\n",
    "\n",
    "`LAYER_PARAM` can be replaced by the appropriate layer name and `offset` is optional."
   ]
  },
  {
   "cell_type": "code",
   "execution_count": 2,
   "metadata": {
    "collapsed": false
   },
   "outputs": [
    {
     "name": "stdout",
     "output_type": "stream",
     "text": [
      "Scraping layer ch.astra.unfaelle-personenschaeden_alle\n",
      "Layer scraped : 90600 records\n",
      "Scraping layer ch.astra.unfaelle-personenschaeden_getoetete\n",
      "Layer scraped : 1343 records\n",
      "Scraping layer ch.astra.unfaelle-personenschaeden_fussgaenger\n",
      "Layer scraped : 11738 records\n",
      "Scraping layer ch.astra.unfaelle-personenschaeden_fahrraeder\n",
      "Layer scraped : 18104 records\n",
      "Scraping layer ch.astra.unfaelle-personenschaeden_motorraeder\n",
      "Layer scraped : 19676 records\n",
      "Scraped data: 141461 records\n"
     ]
    }
   ],
   "source": [
    "# Import raw data from http://map.donneesaccidents.ch/\n",
    "# Do not run thoses cells if the pickle is already computed\n",
    "# file info : data/data_raw.pickle, md5: ef2338f1e9e295bd1bf055396dbd1058\n",
    "data = helpers.import_data()"
   ]
  },
  {
   "cell_type": "code",
   "execution_count": 3,
   "metadata": {
    "collapsed": false
   },
   "outputs": [],
   "source": [
    "pickle.dump(data, open('data/data_raw.pickle', 'wb'))"
   ]
  },
  {
   "cell_type": "code",
   "execution_count": 4,
   "metadata": {
    "collapsed": false
   },
   "outputs": [
    {
     "data": {
      "text/html": [
       "<div>\n",
       "<table border=\"1\" class=\"dataframe\">\n",
       "  <thead>\n",
       "    <tr style=\"text-align: right;\">\n",
       "      <th></th>\n",
       "      <th>bbox</th>\n",
       "      <th>featureId</th>\n",
       "      <th>geometry</th>\n",
       "      <th>geometryType</th>\n",
       "      <th>id</th>\n",
       "      <th>layerBodId</th>\n",
       "      <th>layerName</th>\n",
       "      <th>properties</th>\n",
       "      <th>type</th>\n",
       "    </tr>\n",
       "  </thead>\n",
       "  <tbody>\n",
       "    <tr>\n",
       "      <th>110121</th>\n",
       "      <td>[665755.0, 211035.0, 665755.0, 211035.0]</td>\n",
       "      <td>FE38A394DA3F015AE0430A8394276DA8</td>\n",
       "      <td>{'coordinates': [[665755.0, 211035.0]], 'type'...</td>\n",
       "      <td>Feature</td>\n",
       "      <td>FE38A394DA3F015AE0430A8394276DA8</td>\n",
       "      <td>ch.astra.unfaelle-personenschaeden_fahrraeder</td>\n",
       "      <td>Accidents avec la part. de vélos</td>\n",
       "      <td>{'roadtype_fr': 'route principale', 'canton': ...</td>\n",
       "      <td>Feature</td>\n",
       "    </tr>\n",
       "    <tr>\n",
       "      <th>29524</th>\n",
       "      <td>[573670.0, 161394.0, 573670.0, 161394.0]</td>\n",
       "      <td>C773B291D8D70104E0430A839427AA78</td>\n",
       "      <td>{'coordinates': [[573670.0, 161394.0]], 'type'...</td>\n",
       "      <td>Feature</td>\n",
       "      <td>C773B291D8D70104E0430A839427AA78</td>\n",
       "      <td>ch.astra.unfaelle-personenschaeden_alle</td>\n",
       "      <td>Accidents avec dommages corporels</td>\n",
       "      <td>{'roadtype_fr': 'route principale', 'canton': ...</td>\n",
       "      <td>Feature</td>\n",
       "    </tr>\n",
       "    <tr>\n",
       "      <th>125886</th>\n",
       "      <td>[686769.0, 251279.0, 686769.0, 251279.0]</td>\n",
       "      <td>09F44DC7038C013CE0530A8394271812</td>\n",
       "      <td>{'coordinates': [[686769.0, 251279.0]], 'type'...</td>\n",
       "      <td>Feature</td>\n",
       "      <td>09F44DC7038C013CE0530A8394271812</td>\n",
       "      <td>ch.astra.unfaelle-personenschaeden_motorraeder</td>\n",
       "      <td>Accidents avec la part. de motos</td>\n",
       "      <td>{'roadtype_fr': 'route principale', 'canton': ...</td>\n",
       "      <td>Feature</td>\n",
       "    </tr>\n",
       "    <tr>\n",
       "      <th>56844</th>\n",
       "      <td>[632018.0, 170286.0, 632018.0, 170286.0]</td>\n",
       "      <td>22C04C093676020AE0530A839427F5A1</td>\n",
       "      <td>{'coordinates': [[632018.0, 170286.0]], 'type'...</td>\n",
       "      <td>Feature</td>\n",
       "      <td>22C04C093676020AE0530A839427F5A1</td>\n",
       "      <td>ch.astra.unfaelle-personenschaeden_alle</td>\n",
       "      <td>Accidents avec dommages corporels</td>\n",
       "      <td>{'roadtype_fr': 'route principale', 'canton': ...</td>\n",
       "      <td>Feature</td>\n",
       "    </tr>\n",
       "    <tr>\n",
       "      <th>23822</th>\n",
       "      <td>[553502.0, 171875.0, 553502.0, 171875.0]</td>\n",
       "      <td>E28C280068B90114E0430A8394275C57</td>\n",
       "      <td>{'coordinates': [[553502.0, 171875.0]], 'type'...</td>\n",
       "      <td>Feature</td>\n",
       "      <td>E28C280068B90114E0430A8394275C57</td>\n",
       "      <td>ch.astra.unfaelle-personenschaeden_alle</td>\n",
       "      <td>Accidents avec dommages corporels</td>\n",
       "      <td>{'roadtype_fr': 'route principale', 'canton': ...</td>\n",
       "      <td>Feature</td>\n",
       "    </tr>\n",
       "  </tbody>\n",
       "</table>\n",
       "</div>"
      ],
      "text/plain": [
       "                                            bbox  \\\n",
       "110121  [665755.0, 211035.0, 665755.0, 211035.0]   \n",
       "29524   [573670.0, 161394.0, 573670.0, 161394.0]   \n",
       "125886  [686769.0, 251279.0, 686769.0, 251279.0]   \n",
       "56844   [632018.0, 170286.0, 632018.0, 170286.0]   \n",
       "23822   [553502.0, 171875.0, 553502.0, 171875.0]   \n",
       "\n",
       "                               featureId  \\\n",
       "110121  FE38A394DA3F015AE0430A8394276DA8   \n",
       "29524   C773B291D8D70104E0430A839427AA78   \n",
       "125886  09F44DC7038C013CE0530A8394271812   \n",
       "56844   22C04C093676020AE0530A839427F5A1   \n",
       "23822   E28C280068B90114E0430A8394275C57   \n",
       "\n",
       "                                                 geometry geometryType  \\\n",
       "110121  {'coordinates': [[665755.0, 211035.0]], 'type'...      Feature   \n",
       "29524   {'coordinates': [[573670.0, 161394.0]], 'type'...      Feature   \n",
       "125886  {'coordinates': [[686769.0, 251279.0]], 'type'...      Feature   \n",
       "56844   {'coordinates': [[632018.0, 170286.0]], 'type'...      Feature   \n",
       "23822   {'coordinates': [[553502.0, 171875.0]], 'type'...      Feature   \n",
       "\n",
       "                                      id  \\\n",
       "110121  FE38A394DA3F015AE0430A8394276DA8   \n",
       "29524   C773B291D8D70104E0430A839427AA78   \n",
       "125886  09F44DC7038C013CE0530A8394271812   \n",
       "56844   22C04C093676020AE0530A839427F5A1   \n",
       "23822   E28C280068B90114E0430A8394275C57   \n",
       "\n",
       "                                            layerBodId  \\\n",
       "110121   ch.astra.unfaelle-personenschaeden_fahrraeder   \n",
       "29524          ch.astra.unfaelle-personenschaeden_alle   \n",
       "125886  ch.astra.unfaelle-personenschaeden_motorraeder   \n",
       "56844          ch.astra.unfaelle-personenschaeden_alle   \n",
       "23822          ch.astra.unfaelle-personenschaeden_alle   \n",
       "\n",
       "                                layerName  \\\n",
       "110121   Accidents avec la part. de vélos   \n",
       "29524   Accidents avec dommages corporels   \n",
       "125886   Accidents avec la part. de motos   \n",
       "56844   Accidents avec dommages corporels   \n",
       "23822   Accidents avec dommages corporels   \n",
       "\n",
       "                                               properties     type  \n",
       "110121  {'roadtype_fr': 'route principale', 'canton': ...  Feature  \n",
       "29524   {'roadtype_fr': 'route principale', 'canton': ...  Feature  \n",
       "125886  {'roadtype_fr': 'route principale', 'canton': ...  Feature  \n",
       "56844   {'roadtype_fr': 'route principale', 'canton': ...  Feature  \n",
       "23822   {'roadtype_fr': 'route principale', 'canton': ...  Feature  "
      ]
     },
     "execution_count": 4,
     "metadata": {},
     "output_type": "execute_result"
    }
   ],
   "source": [
    "raw_df = pd.DataFrame(data)\n",
    "raw_df.sample(5)"
   ]
  },
  {
   "cell_type": "markdown",
   "metadata": {},
   "source": [
    "## Cleaning the data"
   ]
  },
  {
   "cell_type": "code",
   "execution_count": 5,
   "metadata": {
    "collapsed": false
   },
   "outputs": [],
   "source": [
    "data = pickle.load(open('data/data_raw.pickle', 'rb'))"
   ]
  },
  {
   "cell_type": "markdown",
   "metadata": {},
   "source": [
    "In this initial data dump, we see the following fields:\n",
    "* **`bbox`** Redundant coordinates to place the accident on the map.\n",
    "* **`featureId`** Unique ID for an accident.\n",
    "* **`geometry`**  GeoJSON *geometry* object for the accident. Example:\n",
    "```\n",
    "{'coordinates': [[663430.0, 193370.0]], 'type': 'MultiPoint'}\n",
    "```\n",
    "* **`geometryType`** GeoJSON type\n",
    "* **`id`** Redundancy of `featureId`\n",
    "* **`layerBodId`** Map layers the accident belongs to\n",
    "* **`layerName`** Layer name\n",
    "* **`properties`** Accident properties. Example:\n",
    "```\n",
    "{'accidentday_de': 'Mittwoch / 12h-13h / Mai 2014',\n",
    " 'accidentday_fr': 'mercredi / 12h-13h / mai 2014',\n",
    " 'accidentday_it': 'Mercoledì / 12h-13h / Maggio 2014',\n",
    " 'accidenttype_de': 'Abbiegeunfall',\n",
    " 'accidenttype_fr': 'accident en quittant une route',\n",
    " 'accidenttype_it': 'Incidente nello svoltare',\n",
    " 'accidenttypecode': 3,\n",
    " 'accidentyear': 2014,\n",
    " 'canton': 'BE',\n",
    " 'fsocommunecode': '0979',\n",
    " 'label': 'Abbiegeunfall',\n",
    " 'roadtype_de': 'Nebenstrasse',\n",
    " 'roadtype_fr': 'route secondaire',\n",
    " 'roadtype_it': 'Strada secondaria',\n",
    " 'roadtypecode': 433,\n",
    " 'severitycategory_de': 'Unfall mit Leichtverletzten',\n",
    " 'severitycategory_fr': 'accident avec blessés légers',\n",
    " 'severitycategory_it': 'Incidente con feriti leggeri',\n",
    " 'severitycategorycode': 'ULV'}\n",
    "```\n",
    "* **`type`** Redundancy of `geometryType`\n",
    "\n",
    "The first step to be able to fully manipulate this data is to flatten it:"
   ]
  },
  {
   "cell_type": "code",
   "execution_count": 6,
   "metadata": {
    "collapsed": false
   },
   "outputs": [],
   "source": [
    "flat_data = [helpers.flatten(entry) for entry in data]"
   ]
  },
  {
   "cell_type": "code",
   "execution_count": 7,
   "metadata": {
    "collapsed": false
   },
   "outputs": [
    {
     "data": {
      "text/plain": [
       "Index(['bbox', 'featureId', 'geometryType', 'geometry_coordinates',\n",
       "       'geometry_type', 'id', 'layerBodId', 'layerName',\n",
       "       'properties_accidentday_de', 'properties_accidentday_fr',\n",
       "       'properties_accidentday_it', 'properties_accidenttype_de',\n",
       "       'properties_accidenttype_fr', 'properties_accidenttype_it',\n",
       "       'properties_accidenttypecode', 'properties_accidentyear',\n",
       "       'properties_canton', 'properties_fsocommunecode', 'properties_label',\n",
       "       'properties_roadtype_de', 'properties_roadtype_fr',\n",
       "       'properties_roadtype_it', 'properties_roadtypecode',\n",
       "       'properties_severitycategory_de', 'properties_severitycategory_fr',\n",
       "       'properties_severitycategory_it', 'properties_severitycategorycode',\n",
       "       'type'],\n",
       "      dtype='object')"
      ]
     },
     "execution_count": 7,
     "metadata": {},
     "output_type": "execute_result"
    }
   ],
   "source": [
    "accidents_df = pd.DataFrame(flat_data)\n",
    "accidents_df.columns"
   ]
  },
  {
   "cell_type": "markdown",
   "metadata": {},
   "source": [
    "To clean the data, we start by removing the columns that are irrelevant or redundant, such as:\n",
    "* **`bbox`** coordinates for the accident are available in the `geometry_coordinates` column.\n",
    "* **`featureId`** we keep `id`\n",
    "* **`geometryType` and `type`** Innecessary GeoJSON info\n",
    "* **`layerBodId`** we keep `layerName`\n",
    "* **Translations**: all translated fields are only kept in french (english not available).\n",
    "\n",
    "After removing all "
   ]
  },
  {
   "cell_type": "code",
   "execution_count": 8,
   "metadata": {
    "collapsed": false
   },
   "outputs": [],
   "source": [
    "accidents_df = accidents_df.drop([\n",
    "    'bbox',\n",
    "    'featureId',\n",
    "    'geometryType',\n",
    "    'type',\n",
    "    'layerName',\n",
    "    'properties_accidentday_de',\n",
    "    'properties_accidentday_it',\n",
    "    'properties_severitycategory_de',\n",
    "    'properties_severitycategory_it',\n",
    "    'properties_severitycategory_fr',\n",
    "    'properties_roadtype_de',\n",
    "    'properties_roadtype_it',\n",
    "    'properties_accidenttype_de',\n",
    "    'properties_accidenttype_it',\n",
    "    'properties_accidenttype_fr',\n",
    "    'properties_roadtype_fr',\n",
    "    'properties_label',\n",
    "    'geometry_type'\n",
    "], axis=1)\n",
    "\n",
    "# Select one set of coordinates for the accident\n",
    "accidents_df.geometry_coordinates = accidents_df.geometry_coordinates.apply(lambda x: x[0])\n",
    "\n",
    "accidents_df = accidents_df.set_index('id')\n",
    "accidents_df = accidents_df.sort_index()"
   ]
  },
  {
   "cell_type": "code",
   "execution_count": 9,
   "metadata": {
    "collapsed": false
   },
   "outputs": [
    {
     "data": {
      "text/html": [
       "<div>\n",
       "<table border=\"1\" class=\"dataframe\">\n",
       "  <thead>\n",
       "    <tr style=\"text-align: right;\">\n",
       "      <th></th>\n",
       "      <th>geometry_coordinates</th>\n",
       "      <th>layerBodId</th>\n",
       "      <th>properties_accidentday_fr</th>\n",
       "      <th>properties_accidenttypecode</th>\n",
       "      <th>properties_accidentyear</th>\n",
       "      <th>properties_canton</th>\n",
       "      <th>properties_fsocommunecode</th>\n",
       "      <th>properties_roadtypecode</th>\n",
       "      <th>properties_severitycategorycode</th>\n",
       "    </tr>\n",
       "    <tr>\n",
       "      <th>id</th>\n",
       "      <th></th>\n",
       "      <th></th>\n",
       "      <th></th>\n",
       "      <th></th>\n",
       "      <th></th>\n",
       "      <th></th>\n",
       "      <th></th>\n",
       "      <th></th>\n",
       "      <th></th>\n",
       "    </tr>\n",
       "  </thead>\n",
       "  <tbody>\n",
       "    <tr>\n",
       "      <th>000632B7E4500082E0530A83942743EA</th>\n",
       "      <td>[647210.0, 177439.0]</td>\n",
       "      <td>ch.astra.unfaelle-personenschaeden_fahrraeder</td>\n",
       "      <td>samedi / 22h-23h / juillet 2014</td>\n",
       "      <td>4</td>\n",
       "      <td>2014</td>\n",
       "      <td>BE</td>\n",
       "      <td>0573</td>\n",
       "      <td>432</td>\n",
       "      <td>USV</td>\n",
       "    </tr>\n",
       "    <tr>\n",
       "      <th>000750DA26760038E0530A8394272B98</th>\n",
       "      <td>[685704.0, 252693.0]</td>\n",
       "      <td>ch.astra.unfaelle-personenschaeden_alle</td>\n",
       "      <td>jeudi / 16h-17h / juillet 2014</td>\n",
       "      <td>2</td>\n",
       "      <td>2014</td>\n",
       "      <td>ZH</td>\n",
       "      <td>0069</td>\n",
       "      <td>430</td>\n",
       "      <td>ULV</td>\n",
       "    </tr>\n",
       "    <tr>\n",
       "      <th>0007F58D137500F0E0530A839427CD36</th>\n",
       "      <td>[750913.0, 256375.0]</td>\n",
       "      <td>ch.astra.unfaelle-personenschaeden_motorraeder</td>\n",
       "      <td>mardi / 06h-07h / juin 2014</td>\n",
       "      <td>0</td>\n",
       "      <td>2014</td>\n",
       "      <td>SG</td>\n",
       "      <td>3212</td>\n",
       "      <td>432</td>\n",
       "      <td>USV</td>\n",
       "    </tr>\n",
       "    <tr>\n",
       "      <th>0007F58D137500F0E0530A839427CD36</th>\n",
       "      <td>[750913.0, 256375.0]</td>\n",
       "      <td>ch.astra.unfaelle-personenschaeden_alle</td>\n",
       "      <td>mardi / 06h-07h / juin 2014</td>\n",
       "      <td>0</td>\n",
       "      <td>2014</td>\n",
       "      <td>SG</td>\n",
       "      <td>3212</td>\n",
       "      <td>432</td>\n",
       "      <td>USV</td>\n",
       "    </tr>\n",
       "    <tr>\n",
       "      <th>0007F58D1D8800F0E0530A839427CD36</th>\n",
       "      <td>[589630.0, 211961.0]</td>\n",
       "      <td>ch.astra.unfaelle-personenschaeden_motorraeder</td>\n",
       "      <td>jeudi / 00h-01h / juin 2014</td>\n",
       "      <td>0</td>\n",
       "      <td>2014</td>\n",
       "      <td>BE</td>\n",
       "      <td>0306</td>\n",
       "      <td>430</td>\n",
       "      <td>ULV</td>\n",
       "    </tr>\n",
       "  </tbody>\n",
       "</table>\n",
       "</div>"
      ],
      "text/plain": [
       "                                  geometry_coordinates  \\\n",
       "id                                                       \n",
       "000632B7E4500082E0530A83942743EA  [647210.0, 177439.0]   \n",
       "000750DA26760038E0530A8394272B98  [685704.0, 252693.0]   \n",
       "0007F58D137500F0E0530A839427CD36  [750913.0, 256375.0]   \n",
       "0007F58D137500F0E0530A839427CD36  [750913.0, 256375.0]   \n",
       "0007F58D1D8800F0E0530A839427CD36  [589630.0, 211961.0]   \n",
       "\n",
       "                                                                      layerBodId  \\\n",
       "id                                                                                 \n",
       "000632B7E4500082E0530A83942743EA   ch.astra.unfaelle-personenschaeden_fahrraeder   \n",
       "000750DA26760038E0530A8394272B98         ch.astra.unfaelle-personenschaeden_alle   \n",
       "0007F58D137500F0E0530A839427CD36  ch.astra.unfaelle-personenschaeden_motorraeder   \n",
       "0007F58D137500F0E0530A839427CD36         ch.astra.unfaelle-personenschaeden_alle   \n",
       "0007F58D1D8800F0E0530A839427CD36  ch.astra.unfaelle-personenschaeden_motorraeder   \n",
       "\n",
       "                                        properties_accidentday_fr  \\\n",
       "id                                                                  \n",
       "000632B7E4500082E0530A83942743EA  samedi / 22h-23h / juillet 2014   \n",
       "000750DA26760038E0530A8394272B98   jeudi / 16h-17h / juillet 2014   \n",
       "0007F58D137500F0E0530A839427CD36      mardi / 06h-07h / juin 2014   \n",
       "0007F58D137500F0E0530A839427CD36      mardi / 06h-07h / juin 2014   \n",
       "0007F58D1D8800F0E0530A839427CD36      jeudi / 00h-01h / juin 2014   \n",
       "\n",
       "                                  properties_accidenttypecode  \\\n",
       "id                                                              \n",
       "000632B7E4500082E0530A83942743EA                            4   \n",
       "000750DA26760038E0530A8394272B98                            2   \n",
       "0007F58D137500F0E0530A839427CD36                            0   \n",
       "0007F58D137500F0E0530A839427CD36                            0   \n",
       "0007F58D1D8800F0E0530A839427CD36                            0   \n",
       "\n",
       "                                  properties_accidentyear properties_canton  \\\n",
       "id                                                                            \n",
       "000632B7E4500082E0530A83942743EA                     2014                BE   \n",
       "000750DA26760038E0530A8394272B98                     2014                ZH   \n",
       "0007F58D137500F0E0530A839427CD36                     2014                SG   \n",
       "0007F58D137500F0E0530A839427CD36                     2014                SG   \n",
       "0007F58D1D8800F0E0530A839427CD36                     2014                BE   \n",
       "\n",
       "                                 properties_fsocommunecode  \\\n",
       "id                                                           \n",
       "000632B7E4500082E0530A83942743EA                      0573   \n",
       "000750DA26760038E0530A8394272B98                      0069   \n",
       "0007F58D137500F0E0530A839427CD36                      3212   \n",
       "0007F58D137500F0E0530A839427CD36                      3212   \n",
       "0007F58D1D8800F0E0530A839427CD36                      0306   \n",
       "\n",
       "                                  properties_roadtypecode  \\\n",
       "id                                                          \n",
       "000632B7E4500082E0530A83942743EA                      432   \n",
       "000750DA26760038E0530A8394272B98                      430   \n",
       "0007F58D137500F0E0530A839427CD36                      432   \n",
       "0007F58D137500F0E0530A839427CD36                      432   \n",
       "0007F58D1D8800F0E0530A839427CD36                      430   \n",
       "\n",
       "                                 properties_severitycategorycode  \n",
       "id                                                                \n",
       "000632B7E4500082E0530A83942743EA                             USV  \n",
       "000750DA26760038E0530A8394272B98                             ULV  \n",
       "0007F58D137500F0E0530A839427CD36                             USV  \n",
       "0007F58D137500F0E0530A839427CD36                             USV  \n",
       "0007F58D1D8800F0E0530A839427CD36                             ULV  "
      ]
     },
     "execution_count": 9,
     "metadata": {},
     "output_type": "execute_result"
    }
   ],
   "source": [
    "accidents_df.head(5)"
   ]
  },
  {
   "cell_type": "code",
   "execution_count": 10,
   "metadata": {
    "collapsed": false
   },
   "outputs": [
    {
     "name": "stdout",
     "output_type": "stream",
     "text": [
      "Total accident entries: 141461\n"
     ]
    },
    {
     "data": {
      "text/html": [
       "<div>\n",
       "<table border=\"1\" class=\"dataframe\">\n",
       "  <thead>\n",
       "    <tr style=\"text-align: right;\">\n",
       "      <th></th>\n",
       "      <th>geometry_coordinates</th>\n",
       "      <th>properties_accidenttypecode</th>\n",
       "      <th>properties_canton</th>\n",
       "      <th>properties_fsocommunecode</th>\n",
       "      <th>properties_roadtypecode</th>\n",
       "      <th>properties_severitycategorycode</th>\n",
       "      <th>withBodilyDamage</th>\n",
       "      <th>involvesBicycles</th>\n",
       "      <th>involvesMotorcycles</th>\n",
       "      <th>involvesPedestrians</th>\n",
       "      <th>withFatality</th>\n",
       "      <th>weekday</th>\n",
       "      <th>time</th>\n",
       "      <th>month</th>\n",
       "      <th>year</th>\n",
       "    </tr>\n",
       "    <tr>\n",
       "      <th>id</th>\n",
       "      <th></th>\n",
       "      <th></th>\n",
       "      <th></th>\n",
       "      <th></th>\n",
       "      <th></th>\n",
       "      <th></th>\n",
       "      <th></th>\n",
       "      <th></th>\n",
       "      <th></th>\n",
       "      <th></th>\n",
       "      <th></th>\n",
       "      <th></th>\n",
       "      <th></th>\n",
       "      <th></th>\n",
       "      <th></th>\n",
       "    </tr>\n",
       "  </thead>\n",
       "  <tbody>\n",
       "    <tr>\n",
       "      <th>A7527062C5C30058E0430A8394270058</th>\n",
       "      <td>[659282.0, 247496.0]</td>\n",
       "      <td>Skidding or control loss</td>\n",
       "      <td>AG</td>\n",
       "      <td>4194</td>\n",
       "      <td>Secondary road</td>\n",
       "      <td>light injuries</td>\n",
       "      <td>False</td>\n",
       "      <td>False</td>\n",
       "      <td>True</td>\n",
       "      <td>False</td>\n",
       "      <td>False</td>\n",
       "      <td>6 Saturday</td>\n",
       "      <td>19h-20h</td>\n",
       "      <td>06 June</td>\n",
       "      <td>2011</td>\n",
       "    </tr>\n",
       "    <tr>\n",
       "      <th>EDA8CB3C9FFB01B8E0430A839427CDD6</th>\n",
       "      <td>[599379.0, 223826.0]</td>\n",
       "      <td>Collision</td>\n",
       "      <td>BE</td>\n",
       "      <td>0381</td>\n",
       "      <td>Secondary road</td>\n",
       "      <td>light injuries</td>\n",
       "      <td>True</td>\n",
       "      <td>False</td>\n",
       "      <td>False</td>\n",
       "      <td>False</td>\n",
       "      <td>False</td>\n",
       "      <td>5 Friday</td>\n",
       "      <td>10h-11h</td>\n",
       "      <td>11 November</td>\n",
       "      <td>2013</td>\n",
       "    </tr>\n",
       "    <tr>\n",
       "      <th>B27A33647D38010AE0430A839427010A</th>\n",
       "      <td>[609422.0, 265921.0]</td>\n",
       "      <td>Skidding or control loss</td>\n",
       "      <td>BL</td>\n",
       "      <td>2765</td>\n",
       "      <td>Secondary road</td>\n",
       "      <td>heavy injuries</td>\n",
       "      <td>True</td>\n",
       "      <td>False</td>\n",
       "      <td>False</td>\n",
       "      <td>False</td>\n",
       "      <td>False</td>\n",
       "      <td>3 Wednesday</td>\n",
       "      <td>08h-09h</td>\n",
       "      <td>09 September</td>\n",
       "      <td>2011</td>\n",
       "    </tr>\n",
       "    <tr>\n",
       "      <th>09B337ED3D90005EE0530A8394270A76</th>\n",
       "      <td>[704537.0, 240284.0]</td>\n",
       "      <td>With pedestrians</td>\n",
       "      <td>ZH</td>\n",
       "      <td>0117</td>\n",
       "      <td>Secondary road</td>\n",
       "      <td>light injuries</td>\n",
       "      <td>False</td>\n",
       "      <td>False</td>\n",
       "      <td>False</td>\n",
       "      <td>True</td>\n",
       "      <td>False</td>\n",
       "      <td>5 Friday</td>\n",
       "      <td>15h-16h</td>\n",
       "      <td>11 November</td>\n",
       "      <td>2014</td>\n",
       "    </tr>\n",
       "    <tr>\n",
       "      <th>D1D5C7BA19DA0278E0430A83942752B2</th>\n",
       "      <td>[625180.0, 238524.0]</td>\n",
       "      <td>With pedestrians</td>\n",
       "      <td>SO</td>\n",
       "      <td>2405</td>\n",
       "      <td>Primary road</td>\n",
       "      <td>heavy injuries</td>\n",
       "      <td>True</td>\n",
       "      <td>False</td>\n",
       "      <td>False</td>\n",
       "      <td>False</td>\n",
       "      <td>False</td>\n",
       "      <td>4 Thursday</td>\n",
       "      <td>19h-20h</td>\n",
       "      <td>11 November</td>\n",
       "      <td>2012</td>\n",
       "    </tr>\n",
       "  </tbody>\n",
       "</table>\n",
       "</div>"
      ],
      "text/plain": [
       "                                  geometry_coordinates  \\\n",
       "id                                                       \n",
       "A7527062C5C30058E0430A8394270058  [659282.0, 247496.0]   \n",
       "EDA8CB3C9FFB01B8E0430A839427CDD6  [599379.0, 223826.0]   \n",
       "B27A33647D38010AE0430A839427010A  [609422.0, 265921.0]   \n",
       "09B337ED3D90005EE0530A8394270A76  [704537.0, 240284.0]   \n",
       "D1D5C7BA19DA0278E0430A83942752B2  [625180.0, 238524.0]   \n",
       "\n",
       "                                 properties_accidenttypecode  \\\n",
       "id                                                             \n",
       "A7527062C5C30058E0430A8394270058    Skidding or control loss   \n",
       "EDA8CB3C9FFB01B8E0430A839427CDD6                   Collision   \n",
       "B27A33647D38010AE0430A839427010A    Skidding or control loss   \n",
       "09B337ED3D90005EE0530A8394270A76            With pedestrians   \n",
       "D1D5C7BA19DA0278E0430A83942752B2            With pedestrians   \n",
       "\n",
       "                                 properties_canton properties_fsocommunecode  \\\n",
       "id                                                                             \n",
       "A7527062C5C30058E0430A8394270058                AG                      4194   \n",
       "EDA8CB3C9FFB01B8E0430A839427CDD6                BE                      0381   \n",
       "B27A33647D38010AE0430A839427010A                BL                      2765   \n",
       "09B337ED3D90005EE0530A8394270A76                ZH                      0117   \n",
       "D1D5C7BA19DA0278E0430A83942752B2                SO                      2405   \n",
       "\n",
       "                                 properties_roadtypecode  \\\n",
       "id                                                         \n",
       "A7527062C5C30058E0430A8394270058          Secondary road   \n",
       "EDA8CB3C9FFB01B8E0430A839427CDD6          Secondary road   \n",
       "B27A33647D38010AE0430A839427010A          Secondary road   \n",
       "09B337ED3D90005EE0530A8394270A76          Secondary road   \n",
       "D1D5C7BA19DA0278E0430A83942752B2            Primary road   \n",
       "\n",
       "                                 properties_severitycategorycode  \\\n",
       "id                                                                 \n",
       "A7527062C5C30058E0430A8394270058                  light injuries   \n",
       "EDA8CB3C9FFB01B8E0430A839427CDD6                  light injuries   \n",
       "B27A33647D38010AE0430A839427010A                  heavy injuries   \n",
       "09B337ED3D90005EE0530A8394270A76                  light injuries   \n",
       "D1D5C7BA19DA0278E0430A83942752B2                  heavy injuries   \n",
       "\n",
       "                                 withBodilyDamage involvesBicycles  \\\n",
       "id                                                                   \n",
       "A7527062C5C30058E0430A8394270058            False            False   \n",
       "EDA8CB3C9FFB01B8E0430A839427CDD6             True            False   \n",
       "B27A33647D38010AE0430A839427010A             True            False   \n",
       "09B337ED3D90005EE0530A8394270A76            False            False   \n",
       "D1D5C7BA19DA0278E0430A83942752B2             True            False   \n",
       "\n",
       "                                 involvesMotorcycles involvesPedestrians  \\\n",
       "id                                                                         \n",
       "A7527062C5C30058E0430A8394270058                True               False   \n",
       "EDA8CB3C9FFB01B8E0430A839427CDD6               False               False   \n",
       "B27A33647D38010AE0430A839427010A               False               False   \n",
       "09B337ED3D90005EE0530A8394270A76               False                True   \n",
       "D1D5C7BA19DA0278E0430A83942752B2               False               False   \n",
       "\n",
       "                                 withFatality      weekday     time  \\\n",
       "id                                                                    \n",
       "A7527062C5C30058E0430A8394270058        False   6 Saturday  19h-20h   \n",
       "EDA8CB3C9FFB01B8E0430A839427CDD6        False     5 Friday  10h-11h   \n",
       "B27A33647D38010AE0430A839427010A        False  3 Wednesday  08h-09h   \n",
       "09B337ED3D90005EE0530A8394270A76        False     5 Friday  15h-16h   \n",
       "D1D5C7BA19DA0278E0430A83942752B2        False   4 Thursday  19h-20h   \n",
       "\n",
       "                                         month  year  \n",
       "id                                                    \n",
       "A7527062C5C30058E0430A8394270058       06 June  2011  \n",
       "EDA8CB3C9FFB01B8E0430A839427CDD6   11 November  2013  \n",
       "B27A33647D38010AE0430A839427010A  09 September  2011  \n",
       "09B337ED3D90005EE0530A8394270A76   11 November  2014  \n",
       "D1D5C7BA19DA0278E0430A83942752B2   11 November  2012  "
      ]
     },
     "execution_count": 10,
     "metadata": {},
     "output_type": "execute_result"
    }
   ],
   "source": [
    "# Accident layers\n",
    "accidents_df['withBodilyDamage'] = accidents_df.layerBodId == 'ch.astra.unfaelle-personenschaeden_alle'\n",
    "accidents_df['involvesBicycles'] = accidents_df.layerBodId == 'ch.astra.unfaelle-personenschaeden_fahrraeder'\n",
    "accidents_df['involvesMotorcycles'] = accidents_df.layerBodId == 'ch.astra.unfaelle-personenschaeden_motorraeder'\n",
    "accidents_df['involvesPedestrians'] = accidents_df.layerBodId == 'ch.astra.unfaelle-personenschaeden_fussgaenger'\n",
    "accidents_df['withFatality'] = accidents_df.layerBodId == 'ch.astra.unfaelle-personenschaeden_getoetete'\n",
    "accidents_df = accidents_df.drop('layerBodId', axis=1)\n",
    "\n",
    "# Time properties\n",
    "weekdays_fr_en = {\n",
    "    'lundi': '1 Monday',\n",
    "    'mardi': '2 Tuesday',\n",
    "    'mercredi': '3 Wednesday',\n",
    "    'jeudi': '4 Thursday',\n",
    "    'vendredi': '5 Friday',\n",
    "    'samedi': '6 Saturday',\n",
    "    'dimanche': '7 Sunday'\n",
    "}\n",
    "accidents_df.properties_accidentday_fr = accidents_df.properties_accidentday_fr.apply(lambda x: str.split(x, '/'))\n",
    "accidents_df['weekday'] = accidents_df.properties_accidentday_fr.apply(lambda x: weekdays_fr_en[x[0].strip(' ')])\n",
    "accidents_df['time'] = accidents_df.properties_accidentday_fr.apply(lambda x: x[1].strip(' '))\n",
    "accidents_df['month'] = accidents_df.properties_accidentday_fr.apply(lambda x: x[2].split()[0])\n",
    "accidents_df['year'] = accidents_df.properties_accidentyear\n",
    "accidents_df = accidents_df.drop('properties_accidentday_fr', axis=1)\n",
    "accidents_df = accidents_df.drop('properties_accidentyear', axis=1)\n",
    "months_fr_en = {\n",
    "    'janvier': '01 January',\n",
    "    'février': '02 February',\n",
    "    'mars': '03 March',\n",
    "    'avril': '04 April',\n",
    "    'mai': '05 May',\n",
    "    'juin': '06 June',\n",
    "    'juillet': '07 July',\n",
    "    'août': '08 August',\n",
    "    'septembre': '09 September',\n",
    "    'octobre': '10 October',\n",
    "    'novembre': '11 November',\n",
    "    'décembre': '12 December'\n",
    "}\n",
    "accidents_df.month = accidents_df.month.apply(lambda x: months_fr_en[x])\n",
    "\n",
    "# Accident severity\n",
    "severity_codes = {\n",
    "    'ULV': 'light injuries',\n",
    "    'USV': 'heavy injuries',\n",
    "    'UGT': 'deceased'\n",
    "}\n",
    "accidents_df.properties_severitycategorycode = accidents_df.properties_severitycategorycode.apply(lambda x: severity_codes[x])\n",
    "\n",
    "# Accident type\n",
    "type_of_accident = {\n",
    "    0: 'Skidding or control loss',\n",
    "    1: 'Overtaking or changing roads',\n",
    "    2: 'Collision',\n",
    "    3: 'Leaving a road',\n",
    "    4: \"Joining a road\",\n",
    "    5: 'Crossing a road',\n",
    "    6: 'Frontal collision',\n",
    "    7: 'Parking accident',\n",
    "    8: 'With pedestrians',\n",
    "    9: 'With animals',\n",
    "    99: 'Other'\n",
    "}\n",
    "accidents_df.properties_accidenttypecode = accidents_df.properties_accidenttypecode.apply(lambda x: type_of_accident[x])\n",
    "\n",
    "# Road type\n",
    "road_type = {\n",
    "    433: 'Secondary road',\n",
    "    432: 'Primary road',\n",
    "    431: 'Fast road',\n",
    "    430: 'Motorway',\n",
    "    439: 'Other',\n",
    "    434: 'Accessory road'\n",
    "}\n",
    "accidents_df.properties_roadtypecode = accidents_df.properties_roadtypecode.apply(lambda x: road_type[x])\n",
    "\n",
    "print('Total accident entries:', len(accidents_df))\n",
    "accidents_df.sample(5)"
   ]
  },
  {
   "cell_type": "markdown",
   "metadata": {},
   "source": [
    "Many accidents appear in several layers of the map with different attributes.\n",
    "We group all these accidents to avoid duplicates and we make sure not to loose any information associated to the incidents.\n",
    "\n",
    "Most data is exactly the same among duplicates except the information in columns that tell if the accident produced bodily damage, involved pedestrians, bicycles or motorcycles and if the accident had one or more fatalities."
   ]
  },
  {
   "cell_type": "code",
   "execution_count": 11,
   "metadata": {
    "collapsed": false
   },
   "outputs": [
    {
     "name": "stdout",
     "output_type": "stream",
     "text": [
      "There are 74661 accidents\n"
     ]
    }
   ],
   "source": [
    "accidents_df = accidents_df.groupby(by=accidents_df.index).agg({\n",
    "    'geometry_coordinates': 'first',\n",
    "    'properties_accidenttypecode': 'first',\n",
    "    'properties_canton': 'first',\n",
    "    'properties_fsocommunecode': 'first',\n",
    "    'properties_roadtypecode': 'first',\n",
    "    'properties_severitycategorycode': 'first',\n",
    "    'withBodilyDamage': np.max,\n",
    "    'involvesBicycles': np.max,\n",
    "    'involvesMotorcycles': np.max,\n",
    "    'involvesPedestrians': np.max,\n",
    "    'withFatality': np.max,\n",
    "    'weekday': 'first',\n",
    "    'time': 'first',\n",
    "    'month': 'first',\n",
    "    'year': 'first'\n",
    "})\n",
    "\n",
    "print('There are', len(accidents_df), 'accidents')"
   ]
  },
  {
   "cell_type": "markdown",
   "metadata": {},
   "source": [
    "All fields look good except ```time```, which has 2 unwanted values"
   ]
  },
  {
   "cell_type": "code",
   "execution_count": 12,
   "metadata": {
    "collapsed": false
   },
   "outputs": [
    {
     "name": "stdout",
     "output_type": "stream",
     "text": [
      "All values :  ['00h-01h', '01h-02h', '02h-03h', '03h-04h', '04h-05h', '05h-06h', '06h-07h', '07h-08h', '08h-09h', '09h-10h', '10h-11h', '11h-12h', '12h-13h', '13h-14h', '14h-15h', '15h-16h', '16h-17h', '17h-18h', '18h-19h', '19h-20h', '20h-21h', '21h-22h', '22h-23h', '23h-00h', 'ERROR!!!', 'inconnu'] \n",
      "\n",
      "563 values replaced with 'unknown', 0.008% of all entries\n"
     ]
    }
   ],
   "source": [
    "print('All values : ', sorted(set(accidents_df['time'].values)), '\\n')\n",
    "accidents_df['time'].replace(to_replace=['ERROR!!!', 'inconnu'], value='unknown', inplace=True, method='pad')\n",
    "\n",
    "nb_replaced = len(accidents_df[accidents_df['time'] == 'unknown'])\n",
    "print(nb_replaced, 'values replaced with \\'unknown\\', {0}% of all entries'.format(\"%.3f\" %(nb_replaced/len(accidents_df))))"
   ]
  },
  {
   "cell_type": "code",
   "execution_count": 13,
   "metadata": {
    "collapsed": false
   },
   "outputs": [],
   "source": [
    "categorical_columns = list(accidents_df.columns)\n",
    "categorical_columns.remove('geometry_coordinates')\n",
    "for col in categorical_columns:\n",
    "    accidents_df[col] = accidents_df[col].astype('category')"
   ]
  },
  {
   "cell_type": "code",
   "execution_count": 14,
   "metadata": {
    "collapsed": false
   },
   "outputs": [],
   "source": [
    "accidents_df.to_csv('data/accidents.csv')"
   ]
  },
  {
   "cell_type": "markdown",
   "metadata": {},
   "source": [
    "## Transforming the coordinates\n",
    "\n",
    "The coordinate system used in this dataset is the swiss coordinate system, which doesn't play well with most software.\n",
    "Thus, we using the formulas described by *U. Marti, 1999* (based on Bollinger, 1967) we convert the accident coordinates from the Swiss projection coordinates to WGS84 coordinate system."
   ]
  },
  {
   "cell_type": "code",
   "execution_count": 15,
   "metadata": {
    "collapsed": false
   },
   "outputs": [],
   "source": [
    "def ch1903_to_wgs84(east, north):\n",
    "    # Convert origin, where Bern is 0,0\n",
    "    east -= 600000\n",
    "    north -= 200000\n",
    "    east /= 1000000\n",
    "    north /= 1000000\n",
    "    # Calculate longitude and latitude in 10000\" units\n",
    "    lon = 2.6779094\n",
    "    lon += 4.728982 * east\n",
    "    lon += 0.791484 * east * north\n",
    "    lon += 0.1306 * east * north * north\n",
    "    lon -= 0.0436 * east * east * east\n",
    "    lat = 16.9023892\n",
    "    lat += 3.238272 * north;\n",
    "    lat -= 0.270978 * east * east\n",
    "    lat -= 0.002528 * north * north\n",
    "    lat -= 0.0447 * east * east * north\n",
    "    lat -= 0.0140 * north * north * north\n",
    "    # Convert longitude and latitude back in degrees.\n",
    "    lon *= 100 / 36\n",
    "    lat *= 100 / 36\n",
    "    return [lat, lon]"
   ]
  },
  {
   "cell_type": "code",
   "execution_count": 16,
   "metadata": {
    "collapsed": false
   },
   "outputs": [],
   "source": [
    "accidents_df['wgs84_coordinates'] = accidents_df.geometry_coordinates.apply(lambda x: ch1903_to_wgs84(*x))"
   ]
  },
  {
   "cell_type": "code",
   "execution_count": 17,
   "metadata": {
    "collapsed": false
   },
   "outputs": [
    {
     "data": {
      "text/html": [
       "<div>\n",
       "<table border=\"1\" class=\"dataframe\">\n",
       "  <thead>\n",
       "    <tr style=\"text-align: right;\">\n",
       "      <th></th>\n",
       "      <th>properties_severitycategorycode</th>\n",
       "      <th>geometry_coordinates</th>\n",
       "      <th>involvesBicycles</th>\n",
       "      <th>involvesPedestrians</th>\n",
       "      <th>properties_roadtypecode</th>\n",
       "      <th>withBodilyDamage</th>\n",
       "      <th>properties_canton</th>\n",
       "      <th>withFatality</th>\n",
       "      <th>properties_fsocommunecode</th>\n",
       "      <th>involvesMotorcycles</th>\n",
       "      <th>time</th>\n",
       "      <th>year</th>\n",
       "      <th>properties_accidenttypecode</th>\n",
       "      <th>month</th>\n",
       "      <th>weekday</th>\n",
       "      <th>wgs84_coordinates</th>\n",
       "    </tr>\n",
       "    <tr>\n",
       "      <th>id</th>\n",
       "      <th></th>\n",
       "      <th></th>\n",
       "      <th></th>\n",
       "      <th></th>\n",
       "      <th></th>\n",
       "      <th></th>\n",
       "      <th></th>\n",
       "      <th></th>\n",
       "      <th></th>\n",
       "      <th></th>\n",
       "      <th></th>\n",
       "      <th></th>\n",
       "      <th></th>\n",
       "      <th></th>\n",
       "      <th></th>\n",
       "      <th></th>\n",
       "    </tr>\n",
       "  </thead>\n",
       "  <tbody>\n",
       "    <tr>\n",
       "      <th>F8674B328C4B013CE0430A839427853B</th>\n",
       "      <td>heavy injuries</td>\n",
       "      <td>[676421.0, 227175.0]</td>\n",
       "      <td>False</td>\n",
       "      <td>False</td>\n",
       "      <td>Primary road</td>\n",
       "      <td>True</td>\n",
       "      <td>ZG</td>\n",
       "      <td>False</td>\n",
       "      <td>1702</td>\n",
       "      <td>True</td>\n",
       "      <td>12h-13h</td>\n",
       "      <td>2014</td>\n",
       "      <td>Skidding or control loss</td>\n",
       "      <td>05 May</td>\n",
       "      <td>7 Sunday</td>\n",
       "      <td>[47.19110400611238, 8.447040421446333]</td>\n",
       "    </tr>\n",
       "    <tr>\n",
       "      <th>10DE2ED328460156E0530A8394277629</th>\n",
       "      <td>light injuries</td>\n",
       "      <td>[710369.0, 230953.0]</td>\n",
       "      <td>True</td>\n",
       "      <td>False</td>\n",
       "      <td>Primary road</td>\n",
       "      <td>True</td>\n",
       "      <td>SG</td>\n",
       "      <td>False</td>\n",
       "      <td>3340</td>\n",
       "      <td>False</td>\n",
       "      <td>17h-18h</td>\n",
       "      <td>2015</td>\n",
       "      <td>Overtaking or changing roads</td>\n",
       "      <td>02 February</td>\n",
       "      <td>5 Friday</td>\n",
       "      <td>[47.22028575900108, 8.895837542725323]</td>\n",
       "    </tr>\n",
       "    <tr>\n",
       "      <th>DF6B608C1F4901C2E0430A839427D4F5</th>\n",
       "      <td>light injuries</td>\n",
       "      <td>[721556.0, 116045.0]</td>\n",
       "      <td>False</td>\n",
       "      <td>False</td>\n",
       "      <td>Primary road</td>\n",
       "      <td>True</td>\n",
       "      <td>TI</td>\n",
       "      <td>False</td>\n",
       "      <td>5002</td>\n",
       "      <td>False</td>\n",
       "      <td>unknown</td>\n",
       "      <td>2013</td>\n",
       "      <td>Crossing a road</td>\n",
       "      <td>06 June</td>\n",
       "      <td>3 Wednesday</td>\n",
       "      <td>[46.18489460469084, 9.013060673277066]</td>\n",
       "    </tr>\n",
       "    <tr>\n",
       "      <th>D0CD07F054D001EAE0430A839427FC3C</th>\n",
       "      <td>light injuries</td>\n",
       "      <td>[554302.0, 148061.0]</td>\n",
       "      <td>False</td>\n",
       "      <td>False</td>\n",
       "      <td>Primary road</td>\n",
       "      <td>True</td>\n",
       "      <td>VD</td>\n",
       "      <td>False</td>\n",
       "      <td>5885</td>\n",
       "      <td>False</td>\n",
       "      <td>20h-21h</td>\n",
       "      <td>2012</td>\n",
       "      <td>Skidding or control loss</td>\n",
       "      <td>11 November</td>\n",
       "      <td>4 Thursday</td>\n",
       "      <td>[46.4823074876618, 6.843530653483456]</td>\n",
       "    </tr>\n",
       "    <tr>\n",
       "      <th>D9D98C47CD610120E0430A8394279A5B</th>\n",
       "      <td>light injuries</td>\n",
       "      <td>[523650.0, 175700.0]</td>\n",
       "      <td>False</td>\n",
       "      <td>False</td>\n",
       "      <td>Primary road</td>\n",
       "      <td>True</td>\n",
       "      <td>VD</td>\n",
       "      <td>False</td>\n",
       "      <td>5750</td>\n",
       "      <td>False</td>\n",
       "      <td>10h-11h</td>\n",
       "      <td>2013</td>\n",
       "      <td>Skidding or control loss</td>\n",
       "      <td>02 February</td>\n",
       "      <td>6 Saturday</td>\n",
       "      <td>[46.72812392289434, 6.439815515450765]</td>\n",
       "    </tr>\n",
       "  </tbody>\n",
       "</table>\n",
       "</div>"
      ],
      "text/plain": [
       "                                 properties_severitycategorycode  \\\n",
       "id                                                                 \n",
       "F8674B328C4B013CE0430A839427853B                  heavy injuries   \n",
       "10DE2ED328460156E0530A8394277629                  light injuries   \n",
       "DF6B608C1F4901C2E0430A839427D4F5                  light injuries   \n",
       "D0CD07F054D001EAE0430A839427FC3C                  light injuries   \n",
       "D9D98C47CD610120E0430A8394279A5B                  light injuries   \n",
       "\n",
       "                                  geometry_coordinates involvesBicycles  \\\n",
       "id                                                                        \n",
       "F8674B328C4B013CE0430A839427853B  [676421.0, 227175.0]            False   \n",
       "10DE2ED328460156E0530A8394277629  [710369.0, 230953.0]             True   \n",
       "DF6B608C1F4901C2E0430A839427D4F5  [721556.0, 116045.0]            False   \n",
       "D0CD07F054D001EAE0430A839427FC3C  [554302.0, 148061.0]            False   \n",
       "D9D98C47CD610120E0430A8394279A5B  [523650.0, 175700.0]            False   \n",
       "\n",
       "                                 involvesPedestrians properties_roadtypecode  \\\n",
       "id                                                                             \n",
       "F8674B328C4B013CE0430A839427853B               False            Primary road   \n",
       "10DE2ED328460156E0530A8394277629               False            Primary road   \n",
       "DF6B608C1F4901C2E0430A839427D4F5               False            Primary road   \n",
       "D0CD07F054D001EAE0430A839427FC3C               False            Primary road   \n",
       "D9D98C47CD610120E0430A8394279A5B               False            Primary road   \n",
       "\n",
       "                                 withBodilyDamage properties_canton  \\\n",
       "id                                                                    \n",
       "F8674B328C4B013CE0430A839427853B             True                ZG   \n",
       "10DE2ED328460156E0530A8394277629             True                SG   \n",
       "DF6B608C1F4901C2E0430A839427D4F5             True                TI   \n",
       "D0CD07F054D001EAE0430A839427FC3C             True                VD   \n",
       "D9D98C47CD610120E0430A8394279A5B             True                VD   \n",
       "\n",
       "                                 withFatality properties_fsocommunecode  \\\n",
       "id                                                                        \n",
       "F8674B328C4B013CE0430A839427853B        False                      1702   \n",
       "10DE2ED328460156E0530A8394277629        False                      3340   \n",
       "DF6B608C1F4901C2E0430A839427D4F5        False                      5002   \n",
       "D0CD07F054D001EAE0430A839427FC3C        False                      5885   \n",
       "D9D98C47CD610120E0430A8394279A5B        False                      5750   \n",
       "\n",
       "                                 involvesMotorcycles     time  year  \\\n",
       "id                                                                    \n",
       "F8674B328C4B013CE0430A839427853B                True  12h-13h  2014   \n",
       "10DE2ED328460156E0530A8394277629               False  17h-18h  2015   \n",
       "DF6B608C1F4901C2E0430A839427D4F5               False  unknown  2013   \n",
       "D0CD07F054D001EAE0430A839427FC3C               False  20h-21h  2012   \n",
       "D9D98C47CD610120E0430A8394279A5B               False  10h-11h  2013   \n",
       "\n",
       "                                   properties_accidenttypecode        month  \\\n",
       "id                                                                            \n",
       "F8674B328C4B013CE0430A839427853B      Skidding or control loss       05 May   \n",
       "10DE2ED328460156E0530A8394277629  Overtaking or changing roads  02 February   \n",
       "DF6B608C1F4901C2E0430A839427D4F5               Crossing a road      06 June   \n",
       "D0CD07F054D001EAE0430A839427FC3C      Skidding or control loss  11 November   \n",
       "D9D98C47CD610120E0430A8394279A5B      Skidding or control loss  02 February   \n",
       "\n",
       "                                      weekday  \\\n",
       "id                                              \n",
       "F8674B328C4B013CE0430A839427853B     7 Sunday   \n",
       "10DE2ED328460156E0530A8394277629     5 Friday   \n",
       "DF6B608C1F4901C2E0430A839427D4F5  3 Wednesday   \n",
       "D0CD07F054D001EAE0430A839427FC3C   4 Thursday   \n",
       "D9D98C47CD610120E0430A8394279A5B   6 Saturday   \n",
       "\n",
       "                                                       wgs84_coordinates  \n",
       "id                                                                        \n",
       "F8674B328C4B013CE0430A839427853B  [47.19110400611238, 8.447040421446333]  \n",
       "10DE2ED328460156E0530A8394277629  [47.22028575900108, 8.895837542725323]  \n",
       "DF6B608C1F4901C2E0430A839427D4F5  [46.18489460469084, 9.013060673277066]  \n",
       "D0CD07F054D001EAE0430A839427FC3C   [46.4823074876618, 6.843530653483456]  \n",
       "D9D98C47CD610120E0430A8394279A5B  [46.72812392289434, 6.439815515450765]  "
      ]
     },
     "execution_count": 17,
     "metadata": {},
     "output_type": "execute_result"
    }
   ],
   "source": [
    "accidents_df.sample(5)"
   ]
  },
  {
   "cell_type": "markdown",
   "metadata": {},
   "source": [
    "## Exploring the data"
   ]
  },
  {
   "cell_type": "code",
   "execution_count": 18,
   "metadata": {
    "collapsed": false
   },
   "outputs": [
    {
     "data": {
      "text/plain": [
       "<matplotlib.axes._subplots.AxesSubplot at 0x1ec7e81c470>"
      ]
     },
     "execution_count": 18,
     "metadata": {},
     "output_type": "execute_result"
    },
    {
     "data": {
      "image/png": "[encoded data removed]",
      "text/plain": [
       "<matplotlib.figure.Figure at 0x1ec6173f048>"
      ]
     },
     "metadata": {},
     "output_type": "display_data"
    }
   ],
   "source": [
    "plt.figure(figsize=(14, 5))\n",
    "sns.countplot(x='year', hue='properties_severitycategorycode', data=accidents_df)"
   ]
  },
  {
   "cell_type": "markdown",
   "metadata": {},
   "source": [
    "We observe no big variations in accidents in the last 5 years."
   ]
  },
  {
   "cell_type": "code",
   "execution_count": 19,
   "metadata": {
    "collapsed": false
   },
   "outputs": [
    {
     "data": {
      "text/plain": [
       "(2011    15584\n",
       " 2015    15189\n",
       " 2012    15036\n",
       " 2014    14901\n",
       " 2013    13951\n",
       " Name: year, dtype: int64, 14932.2)"
      ]
     },
     "execution_count": 19,
     "metadata": {},
     "output_type": "execute_result"
    }
   ],
   "source": [
    "accidents_df.year.value_counts(), accidents_df.year.value_counts().mean()"
   ]
  },
  {
   "cell_type": "code",
   "execution_count": 20,
   "metadata": {
    "collapsed": false
   },
   "outputs": [
    {
     "name": "stdout",
     "output_type": "stream",
     "text": [
      "Average number of accidents over 5 years : 3602.8\n"
     ]
    },
    {
     "data": {
      "text/plain": [
       "<matplotlib.axes._subplots.AxesSubplot at 0x1ec16c38c88>"
      ]
     },
     "execution_count": 20,
     "metadata": {},
     "output_type": "execute_result"
    },
    {
     "data": {
      "image/png": "[encoded data removed]",
      "text/plain": [
       "<matplotlib.figure.Figure at 0x1ec45bf32b0>"
      ]
     },
     "metadata": {},
     "output_type": "display_data"
    }
   ],
   "source": [
    "# Bicycle accidents\n",
    "print('Average number of accidents over 5 years :', accidents_df[accidents_df.involvesBicycles == True].year.value_counts().mean())\n",
    "accidents_df[accidents_df.involvesBicycles == True].year.value_counts().sort_index().plot(title='Number of Bicycle accidents')"
   ]
  },
  {
   "cell_type": "code",
   "execution_count": 21,
   "metadata": {
    "collapsed": false
   },
   "outputs": [
    {
     "name": "stdout",
     "output_type": "stream",
     "text": [
      "Average number of accidents over 5 years : 3915.8\n"
     ]
    },
    {
     "data": {
      "text/plain": [
       "<matplotlib.axes._subplots.AxesSubplot at 0x1ec5e92af28>"
      ]
     },
     "execution_count": 21,
     "metadata": {},
     "output_type": "execute_result"
    },
    {
     "data": {
      "image/png": "[encoded data removed]",
      "text/plain": [
       "<matplotlib.figure.Figure at 0x1ec5e934898>"
      ]
     },
     "metadata": {},
     "output_type": "display_data"
    }
   ],
   "source": [
    "# Motorcycle accidents\n",
    "print('Average number of accidents over 5 years :', accidents_df[accidents_df.involvesMotorcycles == True].year.value_counts().mean())\n",
    "accidents_df[accidents_df.involvesMotorcycles == True].year.value_counts().sort_index().plot(title='Number of Motorcycle accidents')"
   ]
  },
  {
   "cell_type": "code",
   "execution_count": 22,
   "metadata": {
    "collapsed": false
   },
   "outputs": [
    {
     "name": "stdout",
     "output_type": "stream",
     "text": [
      "Average number of accidents over 5 years : 2336.0\n"
     ]
    },
    {
     "data": {
      "text/plain": [
       "<matplotlib.axes._subplots.AxesSubplot at 0x1ec5eb4d4a8>"
      ]
     },
     "execution_count": 22,
     "metadata": {},
     "output_type": "execute_result"
    },
    {
     "data": {
      "image/png": "[encoded data removed]",
      "text/plain": [
       "<matplotlib.figure.Figure at 0x1ec5e961898>"
      ]
     },
     "metadata": {},
     "output_type": "display_data"
    }
   ],
   "source": [
    "# Pedestrian accidents\n",
    "print('Average number of accidents over 5 years :', accidents_df[accidents_df.involvesPedestrians == True].year.value_counts().mean())\n",
    "accidents_df[accidents_df.involvesPedestrians == True].year.value_counts().sort_index().plot(title='Number of pedestrian accidents')"
   ]
  },
  {
   "cell_type": "code",
   "execution_count": 23,
   "metadata": {
    "collapsed": false
   },
   "outputs": [
    {
     "data": {
      "image/png": "[encoded data removed]",
      "text/plain": [
       "<matplotlib.figure.Figure at 0x1ec5f071588>"
      ]
     },
     "metadata": {},
     "output_type": "display_data"
    }
   ],
   "source": [
    "fig, ax = plt.subplots()\n",
    "fig.set_size_inches(12, 4)\n",
    "g = sns.countplot(x='time', data=accidents_df, color='grey')\n",
    "g.set_xticklabels(g.get_xticklabels(), rotation=60)\n",
    "plt.title('Number of accidents depending on day hours between 2011 and 2015')\n",
    "plt.show()"
   ]
  },
  {
   "cell_type": "markdown",
   "metadata": {},
   "source": [
    "Accidents distribution over the whole set of data (2011-2015) : Hour of day"
   ]
  },
  {
   "cell_type": "code",
   "execution_count": 24,
   "metadata": {
    "collapsed": false
   },
   "outputs": [
    {
     "data": {
      "text/plain": [
       "<matplotlib.axes._subplots.AxesSubplot at 0x1ec5f0d7dd8>"
      ]
     },
     "execution_count": 24,
     "metadata": {},
     "output_type": "execute_result"
    },
    {
     "data": {
      "image/png": "[encoded data removed]",
      "text/plain": [
       "<matplotlib.figure.Figure at 0x1ec5f147550>"
      ]
     },
     "metadata": {},
     "output_type": "display_data"
    }
   ],
   "source": [
    "plt.figure(figsize=(14, 5))\n",
    "time_aware_accidents_df = accidents_df[(accidents_df.time != 'unknown')]\n",
    "time_aware_accidents_df = time_aware_accidents_df[['time', 'weekday']]\n",
    "time_aware_accidents_df = time_aware_accidents_df.reset_index()\n",
    "time_aware_accidents_df = time_aware_accidents_df.groupby(('weekday', 'time')).count().reset_index()\n",
    "time_aware_accidents_df = time_aware_accidents_df.pivot('weekday', 'time', 'id')\n",
    "sns.heatmap(time_aware_accidents_df, cmap=\"YlGnBu\")"
   ]
  },
  {
   "cell_type": "markdown",
   "metadata": {},
   "source": [
    "Accidents distribution over the whole set of data (2011-2015) : Day of month"
   ]
  },
  {
   "cell_type": "code",
   "execution_count": 25,
   "metadata": {
    "collapsed": false
   },
   "outputs": [
    {
     "data": {
      "image/png": "[encoded data removed]",
      "text/plain": [
       "<matplotlib.figure.Figure at 0x1ec5f1e36a0>"
      ]
     },
     "metadata": {},
     "output_type": "display_data"
    }
   ],
   "source": [
    "plt.figure(figsize=(14, 5))\n",
    "time_aware_accidents_df = accidents_df[(accidents_df.time != 'unknown')]\n",
    "time_aware_accidents_df = time_aware_accidents_df[['month', 'weekday']]\n",
    "time_aware_accidents_df = time_aware_accidents_df.reset_index()\n",
    "time_aware_accidents_df = time_aware_accidents_df.groupby(('weekday', 'month')).count().reset_index()\n",
    "time_aware_accidents_df = time_aware_accidents_df.pivot('weekday', 'month', 'id')\n",
    "g = sns.heatmap(time_aware_accidents_df, cmap=\"YlGnBu\")\n",
    "g.set_xticklabels(g.get_xticklabels(), rotation=60)\n",
    "plt.show()"
   ]
  },
  {
   "cell_type": "markdown",
   "metadata": {},
   "source": [
    "Accidents distribution over the whole set of data (2011-2015) : Month"
   ]
  },
  {
   "cell_type": "code",
   "execution_count": 26,
   "metadata": {
    "collapsed": false
   },
   "outputs": [
    {
     "data": {
      "image/png": "[encoded data removed]",
      "text/plain": [
       "<matplotlib.figure.Figure at 0x1ec5e57b9e8>"
      ]
     },
     "metadata": {},
     "output_type": "display_data"
    }
   ],
   "source": [
    "fig, ax = plt.subplots()\n",
    "fig.set_size_inches(12, 4)\n",
    "g = sns.countplot(x='month', data=accidents_df, color='grey')\n",
    "g.set_xticklabels(g.get_xticklabels(), rotation=60)\n",
    "plt.show()"
   ]
  },
  {
   "cell_type": "markdown",
   "metadata": {},
   "source": [
    "Accidents distribution over the whole set of data (2011-2015) : Road type per day of week"
   ]
  },
  {
   "cell_type": "code",
   "execution_count": 27,
   "metadata": {
    "collapsed": false
   },
   "outputs": [
    {
     "data": {
      "image/png": "[encoded data removed]",
      "text/plain": [
       "<matplotlib.figure.Figure at 0x1ec5f956eb8>"
      ]
     },
     "metadata": {},
     "output_type": "display_data"
    }
   ],
   "source": [
    "fig, ax = plt.subplots()\n",
    "fig.set_size_inches(12, 4)\n",
    "g = sns.countplot(x='properties_roadtypecode', hue='weekday', data=accidents_df, color='grey')\n",
    "g.set_xticklabels(g.get_xticklabels(), rotation=60)\n",
    "plt.show()"
   ]
  },
  {
   "cell_type": "markdown",
   "metadata": {},
   "source": [
    "# Comments"
   ]
  },
  {
   "cell_type": "markdown",
   "metadata": {},
   "source": []
  },
  {
   "cell_type": "markdown",
   "metadata": {},
   "source": [
    "# Vizualisation"
   ]
  },
  {
   "cell_type": "markdown",
   "metadata": {},
   "source": [
    "This heatmap shows the accidents density (all accidents type).\n",
    "\n",
    "Clicking on the top right button allows the user to select the year(s) to display"
   ]
  },
  {
   "cell_type": "code",
   "execution_count": 28,
   "metadata": {
    "collapsed": true
   },
   "outputs": [],
   "source": [
    "accidents_df.to_json('data/accidents.json', orient='index')"
   ]
  },
  {
   "cell_type": "code",
   "execution_count": 29,
   "metadata": {
    "collapsed": false
   },
   "outputs": [
    {
     "data": {
      "text/html": [
       "<iframe src=\"heatmap.html\" width=\"1000px\" height=\"600px\"></iframe>"
      ],
      "text/plain": [
       "<IPython.core.display.HTML object>"
      ]
     },
     "metadata": {},
     "output_type": "display_data"
    }
   ],
   "source": [
    "%%html\n",
    "<iframe src=\"heatmap.html\" width=\"1000px\" height=\"600px\"></iframe>"
   ]
  },
  {
   "cell_type": "markdown",
   "metadata": {},
   "source": [
    "## Grid\n",
    "\n",
    "Our idea is to create squares all over the swiss map to create areas and then count the accident per area.\n",
    "\n",
    "Swiss coordinates system is designed so that no two x and y coordinates can be mixed, 1 unit is one meter on the field.\n",
    "\n",
    "min coord Y : 480000, 070000 (bottom left)\n",
    "max coord X : 840000, 300000 (top right)\n",
    "\n",
    "There are squares that are outside Switzerland, but we are not interesting in area with 0 value (as if there are not road there cannot be any accident as well)."
   ]
  },
  {
   "cell_type": "code",
   "execution_count": 30,
   "metadata": {
    "collapsed": true
   },
   "outputs": [],
   "source": [
    "xRange=840000-480000\n",
    "yRange=300000-70000\n",
    "\n",
    "def create_count_grid(square_size, df):\n",
    "    \"\"\"\n",
    "    Creates and fills an array with the count of accidents per squares\n",
    "    of size square_size on the map with the provided DataFrame df.\n",
    "    \"\"\"\n",
    "    nb_x = math.ceil(xRange/square_size)\n",
    "    nb_y = math.ceil(yRange/square_size)\n",
    "    \n",
    "    grid = np.zeros((nb_x, nb_y))\n",
    "    print(nb_x, nb_y, square_size, grid.shape)\n",
    "    \n",
    "    for index, row in df.iterrows():\n",
    "        x = math.floor((row['geometry_coordinates'][0] - 480000) / square_size)\n",
    "        y = math.floor((row['geometry_coordinates'][1] - 70000) / square_size)\n",
    "        grid[x, y] += 1\n",
    "    return grid\n",
    "\n",
    "\n",
    "def compute_ratio(grid):\n",
    "    \"\"\"\n",
    "    To find a good square size length, we compute a ratio that is (% of non empty squares)/(mean of non zero values)\n",
    "    \"\"\"\n",
    "    non_empty_indices = np.nonzero(grid)\n",
    "    grid_non_zero = grid[non_empty_indices]\n",
    "    \n",
    "    non_empty_pct = len(non_empty_indices) / (grid.shape[0] * grid.shape[1])\n",
    "    \n",
    "    mean = grid.mean()\n",
    "    mean_non_zero = grid_non_zero.mean()\n",
    "    \n",
    "    return non_empty_pct / mean_non_zero, non_empty_pct / mean\n",
    "\n",
    "\n",
    "def optimality_plot(df):\n",
    "    \"\"\"\n",
    "    Plot the result of the ratio per square length\n",
    "    \"\"\"\n",
    "    return [[i, compute_ratio(create_count_grid(i, df))] for i in range (500, 15000, 1000)]"
   ]
  },
  {
   "cell_type": "code",
   "execution_count": 31,
   "metadata": {
    "collapsed": true
   },
   "outputs": [],
   "source": [
    "def create_grid_per_year(all_data_df):\n",
    "    grid_count_list = list()\n",
    "    years = [2011, 2012, 2013, 2014, 2015]\n",
    "    for year in years:\n",
    "        filterer_year_df = all_data_df[all_data_df['year'] == year]\n",
    "        year_grid = create_count_grid(1000, filterer_year_df)\n",
    "        grid_count_list.append(year_grid)\n",
    "    return grid_count_list"
   ]
  },
  {
   "cell_type": "code",
   "execution_count": 32,
   "metadata": {
    "collapsed": false
   },
   "outputs": [
    {
     "name": "stdout",
     "output_type": "stream",
     "text": [
      "360 230 1000 (360, 230)\n",
      "360 230 1000 (360, 230)\n",
      "360 230 1000 (360, 230)\n",
      "360 230 1000 (360, 230)\n",
      "360 230 1000 (360, 230)\n"
     ]
    }
   ],
   "source": [
    "year_grids = create_grid_per_year(accidents_df)\n",
    "comp_grids = [np.abs(year_grids[i] - year_grids[i+1]) for i in range(len(year_grids) - 1)]"
   ]
  },
  {
   "cell_type": "code",
   "execution_count": 33,
   "metadata": {
    "collapsed": false
   },
   "outputs": [
    {
     "data": {
      "text/plain": [
       "17.0"
      ]
     },
     "execution_count": 33,
     "metadata": {},
     "output_type": "execute_result"
    }
   ],
   "source": [
    "x = comp_grids[3]\n",
    "x.max()"
   ]
  },
  {
   "cell_type": "code",
   "execution_count": 34,
   "metadata": {
    "collapsed": false
   },
   "outputs": [
    {
     "data": {
      "text/plain": [
       "(array([ 21, 131, 131, 199, 200, 201, 202, 205, 229], dtype=int64),\n",
       " array([ 45, 196, 198, 178, 177, 179, 178, 175, 198], dtype=int64))"
      ]
     },
     "execution_count": 34,
     "metadata": {},
     "output_type": "execute_result"
    }
   ],
   "source": [
    "where = np.where(x > x.max() - 5)\n",
    "where"
   ]
  },
  {
   "cell_type": "code",
   "execution_count": 35,
   "metadata": {
    "collapsed": false
   },
   "outputs": [
    {
     "name": "stdout",
     "output_type": "stream",
     "text": [
      "[46.179188323531939, 6.1565261388372221]\n",
      "[47.544630471599433, 7.5847472755055554]\n",
      "[47.562617912084434, 7.5847967134411105]\n",
      "[47.378095330034434, 8.4847293336588869]\n",
      "[47.368981225461106, 8.4977908229777768]\n",
      "[47.386845983249167, 8.5113904732972205]\n",
      "[47.377728889204434, 8.5244495538222207]\n",
      "[47.350368599756933, 8.5635999999305561]\n",
      "[47.553666670484439, 8.8867896628699992]\n"
     ]
    }
   ],
   "source": [
    "for i in range(len(where[0])):\n",
    "    print(ch1903_to_wgs84(where[0][i]*1000 + 480000, where[1][i]*1000 + 70000))"
   ]
  },
  {
   "cell_type": "code",
   "execution_count": 36,
   "metadata": {
    "collapsed": false
   },
   "outputs": [
    {
     "data": {
      "text/plain": [
       "[47.34592423287776, 7.90180454296111]"
      ]
     },
     "execution_count": 36,
     "metadata": {},
     "output_type": "execute_result"
    }
   ],
   "source": [
    "ch1903_to_wgs84(155000 + 480000, 174000 + 70000)"
   ]
  },
  {
   "cell_type": "code",
   "execution_count": 37,
   "metadata": {
    "collapsed": false
   },
   "outputs": [
    {
     "name": "stdout",
     "output_type": "stream",
     "text": [
      "635000 244000\n"
     ]
    }
   ],
   "source": [
    "print(155000 + 480000, 174000 + 70000)"
   ]
  },
  {
   "cell_type": "code",
   "execution_count": null,
   "metadata": {
    "collapsed": true
   },
   "outputs": [],
   "source": []
  },
  {
   "cell_type": "code",
   "execution_count": null,
   "metadata": {
    "collapsed": true
   },
   "outputs": [],
   "source": []
  },
  {
   "cell_type": "code",
   "execution_count": null,
   "metadata": {
    "collapsed": true
   },
   "outputs": [],
   "source": []
  }
 ],
 "metadata": {
  "anaconda-cloud": {},
  "kernelspec": {
   "display_name": "Python [Root]",
   "language": "python",
   "name": "Python [Root]"
  },
  "language_info": {
   "codemirror_mode": {
    "name": "ipython",
    "version": 3
   },
   "file_extension": ".py",
   "mimetype": "text/x-python",
   "name": "python",
   "nbconvert_exporter": "python",
   "pygments_lexer": "ipython3",
   "version": "3.5.2"
  }
 },
 "nbformat": 4,
 "nbformat_minor": 0
}
