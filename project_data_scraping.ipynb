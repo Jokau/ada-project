{
 "cells": [
  {
   "cell_type": "markdown",
   "metadata": {},
   "source": [
    "# Road Traffic Accidents in Switzerland"
   ]
  },
  {
   "cell_type": "markdown",
   "metadata": {},
   "source": [
    "Our project goal is to scrap all traffic accidents from the accidents map from http://map.donneesaccidents.ch/"
   ]
  },
  {
   "cell_type": "markdown",
   "metadata": {},
   "source": [
    "## Data scraping strategy"
   ]
  },
  {
   "cell_type": "markdown",
   "metadata": {},
   "source": [
    "Accessing http://map.donneesaccidents.ch/, wich redirects to : <br>\n",
    "https://map.geo.admin.ch/?topic=vu&lang=fr&bgLayer=ch.swisstopo.pixelkarte-grau&layers=ch.astra.unfaelle-personenschaeden_alle&layers_timestamp=&catalogNodes=1318\n",
    "\n",
    "\n",
    "Postman parses the following parameters : \n",
    "<code>\n",
    "topic:vu\n",
    "lang:en\n",
    "bgLayer:ch.swisstopo.pixelkarte-grau\n",
    "layers:ch.astra.unfaelle-personenschaeden_alle\n",
    "layers_timestamp:\n",
    "catalogNodes:1318\n",
    "</code>\n",
    "\n",
    "The most important one is layers:ch.astra.unfaelle-personenschaeden_alle.<br>\n",
    "It is the layer that contains all the geo-information dots on \"Accidents with personal injury\" which is the selected data layer.\n",
    "<img src=\"layer_selector.png\">\n",
    "\n",
    "Selection all kinds of accidents returns the following :<br>\n",
    "<img src=\"layer_selector_all.png\">\n",
    "with layer parameters :<br>\n",
    "layers:<br>\n",
    "    &nbsp;ch.astra.unfaelle-personenschaeden_alle,<br>\n",
    "    &nbsp;ch.astra.unfaelle-personenschaeden_getoetete,<br>\n",
    "    &nbsp;ch.astra.unfaelle-personenschaeden_fussgaenger,<br>\n",
    "    &nbsp;ch.astra.unfaelle-personenschaeden_fahrraeder,<br>\n",
    "    &nbsp;ch.astra.unfaelle-personenschaeden_motorraeder<br>\n",
    "layers_timestamp:,,,,<br>\n",
    "\n",
    "Now we want every data for each layer. By selecting a dot on the map, it queries the related data to the server.\n",
    "What we want to do is selecting all the entries in the map to retrieves all data. This is done by ctrl clicking the whole area.\n",
    "\n",
    "This makes a query for each \"layers\" parameter :\n",
    "<code>\n",
    "geometry:443999.04209536605,39001.6733318335,870499.0420953662,303001.67333183356\n",
    "geometryFormat:geojson\n",
    "geometryType:esriGeometryEnvelope\n",
    "imageDisplay:1536,759,96\n",
    "lang:en\n",
    "layers:all:<i>LAYER_PARAM</i>\n",
    "mapExtent:269999.04209536605,9501.673331833561,1037999.042095366,389001.67333183356\n",
    "returnGeometry:true\n",
    "tolerance:5\n",
    "</code><br>\n",
    "But doesn't select all dots on map, so let's try the \"load more results\" button on a 'accidetns with fatalities' layer, we get :\n",
    "<code>\n",
    "geometry:443999.04209536605,39001.6733318335,870499.0420953662,303001.67333183356\n",
    "geometryFormat:geojson\n",
    "geometryType:esriGeometryEnvelope\n",
    "imageDisplay:1536,759,96\n",
    "lang:en\n",
    "layers:all:ch.astra.unfaelle-personenschaeden_getoetete\n",
    "mapExtent:136199.04209536605,-28148.32666816644,1134599.042095366,465201.67333183356\n",
    "<b>offset:200</b>\n",
    "returnGeometry:true\n",
    "tolerance:5\n",
    "</code>\n",
    "Pressing load more until no more possible give offset=1200 (for a total of 1337 objects) i.e it loads data entries 200 by 200"
   ]
  },
  {
   "cell_type": "markdown",
   "metadata": {},
   "source": [
    "## JSON Data scraping"
   ]
  },
  {
   "cell_type": "code",
   "execution_count": 1,
   "metadata": {
    "collapsed": false
   },
   "outputs": [],
   "source": [
    "import requests\n",
    "import json\n",
    "\n",
    "import numpy as np\n",
    "import pandas as pd\n",
    "\n",
    "import matplotlib.pyplot as plt\n",
    "\n",
    "from Scripts.helpers import *\n",
    "from Scripts.plots import *\n",
    "\n",
    "\n",
    "import pprint\n",
    "#from bs4 import BeautifulSoup"
   ]
  },
  {
   "cell_type": "code",
   "execution_count": 2,
   "metadata": {
    "collapsed": false
   },
   "outputs": [],
   "source": [
    "pp = pprint.PrettyPrinter(indent=4)"
   ]
  },
  {
   "cell_type": "code",
   "execution_count": 3,
   "metadata": {
    "collapsed": false
   },
   "outputs": [
    {
     "name": "stdout",
     "output_type": "stream",
     "text": [
      "Processing layer : ch.astra.unfaelle-personenschaeden_alle\n",
      "Break in loop while\n",
      "Layer processed : 201 records\n",
      "\n",
      "Processing layer : ch.astra.unfaelle-personenschaeden_getoetete\n",
      "Break in loop while\n",
      "Layer processed : 201 records\n",
      "\n",
      "Processing layer : ch.astra.unfaelle-personenschaeden_fussgaenger\n",
      "Break in loop while\n",
      "Layer processed : 201 records\n",
      "\n",
      "Processing layer : ch.astra.unfaelle-personenschaeden_fahrraeder\n",
      "Break in loop while\n",
      "Layer processed : 201 records\n",
      "\n",
      "Processing layer : ch.astra.unfaelle-personenschaeden_motorraeder\n",
      "Break in loop while\n",
      "Layer processed : 201 records\n",
      "\n",
      "Whole dataset processed : 1005 records\n",
      "\n"
     ]
    }
   ],
   "source": [
    "#import raw data\n",
    "data = import_data(all_data = False)"
   ]
  },
  {
   "cell_type": "code",
   "execution_count": 4,
   "metadata": {
    "collapsed": false
   },
   "outputs": [],
   "source": [
    "#translate data from german\n",
    "json_data_preprocessed = preprocess_data(data)"
   ]
  },
  {
   "cell_type": "code",
   "execution_count": 5,
   "metadata": {
    "collapsed": false
   },
   "outputs": [
    {
     "name": "stdout",
     "output_type": "stream",
     "text": [
      "Data entry example after clean and reformat:\n",
      "\n"
     ]
    },
    {
     "data": {
      "text/plain": [
       "{'accidentday_fr': 'vendredi / 13h-14h / juin 2013',\n",
       " 'accidenttype_fr': 'dérapage ou perte de maîtrise',\n",
       " 'accidenttypecode': 0,\n",
       " 'accidentyear': 2013,\n",
       " 'bbox': [566407.0, 114552.0, 566407.0, 114552.0],\n",
       " 'canton': 'VS',\n",
       " 'coordinates': [566407.0, 114552.0],\n",
       " 'featureId': 'E1229FF577AA00D8E0430A8394270E90',\n",
       " 'fsocommunecode': '6217',\n",
       " 'geometryType': 'Feature',\n",
       " 'id': 'E1229FF577AA00D8E0430A8394270E90',\n",
       " 'label': 'Schleuder- oder Selbstunfall',\n",
       " 'layerBodId': 'ch.astra.unfaelle-personenschaeden_alle',\n",
       " 'layerName': 'Accidents avec dommages corporels',\n",
       " 'roadtype_fr': 'route secondaire',\n",
       " 'roadtypecode': 433,\n",
       " 'severitycategory_fr': 'accident avec blessés graves',\n",
       " 'severitycategorycode': 'USV',\n",
       " 'type': 'Feature'}"
      ]
     },
     "execution_count": 5,
     "metadata": {},
     "output_type": "execute_result"
    }
   ],
   "source": [
    "print(\"Data entry example after clean and reformat:\\n\")\n",
    "json_data_preprocessed[0]"
   ]
  },
  {
   "cell_type": "code",
   "execution_count": 6,
   "metadata": {
    "collapsed": false
   },
   "outputs": [
    {
     "data": {
      "text/html": [
       "<div>\n",
       "<table border=\"1\" class=\"dataframe\">\n",
       "  <thead>\n",
       "    <tr style=\"text-align: right;\">\n",
       "      <th></th>\n",
       "      <th>accidentday_fr</th>\n",
       "      <th>accidenttype_fr</th>\n",
       "      <th>accidenttypecode</th>\n",
       "      <th>accidentyear</th>\n",
       "      <th>bbox</th>\n",
       "      <th>canton</th>\n",
       "      <th>coordinates</th>\n",
       "      <th>featureId</th>\n",
       "      <th>fsocommunecode</th>\n",
       "      <th>geometryType</th>\n",
       "      <th>label</th>\n",
       "      <th>layerBodId</th>\n",
       "      <th>layerName</th>\n",
       "      <th>roadtype_fr</th>\n",
       "      <th>roadtypecode</th>\n",
       "      <th>severitycategory_fr</th>\n",
       "      <th>severitycategorycode</th>\n",
       "      <th>type</th>\n",
       "    </tr>\n",
       "    <tr>\n",
       "      <th>id</th>\n",
       "      <th></th>\n",
       "      <th></th>\n",
       "      <th></th>\n",
       "      <th></th>\n",
       "      <th></th>\n",
       "      <th></th>\n",
       "      <th></th>\n",
       "      <th></th>\n",
       "      <th></th>\n",
       "      <th></th>\n",
       "      <th></th>\n",
       "      <th></th>\n",
       "      <th></th>\n",
       "      <th></th>\n",
       "      <th></th>\n",
       "      <th></th>\n",
       "      <th></th>\n",
       "      <th></th>\n",
       "    </tr>\n",
       "  </thead>\n",
       "  <tbody>\n",
       "    <tr>\n",
       "      <th>26D92EB4201F0112E0530A839427D7EF</th>\n",
       "      <td>vendredi / 17h-18h / décembre 2015</td>\n",
       "      <td>accident impliquant des piétons</td>\n",
       "      <td>8</td>\n",
       "      <td>2015</td>\n",
       "      <td>[700036.0, 239831.0, 700036.0, 239831.0]</td>\n",
       "      <td>ZH</td>\n",
       "      <td>[700036.0, 239831.0]</td>\n",
       "      <td>26D92EB4201F0112E0530A839427D7EF</td>\n",
       "      <td>0115</td>\n",
       "      <td>Feature</td>\n",
       "      <td>Fussgängerunfall</td>\n",
       "      <td>ch.astra.unfaelle-personenschaeden_fussgaenger</td>\n",
       "      <td>Accidents avec la part. de piétons</td>\n",
       "      <td>route secondaire</td>\n",
       "      <td>433</td>\n",
       "      <td>accident avec blessés graves</td>\n",
       "      <td>USV</td>\n",
       "      <td>Feature</td>\n",
       "    </tr>\n",
       "    <tr>\n",
       "      <th>27DD1C1B91240104E0530A839427255D</th>\n",
       "      <td>mercredi / 20h-21h / novembre 2015</td>\n",
       "      <td>dérapage ou perte de maîtrise</td>\n",
       "      <td>0</td>\n",
       "      <td>2015</td>\n",
       "      <td>[496963.0, 118865.0, 496963.0, 118865.0]</td>\n",
       "      <td>GE</td>\n",
       "      <td>[496963.0, 118865.0]</td>\n",
       "      <td>27DD1C1B91240104E0530A839427255D</td>\n",
       "      <td>6643</td>\n",
       "      <td>Feature</td>\n",
       "      <td>Schleuder- oder Selbstunfall</td>\n",
       "      <td>ch.astra.unfaelle-personenschaeden_motorraeder</td>\n",
       "      <td>Accidents avec la part. de motos</td>\n",
       "      <td>route principale</td>\n",
       "      <td>432</td>\n",
       "      <td>accident avec blessés légers</td>\n",
       "      <td>ULV</td>\n",
       "      <td>Feature</td>\n",
       "    </tr>\n",
       "    <tr>\n",
       "      <th>2A791950C04700F8E0530A83942764B5</th>\n",
       "      <td>lundi / 17h-18h / décembre 2015</td>\n",
       "      <td>accident en quittant une route</td>\n",
       "      <td>3</td>\n",
       "      <td>2015</td>\n",
       "      <td>[571779.0, 225226.0, 571779.0, 225226.0]</td>\n",
       "      <td>BE</td>\n",
       "      <td>[571779.0, 225226.0]</td>\n",
       "      <td>2A791950C04700F8E0530A83942764B5</td>\n",
       "      <td>0434</td>\n",
       "      <td>Feature</td>\n",
       "      <td>Abbiegeunfall</td>\n",
       "      <td>ch.astra.unfaelle-personenschaeden_fahrraeder</td>\n",
       "      <td>Accidents avec la part. de vélos</td>\n",
       "      <td>route secondaire</td>\n",
       "      <td>433</td>\n",
       "      <td>accident avec blessés légers</td>\n",
       "      <td>ULV</td>\n",
       "      <td>Feature</td>\n",
       "    </tr>\n",
       "    <tr>\n",
       "      <th>28A6AC491A8500C2E0530A8394273B02</th>\n",
       "      <td>vendredi / 14h-15h / décembre 2015</td>\n",
       "      <td>accident en s'engageant sur une route</td>\n",
       "      <td>4</td>\n",
       "      <td>2015</td>\n",
       "      <td>[623267.0, 229455.0, 623267.0, 229455.0]</td>\n",
       "      <td>BE</td>\n",
       "      <td>[623267.0, 229455.0]</td>\n",
       "      <td>28A6AC491A8500C2E0530A8394273B02</td>\n",
       "      <td>0342</td>\n",
       "      <td>Feature</td>\n",
       "      <td>Einbiegeunfall</td>\n",
       "      <td>ch.astra.unfaelle-personenschaeden_motorraeder</td>\n",
       "      <td>Accidents avec la part. de motos</td>\n",
       "      <td>route principale</td>\n",
       "      <td>432</td>\n",
       "      <td>accident avec blessés légers</td>\n",
       "      <td>ULV</td>\n",
       "      <td>Feature</td>\n",
       "    </tr>\n",
       "    <tr>\n",
       "      <th>E1DDFB6443CC022CE0430A839427FC92</th>\n",
       "      <td>vendredi / 17h-18h / juin 2013</td>\n",
       "      <td>accident en traversant une route</td>\n",
       "      <td>5</td>\n",
       "      <td>2013</td>\n",
       "      <td>[703664.0, 243311.0, 703664.0, 243311.0]</td>\n",
       "      <td>ZH</td>\n",
       "      <td>[703664.0, 243311.0]</td>\n",
       "      <td>E1DDFB6443CC022CE0430A839427FC92</td>\n",
       "      <td>0121</td>\n",
       "      <td>Feature</td>\n",
       "      <td>Überqueren der Fahrbahn</td>\n",
       "      <td>ch.astra.unfaelle-personenschaeden_alle</td>\n",
       "      <td>Accidents avec dommages corporels</td>\n",
       "      <td>route secondaire</td>\n",
       "      <td>433</td>\n",
       "      <td>accident avec blessés légers</td>\n",
       "      <td>ULV</td>\n",
       "      <td>Feature</td>\n",
       "    </tr>\n",
       "  </tbody>\n",
       "</table>\n",
       "</div>"
      ],
      "text/plain": [
       "                                                      accidentday_fr  \\\n",
       "id                                                                     \n",
       "26D92EB4201F0112E0530A839427D7EF  vendredi / 17h-18h / décembre 2015   \n",
       "27DD1C1B91240104E0530A839427255D  mercredi / 20h-21h / novembre 2015   \n",
       "2A791950C04700F8E0530A83942764B5     lundi / 17h-18h / décembre 2015   \n",
       "28A6AC491A8500C2E0530A8394273B02  vendredi / 14h-15h / décembre 2015   \n",
       "E1DDFB6443CC022CE0430A839427FC92      vendredi / 17h-18h / juin 2013   \n",
       "\n",
       "                                                        accidenttype_fr  \\\n",
       "id                                                                        \n",
       "26D92EB4201F0112E0530A839427D7EF        accident impliquant des piétons   \n",
       "27DD1C1B91240104E0530A839427255D          dérapage ou perte de maîtrise   \n",
       "2A791950C04700F8E0530A83942764B5         accident en quittant une route   \n",
       "28A6AC491A8500C2E0530A8394273B02  accident en s'engageant sur une route   \n",
       "E1DDFB6443CC022CE0430A839427FC92       accident en traversant une route   \n",
       "\n",
       "                                  accidenttypecode  accidentyear  \\\n",
       "id                                                                 \n",
       "26D92EB4201F0112E0530A839427D7EF                 8          2015   \n",
       "27DD1C1B91240104E0530A839427255D                 0          2015   \n",
       "2A791950C04700F8E0530A83942764B5                 3          2015   \n",
       "28A6AC491A8500C2E0530A8394273B02                 4          2015   \n",
       "E1DDFB6443CC022CE0430A839427FC92                 5          2013   \n",
       "\n",
       "                                                                      bbox  \\\n",
       "id                                                                           \n",
       "26D92EB4201F0112E0530A839427D7EF  [700036.0, 239831.0, 700036.0, 239831.0]   \n",
       "27DD1C1B91240104E0530A839427255D  [496963.0, 118865.0, 496963.0, 118865.0]   \n",
       "2A791950C04700F8E0530A83942764B5  [571779.0, 225226.0, 571779.0, 225226.0]   \n",
       "28A6AC491A8500C2E0530A8394273B02  [623267.0, 229455.0, 623267.0, 229455.0]   \n",
       "E1DDFB6443CC022CE0430A839427FC92  [703664.0, 243311.0, 703664.0, 243311.0]   \n",
       "\n",
       "                                 canton           coordinates  \\\n",
       "id                                                              \n",
       "26D92EB4201F0112E0530A839427D7EF     ZH  [700036.0, 239831.0]   \n",
       "27DD1C1B91240104E0530A839427255D     GE  [496963.0, 118865.0]   \n",
       "2A791950C04700F8E0530A83942764B5     BE  [571779.0, 225226.0]   \n",
       "28A6AC491A8500C2E0530A8394273B02     BE  [623267.0, 229455.0]   \n",
       "E1DDFB6443CC022CE0430A839427FC92     ZH  [703664.0, 243311.0]   \n",
       "\n",
       "                                                         featureId  \\\n",
       "id                                                                   \n",
       "26D92EB4201F0112E0530A839427D7EF  26D92EB4201F0112E0530A839427D7EF   \n",
       "27DD1C1B91240104E0530A839427255D  27DD1C1B91240104E0530A839427255D   \n",
       "2A791950C04700F8E0530A83942764B5  2A791950C04700F8E0530A83942764B5   \n",
       "28A6AC491A8500C2E0530A8394273B02  28A6AC491A8500C2E0530A8394273B02   \n",
       "E1DDFB6443CC022CE0430A839427FC92  E1DDFB6443CC022CE0430A839427FC92   \n",
       "\n",
       "                                 fsocommunecode geometryType  \\\n",
       "id                                                             \n",
       "26D92EB4201F0112E0530A839427D7EF           0115      Feature   \n",
       "27DD1C1B91240104E0530A839427255D           6643      Feature   \n",
       "2A791950C04700F8E0530A83942764B5           0434      Feature   \n",
       "28A6AC491A8500C2E0530A8394273B02           0342      Feature   \n",
       "E1DDFB6443CC022CE0430A839427FC92           0121      Feature   \n",
       "\n",
       "                                                         label  \\\n",
       "id                                                               \n",
       "26D92EB4201F0112E0530A839427D7EF              Fussgängerunfall   \n",
       "27DD1C1B91240104E0530A839427255D  Schleuder- oder Selbstunfall   \n",
       "2A791950C04700F8E0530A83942764B5                 Abbiegeunfall   \n",
       "28A6AC491A8500C2E0530A8394273B02                Einbiegeunfall   \n",
       "E1DDFB6443CC022CE0430A839427FC92       Überqueren der Fahrbahn   \n",
       "\n",
       "                                                                      layerBodId  \\\n",
       "id                                                                                 \n",
       "26D92EB4201F0112E0530A839427D7EF  ch.astra.unfaelle-personenschaeden_fussgaenger   \n",
       "27DD1C1B91240104E0530A839427255D  ch.astra.unfaelle-personenschaeden_motorraeder   \n",
       "2A791950C04700F8E0530A83942764B5   ch.astra.unfaelle-personenschaeden_fahrraeder   \n",
       "28A6AC491A8500C2E0530A8394273B02  ch.astra.unfaelle-personenschaeden_motorraeder   \n",
       "E1DDFB6443CC022CE0430A839427FC92         ch.astra.unfaelle-personenschaeden_alle   \n",
       "\n",
       "                                                           layerName  \\\n",
       "id                                                                     \n",
       "26D92EB4201F0112E0530A839427D7EF  Accidents avec la part. de piétons   \n",
       "27DD1C1B91240104E0530A839427255D    Accidents avec la part. de motos   \n",
       "2A791950C04700F8E0530A83942764B5    Accidents avec la part. de vélos   \n",
       "28A6AC491A8500C2E0530A8394273B02    Accidents avec la part. de motos   \n",
       "E1DDFB6443CC022CE0430A839427FC92   Accidents avec dommages corporels   \n",
       "\n",
       "                                       roadtype_fr  roadtypecode  \\\n",
       "id                                                                 \n",
       "26D92EB4201F0112E0530A839427D7EF  route secondaire           433   \n",
       "27DD1C1B91240104E0530A839427255D  route principale           432   \n",
       "2A791950C04700F8E0530A83942764B5  route secondaire           433   \n",
       "28A6AC491A8500C2E0530A8394273B02  route principale           432   \n",
       "E1DDFB6443CC022CE0430A839427FC92  route secondaire           433   \n",
       "\n",
       "                                           severitycategory_fr  \\\n",
       "id                                                               \n",
       "26D92EB4201F0112E0530A839427D7EF  accident avec blessés graves   \n",
       "27DD1C1B91240104E0530A839427255D  accident avec blessés légers   \n",
       "2A791950C04700F8E0530A83942764B5  accident avec blessés légers   \n",
       "28A6AC491A8500C2E0530A8394273B02  accident avec blessés légers   \n",
       "E1DDFB6443CC022CE0430A839427FC92  accident avec blessés légers   \n",
       "\n",
       "                                 severitycategorycode     type  \n",
       "id                                                              \n",
       "26D92EB4201F0112E0530A839427D7EF                  USV  Feature  \n",
       "27DD1C1B91240104E0530A839427255D                  ULV  Feature  \n",
       "2A791950C04700F8E0530A83942764B5                  ULV  Feature  \n",
       "28A6AC491A8500C2E0530A8394273B02                  ULV  Feature  \n",
       "E1DDFB6443CC022CE0430A839427FC92                  ULV  Feature  "
      ]
     },
     "execution_count": 6,
     "metadata": {},
     "output_type": "execute_result"
    }
   ],
   "source": [
    "df = pd.DataFrame.from_dict(json_data_preprocessed)\n",
    "df.set_index('id', inplace=True)\n",
    "df.sample(5)"
   ]
  },
  {
   "cell_type": "code",
   "execution_count": 10,
   "metadata": {
    "collapsed": false
   },
   "outputs": [
    {
     "name": "stdout",
     "output_type": "stream",
     "text": [
      "plotting feature accidentday_fr\n",
      "plotting feature accidenttype_fr\n",
      "plotting feature accidenttypecode\n",
      "plotting feature accidentyear\n",
      "plotting feature canton\n",
      "plotting feature coordinates\n",
      "->    Error\n",
      "plotting feature fsocommunecode\n",
      "plotting feature label\n",
      "plotting feature layerName\n",
      "plotting feature roadtype_fr\n",
      "plotting feature roadtypecode\n",
      "plotting feature severitycategory_fr\n",
      "plotting feature severitycategorycode\n",
      "Done plotting - Saved plots in Resources/plots\n"
     ]
    }
   ],
   "source": [
    "for feature in df : \n",
    "    plot_feature(df, feature)\n",
    "print(\"Done plotting - Saved plots in Resources/plots\")"
   ]
  },
  {
   "cell_type": "markdown",
   "metadata": {},
   "source": [
    "# Data analysis"
   ]
  },
  {
   "cell_type": "markdown",
   "metadata": {},
   "source": [
    "1) Accidents par rapport au temps<br>\n",
    "2) Corrélation nombre/type d'accident avec les endroits (Valais ivresse)<br>\n",
    "3) Tracker des anomalies (fin/début d'une série d'accident) et essayer d'en trouver la cause<br>"
   ]
  },
  {
   "cell_type": "code",
   "execution_count": null,
   "metadata": {
    "collapsed": false
   },
   "outputs": [],
   "source": []
  },
  {
   "cell_type": "code",
   "execution_count": null,
   "metadata": {
    "collapsed": true
   },
   "outputs": [],
   "source": []
  }
 ],
 "metadata": {
  "anaconda-cloud": {},
  "kernelspec": {
   "display_name": "Python [default]",
   "language": "python",
   "name": "python3"
  },
  "language_info": {
   "codemirror_mode": {
    "name": "ipython",
    "version": 3
   },
   "file_extension": ".py",
   "mimetype": "text/x-python",
   "name": "python",
   "nbconvert_exporter": "python",
   "pygments_lexer": "ipython3",
   "version": "3.5.2"
  }
 },
 "nbformat": 4,
 "nbformat_minor": 0
}
