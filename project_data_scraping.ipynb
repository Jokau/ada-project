{
 "cells": [
  {
   "cell_type": "markdown",
   "metadata": {},
   "source": [
    "# Road Traffic Accidents in Switzerland"
   ]
  },
  {
   "cell_type": "markdown",
   "metadata": {},
   "source": [
    "In this project, we work with the data from Switzerland's road accidents."
   ]
  },
  {
   "cell_type": "code",
   "execution_count": 1,
   "metadata": {
    "collapsed": false
   },
   "outputs": [],
   "source": [
    "import helpers\n",
    "import json\n",
    "import matplotlib.pyplot as plt\n",
    "import numpy as np\n",
    "import pandas as pd\n",
    "import pickle\n",
    "import requests\n",
    "\n",
    "%load_ext autoreload\n",
    "%autoreload 2"
   ]
  },
  {
   "cell_type": "markdown",
   "metadata": {},
   "source": [
    "## Scraping the data"
   ]
  },
  {
   "cell_type": "markdown",
   "metadata": {},
   "source": [
    "Writing to the \"Office Fédéral des Statistiques\" was unsuccessful, so we resort to web scraping.\n",
    "\n",
    "The scraped data comes from http://map.donneesaccidents.ch/ (or https://map.geo.admin.ch/?topic=vu&lang=fr&bgLayer=ch.swisstopo.pixelkarte-grau&layers=ch.astra.unfaelle-personenschaeden_alle&layers_timestamp=&catalogNodes=1318, after redirections).\n",
    "\n",
    "#### Layers\n",
    "\n",
    "The map contains the following layers:\n",
    "* Accidents with personal injury\n",
    "* Accidents with fatalities\n",
    "* Accidents involving a pedestrian\n",
    "* Accidents involving a bicycle\n",
    "* Accidents involving a motorcycle\n",
    "\n",
    "There is no information regarding accidents where nobody is unjured, since by law only accidents in which someone is injured require police intervention. This explains why only these are archived.\n",
    "\n",
    "#### Getting detailed accident data\n",
    "\n",
    "The map only displays markers for each accident. When one or more markers are selected, a web query retrieves the information related to the selected markers. Using postman, we analysed such queries and found a way to select several or all markers on the map.\n",
    "\n",
    "This is achieved by defining a rectangle, and querying for all markers inside it. We declare a rectangle that encompasses all Switzerland. This behaviour can be simulated on the browser by holding the ctrl key (or cmd on mac) and dragging a rectangle over the map.\n",
    "The returned data is paginated, so it is necessary to go over all the pages to obtain all detailed accident data.\n",
    "\n",
    "Example query parameters:\n",
    "```\n",
    "geometry:443999.04209536605,39001.6733318335,870499.0420953662,303001.67333183356\n",
    "geometryFormat:geojson\n",
    "geometryType:esriGeometryEnvelope\n",
    "imageDisplay:1536,759,96\n",
    "lang:en\n",
    "layers:all:LAYER_PARAM\n",
    "offset:200\n",
    "mapExtent:269999.04209536605,9501.673331833561,1037999.042095366,389001.67333183356\n",
    "returnGeometry:true\n",
    "tolerance:5\n",
    "```\n",
    "\n",
    "`LAYER_PARAM` can be replaced by the appropriate layer name and `offset` is optional."
   ]
  },
  {
   "cell_type": "code",
   "execution_count": 12,
   "metadata": {
    "collapsed": false
   },
   "outputs": [
    {
     "name": "stdout",
     "output_type": "stream",
     "text": [
      "Scraping layer ch.astra.unfaelle-personenschaeden_alle\n",
      "Layer scraped : 90600 records\n",
      "Scraping layer ch.astra.unfaelle-personenschaeden_getoetete\n",
      "Layer scraped : 1343 records\n",
      "Scraping layer ch.astra.unfaelle-personenschaeden_fussgaenger\n",
      "Layer scraped : 11738 records\n",
      "Scraping layer ch.astra.unfaelle-personenschaeden_fahrraeder\n",
      "Layer scraped : 18104 records\n",
      "Scraping layer ch.astra.unfaelle-personenschaeden_motorraeder\n",
      "Layer scraped : 19676 records\n",
      "Scraped data: 141461 records\n"
     ]
    }
   ],
   "source": [
    "# Import raw data from http://map.donneesaccidents.ch/\n",
    "data = helpers.import_data()"
   ]
  },
  {
   "cell_type": "code",
   "execution_count": 18,
   "metadata": {
    "collapsed": false
   },
   "outputs": [],
   "source": [
    "pickle.dump(data, open('data/data_raw.pickle', 'wb'))"
   ]
  },
  {
   "cell_type": "code",
   "execution_count": 30,
   "metadata": {
    "collapsed": false
   },
   "outputs": [
    {
     "data": {
      "text/html": [
       "<div>\n",
       "<table border=\"1\" class=\"dataframe\">\n",
       "  <thead>\n",
       "    <tr style=\"text-align: right;\">\n",
       "      <th></th>\n",
       "      <th>bbox</th>\n",
       "      <th>featureId</th>\n",
       "      <th>geometry</th>\n",
       "      <th>geometryType</th>\n",
       "      <th>id</th>\n",
       "      <th>layerBodId</th>\n",
       "      <th>layerName</th>\n",
       "      <th>properties</th>\n",
       "      <th>type</th>\n",
       "    </tr>\n",
       "  </thead>\n",
       "  <tbody>\n",
       "    <tr>\n",
       "      <th>40540</th>\n",
       "      <td>[711582.0, 237485.0, 711582.0, 237485.0]</td>\n",
       "      <td>2288AB5886B801E0E0530A83942732C3</td>\n",
       "      <td>{'coordinates': [[711582.0, 237485.0]], 'type'...</td>\n",
       "      <td>Feature</td>\n",
       "      <td>2288AB5886B801E0E0530A83942732C3</td>\n",
       "      <td>ch.astra.unfaelle-personenschaeden_alle</td>\n",
       "      <td>Accidents avec dommages corporels</td>\n",
       "      <td>{'severitycategory_fr': 'accident avec blessés...</td>\n",
       "      <td>Feature</td>\n",
       "    </tr>\n",
       "    <tr>\n",
       "      <th>89667</th>\n",
       "      <td>[650379.0, 211879.0, 650379.0, 211879.0]</td>\n",
       "      <td>FDC33805335300FCE0430A8394272D3F</td>\n",
       "      <td>{'coordinates': [[650379.0, 211879.0]], 'type'...</td>\n",
       "      <td>Feature</td>\n",
       "      <td>FDC33805335300FCE0430A8394272D3F</td>\n",
       "      <td>ch.astra.unfaelle-personenschaeden_alle</td>\n",
       "      <td>Accidents avec dommages corporels</td>\n",
       "      <td>{'severitycategory_fr': 'accident avec blessés...</td>\n",
       "      <td>Feature</td>\n",
       "    </tr>\n",
       "    <tr>\n",
       "      <th>16808</th>\n",
       "      <td>[786378.0, 191612.0, 786378.0, 191612.0]</td>\n",
       "      <td>A7397F33ADD40190E0430A8394270190</td>\n",
       "      <td>{'coordinates': [[786378.0, 191612.0]], 'type'...</td>\n",
       "      <td>Feature</td>\n",
       "      <td>A7397F33ADD40190E0430A8394270190</td>\n",
       "      <td>ch.astra.unfaelle-personenschaeden_alle</td>\n",
       "      <td>Accidents avec dommages corporels</td>\n",
       "      <td>{'severitycategory_fr': 'accident avec blessés...</td>\n",
       "      <td>Feature</td>\n",
       "    </tr>\n",
       "    <tr>\n",
       "      <th>17136</th>\n",
       "      <td>[646844.0, 227879.0, 646844.0, 227879.0]</td>\n",
       "      <td>0170898A08D80126E0530A83942700AE</td>\n",
       "      <td>{'coordinates': [[646844.0, 227879.0]], 'type'...</td>\n",
       "      <td>Feature</td>\n",
       "      <td>0170898A08D80126E0530A83942700AE</td>\n",
       "      <td>ch.astra.unfaelle-personenschaeden_alle</td>\n",
       "      <td>Accidents avec dommages corporels</td>\n",
       "      <td>{'severitycategory_fr': 'accident avec blessés...</td>\n",
       "      <td>Feature</td>\n",
       "    </tr>\n",
       "    <tr>\n",
       "      <th>38940</th>\n",
       "      <td>[567319.0, 122230.0, 567319.0, 122230.0]</td>\n",
       "      <td>AF53FCC8B4E001A0E0430A83942701A0</td>\n",
       "      <td>{'coordinates': [[567319.0, 122230.0]], 'type'...</td>\n",
       "      <td>Feature</td>\n",
       "      <td>AF53FCC8B4E001A0E0430A83942701A0</td>\n",
       "      <td>ch.astra.unfaelle-personenschaeden_alle</td>\n",
       "      <td>Accidents avec dommages corporels</td>\n",
       "      <td>{'severitycategory_fr': 'accident avec blessés...</td>\n",
       "      <td>Feature</td>\n",
       "    </tr>\n",
       "  </tbody>\n",
       "</table>\n",
       "</div>"
      ],
      "text/plain": [
       "                                           bbox  \\\n",
       "40540  [711582.0, 237485.0, 711582.0, 237485.0]   \n",
       "89667  [650379.0, 211879.0, 650379.0, 211879.0]   \n",
       "16808  [786378.0, 191612.0, 786378.0, 191612.0]   \n",
       "17136  [646844.0, 227879.0, 646844.0, 227879.0]   \n",
       "38940  [567319.0, 122230.0, 567319.0, 122230.0]   \n",
       "\n",
       "                              featureId  \\\n",
       "40540  2288AB5886B801E0E0530A83942732C3   \n",
       "89667  FDC33805335300FCE0430A8394272D3F   \n",
       "16808  A7397F33ADD40190E0430A8394270190   \n",
       "17136  0170898A08D80126E0530A83942700AE   \n",
       "38940  AF53FCC8B4E001A0E0430A83942701A0   \n",
       "\n",
       "                                                geometry geometryType  \\\n",
       "40540  {'coordinates': [[711582.0, 237485.0]], 'type'...      Feature   \n",
       "89667  {'coordinates': [[650379.0, 211879.0]], 'type'...      Feature   \n",
       "16808  {'coordinates': [[786378.0, 191612.0]], 'type'...      Feature   \n",
       "17136  {'coordinates': [[646844.0, 227879.0]], 'type'...      Feature   \n",
       "38940  {'coordinates': [[567319.0, 122230.0]], 'type'...      Feature   \n",
       "\n",
       "                                     id  \\\n",
       "40540  2288AB5886B801E0E0530A83942732C3   \n",
       "89667  FDC33805335300FCE0430A8394272D3F   \n",
       "16808  A7397F33ADD40190E0430A8394270190   \n",
       "17136  0170898A08D80126E0530A83942700AE   \n",
       "38940  AF53FCC8B4E001A0E0430A83942701A0   \n",
       "\n",
       "                                    layerBodId  \\\n",
       "40540  ch.astra.unfaelle-personenschaeden_alle   \n",
       "89667  ch.astra.unfaelle-personenschaeden_alle   \n",
       "16808  ch.astra.unfaelle-personenschaeden_alle   \n",
       "17136  ch.astra.unfaelle-personenschaeden_alle   \n",
       "38940  ch.astra.unfaelle-personenschaeden_alle   \n",
       "\n",
       "                               layerName  \\\n",
       "40540  Accidents avec dommages corporels   \n",
       "89667  Accidents avec dommages corporels   \n",
       "16808  Accidents avec dommages corporels   \n",
       "17136  Accidents avec dommages corporels   \n",
       "38940  Accidents avec dommages corporels   \n",
       "\n",
       "                                              properties     type  \n",
       "40540  {'severitycategory_fr': 'accident avec blessés...  Feature  \n",
       "89667  {'severitycategory_fr': 'accident avec blessés...  Feature  \n",
       "16808  {'severitycategory_fr': 'accident avec blessés...  Feature  \n",
       "17136  {'severitycategory_fr': 'accident avec blessés...  Feature  \n",
       "38940  {'severitycategory_fr': 'accident avec blessés...  Feature  "
      ]
     },
     "execution_count": 30,
     "metadata": {},
     "output_type": "execute_result"
    }
   ],
   "source": [
    "raw_df = pd.DataFrame(data)\n",
    "raw_df.sample(5)"
   ]
  },
  {
   "cell_type": "markdown",
   "metadata": {},
   "source": [
    "## Exploring and cleaning the data"
   ]
  },
  {
   "cell_type": "code",
   "execution_count": 2,
   "metadata": {
    "collapsed": false
   },
   "outputs": [],
   "source": [
    "data = pickle.load(open('data/data_raw.pickle', 'rb'))"
   ]
  },
  {
   "cell_type": "markdown",
   "metadata": {},
   "source": [
    "In this initial data dump, we see the following fields:\n",
    "* **`bbox`** Redundant coordinates to place the accident on the map.\n",
    "* **`featureId`** Unique ID for an accident.\n",
    "* **`geometry`**  GeoJSON *geometry* object for the accident. Example:\n",
    "```\n",
    "{'coordinates': [[663430.0, 193370.0]], 'type': 'MultiPoint'}\n",
    "```\n",
    "* **`geometryType`** GeoJSON type\n",
    "* **`id`** Redundancy of `featureId`\n",
    "* **`layerBodId`** Map layers the accident belongs to\n",
    "* **`layerName`** Layer name\n",
    "* **`properties`** Accident properties. Example:\n",
    "```\n",
    "{'accidentday_de': 'Mittwoch / 12h-13h / Mai 2014',\n",
    " 'accidentday_fr': 'mercredi / 12h-13h / mai 2014',\n",
    " 'accidentday_it': 'Mercoledì / 12h-13h / Maggio 2014',\n",
    " 'accidenttype_de': 'Abbiegeunfall',\n",
    " 'accidenttype_fr': 'accident en quittant une route',\n",
    " 'accidenttype_it': 'Incidente nello svoltare',\n",
    " 'accidenttypecode': 3,\n",
    " 'accidentyear': 2014,\n",
    " 'canton': 'BE',\n",
    " 'fsocommunecode': '0979',\n",
    " 'label': 'Abbiegeunfall',\n",
    " 'roadtype_de': 'Nebenstrasse',\n",
    " 'roadtype_fr': 'route secondaire',\n",
    " 'roadtype_it': 'Strada secondaria',\n",
    " 'roadtypecode': 433,\n",
    " 'severitycategory_de': 'Unfall mit Leichtverletzten',\n",
    " 'severitycategory_fr': 'accident avec blessés légers',\n",
    " 'severitycategory_it': 'Incidente con feriti leggeri',\n",
    " 'severitycategorycode': 'ULV'}\n",
    "```\n",
    "* **`type`** Redundancy of `geometryType`\n",
    "\n",
    "The first step to be able to fully manipulate this data is to flatten it:"
   ]
  },
  {
   "cell_type": "code",
   "execution_count": 3,
   "metadata": {
    "collapsed": false
   },
   "outputs": [],
   "source": [
    "flat_data = [helpers.flatten(entry) for entry in data]"
   ]
  },
  {
   "cell_type": "code",
   "execution_count": 45,
   "metadata": {
    "collapsed": false
   },
   "outputs": [
    {
     "data": {
      "text/plain": [
       "Index(['bbox', 'featureId', 'geometryType', 'geometry_coordinates',\n",
       "       'geometry_type', 'id', 'layerBodId', 'layerName',\n",
       "       'properties_accidentday_de', 'properties_accidentday_fr',\n",
       "       'properties_accidentday_it', 'properties_accidenttype_de',\n",
       "       'properties_accidenttype_fr', 'properties_accidenttype_it',\n",
       "       'properties_accidenttypecode', 'properties_accidentyear',\n",
       "       'properties_canton', 'properties_fsocommunecode', 'properties_label',\n",
       "       'properties_roadtype_de', 'properties_roadtype_fr',\n",
       "       'properties_roadtype_it', 'properties_roadtypecode',\n",
       "       'properties_severitycategory_de', 'properties_severitycategory_fr',\n",
       "       'properties_severitycategory_it', 'properties_severitycategorycode',\n",
       "       'type'],\n",
       "      dtype='object')"
      ]
     },
     "execution_count": 45,
     "metadata": {},
     "output_type": "execute_result"
    }
   ],
   "source": [
    "accidents_df = pd.DataFrame(flat_data)\n",
    "accidents_df.columns"
   ]
  },
  {
   "cell_type": "markdown",
   "metadata": {},
   "source": [
    "To clean the data, we start by removing the columns that are irrelevant or redundant, such as:\n",
    "* **`bbox`** coordinates for the accident are available in the `geometry_coordinates` column.\n",
    "* **`featureId`** we keep `id`\n",
    "* **`geometryType` and `type`** Innecessary GeoJSON info\n",
    "* **`layerBodId`** we keep `layerName`\n",
    "* **Translations**: all translated fields are only kept in french (english not available).\n",
    "\n",
    "After removing all "
   ]
  },
  {
   "cell_type": "code",
   "execution_count": 46,
   "metadata": {
    "collapsed": false
   },
   "outputs": [],
   "source": [
    "accidents_df = accidents_df.drop([\n",
    "    'bbox',\n",
    "    'featureId',\n",
    "    'geometryType',\n",
    "    'type',\n",
    "    'layerName',\n",
    "    'properties_accidentday_de',\n",
    "    'properties_accidentday_it',\n",
    "    'properties_severitycategory_de',\n",
    "    'properties_severitycategory_it',\n",
    "    'properties_severitycategory_fr',\n",
    "    'properties_roadtype_de',\n",
    "    'properties_roadtype_it',\n",
    "    'properties_accidenttype_de',\n",
    "    'properties_accidenttype_it',\n",
    "    'properties_accidenttype_fr',\n",
    "    'properties_roadtype_fr',\n",
    "    'properties_label',\n",
    "    'geometry_type'\n",
    "], axis=1)\n",
    "\n",
    "# Select one set of coordinates for the accident\n",
    "accidents_df.geometry_coordinates = accidents_df.geometry_coordinates.apply(lambda x: x[0])\n",
    "\n",
    "accidents_df = accidents_df.set_index('id')\n",
    "accidents_df = accidents_df.sort_index()"
   ]
  },
  {
   "cell_type": "code",
   "execution_count": 47,
   "metadata": {
    "collapsed": false
   },
   "outputs": [
    {
     "data": {
      "text/html": [
       "<div>\n",
       "<table border=\"1\" class=\"dataframe\">\n",
       "  <thead>\n",
       "    <tr style=\"text-align: right;\">\n",
       "      <th></th>\n",
       "      <th>geometry_coordinates</th>\n",
       "      <th>layerBodId</th>\n",
       "      <th>properties_accidentday_fr</th>\n",
       "      <th>properties_accidenttypecode</th>\n",
       "      <th>properties_accidentyear</th>\n",
       "      <th>properties_canton</th>\n",
       "      <th>properties_fsocommunecode</th>\n",
       "      <th>properties_roadtypecode</th>\n",
       "      <th>properties_severitycategorycode</th>\n",
       "    </tr>\n",
       "    <tr>\n",
       "      <th>id</th>\n",
       "      <th></th>\n",
       "      <th></th>\n",
       "      <th></th>\n",
       "      <th></th>\n",
       "      <th></th>\n",
       "      <th></th>\n",
       "      <th></th>\n",
       "      <th></th>\n",
       "      <th></th>\n",
       "    </tr>\n",
       "  </thead>\n",
       "  <tbody>\n",
       "    <tr>\n",
       "      <th>000632B7E4500082E0530A83942743EA</th>\n",
       "      <td>[647210.0, 177439.0]</td>\n",
       "      <td>ch.astra.unfaelle-personenschaeden_fahrraeder</td>\n",
       "      <td>samedi / 22h-23h / juillet 2014</td>\n",
       "      <td>4</td>\n",
       "      <td>2014</td>\n",
       "      <td>BE</td>\n",
       "      <td>0573</td>\n",
       "      <td>432</td>\n",
       "      <td>USV</td>\n",
       "    </tr>\n",
       "    <tr>\n",
       "      <th>000632B7E4500082E0530A83942743EA</th>\n",
       "      <td>[647210.0, 177439.0]</td>\n",
       "      <td>ch.astra.unfaelle-personenschaeden_alle</td>\n",
       "      <td>samedi / 22h-23h / juillet 2014</td>\n",
       "      <td>4</td>\n",
       "      <td>2014</td>\n",
       "      <td>BE</td>\n",
       "      <td>0573</td>\n",
       "      <td>432</td>\n",
       "      <td>USV</td>\n",
       "    </tr>\n",
       "    <tr>\n",
       "      <th>000750DA26760038E0530A8394272B98</th>\n",
       "      <td>[685704.0, 252693.0]</td>\n",
       "      <td>ch.astra.unfaelle-personenschaeden_alle</td>\n",
       "      <td>jeudi / 16h-17h / juillet 2014</td>\n",
       "      <td>2</td>\n",
       "      <td>2014</td>\n",
       "      <td>ZH</td>\n",
       "      <td>0069</td>\n",
       "      <td>430</td>\n",
       "      <td>ULV</td>\n",
       "    </tr>\n",
       "    <tr>\n",
       "      <th>0007F58D137500F0E0530A839427CD36</th>\n",
       "      <td>[750913.0, 256375.0]</td>\n",
       "      <td>ch.astra.unfaelle-personenschaeden_motorraeder</td>\n",
       "      <td>mardi / 06h-07h / juin 2014</td>\n",
       "      <td>0</td>\n",
       "      <td>2014</td>\n",
       "      <td>SG</td>\n",
       "      <td>3212</td>\n",
       "      <td>432</td>\n",
       "      <td>USV</td>\n",
       "    </tr>\n",
       "    <tr>\n",
       "      <th>0007F58D151500F0E0530A839427CD36</th>\n",
       "      <td>[689567.0, 231957.0]</td>\n",
       "      <td>ch.astra.unfaelle-personenschaeden_alle</td>\n",
       "      <td>mercredi / 08h-09h / juin 2014</td>\n",
       "      <td>0</td>\n",
       "      <td>2014</td>\n",
       "      <td>ZH</td>\n",
       "      <td>0133</td>\n",
       "      <td>430</td>\n",
       "      <td>USV</td>\n",
       "    </tr>\n",
       "  </tbody>\n",
       "</table>\n",
       "</div>"
      ],
      "text/plain": [
       "                                  geometry_coordinates  \\\n",
       "id                                                       \n",
       "000632B7E4500082E0530A83942743EA  [647210.0, 177439.0]   \n",
       "000632B7E4500082E0530A83942743EA  [647210.0, 177439.0]   \n",
       "000750DA26760038E0530A8394272B98  [685704.0, 252693.0]   \n",
       "0007F58D137500F0E0530A839427CD36  [750913.0, 256375.0]   \n",
       "0007F58D151500F0E0530A839427CD36  [689567.0, 231957.0]   \n",
       "\n",
       "                                                                      layerBodId  \\\n",
       "id                                                                                 \n",
       "000632B7E4500082E0530A83942743EA   ch.astra.unfaelle-personenschaeden_fahrraeder   \n",
       "000632B7E4500082E0530A83942743EA         ch.astra.unfaelle-personenschaeden_alle   \n",
       "000750DA26760038E0530A8394272B98         ch.astra.unfaelle-personenschaeden_alle   \n",
       "0007F58D137500F0E0530A839427CD36  ch.astra.unfaelle-personenschaeden_motorraeder   \n",
       "0007F58D151500F0E0530A839427CD36         ch.astra.unfaelle-personenschaeden_alle   \n",
       "\n",
       "                                        properties_accidentday_fr  \\\n",
       "id                                                                  \n",
       "000632B7E4500082E0530A83942743EA  samedi / 22h-23h / juillet 2014   \n",
       "000632B7E4500082E0530A83942743EA  samedi / 22h-23h / juillet 2014   \n",
       "000750DA26760038E0530A8394272B98   jeudi / 16h-17h / juillet 2014   \n",
       "0007F58D137500F0E0530A839427CD36      mardi / 06h-07h / juin 2014   \n",
       "0007F58D151500F0E0530A839427CD36   mercredi / 08h-09h / juin 2014   \n",
       "\n",
       "                                  properties_accidenttypecode  \\\n",
       "id                                                              \n",
       "000632B7E4500082E0530A83942743EA                            4   \n",
       "000632B7E4500082E0530A83942743EA                            4   \n",
       "000750DA26760038E0530A8394272B98                            2   \n",
       "0007F58D137500F0E0530A839427CD36                            0   \n",
       "0007F58D151500F0E0530A839427CD36                            0   \n",
       "\n",
       "                                  properties_accidentyear properties_canton  \\\n",
       "id                                                                            \n",
       "000632B7E4500082E0530A83942743EA                     2014                BE   \n",
       "000632B7E4500082E0530A83942743EA                     2014                BE   \n",
       "000750DA26760038E0530A8394272B98                     2014                ZH   \n",
       "0007F58D137500F0E0530A839427CD36                     2014                SG   \n",
       "0007F58D151500F0E0530A839427CD36                     2014                ZH   \n",
       "\n",
       "                                 properties_fsocommunecode  \\\n",
       "id                                                           \n",
       "000632B7E4500082E0530A83942743EA                      0573   \n",
       "000632B7E4500082E0530A83942743EA                      0573   \n",
       "000750DA26760038E0530A8394272B98                      0069   \n",
       "0007F58D137500F0E0530A839427CD36                      3212   \n",
       "0007F58D151500F0E0530A839427CD36                      0133   \n",
       "\n",
       "                                  properties_roadtypecode  \\\n",
       "id                                                          \n",
       "000632B7E4500082E0530A83942743EA                      432   \n",
       "000632B7E4500082E0530A83942743EA                      432   \n",
       "000750DA26760038E0530A8394272B98                      430   \n",
       "0007F58D137500F0E0530A839427CD36                      432   \n",
       "0007F58D151500F0E0530A839427CD36                      430   \n",
       "\n",
       "                                 properties_severitycategorycode  \n",
       "id                                                                \n",
       "000632B7E4500082E0530A83942743EA                             USV  \n",
       "000632B7E4500082E0530A83942743EA                             USV  \n",
       "000750DA26760038E0530A8394272B98                             ULV  \n",
       "0007F58D137500F0E0530A839427CD36                             USV  \n",
       "0007F58D151500F0E0530A839427CD36                             USV  "
      ]
     },
     "execution_count": 47,
     "metadata": {},
     "output_type": "execute_result"
    }
   ],
   "source": [
    "accidents_df.head(5)"
   ]
  },
  {
   "cell_type": "code",
   "execution_count": 48,
   "metadata": {
    "collapsed": false
   },
   "outputs": [
    {
     "data": {
      "text/html": [
       "<div>\n",
       "<table border=\"1\" class=\"dataframe\">\n",
       "  <thead>\n",
       "    <tr style=\"text-align: right;\">\n",
       "      <th></th>\n",
       "      <th>geometry_coordinates</th>\n",
       "      <th>properties_accidenttypecode</th>\n",
       "      <th>properties_canton</th>\n",
       "      <th>properties_fsocommunecode</th>\n",
       "      <th>properties_roadtypecode</th>\n",
       "      <th>properties_severitycategorycode</th>\n",
       "      <th>withBodilyDamage</th>\n",
       "      <th>involvesBicycles</th>\n",
       "      <th>involvesMotorcycles</th>\n",
       "      <th>involvesPedestrians</th>\n",
       "      <th>withFatality</th>\n",
       "      <th>weekday</th>\n",
       "      <th>time</th>\n",
       "      <th>month</th>\n",
       "      <th>year</th>\n",
       "    </tr>\n",
       "    <tr>\n",
       "      <th>id</th>\n",
       "      <th></th>\n",
       "      <th></th>\n",
       "      <th></th>\n",
       "      <th></th>\n",
       "      <th></th>\n",
       "      <th></th>\n",
       "      <th></th>\n",
       "      <th></th>\n",
       "      <th></th>\n",
       "      <th></th>\n",
       "      <th></th>\n",
       "      <th></th>\n",
       "      <th></th>\n",
       "      <th></th>\n",
       "      <th></th>\n",
       "    </tr>\n",
       "  </thead>\n",
       "  <tbody>\n",
       "    <tr>\n",
       "      <th>BECCBAF1DB8E01EEE0430A8394271953</th>\n",
       "      <td>[718005.0, 197356.0]</td>\n",
       "      <td>With animals</td>\n",
       "      <td>GL</td>\n",
       "      <td>1631</td>\n",
       "      <td>432</td>\n",
       "      <td>heavy injuries</td>\n",
       "      <td>False</td>\n",
       "      <td>False</td>\n",
       "      <td>True</td>\n",
       "      <td>False</td>\n",
       "      <td>False</td>\n",
       "      <td>Friday</td>\n",
       "      <td>21h-22h</td>\n",
       "      <td>mai</td>\n",
       "      <td>2012</td>\n",
       "    </tr>\n",
       "    <tr>\n",
       "      <th>1EC41F940515000AE0530A8394277BAC</th>\n",
       "      <td>[678845.0, 259513.0]</td>\n",
       "      <td>Joining a road</td>\n",
       "      <td>ZH</td>\n",
       "      <td>0090</td>\n",
       "      <td>433</td>\n",
       "      <td>light injuries</td>\n",
       "      <td>True</td>\n",
       "      <td>False</td>\n",
       "      <td>False</td>\n",
       "      <td>False</td>\n",
       "      <td>False</td>\n",
       "      <td>Wednesday</td>\n",
       "      <td>15h-16h</td>\n",
       "      <td>juillet</td>\n",
       "      <td>2015</td>\n",
       "    </tr>\n",
       "    <tr>\n",
       "      <th>B46F8176652F01FCE0430A83942701FC</th>\n",
       "      <td>[599547.0, 200804.0]</td>\n",
       "      <td>Crossing a road</td>\n",
       "      <td>BE</td>\n",
       "      <td>0351</td>\n",
       "      <td>433</td>\n",
       "      <td>light injuries</td>\n",
       "      <td>True</td>\n",
       "      <td>False</td>\n",
       "      <td>False</td>\n",
       "      <td>False</td>\n",
       "      <td>False</td>\n",
       "      <td>Saturday</td>\n",
       "      <td>18h-19h</td>\n",
       "      <td>octobre</td>\n",
       "      <td>2011</td>\n",
       "    </tr>\n",
       "    <tr>\n",
       "      <th>0216EE83DF7600AAE0530A8394274D06</th>\n",
       "      <td>[574688.0, 196369.0]</td>\n",
       "      <td>Crossing a road</td>\n",
       "      <td>FR</td>\n",
       "      <td>2275</td>\n",
       "      <td>432</td>\n",
       "      <td>light injuries</td>\n",
       "      <td>True</td>\n",
       "      <td>False</td>\n",
       "      <td>False</td>\n",
       "      <td>False</td>\n",
       "      <td>False</td>\n",
       "      <td>Sunday</td>\n",
       "      <td>10h-11h</td>\n",
       "      <td>juillet</td>\n",
       "      <td>2014</td>\n",
       "    </tr>\n",
       "    <tr>\n",
       "      <th>198CA2C2124E0196E0530A8394278689</th>\n",
       "      <td>[500703.0, 115516.0]</td>\n",
       "      <td>Collision</td>\n",
       "      <td>GE</td>\n",
       "      <td>6608</td>\n",
       "      <td>432</td>\n",
       "      <td>light injuries</td>\n",
       "      <td>True</td>\n",
       "      <td>False</td>\n",
       "      <td>False</td>\n",
       "      <td>False</td>\n",
       "      <td>False</td>\n",
       "      <td>Friday</td>\n",
       "      <td>12h-13h</td>\n",
       "      <td>juillet</td>\n",
       "      <td>2015</td>\n",
       "    </tr>\n",
       "  </tbody>\n",
       "</table>\n",
       "</div>"
      ],
      "text/plain": [
       "                                  geometry_coordinates  \\\n",
       "id                                                       \n",
       "BECCBAF1DB8E01EEE0430A8394271953  [718005.0, 197356.0]   \n",
       "1EC41F940515000AE0530A8394277BAC  [678845.0, 259513.0]   \n",
       "B46F8176652F01FCE0430A83942701FC  [599547.0, 200804.0]   \n",
       "0216EE83DF7600AAE0530A8394274D06  [574688.0, 196369.0]   \n",
       "198CA2C2124E0196E0530A8394278689  [500703.0, 115516.0]   \n",
       "\n",
       "                                 properties_accidenttypecode  \\\n",
       "id                                                             \n",
       "BECCBAF1DB8E01EEE0430A8394271953                With animals   \n",
       "1EC41F940515000AE0530A8394277BAC              Joining a road   \n",
       "B46F8176652F01FCE0430A83942701FC             Crossing a road   \n",
       "0216EE83DF7600AAE0530A8394274D06             Crossing a road   \n",
       "198CA2C2124E0196E0530A8394278689                   Collision   \n",
       "\n",
       "                                 properties_canton properties_fsocommunecode  \\\n",
       "id                                                                             \n",
       "BECCBAF1DB8E01EEE0430A8394271953                GL                      1631   \n",
       "1EC41F940515000AE0530A8394277BAC                ZH                      0090   \n",
       "B46F8176652F01FCE0430A83942701FC                BE                      0351   \n",
       "0216EE83DF7600AAE0530A8394274D06                FR                      2275   \n",
       "198CA2C2124E0196E0530A8394278689                GE                      6608   \n",
       "\n",
       "                                  properties_roadtypecode  \\\n",
       "id                                                          \n",
       "BECCBAF1DB8E01EEE0430A8394271953                      432   \n",
       "1EC41F940515000AE0530A8394277BAC                      433   \n",
       "B46F8176652F01FCE0430A83942701FC                      433   \n",
       "0216EE83DF7600AAE0530A8394274D06                      432   \n",
       "198CA2C2124E0196E0530A8394278689                      432   \n",
       "\n",
       "                                 properties_severitycategorycode  \\\n",
       "id                                                                 \n",
       "BECCBAF1DB8E01EEE0430A8394271953                  heavy injuries   \n",
       "1EC41F940515000AE0530A8394277BAC                  light injuries   \n",
       "B46F8176652F01FCE0430A83942701FC                  light injuries   \n",
       "0216EE83DF7600AAE0530A8394274D06                  light injuries   \n",
       "198CA2C2124E0196E0530A8394278689                  light injuries   \n",
       "\n",
       "                                 withBodilyDamage involvesBicycles  \\\n",
       "id                                                                   \n",
       "BECCBAF1DB8E01EEE0430A8394271953            False            False   \n",
       "1EC41F940515000AE0530A8394277BAC             True            False   \n",
       "B46F8176652F01FCE0430A83942701FC             True            False   \n",
       "0216EE83DF7600AAE0530A8394274D06             True            False   \n",
       "198CA2C2124E0196E0530A8394278689             True            False   \n",
       "\n",
       "                                 involvesMotorcycles involvesPedestrians  \\\n",
       "id                                                                         \n",
       "BECCBAF1DB8E01EEE0430A8394271953                True               False   \n",
       "1EC41F940515000AE0530A8394277BAC               False               False   \n",
       "B46F8176652F01FCE0430A83942701FC               False               False   \n",
       "0216EE83DF7600AAE0530A8394274D06               False               False   \n",
       "198CA2C2124E0196E0530A8394278689               False               False   \n",
       "\n",
       "                                 withFatality    weekday     time    month  \\\n",
       "id                                                                           \n",
       "BECCBAF1DB8E01EEE0430A8394271953        False     Friday  21h-22h      mai   \n",
       "1EC41F940515000AE0530A8394277BAC        False  Wednesday  15h-16h  juillet   \n",
       "B46F8176652F01FCE0430A83942701FC        False   Saturday  18h-19h  octobre   \n",
       "0216EE83DF7600AAE0530A8394274D06        False     Sunday  10h-11h  juillet   \n",
       "198CA2C2124E0196E0530A8394278689        False     Friday  12h-13h  juillet   \n",
       "\n",
       "                                  year  \n",
       "id                                      \n",
       "BECCBAF1DB8E01EEE0430A8394271953  2012  \n",
       "1EC41F940515000AE0530A8394277BAC  2015  \n",
       "B46F8176652F01FCE0430A83942701FC  2011  \n",
       "0216EE83DF7600AAE0530A8394274D06  2014  \n",
       "198CA2C2124E0196E0530A8394278689  2015  "
      ]
     },
     "execution_count": 48,
     "metadata": {},
     "output_type": "execute_result"
    }
   ],
   "source": [
    "# Accident layers\n",
    "accidents_df['withBodilyDamage'] = accidents_df.layerBodId == 'ch.astra.unfaelle-personenschaeden_alle'\n",
    "accidents_df['involvesBicycles'] = accidents_df.layerBodId == 'ch.astra.unfaelle-personenschaeden_fahrraeder'\n",
    "accidents_df['involvesMotorcycles'] = accidents_df.layerBodId == 'ch.astra.unfaelle-personenschaeden_motorraeder'\n",
    "accidents_df['involvesPedestrians'] = accidents_df.layerBodId == 'ch.astra.unfaelle-personenschaeden_fussgaenger'\n",
    "accidents_df['withFatality'] = accidents_df.layerBodId == 'ch.astra.unfaelle-personenschaeden_getoetete'\n",
    "accidents_df = accidents_df.drop('layerBodId', axis=1)\n",
    "\n",
    "# Time properties\n",
    "weekdays_fr_en = {\n",
    "    'lundi': 'Monday',\n",
    "    'mardi': 'Tuesday',\n",
    "    'mercredi': 'Wednesday',\n",
    "    'jeudi': 'Thursday',\n",
    "    'vendredi': 'Friday',\n",
    "    'samedi': 'Saturday',\n",
    "    'dimanche': 'Sunday'\n",
    "}\n",
    "accidents_df.properties_accidentday_fr = accidents_df.properties_accidentday_fr.apply(lambda x: str.split(x, '/'))\n",
    "accidents_df['weekday'] = accidents_df.properties_accidentday_fr.apply(lambda x: weekdays_fr_en[x[0].strip(' ')])\n",
    "accidents_df['time'] = accidents_df.properties_accidentday_fr.apply(lambda x: x[1].strip(' '))\n",
    "accidents_df['month'] = accidents_df.properties_accidentday_fr.apply(lambda x: x[2].split()[0])\n",
    "accidents_df['year'] = accidents_df.properties_accidentyear\n",
    "accidents_df = accidents_df.drop('properties_accidentday_fr', axis=1)\n",
    "accidents_df = accidents_df.drop('properties_accidentyear', axis=1)\n",
    "\n",
    "# Accident severity\n",
    "severity_codes = {\n",
    "    'ULV': 'light injuries',\n",
    "    'USV': 'heavy injuries',\n",
    "    'UGT': 'deceased'\n",
    "}\n",
    "accidents_df.properties_severitycategorycode = accidents_df.properties_severitycategorycode.apply(lambda x: severity_codes[x])\n",
    "\n",
    "# Accident type\n",
    "accident_type = {\n",
    "    0: 'Skidding or control loss',\n",
    "    1: 'Overtaking or changing roads',\n",
    "    2: 'Collision',\n",
    "    3: 'Leaving a road',\n",
    "    4: \"Joining a road\",\n",
    "    5: 'Crossing a road',\n",
    "    6: 'Frontal collision',\n",
    "    7: 'Parking accident',\n",
    "    8: 'With pedestrians',\n",
    "    9: 'With animals',\n",
    "    99: 'Other'\n",
    "}\n",
    "accidents_df.properties_accidenttypecode = accidents_df.properties_accidenttypecode.apply(lambda x: accident_type[x])\n",
    "\n",
    "accidents_df.sample(5)"
   ]
  },
  {
   "cell_type": "code",
   "execution_count": 49,
   "metadata": {
    "collapsed": false
   },
   "outputs": [
    {
     "name": "stdout",
     "output_type": "stream",
     "text": [
      "There are 75022 accidents\n"
     ]
    }
   ],
   "source": [
    "accidents_df = accidents_df.groupby(by=accidents_df.index).agg({\n",
    "    'geometry_coordinates': 'first',\n",
    "    'properties_accidenttypecode': 'first',\n",
    "    'properties_canton': 'first',\n",
    "    'properties_fsocommunecode': 'first',\n",
    "    'properties_roadtypecode': 'first',\n",
    "    'properties_severitycategorycode': 'first',\n",
    "    'withBodilyDamage': np.max,\n",
    "    'involvesBicycles': np.max,\n",
    "    'involvesMotorcycles': np.max,\n",
    "    'involvesPedestrians': np.max,\n",
    "    'withFatality': np.max,\n",
    "    'weekday': 'first',\n",
    "    'time': 'first',\n",
    "    'month': 'first',\n",
    "    'year': 'first'\n",
    "})\n",
    "\n",
    "print('There are', len(accidents_df), 'accidents')"
   ]
  },
  {
   "cell_type": "code",
   "execution_count": 50,
   "metadata": {
    "collapsed": false
   },
   "outputs": [],
   "source": [
    "accidents_df.to_csv('data/accidents.csv')"
   ]
  },
  {
   "cell_type": "markdown",
   "metadata": {},
   "source": [
    "# Data analysis"
   ]
  },
  {
   "cell_type": "markdown",
   "metadata": {},
   "source": [
    "1) Accidents par rapport au temps<br>\n",
    "2) Corrélation nombre/type d'accident avec les endroits (Valais ivresse)<br>\n",
    "3) Tracker des anomalies (fin/début d'une série d'accident) et essayer d'en trouver la cause<br>"
   ]
  },
  {
   "cell_type": "code",
   "execution_count": 9,
   "metadata": {
    "collapsed": false
   },
   "outputs": [],
   "source": [
    "plot_feature_combination(df, ['accident_year', 'month'])"
   ]
  },
  {
   "cell_type": "code",
   "execution_count": 10,
   "metadata": {
    "collapsed": false
   },
   "outputs": [],
   "source": [
    "plot_feature_combination(df, ['canton','day'])"
   ]
  },
  {
   "cell_type": "code",
   "execution_count": 11,
   "metadata": {
    "collapsed": false
   },
   "outputs": [],
   "source": [
    "plot_feature_combination(df, ['road_type','day'])"
   ]
  },
  {
   "cell_type": "code",
   "execution_count": 12,
   "metadata": {
    "collapsed": false
   },
   "outputs": [],
   "source": [
    "plot_feature_combination(df, ['time', 'severity_category'])"
   ]
  },
  {
   "cell_type": "code",
   "execution_count": 13,
   "metadata": {
    "collapsed": false
   },
   "outputs": [
    {
     "data": {
      "text/plain": [
       "2194"
      ]
     },
     "execution_count": 13,
     "metadata": {},
     "output_type": "execute_result"
    }
   ],
   "source": [
    "len(df.fsocommunecode.unique())\n"
   ]
  },
  {
   "cell_type": "code",
   "execution_count": 14,
   "metadata": {
    "collapsed": false
   },
   "outputs": [],
   "source": [
    "plot_feature_combination(df, ['accident_type_code', 'severity_category_code'])"
   ]
  },
  {
   "cell_type": "code",
   "execution_count": 15,
   "metadata": {
    "collapsed": false
   },
   "outputs": [
    {
     "name": "stdout",
     "output_type": "stream",
     "text": [
      "***Generating feature combinations***\n",
      "-> Done\n",
      "***Plotting feature combinations***\n",
      "-> Done\n"
     ]
    }
   ],
   "source": [
    "plot_all_feature_combinations(df, ['coordinates'], 2)"
   ]
  },
  {
   "cell_type": "code",
   "execution_count": null,
   "metadata": {
    "collapsed": true
   },
   "outputs": [],
   "source": []
  }
 ],
 "metadata": {
  "anaconda-cloud": {},
  "kernelspec": {
   "display_name": "Python [Root]",
   "language": "python",
   "name": "Python [Root]"
  },
  "language_info": {
   "codemirror_mode": {
    "name": "ipython",
    "version": 3
   },
   "file_extension": ".py",
   "mimetype": "text/x-python",
   "name": "python",
   "nbconvert_exporter": "python",
   "pygments_lexer": "ipython3",
   "version": "3.5.2"
  }
 },
 "nbformat": 4,
 "nbformat_minor": 0
}
