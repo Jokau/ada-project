{
 "cells": [
  {
   "cell_type": "markdown",
   "metadata": {},
   "source": [
    "# Road Traffic Accidents in Switzerland"
   ]
  },
  {
   "cell_type": "markdown",
   "metadata": {},
   "source": [
    "In this project, we work with the data from Switzerland's road accidents."
   ]
  },
  {
   "cell_type": "code",
   "execution_count": 1,
   "metadata": {
    "collapsed": false
   },
   "outputs": [],
   "source": [
    "import helpers\n",
    "import json\n",
    "import math\n",
    "import matplotlib.pyplot as plt\n",
    "import numpy as np\n",
    "import pandas as pd\n",
    "import pickle\n",
    "import requests\n",
    "import seaborn as sns\n",
    "\n",
    "%load_ext autoreload\n",
    "%autoreload 2\n",
    "%matplotlib inline"
   ]
  },
  {
   "cell_type": "markdown",
   "metadata": {},
   "source": [
    "## Scraping the data"
   ]
  },
  {
   "cell_type": "markdown",
   "metadata": {},
   "source": [
    "Writing to the \"Office Fédéral des Statistiques\" was unsuccessful, so we resort to web scraping.\n",
    "\n",
    "The scraped data comes from http://map.donneesaccidents.ch/ (or https://map.geo.admin.ch/?topic=vu&lang=fr&bgLayer=ch.swisstopo.pixelkarte-grau&layers=ch.astra.unfaelle-personenschaeden_alle&layers_timestamp=&catalogNodes=1318, after redirections).\n",
    "\n",
    "![Map](Resources/images/swissaccidentsmap.png)\n",
    "\n",
    "#### Layers\n",
    "\n",
    "The map contains the following layers:\n",
    "* Accidents with personal injury\n",
    "* Accidents with fatalities\n",
    "* Accidents involving a pedestrian\n",
    "* Accidents involving a bicycle\n",
    "* Accidents involving a motorcycle\n",
    "\n",
    "There is no information regarding accidents where nobody is unjured, since by law only accidents in which someone is injured require police intervention. This explains why only these are archived.\n",
    "\n",
    "#### Getting detailed accident data\n",
    "\n",
    "The map only displays markers for each accident. When one or more markers are selected, a web query retrieves the information related to the selected markers. Using postman, we analysed such queries and found a way to select several or all markers on the map.\n",
    "\n",
    "This is achieved by defining a rectangle, and querying for all markers inside it. We declare a rectangle that encompasses all Switzerland. This behaviour can be simulated on the browser by holding the ctrl key (or cmd on mac) and dragging a rectangle over the map.\n",
    "The returned data is paginated, so it is necessary to go over all the pages to obtain all detailed accident data.\n",
    "\n",
    "Example query parameters:\n",
    "```\n",
    "geometry:443999.04209536605,39001.6733318335,870499.0420953662,303001.67333183356\n",
    "geometryFormat:geojson\n",
    "geometryType:esriGeometryEnvelope\n",
    "imageDisplay:1536,759,96\n",
    "lang:en\n",
    "layers:all:LAYER_PARAM\n",
    "offset:200\n",
    "mapExtent:269999.04209536605,9501.673331833561,1037999.042095366,389001.67333183356\n",
    "returnGeometry:true\n",
    "tolerance:5\n",
    "```\n",
    "\n",
    "`LAYER_PARAM` can be replaced by the appropriate layer name and `offset` is optional."
   ]
  },
  {
   "cell_type": "code",
   "execution_count": 12,
   "metadata": {
    "collapsed": false
   },
   "outputs": [
    {
     "name": "stdout",
     "output_type": "stream",
     "text": [
      "Scraping layer ch.astra.unfaelle-personenschaeden_alle\n",
      "Layer scraped : 90600 records\n",
      "Scraping layer ch.astra.unfaelle-personenschaeden_getoetete\n",
      "Layer scraped : 1343 records\n",
      "Scraping layer ch.astra.unfaelle-personenschaeden_fussgaenger\n",
      "Layer scraped : 11738 records\n",
      "Scraping layer ch.astra.unfaelle-personenschaeden_fahrraeder\n",
      "Layer scraped : 18104 records\n",
      "Scraping layer ch.astra.unfaelle-personenschaeden_motorraeder\n",
      "Layer scraped : 19676 records\n",
      "Scraped data: 141461 records\n"
     ]
    }
   ],
   "source": [
    "# Import raw data from http://map.donneesaccidents.ch/\n",
    "data = helpers.import_data()"
   ]
  },
  {
   "cell_type": "code",
   "execution_count": 18,
   "metadata": {
    "collapsed": false
   },
   "outputs": [],
   "source": [
    "pickle.dump(data, open('data/data_raw.pickle', 'wb'))"
   ]
  },
  {
   "cell_type": "code",
   "execution_count": 30,
   "metadata": {
    "collapsed": false
   },
   "outputs": [
    {
     "data": {
      "text/html": [
       "<div>\n",
       "<table border=\"1\" class=\"dataframe\">\n",
       "  <thead>\n",
       "    <tr style=\"text-align: right;\">\n",
       "      <th></th>\n",
       "      <th>bbox</th>\n",
       "      <th>featureId</th>\n",
       "      <th>geometry</th>\n",
       "      <th>geometryType</th>\n",
       "      <th>id</th>\n",
       "      <th>layerBodId</th>\n",
       "      <th>layerName</th>\n",
       "      <th>properties</th>\n",
       "      <th>type</th>\n",
       "    </tr>\n",
       "  </thead>\n",
       "  <tbody>\n",
       "    <tr>\n",
       "      <th>40540</th>\n",
       "      <td>[711582.0, 237485.0, 711582.0, 237485.0]</td>\n",
       "      <td>2288AB5886B801E0E0530A83942732C3</td>\n",
       "      <td>{'coordinates': [[711582.0, 237485.0]], 'type'...</td>\n",
       "      <td>Feature</td>\n",
       "      <td>2288AB5886B801E0E0530A83942732C3</td>\n",
       "      <td>ch.astra.unfaelle-personenschaeden_alle</td>\n",
       "      <td>Accidents avec dommages corporels</td>\n",
       "      <td>{'severitycategory_fr': 'accident avec blessés...</td>\n",
       "      <td>Feature</td>\n",
       "    </tr>\n",
       "    <tr>\n",
       "      <th>89667</th>\n",
       "      <td>[650379.0, 211879.0, 650379.0, 211879.0]</td>\n",
       "      <td>FDC33805335300FCE0430A8394272D3F</td>\n",
       "      <td>{'coordinates': [[650379.0, 211879.0]], 'type'...</td>\n",
       "      <td>Feature</td>\n",
       "      <td>FDC33805335300FCE0430A8394272D3F</td>\n",
       "      <td>ch.astra.unfaelle-personenschaeden_alle</td>\n",
       "      <td>Accidents avec dommages corporels</td>\n",
       "      <td>{'severitycategory_fr': 'accident avec blessés...</td>\n",
       "      <td>Feature</td>\n",
       "    </tr>\n",
       "    <tr>\n",
       "      <th>16808</th>\n",
       "      <td>[786378.0, 191612.0, 786378.0, 191612.0]</td>\n",
       "      <td>A7397F33ADD40190E0430A8394270190</td>\n",
       "      <td>{'coordinates': [[786378.0, 191612.0]], 'type'...</td>\n",
       "      <td>Feature</td>\n",
       "      <td>A7397F33ADD40190E0430A8394270190</td>\n",
       "      <td>ch.astra.unfaelle-personenschaeden_alle</td>\n",
       "      <td>Accidents avec dommages corporels</td>\n",
       "      <td>{'severitycategory_fr': 'accident avec blessés...</td>\n",
       "      <td>Feature</td>\n",
       "    </tr>\n",
       "    <tr>\n",
       "      <th>17136</th>\n",
       "      <td>[646844.0, 227879.0, 646844.0, 227879.0]</td>\n",
       "      <td>0170898A08D80126E0530A83942700AE</td>\n",
       "      <td>{'coordinates': [[646844.0, 227879.0]], 'type'...</td>\n",
       "      <td>Feature</td>\n",
       "      <td>0170898A08D80126E0530A83942700AE</td>\n",
       "      <td>ch.astra.unfaelle-personenschaeden_alle</td>\n",
       "      <td>Accidents avec dommages corporels</td>\n",
       "      <td>{'severitycategory_fr': 'accident avec blessés...</td>\n",
       "      <td>Feature</td>\n",
       "    </tr>\n",
       "    <tr>\n",
       "      <th>38940</th>\n",
       "      <td>[567319.0, 122230.0, 567319.0, 122230.0]</td>\n",
       "      <td>AF53FCC8B4E001A0E0430A83942701A0</td>\n",
       "      <td>{'coordinates': [[567319.0, 122230.0]], 'type'...</td>\n",
       "      <td>Feature</td>\n",
       "      <td>AF53FCC8B4E001A0E0430A83942701A0</td>\n",
       "      <td>ch.astra.unfaelle-personenschaeden_alle</td>\n",
       "      <td>Accidents avec dommages corporels</td>\n",
       "      <td>{'severitycategory_fr': 'accident avec blessés...</td>\n",
       "      <td>Feature</td>\n",
       "    </tr>\n",
       "  </tbody>\n",
       "</table>\n",
       "</div>"
      ],
      "text/plain": [
       "                                           bbox  \\\n",
       "40540  [711582.0, 237485.0, 711582.0, 237485.0]   \n",
       "89667  [650379.0, 211879.0, 650379.0, 211879.0]   \n",
       "16808  [786378.0, 191612.0, 786378.0, 191612.0]   \n",
       "17136  [646844.0, 227879.0, 646844.0, 227879.0]   \n",
       "38940  [567319.0, 122230.0, 567319.0, 122230.0]   \n",
       "\n",
       "                              featureId  \\\n",
       "40540  2288AB5886B801E0E0530A83942732C3   \n",
       "89667  FDC33805335300FCE0430A8394272D3F   \n",
       "16808  A7397F33ADD40190E0430A8394270190   \n",
       "17136  0170898A08D80126E0530A83942700AE   \n",
       "38940  AF53FCC8B4E001A0E0430A83942701A0   \n",
       "\n",
       "                                                geometry geometryType  \\\n",
       "40540  {'coordinates': [[711582.0, 237485.0]], 'type'...      Feature   \n",
       "89667  {'coordinates': [[650379.0, 211879.0]], 'type'...      Feature   \n",
       "16808  {'coordinates': [[786378.0, 191612.0]], 'type'...      Feature   \n",
       "17136  {'coordinates': [[646844.0, 227879.0]], 'type'...      Feature   \n",
       "38940  {'coordinates': [[567319.0, 122230.0]], 'type'...      Feature   \n",
       "\n",
       "                                     id  \\\n",
       "40540  2288AB5886B801E0E0530A83942732C3   \n",
       "89667  FDC33805335300FCE0430A8394272D3F   \n",
       "16808  A7397F33ADD40190E0430A8394270190   \n",
       "17136  0170898A08D80126E0530A83942700AE   \n",
       "38940  AF53FCC8B4E001A0E0430A83942701A0   \n",
       "\n",
       "                                    layerBodId  \\\n",
       "40540  ch.astra.unfaelle-personenschaeden_alle   \n",
       "89667  ch.astra.unfaelle-personenschaeden_alle   \n",
       "16808  ch.astra.unfaelle-personenschaeden_alle   \n",
       "17136  ch.astra.unfaelle-personenschaeden_alle   \n",
       "38940  ch.astra.unfaelle-personenschaeden_alle   \n",
       "\n",
       "                               layerName  \\\n",
       "40540  Accidents avec dommages corporels   \n",
       "89667  Accidents avec dommages corporels   \n",
       "16808  Accidents avec dommages corporels   \n",
       "17136  Accidents avec dommages corporels   \n",
       "38940  Accidents avec dommages corporels   \n",
       "\n",
       "                                              properties     type  \n",
       "40540  {'severitycategory_fr': 'accident avec blessés...  Feature  \n",
       "89667  {'severitycategory_fr': 'accident avec blessés...  Feature  \n",
       "16808  {'severitycategory_fr': 'accident avec blessés...  Feature  \n",
       "17136  {'severitycategory_fr': 'accident avec blessés...  Feature  \n",
       "38940  {'severitycategory_fr': 'accident avec blessés...  Feature  "
      ]
     },
     "execution_count": 30,
     "metadata": {},
     "output_type": "execute_result"
    }
   ],
   "source": [
    "raw_df = pd.DataFrame(data)\n",
    "raw_df.sample(5)"
   ]
  },
  {
   "cell_type": "markdown",
   "metadata": {},
   "source": [
    "## Cleaning the data"
   ]
  },
  {
   "cell_type": "code",
   "execution_count": 2,
   "metadata": {
    "collapsed": false
   },
   "outputs": [],
   "source": [
    "data = pickle.load(open('data/data_raw.pickle', 'rb'))"
   ]
  },
  {
   "cell_type": "markdown",
   "metadata": {},
   "source": [
    "In this initial data dump, we see the following fields:\n",
    "* **`bbox`** Redundant coordinates to place the accident on the map.\n",
    "* **`featureId`** Unique ID for an accident.\n",
    "* **`geometry`**  GeoJSON *geometry* object for the accident. Example:\n",
    "```\n",
    "{'coordinates': [[663430.0, 193370.0]], 'type': 'MultiPoint'}\n",
    "```\n",
    "* **`geometryType`** GeoJSON type\n",
    "* **`id`** Redundancy of `featureId`\n",
    "* **`layerBodId`** Map layers the accident belongs to\n",
    "* **`layerName`** Layer name\n",
    "* **`properties`** Accident properties. Example:\n",
    "```\n",
    "{'accidentday_de': 'Mittwoch / 12h-13h / Mai 2014',\n",
    " 'accidentday_fr': 'mercredi / 12h-13h / mai 2014',\n",
    " 'accidentday_it': 'Mercoledì / 12h-13h / Maggio 2014',\n",
    " 'accidenttype_de': 'Abbiegeunfall',\n",
    " 'accidenttype_fr': 'accident en quittant une route',\n",
    " 'accidenttype_it': 'Incidente nello svoltare',\n",
    " 'accidenttypecode': 3,\n",
    " 'accidentyear': 2014,\n",
    " 'canton': 'BE',\n",
    " 'fsocommunecode': '0979',\n",
    " 'label': 'Abbiegeunfall',\n",
    " 'roadtype_de': 'Nebenstrasse',\n",
    " 'roadtype_fr': 'route secondaire',\n",
    " 'roadtype_it': 'Strada secondaria',\n",
    " 'roadtypecode': 433,\n",
    " 'severitycategory_de': 'Unfall mit Leichtverletzten',\n",
    " 'severitycategory_fr': 'accident avec blessés légers',\n",
    " 'severitycategory_it': 'Incidente con feriti leggeri',\n",
    " 'severitycategorycode': 'ULV'}\n",
    "```\n",
    "* **`type`** Redundancy of `geometryType`\n",
    "\n",
    "The first step to be able to fully manipulate this data is to flatten it:"
   ]
  },
  {
   "cell_type": "code",
   "execution_count": 3,
   "metadata": {
    "collapsed": false
   },
   "outputs": [],
   "source": [
    "flat_data = [helpers.flatten(entry) for entry in data]"
   ]
  },
  {
   "cell_type": "code",
   "execution_count": 4,
   "metadata": {
    "collapsed": false
   },
   "outputs": [
    {
     "data": {
      "text/plain": [
       "Index(['bbox', 'featureId', 'geometryType', 'geometry_coordinates',\n",
       "       'geometry_type', 'id', 'layerBodId', 'layerName',\n",
       "       'properties_accidentday_de', 'properties_accidentday_fr',\n",
       "       'properties_accidentday_it', 'properties_accidenttype_de',\n",
       "       'properties_accidenttype_fr', 'properties_accidenttype_it',\n",
       "       'properties_accidenttypecode', 'properties_accidentyear',\n",
       "       'properties_canton', 'properties_fsocommunecode', 'properties_label',\n",
       "       'properties_roadtype_de', 'properties_roadtype_fr',\n",
       "       'properties_roadtype_it', 'properties_roadtypecode',\n",
       "       'properties_severitycategory_de', 'properties_severitycategory_fr',\n",
       "       'properties_severitycategory_it', 'properties_severitycategorycode',\n",
       "       'type'],\n",
       "      dtype='object')"
      ]
     },
     "execution_count": 4,
     "metadata": {},
     "output_type": "execute_result"
    }
   ],
   "source": [
    "accidents_df = pd.DataFrame(flat_data)\n",
    "accidents_df.columns"
   ]
  },
  {
   "cell_type": "markdown",
   "metadata": {},
   "source": [
    "To clean the data, we start by removing the columns that are irrelevant or redundant, such as:\n",
    "* **`bbox`** coordinates for the accident are available in the `geometry_coordinates` column.\n",
    "* **`featureId`** we keep `id`\n",
    "* **`geometryType` and `type`** Innecessary GeoJSON info\n",
    "* **`layerBodId`** we keep `layerName`\n",
    "* **Translations**: all translated fields are only kept in french (english not available).\n",
    "\n",
    "After removing all "
   ]
  },
  {
   "cell_type": "code",
   "execution_count": 5,
   "metadata": {
    "collapsed": false
   },
   "outputs": [],
   "source": [
    "accidents_df = accidents_df.drop([\n",
    "    'bbox',\n",
    "    'featureId',\n",
    "    'geometryType',\n",
    "    'type',\n",
    "    'layerName',\n",
    "    'properties_accidentday_de',\n",
    "    'properties_accidentday_it',\n",
    "    'properties_severitycategory_de',\n",
    "    'properties_severitycategory_it',\n",
    "    'properties_severitycategory_fr',\n",
    "    'properties_roadtype_de',\n",
    "    'properties_roadtype_it',\n",
    "    'properties_accidenttype_de',\n",
    "    'properties_accidenttype_it',\n",
    "    'properties_accidenttype_fr',\n",
    "    'properties_roadtype_fr',\n",
    "    'properties_label',\n",
    "    'geometry_type'\n",
    "], axis=1)\n",
    "\n",
    "# Select one set of coordinates for the accident\n",
    "accidents_df.geometry_coordinates = accidents_df.geometry_coordinates.apply(lambda x: x[0])\n",
    "\n",
    "accidents_df = accidents_df.set_index('id')\n",
    "accidents_df = accidents_df.sort_index()"
   ]
  },
  {
   "cell_type": "code",
   "execution_count": 6,
   "metadata": {
    "collapsed": false
   },
   "outputs": [
    {
     "data": {
      "text/html": [
       "<div>\n",
       "<table border=\"1\" class=\"dataframe\">\n",
       "  <thead>\n",
       "    <tr style=\"text-align: right;\">\n",
       "      <th></th>\n",
       "      <th>geometry_coordinates</th>\n",
       "      <th>layerBodId</th>\n",
       "      <th>properties_accidentday_fr</th>\n",
       "      <th>properties_accidenttypecode</th>\n",
       "      <th>properties_accidentyear</th>\n",
       "      <th>properties_canton</th>\n",
       "      <th>properties_fsocommunecode</th>\n",
       "      <th>properties_roadtypecode</th>\n",
       "      <th>properties_severitycategorycode</th>\n",
       "    </tr>\n",
       "    <tr>\n",
       "      <th>id</th>\n",
       "      <th></th>\n",
       "      <th></th>\n",
       "      <th></th>\n",
       "      <th></th>\n",
       "      <th></th>\n",
       "      <th></th>\n",
       "      <th></th>\n",
       "      <th></th>\n",
       "      <th></th>\n",
       "    </tr>\n",
       "  </thead>\n",
       "  <tbody>\n",
       "    <tr>\n",
       "      <th>000632B7E4500082E0530A83942743EA</th>\n",
       "      <td>[647210.0, 177439.0]</td>\n",
       "      <td>ch.astra.unfaelle-personenschaeden_fahrraeder</td>\n",
       "      <td>samedi / 22h-23h / juillet 2014</td>\n",
       "      <td>4</td>\n",
       "      <td>2014</td>\n",
       "      <td>BE</td>\n",
       "      <td>0573</td>\n",
       "      <td>432</td>\n",
       "      <td>USV</td>\n",
       "    </tr>\n",
       "    <tr>\n",
       "      <th>000632B7E4500082E0530A83942743EA</th>\n",
       "      <td>[647210.0, 177439.0]</td>\n",
       "      <td>ch.astra.unfaelle-personenschaeden_alle</td>\n",
       "      <td>samedi / 22h-23h / juillet 2014</td>\n",
       "      <td>4</td>\n",
       "      <td>2014</td>\n",
       "      <td>BE</td>\n",
       "      <td>0573</td>\n",
       "      <td>432</td>\n",
       "      <td>USV</td>\n",
       "    </tr>\n",
       "    <tr>\n",
       "      <th>000750DA26760038E0530A8394272B98</th>\n",
       "      <td>[685704.0, 252693.0]</td>\n",
       "      <td>ch.astra.unfaelle-personenschaeden_alle</td>\n",
       "      <td>jeudi / 16h-17h / juillet 2014</td>\n",
       "      <td>2</td>\n",
       "      <td>2014</td>\n",
       "      <td>ZH</td>\n",
       "      <td>0069</td>\n",
       "      <td>430</td>\n",
       "      <td>ULV</td>\n",
       "    </tr>\n",
       "    <tr>\n",
       "      <th>0007F58D137500F0E0530A839427CD36</th>\n",
       "      <td>[750913.0, 256375.0]</td>\n",
       "      <td>ch.astra.unfaelle-personenschaeden_motorraeder</td>\n",
       "      <td>mardi / 06h-07h / juin 2014</td>\n",
       "      <td>0</td>\n",
       "      <td>2014</td>\n",
       "      <td>SG</td>\n",
       "      <td>3212</td>\n",
       "      <td>432</td>\n",
       "      <td>USV</td>\n",
       "    </tr>\n",
       "    <tr>\n",
       "      <th>0007F58D151500F0E0530A839427CD36</th>\n",
       "      <td>[689567.0, 231957.0]</td>\n",
       "      <td>ch.astra.unfaelle-personenschaeden_alle</td>\n",
       "      <td>mercredi / 08h-09h / juin 2014</td>\n",
       "      <td>0</td>\n",
       "      <td>2014</td>\n",
       "      <td>ZH</td>\n",
       "      <td>0133</td>\n",
       "      <td>430</td>\n",
       "      <td>USV</td>\n",
       "    </tr>\n",
       "  </tbody>\n",
       "</table>\n",
       "</div>"
      ],
      "text/plain": [
       "                                  geometry_coordinates  \\\n",
       "id                                                       \n",
       "000632B7E4500082E0530A83942743EA  [647210.0, 177439.0]   \n",
       "000632B7E4500082E0530A83942743EA  [647210.0, 177439.0]   \n",
       "000750DA26760038E0530A8394272B98  [685704.0, 252693.0]   \n",
       "0007F58D137500F0E0530A839427CD36  [750913.0, 256375.0]   \n",
       "0007F58D151500F0E0530A839427CD36  [689567.0, 231957.0]   \n",
       "\n",
       "                                                                      layerBodId  \\\n",
       "id                                                                                 \n",
       "000632B7E4500082E0530A83942743EA   ch.astra.unfaelle-personenschaeden_fahrraeder   \n",
       "000632B7E4500082E0530A83942743EA         ch.astra.unfaelle-personenschaeden_alle   \n",
       "000750DA26760038E0530A8394272B98         ch.astra.unfaelle-personenschaeden_alle   \n",
       "0007F58D137500F0E0530A839427CD36  ch.astra.unfaelle-personenschaeden_motorraeder   \n",
       "0007F58D151500F0E0530A839427CD36         ch.astra.unfaelle-personenschaeden_alle   \n",
       "\n",
       "                                        properties_accidentday_fr  \\\n",
       "id                                                                  \n",
       "000632B7E4500082E0530A83942743EA  samedi / 22h-23h / juillet 2014   \n",
       "000632B7E4500082E0530A83942743EA  samedi / 22h-23h / juillet 2014   \n",
       "000750DA26760038E0530A8394272B98   jeudi / 16h-17h / juillet 2014   \n",
       "0007F58D137500F0E0530A839427CD36      mardi / 06h-07h / juin 2014   \n",
       "0007F58D151500F0E0530A839427CD36   mercredi / 08h-09h / juin 2014   \n",
       "\n",
       "                                  properties_accidenttypecode  \\\n",
       "id                                                              \n",
       "000632B7E4500082E0530A83942743EA                            4   \n",
       "000632B7E4500082E0530A83942743EA                            4   \n",
       "000750DA26760038E0530A8394272B98                            2   \n",
       "0007F58D137500F0E0530A839427CD36                            0   \n",
       "0007F58D151500F0E0530A839427CD36                            0   \n",
       "\n",
       "                                  properties_accidentyear properties_canton  \\\n",
       "id                                                                            \n",
       "000632B7E4500082E0530A83942743EA                     2014                BE   \n",
       "000632B7E4500082E0530A83942743EA                     2014                BE   \n",
       "000750DA26760038E0530A8394272B98                     2014                ZH   \n",
       "0007F58D137500F0E0530A839427CD36                     2014                SG   \n",
       "0007F58D151500F0E0530A839427CD36                     2014                ZH   \n",
       "\n",
       "                                 properties_fsocommunecode  \\\n",
       "id                                                           \n",
       "000632B7E4500082E0530A83942743EA                      0573   \n",
       "000632B7E4500082E0530A83942743EA                      0573   \n",
       "000750DA26760038E0530A8394272B98                      0069   \n",
       "0007F58D137500F0E0530A839427CD36                      3212   \n",
       "0007F58D151500F0E0530A839427CD36                      0133   \n",
       "\n",
       "                                  properties_roadtypecode  \\\n",
       "id                                                          \n",
       "000632B7E4500082E0530A83942743EA                      432   \n",
       "000632B7E4500082E0530A83942743EA                      432   \n",
       "000750DA26760038E0530A8394272B98                      430   \n",
       "0007F58D137500F0E0530A839427CD36                      432   \n",
       "0007F58D151500F0E0530A839427CD36                      430   \n",
       "\n",
       "                                 properties_severitycategorycode  \n",
       "id                                                                \n",
       "000632B7E4500082E0530A83942743EA                             USV  \n",
       "000632B7E4500082E0530A83942743EA                             USV  \n",
       "000750DA26760038E0530A8394272B98                             ULV  \n",
       "0007F58D137500F0E0530A839427CD36                             USV  \n",
       "0007F58D151500F0E0530A839427CD36                             USV  "
      ]
     },
     "execution_count": 6,
     "metadata": {},
     "output_type": "execute_result"
    }
   ],
   "source": [
    "accidents_df.head(5)"
   ]
  },
  {
   "cell_type": "code",
   "execution_count": 7,
   "metadata": {
    "collapsed": false
   },
   "outputs": [
    {
     "name": "stdout",
     "output_type": "stream",
     "text": [
      "Total accident entries: 141461\n"
     ]
    },
    {
     "data": {
      "text/html": [
       "<div>\n",
       "<table border=\"1\" class=\"dataframe\">\n",
       "  <thead>\n",
       "    <tr style=\"text-align: right;\">\n",
       "      <th></th>\n",
       "      <th>geometry_coordinates</th>\n",
       "      <th>properties_accidenttypecode</th>\n",
       "      <th>properties_canton</th>\n",
       "      <th>properties_fsocommunecode</th>\n",
       "      <th>properties_roadtypecode</th>\n",
       "      <th>properties_severitycategorycode</th>\n",
       "      <th>withBodilyDamage</th>\n",
       "      <th>involvesBicycles</th>\n",
       "      <th>involvesMotorcycles</th>\n",
       "      <th>involvesPedestrians</th>\n",
       "      <th>withFatality</th>\n",
       "      <th>weekday</th>\n",
       "      <th>time</th>\n",
       "      <th>month</th>\n",
       "      <th>year</th>\n",
       "    </tr>\n",
       "    <tr>\n",
       "      <th>id</th>\n",
       "      <th></th>\n",
       "      <th></th>\n",
       "      <th></th>\n",
       "      <th></th>\n",
       "      <th></th>\n",
       "      <th></th>\n",
       "      <th></th>\n",
       "      <th></th>\n",
       "      <th></th>\n",
       "      <th></th>\n",
       "      <th></th>\n",
       "      <th></th>\n",
       "      <th></th>\n",
       "      <th></th>\n",
       "      <th></th>\n",
       "    </tr>\n",
       "  </thead>\n",
       "  <tbody>\n",
       "    <tr>\n",
       "      <th>D02C56D3B2E200DEE0430A8394279804</th>\n",
       "      <td>[503839.0, 116757.0]</td>\n",
       "      <td>With pedestrians</td>\n",
       "      <td>GE</td>\n",
       "      <td>6613</td>\n",
       "      <td>Secondary road</td>\n",
       "      <td>light injuries</td>\n",
       "      <td>True</td>\n",
       "      <td>False</td>\n",
       "      <td>False</td>\n",
       "      <td>False</td>\n",
       "      <td>False</td>\n",
       "      <td>Thursday</td>\n",
       "      <td>12h-13h</td>\n",
       "      <td>novembre</td>\n",
       "      <td>2012</td>\n",
       "    </tr>\n",
       "    <tr>\n",
       "      <th>B28A6AB8A5EF0154E0430A8394270154</th>\n",
       "      <td>[553093.0, 187635.0]</td>\n",
       "      <td>Crossing a road</td>\n",
       "      <td>FR</td>\n",
       "      <td>2015</td>\n",
       "      <td>Primary road</td>\n",
       "      <td>light injuries</td>\n",
       "      <td>True</td>\n",
       "      <td>False</td>\n",
       "      <td>False</td>\n",
       "      <td>False</td>\n",
       "      <td>False</td>\n",
       "      <td>Thursday</td>\n",
       "      <td>13h-14h</td>\n",
       "      <td>septembre</td>\n",
       "      <td>2011</td>\n",
       "    </tr>\n",
       "    <tr>\n",
       "      <th>BCB47CACC7C400E8E0430A83942700E8</th>\n",
       "      <td>[674990.0, 221528.0]</td>\n",
       "      <td>With pedestrians</td>\n",
       "      <td>ZG</td>\n",
       "      <td>1707</td>\n",
       "      <td>Primary road</td>\n",
       "      <td>heavy injuries</td>\n",
       "      <td>True</td>\n",
       "      <td>False</td>\n",
       "      <td>False</td>\n",
       "      <td>False</td>\n",
       "      <td>False</td>\n",
       "      <td>Tuesday</td>\n",
       "      <td>15h-16h</td>\n",
       "      <td>avril</td>\n",
       "      <td>2012</td>\n",
       "    </tr>\n",
       "    <tr>\n",
       "      <th>04D7A7616DBB0104E0530A8394270A66</th>\n",
       "      <td>[684863.0, 252018.0]</td>\n",
       "      <td>With pedestrians</td>\n",
       "      <td>ZH</td>\n",
       "      <td>0261</td>\n",
       "      <td>Other</td>\n",
       "      <td>light injuries</td>\n",
       "      <td>True</td>\n",
       "      <td>False</td>\n",
       "      <td>False</td>\n",
       "      <td>False</td>\n",
       "      <td>False</td>\n",
       "      <td>Thursday</td>\n",
       "      <td>18h-19h</td>\n",
       "      <td>août</td>\n",
       "      <td>2014</td>\n",
       "    </tr>\n",
       "    <tr>\n",
       "      <th>192E32AE9D93010CE0530A839427CA3F</th>\n",
       "      <td>[608599.0, 220358.0]</td>\n",
       "      <td>Overtaking or changing roads</td>\n",
       "      <td>BE</td>\n",
       "      <td>0552</td>\n",
       "      <td>Primary road</td>\n",
       "      <td>light injuries</td>\n",
       "      <td>False</td>\n",
       "      <td>True</td>\n",
       "      <td>False</td>\n",
       "      <td>False</td>\n",
       "      <td>False</td>\n",
       "      <td>Wednesday</td>\n",
       "      <td>11h-12h</td>\n",
       "      <td>avril</td>\n",
       "      <td>2015</td>\n",
       "    </tr>\n",
       "  </tbody>\n",
       "</table>\n",
       "</div>"
      ],
      "text/plain": [
       "                                  geometry_coordinates  \\\n",
       "id                                                       \n",
       "D02C56D3B2E200DEE0430A8394279804  [503839.0, 116757.0]   \n",
       "B28A6AB8A5EF0154E0430A8394270154  [553093.0, 187635.0]   \n",
       "BCB47CACC7C400E8E0430A83942700E8  [674990.0, 221528.0]   \n",
       "04D7A7616DBB0104E0530A8394270A66  [684863.0, 252018.0]   \n",
       "192E32AE9D93010CE0530A839427CA3F  [608599.0, 220358.0]   \n",
       "\n",
       "                                   properties_accidenttypecode  \\\n",
       "id                                                               \n",
       "D02C56D3B2E200DEE0430A8394279804              With pedestrians   \n",
       "B28A6AB8A5EF0154E0430A8394270154               Crossing a road   \n",
       "BCB47CACC7C400E8E0430A83942700E8              With pedestrians   \n",
       "04D7A7616DBB0104E0530A8394270A66              With pedestrians   \n",
       "192E32AE9D93010CE0530A839427CA3F  Overtaking or changing roads   \n",
       "\n",
       "                                 properties_canton properties_fsocommunecode  \\\n",
       "id                                                                             \n",
       "D02C56D3B2E200DEE0430A8394279804                GE                      6613   \n",
       "B28A6AB8A5EF0154E0430A8394270154                FR                      2015   \n",
       "BCB47CACC7C400E8E0430A83942700E8                ZG                      1707   \n",
       "04D7A7616DBB0104E0530A8394270A66                ZH                      0261   \n",
       "192E32AE9D93010CE0530A839427CA3F                BE                      0552   \n",
       "\n",
       "                                 properties_roadtypecode  \\\n",
       "id                                                         \n",
       "D02C56D3B2E200DEE0430A8394279804          Secondary road   \n",
       "B28A6AB8A5EF0154E0430A8394270154            Primary road   \n",
       "BCB47CACC7C400E8E0430A83942700E8            Primary road   \n",
       "04D7A7616DBB0104E0530A8394270A66                   Other   \n",
       "192E32AE9D93010CE0530A839427CA3F            Primary road   \n",
       "\n",
       "                                 properties_severitycategorycode  \\\n",
       "id                                                                 \n",
       "D02C56D3B2E200DEE0430A8394279804                  light injuries   \n",
       "B28A6AB8A5EF0154E0430A8394270154                  light injuries   \n",
       "BCB47CACC7C400E8E0430A83942700E8                  heavy injuries   \n",
       "04D7A7616DBB0104E0530A8394270A66                  light injuries   \n",
       "192E32AE9D93010CE0530A839427CA3F                  light injuries   \n",
       "\n",
       "                                 withBodilyDamage involvesBicycles  \\\n",
       "id                                                                   \n",
       "D02C56D3B2E200DEE0430A8394279804             True            False   \n",
       "B28A6AB8A5EF0154E0430A8394270154             True            False   \n",
       "BCB47CACC7C400E8E0430A83942700E8             True            False   \n",
       "04D7A7616DBB0104E0530A8394270A66             True            False   \n",
       "192E32AE9D93010CE0530A839427CA3F            False             True   \n",
       "\n",
       "                                 involvesMotorcycles involvesPedestrians  \\\n",
       "id                                                                         \n",
       "D02C56D3B2E200DEE0430A8394279804               False               False   \n",
       "B28A6AB8A5EF0154E0430A8394270154               False               False   \n",
       "BCB47CACC7C400E8E0430A83942700E8               False               False   \n",
       "04D7A7616DBB0104E0530A8394270A66               False               False   \n",
       "192E32AE9D93010CE0530A839427CA3F               False               False   \n",
       "\n",
       "                                 withFatality    weekday     time      month  \\\n",
       "id                                                                             \n",
       "D02C56D3B2E200DEE0430A8394279804        False   Thursday  12h-13h   novembre   \n",
       "B28A6AB8A5EF0154E0430A8394270154        False   Thursday  13h-14h  septembre   \n",
       "BCB47CACC7C400E8E0430A83942700E8        False    Tuesday  15h-16h      avril   \n",
       "04D7A7616DBB0104E0530A8394270A66        False   Thursday  18h-19h       août   \n",
       "192E32AE9D93010CE0530A839427CA3F        False  Wednesday  11h-12h      avril   \n",
       "\n",
       "                                  year  \n",
       "id                                      \n",
       "D02C56D3B2E200DEE0430A8394279804  2012  \n",
       "B28A6AB8A5EF0154E0430A8394270154  2011  \n",
       "BCB47CACC7C400E8E0430A83942700E8  2012  \n",
       "04D7A7616DBB0104E0530A8394270A66  2014  \n",
       "192E32AE9D93010CE0530A839427CA3F  2015  "
      ]
     },
     "execution_count": 7,
     "metadata": {},
     "output_type": "execute_result"
    }
   ],
   "source": [
    "# Accident layers\n",
    "accidents_df['withBodilyDamage'] = accidents_df.layerBodId == 'ch.astra.unfaelle-personenschaeden_alle'\n",
    "accidents_df['involvesBicycles'] = accidents_df.layerBodId == 'ch.astra.unfaelle-personenschaeden_fahrraeder'\n",
    "accidents_df['involvesMotorcycles'] = accidents_df.layerBodId == 'ch.astra.unfaelle-personenschaeden_motorraeder'\n",
    "accidents_df['involvesPedestrians'] = accidents_df.layerBodId == 'ch.astra.unfaelle-personenschaeden_fussgaenger'\n",
    "accidents_df['withFatality'] = accidents_df.layerBodId == 'ch.astra.unfaelle-personenschaeden_getoetete'\n",
    "accidents_df = accidents_df.drop('layerBodId', axis=1)\n",
    "\n",
    "# Time properties\n",
    "weekdays_fr_en = {\n",
    "    'lundi': 'Monday',\n",
    "    'mardi': 'Tuesday',\n",
    "    'mercredi': 'Wednesday',\n",
    "    'jeudi': 'Thursday',\n",
    "    'vendredi': 'Friday',\n",
    "    'samedi': 'Saturday',\n",
    "    'dimanche': 'Sunday'\n",
    "}\n",
    "accidents_df.properties_accidentday_fr = accidents_df.properties_accidentday_fr.apply(lambda x: str.split(x, '/'))\n",
    "accidents_df['weekday'] = accidents_df.properties_accidentday_fr.apply(lambda x: weekdays_fr_en[x[0].strip(' ')])\n",
    "accidents_df['time'] = accidents_df.properties_accidentday_fr.apply(lambda x: x[1].strip(' '))\n",
    "accidents_df['month'] = accidents_df.properties_accidentday_fr.apply(lambda x: x[2].split()[0])\n",
    "accidents_df['year'] = accidents_df.properties_accidentyear\n",
    "accidents_df = accidents_df.drop('properties_accidentday_fr', axis=1)\n",
    "accidents_df = accidents_df.drop('properties_accidentyear', axis=1)\n",
    "\n",
    "# Accident severity\n",
    "severity_codes = {\n",
    "    'ULV': 'light injuries',\n",
    "    'USV': 'heavy injuries',\n",
    "    'UGT': 'deceased'\n",
    "}\n",
    "accidents_df.properties_severitycategorycode = accidents_df.properties_severitycategorycode.apply(lambda x: severity_codes[x])\n",
    "\n",
    "# Accident type\n",
    "accident_type = {\n",
    "    0: 'Skidding or control loss',\n",
    "    1: 'Overtaking or changing roads',\n",
    "    2: 'Collision',\n",
    "    3: 'Leaving a road',\n",
    "    4: \"Joining a road\",\n",
    "    5: 'Crossing a road',\n",
    "    6: 'Frontal collision',\n",
    "    7: 'Parking accident',\n",
    "    8: 'With pedestrians',\n",
    "    9: 'With animals',\n",
    "    99: 'Other'\n",
    "}\n",
    "accidents_df.properties_accidenttypecode = accidents_df.properties_accidenttypecode.apply(lambda x: accident_type[x])\n",
    "\n",
    "# Road type\n",
    "road_type = {\n",
    "    433: 'Secondary road',\n",
    "    432: 'Primary road',\n",
    "    431: 'Fast road',\n",
    "    430: 'Motorway',\n",
    "    439: 'Other',\n",
    "    434: 'Accessory road'\n",
    "}\n",
    "accidents_df.properties_roadtypecode = accidents_df.properties_roadtypecode.apply(lambda x: road_type[x])\n",
    "\n",
    "print('Total accident entries:', len(accidents_df))\n",
    "accidents_df.sample(5)"
   ]
  },
  {
   "cell_type": "markdown",
   "metadata": {},
   "source": [
    "Many accidents appear in several layers of the map with different attributes.\n",
    "We group all these accidents to avoid duplicates and we make sure not to loose any information associated to the incidents.\n",
    "\n",
    "Most data is exactly the same among duplicates except the information in columns that tell if the accident produced bodily damage, involved pedestrians, bicycles or motorcycles and if the accident had one or more fatalities."
   ]
  },
  {
   "cell_type": "code",
   "execution_count": 8,
   "metadata": {
    "collapsed": false
   },
   "outputs": [
    {
     "name": "stdout",
     "output_type": "stream",
     "text": [
      "There are 75022 accidents\n"
     ]
    }
   ],
   "source": [
    "accidents_df = accidents_df.groupby(by=accidents_df.index).agg({\n",
    "    'geometry_coordinates': 'first',\n",
    "    'properties_accidenttypecode': 'first',\n",
    "    'properties_canton': 'first',\n",
    "    'properties_fsocommunecode': 'first',\n",
    "    'properties_roadtypecode': 'first',\n",
    "    'properties_severitycategorycode': 'first',\n",
    "    'withBodilyDamage': np.max,\n",
    "    'involvesBicycles': np.max,\n",
    "    'involvesMotorcycles': np.max,\n",
    "    'involvesPedestrians': np.max,\n",
    "    'withFatality': np.max,\n",
    "    'weekday': 'first',\n",
    "    'time': 'first',\n",
    "    'month': 'first',\n",
    "    'year': 'first'\n",
    "})\n",
    "\n",
    "print('There are', len(accidents_df), 'accidents')"
   ]
  },
  {
   "cell_type": "code",
   "execution_count": 9,
   "metadata": {
    "collapsed": false
   },
   "outputs": [],
   "source": [
    "categorical_columns = list(accidents_df.columns)\n",
    "categorical_columns.remove('geometry_coordinates')\n",
    "for col in categorical_columns:\n",
    "    accidents_df[col] = accidents_df[col].astype('category')"
   ]
  },
  {
   "cell_type": "code",
   "execution_count": 10,
   "metadata": {
    "collapsed": false
   },
   "outputs": [],
   "source": [
    "accidents_df.to_csv('data/accidents.csv')"
   ]
  },
  {
   "cell_type": "markdown",
   "metadata": {},
   "source": [
    "## Transforming the coordinates\n",
    "\n",
    "The coordinate system used in this dataset is the swiss coordinate system, which doesn't play well with most software.\n",
    "Thus, we using the formulas described by *U. Marti, 1999* (based on Bollinger, 1967) we convert the accident coordinates from the Swiss projection coordinates to WGS84 coordinate system."
   ]
  },
  {
   "cell_type": "code",
   "execution_count": 11,
   "metadata": {
    "collapsed": false
   },
   "outputs": [],
   "source": [
    "def ch1903_to_wgs84(east, north):\n",
    "    # Convert origin, where Bern is 0,0\n",
    "    east -= 600000\n",
    "    north -= 200000\n",
    "    east /= 1000000\n",
    "    north /= 1000000\n",
    "    # Calculate longitude and latitude in 10000\" units\n",
    "    lon = 2.6779094\n",
    "    lon += 4.728982 * east\n",
    "    lon += 0.791484 * east * north\n",
    "    lon += 0.1306 * east * north * north\n",
    "    lon -= 0.0436 * east * east * east\n",
    "    lat = 16.9023892\n",
    "    lat += 3.238272 * north;\n",
    "    lat -= 0.270978 * east * east\n",
    "    lat -= 0.002528 * north * north\n",
    "    lat -= 0.0447 * east * east * north\n",
    "    lat -= 0.0140 * north * north * north\n",
    "    # Convert longitude and latitude back in degrees.\n",
    "    lon *= 100 / 36\n",
    "    lat *= 100 / 36\n",
    "    return [lat, lon]"
   ]
  },
  {
   "cell_type": "code",
   "execution_count": 12,
   "metadata": {
    "collapsed": false
   },
   "outputs": [],
   "source": [
    "accidents_df['wgs84_coordinates'] = accidents_df.geometry_coordinates.apply(lambda x: ch1903_to_wgs84(*x))"
   ]
  },
  {
   "cell_type": "code",
   "execution_count": 13,
   "metadata": {
    "collapsed": false
   },
   "outputs": [
    {
     "data": {
      "text/html": [
       "<div>\n",
       "<table border=\"1\" class=\"dataframe\">\n",
       "  <thead>\n",
       "    <tr style=\"text-align: right;\">\n",
       "      <th></th>\n",
       "      <th>involvesMotorcycles</th>\n",
       "      <th>withBodilyDamage</th>\n",
       "      <th>geometry_coordinates</th>\n",
       "      <th>involvesBicycles</th>\n",
       "      <th>time</th>\n",
       "      <th>properties_severitycategorycode</th>\n",
       "      <th>involvesPedestrians</th>\n",
       "      <th>weekday</th>\n",
       "      <th>properties_roadtypecode</th>\n",
       "      <th>properties_fsocommunecode</th>\n",
       "      <th>properties_canton</th>\n",
       "      <th>year</th>\n",
       "      <th>withFatality</th>\n",
       "      <th>month</th>\n",
       "      <th>properties_accidenttypecode</th>\n",
       "      <th>wgs84_coordinates</th>\n",
       "    </tr>\n",
       "    <tr>\n",
       "      <th>id</th>\n",
       "      <th></th>\n",
       "      <th></th>\n",
       "      <th></th>\n",
       "      <th></th>\n",
       "      <th></th>\n",
       "      <th></th>\n",
       "      <th></th>\n",
       "      <th></th>\n",
       "      <th></th>\n",
       "      <th></th>\n",
       "      <th></th>\n",
       "      <th></th>\n",
       "      <th></th>\n",
       "      <th></th>\n",
       "      <th></th>\n",
       "      <th></th>\n",
       "    </tr>\n",
       "  </thead>\n",
       "  <tbody>\n",
       "    <tr>\n",
       "      <th>18105B8F3AD000ECE0530A8394272D18</th>\n",
       "      <td>False</td>\n",
       "      <td>True</td>\n",
       "      <td>[716078.0, 258351.0]</td>\n",
       "      <td>False</td>\n",
       "      <td>22h-23h</td>\n",
       "      <td>light injuries</td>\n",
       "      <td>False</td>\n",
       "      <td>Tuesday</td>\n",
       "      <td>Primary road</td>\n",
       "      <td>4724</td>\n",
       "      <td>TG</td>\n",
       "      <td>2015</td>\n",
       "      <td>False</td>\n",
       "      <td>juin</td>\n",
       "      <td>Collision</td>\n",
       "      <td>[47.465688586059684, 8.97829035985655]</td>\n",
       "    </tr>\n",
       "    <tr>\n",
       "      <th>E2FA12E4363C0120E0430A839427E27D</th>\n",
       "      <td>False</td>\n",
       "      <td>False</td>\n",
       "      <td>[710312.0, 260817.0]</td>\n",
       "      <td>True</td>\n",
       "      <td>11h-12h</td>\n",
       "      <td>light injuries</td>\n",
       "      <td>True</td>\n",
       "      <td>Friday</td>\n",
       "      <td>Primary road</td>\n",
       "      <td>4551</td>\n",
       "      <td>TG</td>\n",
       "      <td>2013</td>\n",
       "      <td>False</td>\n",
       "      <td>août</td>\n",
       "      <td>With pedestrians</td>\n",
       "      <td>[47.48885596557981, 8.902437681471355]</td>\n",
       "    </tr>\n",
       "    <tr>\n",
       "      <th>DB6971E89AD60150E0430A8394270BCF</th>\n",
       "      <td>False</td>\n",
       "      <td>True</td>\n",
       "      <td>[548233.0, 154899.0]</td>\n",
       "      <td>False</td>\n",
       "      <td>10h-11h</td>\n",
       "      <td>light injuries</td>\n",
       "      <td>False</td>\n",
       "      <td>Saturday</td>\n",
       "      <td>Primary road</td>\n",
       "      <td>5604</td>\n",
       "      <td>VD</td>\n",
       "      <td>2013</td>\n",
       "      <td>False</td>\n",
       "      <td>mars</td>\n",
       "      <td>Joining a road</td>\n",
       "      <td>[46.54337573988594, 6.763734436915352]</td>\n",
       "    </tr>\n",
       "    <tr>\n",
       "      <th>1B0E6D35A60A00FAE0530A839427BAF7</th>\n",
       "      <td>False</td>\n",
       "      <td>True</td>\n",
       "      <td>[613398.0, 266032.0]</td>\n",
       "      <td>True</td>\n",
       "      <td>08h-09h</td>\n",
       "      <td>heavy injuries</td>\n",
       "      <td>False</td>\n",
       "      <td>Wednesday</td>\n",
       "      <td>Secondary road</td>\n",
       "      <td>2701</td>\n",
       "      <td>BS</td>\n",
       "      <td>2015</td>\n",
       "      <td>False</td>\n",
       "      <td>juin</td>\n",
       "      <td>Skidding or control loss</td>\n",
       "      <td>[47.54487375314148, 7.616600135326493]</td>\n",
       "    </tr>\n",
       "    <tr>\n",
       "      <th>A30F5B9AA2AF7080E0430A865E337080</th>\n",
       "      <td>False</td>\n",
       "      <td>True</td>\n",
       "      <td>[758744.0, 249646.0]</td>\n",
       "      <td>False</td>\n",
       "      <td>08h-09h</td>\n",
       "      <td>heavy injuries</td>\n",
       "      <td>True</td>\n",
       "      <td>Friday</td>\n",
       "      <td>Primary road</td>\n",
       "      <td>3251</td>\n",
       "      <td>SG</td>\n",
       "      <td>2011</td>\n",
       "      <td>False</td>\n",
       "      <td>mars</td>\n",
       "      <td>With pedestrians</td>\n",
       "      <td>[47.37851120142726, 9.540892481769037]</td>\n",
       "    </tr>\n",
       "  </tbody>\n",
       "</table>\n",
       "</div>"
      ],
      "text/plain": [
       "                                 involvesMotorcycles withBodilyDamage  \\\n",
       "id                                                                      \n",
       "18105B8F3AD000ECE0530A8394272D18               False             True   \n",
       "E2FA12E4363C0120E0430A839427E27D               False            False   \n",
       "DB6971E89AD60150E0430A8394270BCF               False             True   \n",
       "1B0E6D35A60A00FAE0530A839427BAF7               False             True   \n",
       "A30F5B9AA2AF7080E0430A865E337080               False             True   \n",
       "\n",
       "                                  geometry_coordinates involvesBicycles  \\\n",
       "id                                                                        \n",
       "18105B8F3AD000ECE0530A8394272D18  [716078.0, 258351.0]            False   \n",
       "E2FA12E4363C0120E0430A839427E27D  [710312.0, 260817.0]             True   \n",
       "DB6971E89AD60150E0430A8394270BCF  [548233.0, 154899.0]            False   \n",
       "1B0E6D35A60A00FAE0530A839427BAF7  [613398.0, 266032.0]             True   \n",
       "A30F5B9AA2AF7080E0430A865E337080  [758744.0, 249646.0]            False   \n",
       "\n",
       "                                     time properties_severitycategorycode  \\\n",
       "id                                                                          \n",
       "18105B8F3AD000ECE0530A8394272D18  22h-23h                  light injuries   \n",
       "E2FA12E4363C0120E0430A839427E27D  11h-12h                  light injuries   \n",
       "DB6971E89AD60150E0430A8394270BCF  10h-11h                  light injuries   \n",
       "1B0E6D35A60A00FAE0530A839427BAF7  08h-09h                  heavy injuries   \n",
       "A30F5B9AA2AF7080E0430A865E337080  08h-09h                  heavy injuries   \n",
       "\n",
       "                                 involvesPedestrians    weekday  \\\n",
       "id                                                                \n",
       "18105B8F3AD000ECE0530A8394272D18               False    Tuesday   \n",
       "E2FA12E4363C0120E0430A839427E27D                True     Friday   \n",
       "DB6971E89AD60150E0430A8394270BCF               False   Saturday   \n",
       "1B0E6D35A60A00FAE0530A839427BAF7               False  Wednesday   \n",
       "A30F5B9AA2AF7080E0430A865E337080                True     Friday   \n",
       "\n",
       "                                 properties_roadtypecode  \\\n",
       "id                                                         \n",
       "18105B8F3AD000ECE0530A8394272D18            Primary road   \n",
       "E2FA12E4363C0120E0430A839427E27D            Primary road   \n",
       "DB6971E89AD60150E0430A8394270BCF            Primary road   \n",
       "1B0E6D35A60A00FAE0530A839427BAF7          Secondary road   \n",
       "A30F5B9AA2AF7080E0430A865E337080            Primary road   \n",
       "\n",
       "                                 properties_fsocommunecode properties_canton  \\\n",
       "id                                                                             \n",
       "18105B8F3AD000ECE0530A8394272D18                      4724                TG   \n",
       "E2FA12E4363C0120E0430A839427E27D                      4551                TG   \n",
       "DB6971E89AD60150E0430A8394270BCF                      5604                VD   \n",
       "1B0E6D35A60A00FAE0530A839427BAF7                      2701                BS   \n",
       "A30F5B9AA2AF7080E0430A865E337080                      3251                SG   \n",
       "\n",
       "                                  year withFatality month  \\\n",
       "id                                                          \n",
       "18105B8F3AD000ECE0530A8394272D18  2015        False  juin   \n",
       "E2FA12E4363C0120E0430A839427E27D  2013        False  août   \n",
       "DB6971E89AD60150E0430A8394270BCF  2013        False  mars   \n",
       "1B0E6D35A60A00FAE0530A839427BAF7  2015        False  juin   \n",
       "A30F5B9AA2AF7080E0430A865E337080  2011        False  mars   \n",
       "\n",
       "                                 properties_accidenttypecode  \\\n",
       "id                                                             \n",
       "18105B8F3AD000ECE0530A8394272D18                   Collision   \n",
       "E2FA12E4363C0120E0430A839427E27D            With pedestrians   \n",
       "DB6971E89AD60150E0430A8394270BCF              Joining a road   \n",
       "1B0E6D35A60A00FAE0530A839427BAF7    Skidding or control loss   \n",
       "A30F5B9AA2AF7080E0430A865E337080            With pedestrians   \n",
       "\n",
       "                                                       wgs84_coordinates  \n",
       "id                                                                        \n",
       "18105B8F3AD000ECE0530A8394272D18  [47.465688586059684, 8.97829035985655]  \n",
       "E2FA12E4363C0120E0430A839427E27D  [47.48885596557981, 8.902437681471355]  \n",
       "DB6971E89AD60150E0430A8394270BCF  [46.54337573988594, 6.763734436915352]  \n",
       "1B0E6D35A60A00FAE0530A839427BAF7  [47.54487375314148, 7.616600135326493]  \n",
       "A30F5B9AA2AF7080E0430A865E337080  [47.37851120142726, 9.540892481769037]  "
      ]
     },
     "execution_count": 13,
     "metadata": {},
     "output_type": "execute_result"
    }
   ],
   "source": [
    "accidents_df.sample(5)"
   ]
  },
  {
   "cell_type": "markdown",
   "metadata": {},
   "source": [
    "## Exploring the data"
   ]
  },
  {
   "cell_type": "markdown",
   "metadata": {},
   "source": [
    "1) Accidents par rapport au temps<br>\n",
    "2) Corrélation nombre/type d'accident avec les endroits (Valais ivresse)<br>\n",
    "3) Tracker des anomalies (fin/début d'une série d'accident) et essayer d'en trouver la cause<br>"
   ]
  },
  {
   "cell_type": "code",
   "execution_count": 17,
   "metadata": {
    "collapsed": false
   },
   "outputs": [
    {
     "data": {
      "text/plain": [
       "<matplotlib.axes._subplots.AxesSubplot at 0x11ec7f668>"
      ]
     },
     "execution_count": 17,
     "metadata": {},
     "output_type": "execute_result"
    },
    {
     "data": {
      "image/png": "[encoded data removed]",
      "text/plain": [
       "<matplotlib.figure.Figure at 0x11e90bfd0>"
      ]
     },
     "metadata": {},
     "output_type": "display_data"
    }
   ],
   "source": [
    "plt.figure(figsize=(14, 5))\n",
    "sns.countplot(x='year', hue='properties_severitycategorycode', data=accidents_df)"
   ]
  },
  {
   "cell_type": "markdown",
   "metadata": {},
   "source": [
    "We observe no big variations in accidents in the last 5 years."
   ]
  },
  {
   "cell_type": "code",
   "execution_count": 22,
   "metadata": {
    "collapsed": false
   },
   "outputs": [
    {
     "data": {
      "text/plain": [
       "(2014    15145\n",
       " 2012    15131\n",
       " 2011    15123\n",
       " 2015    14826\n",
       " 2013    14797\n",
       " Name: year, dtype: int64, 15004.4)"
      ]
     },
     "execution_count": 22,
     "metadata": {},
     "output_type": "execute_result"
    }
   ],
   "source": [
    "accidents_df.year.value_counts(), accidents_df.year.value_counts().mean()"
   ]
  },
  {
   "cell_type": "code",
   "execution_count": 38,
   "metadata": {
    "collapsed": false
   },
   "outputs": [
    {
     "name": "stdout",
     "output_type": "stream",
     "text": [
      "3602.8\n"
     ]
    },
    {
     "data": {
      "text/plain": [
       "<matplotlib.axes._subplots.AxesSubplot at 0x12835e358>"
      ]
     },
     "execution_count": 38,
     "metadata": {},
     "output_type": "execute_result"
    },
    {
     "data": {
      "image/png": "[encoded data removed]",
      "text/plain": [
       "<matplotlib.figure.Figure at 0x128456b70>"
      ]
     },
     "metadata": {},
     "output_type": "display_data"
    }
   ],
   "source": [
    "# Bicycle accidents\n",
    "print(accidents_df[accidents_df.involvesBicycles == True].year.value_counts().mean())\n",
    "accidents_df[accidents_df.involvesBicycles == True].year.value_counts().sort_index().plot()"
   ]
  },
  {
   "cell_type": "code",
   "execution_count": 39,
   "metadata": {
    "collapsed": false
   },
   "outputs": [
    {
     "name": "stdout",
     "output_type": "stream",
     "text": [
      "3915.8\n"
     ]
    },
    {
     "data": {
      "text/plain": [
       "<matplotlib.axes._subplots.AxesSubplot at 0x12848ee48>"
      ]
     },
     "execution_count": 39,
     "metadata": {},
     "output_type": "execute_result"
    },
    {
     "data": {
      "image/png": "[encoded data removed]",
      "text/plain": [
       "<matplotlib.figure.Figure at 0x128587128>"
      ]
     },
     "metadata": {},
     "output_type": "display_data"
    }
   ],
   "source": [
    "# Motorcycle accidents\n",
    "print(accidents_df[accidents_df.involvesMotorcycles == True].year.value_counts().mean())\n",
    "accidents_df[accidents_df.involvesMotorcycles == True].year.value_counts().sort_index().plot()"
   ]
  },
  {
   "cell_type": "code",
   "execution_count": 41,
   "metadata": {
    "collapsed": false
   },
   "outputs": [
    {
     "name": "stdout",
     "output_type": "stream",
     "text": [
      "2336.0\n"
     ]
    },
    {
     "data": {
      "text/plain": [
       "<matplotlib.axes._subplots.AxesSubplot at 0x1290cb438>"
      ]
     },
     "execution_count": 41,
     "metadata": {},
     "output_type": "execute_result"
    },
    {
     "data": {
      "image/png": "[encoded data removed]",
      "text/plain": [
       "<matplotlib.figure.Figure at 0x129131160>"
      ]
     },
     "metadata": {},
     "output_type": "display_data"
    }
   ],
   "source": [
    "# Pedestrian accidents\n",
    "print(accidents_df[accidents_df.involvesPedestrians == True].year.value_counts().mean())\n",
    "accidents_df[accidents_df.involvesPedestrians == True].year.value_counts().sort_index().plot()"
   ]
  },
  {
   "cell_type": "code",
   "execution_count": 15,
   "metadata": {
    "collapsed": false
   },
   "outputs": [
    {
     "data": {
      "image/png": "[encoded data removed]",
      "text/plain": [
       "<matplotlib.figure.Figure at 0x161114e10>"
      ]
     },
     "metadata": {},
     "output_type": "display_data"
    }
   ],
   "source": [
    "fig, ax = plt.subplots()\n",
    "fig.set_size_inches(12, 4)\n",
    "g = sns.countplot(x='time', data=accidents_df, color='grey')\n",
    "g.set_xticklabels(g.get_xticklabels(), rotation=60)\n",
    "plt.show()"
   ]
  },
  {
   "cell_type": "code",
   "execution_count": 80,
   "metadata": {
    "collapsed": false
   },
   "outputs": [
    {
     "data": {
      "text/plain": [
       "<matplotlib.axes._subplots.AxesSubplot at 0x15bb1b780>"
      ]
     },
     "execution_count": 80,
     "metadata": {},
     "output_type": "execute_result"
    },
    {
     "data": {
      "image/png": "[encoded data removed]",
      "text/plain": [
       "<matplotlib.figure.Figure at 0x15bb1ea58>"
      ]
     },
     "metadata": {},
     "output_type": "display_data"
    }
   ],
   "source": [
    "plt.figure(figsize=(14, 5))\n",
    "time_aware_accidents_df = accidents_df[(accidents_df.time != 'ERROR!!!') & (accidents_df.time != 'inconnu')]\n",
    "sns.heatmap(time_aware_accidents_df[['time', 'weekday']].reset_index().groupby(('weekday', 'time'), as_index=False).count().pivot('weekday', 'time', 'id'), cmap=\"YlGnBu\")"
   ]
  },
  {
   "cell_type": "code",
   "execution_count": 333,
   "metadata": {
    "collapsed": false
   },
   "outputs": [
    {
     "data": {
      "text/plain": [
       "<matplotlib.axes._subplots.AxesSubplot at 0x15eef7e10>"
      ]
     },
     "execution_count": 333,
     "metadata": {},
     "output_type": "execute_result"
    },
    {
     "data": {
      "image/png": "[encoded data removed]",
      "text/plain": [
       "<matplotlib.figure.Figure at 0x15ec1e358>"
      ]
     },
     "metadata": {},
     "output_type": "display_data"
    }
   ],
   "source": [
    "plt.figure(figsize=(14, 5))\n",
    "sns.heatmap(accidents_df[['weekday', 'month']].reset_index().groupby(('month', 'weekday'), as_index=False).count().pivot('month', 'weekday', 'id'))"
   ]
  },
  {
   "cell_type": "code",
   "execution_count": 216,
   "metadata": {
    "collapsed": true
   },
   "outputs": [],
   "source": [
    "accidents_df.to_json('data/accidents.json', orient='index')"
   ]
  },
  {
   "cell_type": "code",
   "execution_count": 75,
   "metadata": {
    "collapsed": false
   },
   "outputs": [
    {
     "data": {
      "text/html": [
       "<iframe src=\"heatmap.html\" width=\"1000px\" height=\"600px\"></iframe>"
      ],
      "text/plain": [
       "<IPython.core.display.HTML object>"
      ]
     },
     "metadata": {},
     "output_type": "display_data"
    }
   ],
   "source": [
    "%%html\n",
    "<iframe src=\"heatmap.html\" width=\"1000px\" height=\"600px\"></iframe>"
   ]
  },
  {
   "cell_type": "markdown",
   "metadata": {},
   "source": [
    "## Grid\n",
    "\n",
    "Our idea is to create squares all over the swiss map to create areas and then count the accident per area.\n",
    "\n",
    "Swiss coordinates system is designed so that no two x and y coordinates can be mixed, 1 unit is one meter on the field.\n",
    "\n",
    "min coord Y : 480000, 070000 (bottom left)\n",
    "max coord X : 840000, 300000 (top right)\n",
    "\n",
    "There are squares that are outside Switzerland, but we are not interesting in area with 0 value (as if there are not road there cannot be any accident as well)."
   ]
  },
  {
   "cell_type": "code",
   "execution_count": 253,
   "metadata": {
    "collapsed": true
   },
   "outputs": [],
   "source": [
    "xRange=840000-480000\n",
    "yRange=300000-70000\n",
    "\n",
    "def create_count_grid(square_size, df):\n",
    "    \"\"\"\n",
    "    Creates and fills an array with the count of accidents per squares\n",
    "    of size square_size on the map with the provided DataFrame df.\n",
    "    \"\"\"\n",
    "    nb_x = math.ceil(xRange/square_size)\n",
    "    nb_y = math.ceil(yRange/square_size)\n",
    "    \n",
    "    grid = np.zeros((nb_x, nb_y))\n",
    "    print(nb_x, nb_y, square_size, grid.shape)\n",
    "    errors = 0\n",
    "    \n",
    "    for index, row in df.iterrows():\n",
    "        x = math.floor((row['geometry_coordinates'][0] - 480000) / square_size)\n",
    "        y = math.floor((row['geometry_coordinates'][1] - 70000) / square_size)\n",
    "        grid[x, y] += 1\n",
    "    print('errors:', errors)\n",
    "    return grid\n",
    "\n",
    "\n",
    "def compute_ratio(grid):\n",
    "    \"\"\"\n",
    "    To find a good square size length, we compute a ratio that is (% of non empty squares)/(mean of non zero values)\n",
    "    \"\"\"\n",
    "    non_empty_indices = np.nonzero(grid)\n",
    "    grid_non_zero = grid[non_empty_indices]\n",
    "    \n",
    "    non_empty_pct = len(non_empty_indices) / (grid.shape[0] * grid.shape[1])\n",
    "    \n",
    "    mean = grid.mean()\n",
    "    mean_non_zero = grid_non_zero.mean()\n",
    "    \n",
    "    return non_empty_pct / mean_non_zero, non_empty_pct / mean\n",
    "\n",
    "\n",
    "def optimality_plot(df):\n",
    "    \"\"\"\n",
    "    Plot the result of the ratio per square length\n",
    "    \"\"\"\n",
    "    return [[i, compute_ratio(create_count_grid(i, df))] for i in range (500, 15000, 1000)]"
   ]
  },
  {
   "cell_type": "code",
   "execution_count": 254,
   "metadata": {
    "collapsed": false
   },
   "outputs": [
    {
     "name": "stdout",
     "output_type": "stream",
     "text": [
      "720 460 500 (720, 460)\n",
      "errors: 0\n",
      "240 154 1500 (240, 154)\n",
      "errors: 0\n",
      "144 92 2500 (144, 92)\n",
      "errors: 0\n",
      "103 66 3500 (103, 66)\n",
      "errors: 0\n",
      "80 52 4500 (80, 52)\n",
      "errors: 0\n",
      "66 42 5500 (66, 42)\n",
      "errors: 0\n",
      "56 36 6500 (56, 36)\n",
      "errors: 0\n",
      "48 31 7500 (48, 31)\n",
      "errors: 0\n",
      "43 28 8500 (43, 28)\n",
      "errors: 0\n",
      "38 25 9500 (38, 25)\n",
      "errors: 0\n",
      "35 22 10500 (35, 22)\n",
      "errors: 0\n",
      "32 20 11500 (32, 20)\n",
      "errors: 0\n",
      "29 19 12500 (29, 19)\n",
      "errors: 0\n",
      "27 18 13500 (27, 18)\n",
      "errors: 0\n",
      "25 16 14500 (25, 16)\n",
      "errors: 0\n"
     ]
    }
   ],
   "source": [
    "x = optimality_plot(accidents_df)"
   ]
  },
  {
   "cell_type": "code",
   "execution_count": 256,
   "metadata": {
    "collapsed": false
   },
   "outputs": [],
   "source": [
    "df = pd.DataFrame([[i[0], i[1][0], i[1][1]] for i in x])"
   ]
  },
  {
   "cell_type": "code",
   "execution_count": 259,
   "metadata": {
    "collapsed": false
   },
   "outputs": [
    {
     "data": {
      "text/html": [
       "<div>\n",
       "<table border=\"1\" class=\"dataframe\">\n",
       "  <thead>\n",
       "    <tr style=\"text-align: right;\">\n",
       "      <th></th>\n",
       "      <th>0</th>\n",
       "      <th>1</th>\n",
       "      <th>2</th>\n",
       "    </tr>\n",
       "  </thead>\n",
       "  <tbody>\n",
       "    <tr>\n",
       "      <th>0</th>\n",
       "      <td>500</td>\n",
       "      <td>0.000002</td>\n",
       "      <td>0.000027</td>\n",
       "    </tr>\n",
       "    <tr>\n",
       "      <th>1</th>\n",
       "      <td>1500</td>\n",
       "      <td>0.000005</td>\n",
       "      <td>0.000027</td>\n",
       "    </tr>\n",
       "    <tr>\n",
       "      <th>2</th>\n",
       "      <td>2500</td>\n",
       "      <td>0.000008</td>\n",
       "      <td>0.000027</td>\n",
       "    </tr>\n",
       "    <tr>\n",
       "      <th>3</th>\n",
       "      <td>3500</td>\n",
       "      <td>0.000009</td>\n",
       "      <td>0.000027</td>\n",
       "    </tr>\n",
       "    <tr>\n",
       "      <th>4</th>\n",
       "      <td>4500</td>\n",
       "      <td>0.000010</td>\n",
       "      <td>0.000027</td>\n",
       "    </tr>\n",
       "    <tr>\n",
       "      <th>5</th>\n",
       "      <td>5500</td>\n",
       "      <td>0.000011</td>\n",
       "      <td>0.000027</td>\n",
       "    </tr>\n",
       "    <tr>\n",
       "      <th>6</th>\n",
       "      <td>6500</td>\n",
       "      <td>0.000012</td>\n",
       "      <td>0.000027</td>\n",
       "    </tr>\n",
       "    <tr>\n",
       "      <th>7</th>\n",
       "      <td>7500</td>\n",
       "      <td>0.000013</td>\n",
       "      <td>0.000027</td>\n",
       "    </tr>\n",
       "    <tr>\n",
       "      <th>8</th>\n",
       "      <td>8500</td>\n",
       "      <td>0.000013</td>\n",
       "      <td>0.000027</td>\n",
       "    </tr>\n",
       "    <tr>\n",
       "      <th>9</th>\n",
       "      <td>9500</td>\n",
       "      <td>0.000014</td>\n",
       "      <td>0.000027</td>\n",
       "    </tr>\n",
       "    <tr>\n",
       "      <th>10</th>\n",
       "      <td>10500</td>\n",
       "      <td>0.000014</td>\n",
       "      <td>0.000027</td>\n",
       "    </tr>\n",
       "    <tr>\n",
       "      <th>11</th>\n",
       "      <td>11500</td>\n",
       "      <td>0.000014</td>\n",
       "      <td>0.000027</td>\n",
       "    </tr>\n",
       "    <tr>\n",
       "      <th>12</th>\n",
       "      <td>12500</td>\n",
       "      <td>0.000014</td>\n",
       "      <td>0.000027</td>\n",
       "    </tr>\n",
       "    <tr>\n",
       "      <th>13</th>\n",
       "      <td>13500</td>\n",
       "      <td>0.000014</td>\n",
       "      <td>0.000027</td>\n",
       "    </tr>\n",
       "    <tr>\n",
       "      <th>14</th>\n",
       "      <td>14500</td>\n",
       "      <td>0.000015</td>\n",
       "      <td>0.000027</td>\n",
       "    </tr>\n",
       "  </tbody>\n",
       "</table>\n",
       "</div>"
      ],
      "text/plain": [
       "        0         1         2\n",
       "0     500  0.000002  0.000027\n",
       "1    1500  0.000005  0.000027\n",
       "2    2500  0.000008  0.000027\n",
       "3    3500  0.000009  0.000027\n",
       "4    4500  0.000010  0.000027\n",
       "5    5500  0.000011  0.000027\n",
       "6    6500  0.000012  0.000027\n",
       "7    7500  0.000013  0.000027\n",
       "8    8500  0.000013  0.000027\n",
       "9    9500  0.000014  0.000027\n",
       "10  10500  0.000014  0.000027\n",
       "11  11500  0.000014  0.000027\n",
       "12  12500  0.000014  0.000027\n",
       "13  13500  0.000014  0.000027\n",
       "14  14500  0.000015  0.000027"
      ]
     },
     "execution_count": 259,
     "metadata": {},
     "output_type": "execute_result"
    }
   ],
   "source": [
    "df"
   ]
  },
  {
   "cell_type": "markdown",
   "metadata": {
    "collapsed": true
   },
   "source": [
    "For poster"
   ]
  },
  {
   "cell_type": "code",
   "execution_count": null,
   "metadata": {
    "collapsed": true
   },
   "outputs": [],
   "source": [
    "accidents_"
   ]
  }
 ],
 "metadata": {
  "anaconda-cloud": {},
  "kernelspec": {
   "display_name": "Python [Root]",
   "language": "python",
   "name": "Python [Root]"
  },
  "language_info": {
   "codemirror_mode": {
    "name": "ipython",
    "version": 3
   },
   "file_extension": ".py",
   "mimetype": "text/x-python",
   "name": "python",
   "nbconvert_exporter": "python",
   "pygments_lexer": "ipython3",
   "version": "3.5.2"
  }
 },
 "nbformat": 4,
 "nbformat_minor": 0
}
