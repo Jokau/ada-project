{
 "cells": [
  {
   "cell_type": "markdown",
   "metadata": {},
   "source": [
    "# Road Traffic Accidents in Switzerland"
   ]
  },
  {
   "cell_type": "markdown",
   "metadata": {},
   "source": [
    "Our project goal is to scrap all traffic accidents from the accidents map from http://map.donneesaccidents.ch/"
   ]
  },
  {
   "cell_type": "markdown",
   "metadata": {},
   "source": [
    "## Data scraping strategy"
   ]
  },
  {
   "cell_type": "markdown",
   "metadata": {},
   "source": [
    "Accessing http://map.donneesaccidents.ch/, wich redirects to : <br>\n",
    "https://map.geo.admin.ch/?topic=vu&lang=fr&bgLayer=ch.swisstopo.pixelkarte-grau&layers=ch.astra.unfaelle-personenschaeden_alle&layers_timestamp=&catalogNodes=1318\n",
    "\n",
    "\n",
    "Postman parses the following parameters : \n",
    "<code>\n",
    "topic:vu\n",
    "lang:en\n",
    "bgLayer:ch.swisstopo.pixelkarte-grau\n",
    "layers:ch.astra.unfaelle-personenschaeden_alle\n",
    "layers_timestamp:\n",
    "catalogNodes:1318\n",
    "</code>\n",
    "\n",
    "The most important one is layers:ch.astra.unfaelle-personenschaeden_alle.<br>\n",
    "It is the layer that contains all the geo-information dots on \"Accidents with personal injury\" which is the selected data layer.\n",
    "<img src=\"Resources/images/layer_selector.png\">\n",
    "\n",
    "Selection all kinds of accidents returns the following :<br>\n",
    "<img src=\"Resources/images/layer_selector_all.png\">\n",
    "with layer parameters :<br>\n",
    "layers:<br>\n",
    "    &nbsp;ch.astra.unfaelle-personenschaeden_alle,<br>\n",
    "    &nbsp;ch.astra.unfaelle-personenschaeden_getoetete,<br>\n",
    "    &nbsp;ch.astra.unfaelle-personenschaeden_fussgaenger,<br>\n",
    "    &nbsp;ch.astra.unfaelle-personenschaeden_fahrraeder,<br>\n",
    "    &nbsp;ch.astra.unfaelle-personenschaeden_motorraeder<br>\n",
    "layers_timestamp:,,,,<br>\n",
    "\n",
    "Now we want every data for each layer. By selecting a dot on the map, it queries the related data to the server.\n",
    "What we want to do is selecting all the entries in the map to retrieves all data. This is done by ctrl clicking the whole area.\n",
    "\n",
    "This makes a query for each \"layers\" parameter :\n",
    "<code>\n",
    "geometry:443999.04209536605,39001.6733318335,870499.0420953662,303001.67333183356\n",
    "geometryFormat:geojson\n",
    "geometryType:esriGeometryEnvelope\n",
    "imageDisplay:1536,759,96\n",
    "lang:en\n",
    "layers:all:<i>LAYER_PARAM</i>\n",
    "mapExtent:269999.04209536605,9501.673331833561,1037999.042095366,389001.67333183356\n",
    "returnGeometry:true\n",
    "tolerance:5\n",
    "</code><br>\n",
    "But doesn't select all dots on map, so let's try the \"load more results\" button on a 'accidetns with fatalities' layer, we get :\n",
    "<code>\n",
    "geometry:443999.04209536605,39001.6733318335,870499.0420953662,303001.67333183356\n",
    "geometryFormat:geojson\n",
    "geometryType:esriGeometryEnvelope\n",
    "imageDisplay:1536,759,96\n",
    "lang:en\n",
    "layers:all:ch.astra.unfaelle-personenschaeden_getoetete\n",
    "mapExtent:136199.04209536605,-28148.32666816644,1134599.042095366,465201.67333183356\n",
    "<b>offset:200</b>\n",
    "returnGeometry:true\n",
    "tolerance:5\n",
    "</code>\n",
    "Pressing load more until no more possible give offset=1200 (for a total of 1337 objects) i.e it loads data entries 200 by 200"
   ]
  },
  {
   "cell_type": "markdown",
   "metadata": {},
   "source": [
    "## JSON Data scraping"
   ]
  },
  {
   "cell_type": "code",
   "execution_count": 1,
   "metadata": {
    "collapsed": false
   },
   "outputs": [],
   "source": [
    "import requests\n",
    "import json\n",
    "\n",
    "import numpy as np\n",
    "import pandas as pd\n",
    "\n",
    "import matplotlib.pyplot as plt\n",
    "\n",
    "from Scripts.helpers import *\n",
    "from Scripts.plots import *\n",
    "\n",
    "\n",
    "import pprint\n",
    "#from bs4 import BeautifulSoup"
   ]
  },
  {
   "cell_type": "code",
   "execution_count": 2,
   "metadata": {
    "collapsed": false
   },
   "outputs": [],
   "source": [
    "pp = pprint.PrettyPrinter(indent=4)"
   ]
  },
  {
   "cell_type": "code",
   "execution_count": 3,
   "metadata": {
    "collapsed": false
   },
   "outputs": [
    {
     "name": "stdout",
     "output_type": "stream",
     "text": [
      "Processing layer : ch.astra.unfaelle-personenschaeden_alle\n",
      "Layer processed : 804 records\n",
      "\n",
      "Processing layer : ch.astra.unfaelle-personenschaeden_getoetete\n",
      "Layer processed : 804 records\n",
      "\n",
      "Processing layer : ch.astra.unfaelle-personenschaeden_fussgaenger\n",
      "Layer processed : 804 records\n",
      "\n",
      "Processing layer : ch.astra.unfaelle-personenschaeden_fahrraeder\n",
      "Layer processed : 804 records\n",
      "\n",
      "Processing layer : ch.astra.unfaelle-personenschaeden_motorraeder\n",
      "Layer processed : 804 records\n",
      "\n",
      "Sample dataset processed : 4020 records\n",
      "\n"
     ]
    }
   ],
   "source": [
    "#import raw data\n",
    "data = import_data(all_data = False)"
   ]
  },
  {
   "cell_type": "code",
   "execution_count": 4,
   "metadata": {
    "collapsed": false
   },
   "outputs": [],
   "source": [
    "json_data_preprocessed = preprocess_data(data)"
   ]
  },
  {
   "cell_type": "code",
   "execution_count": 5,
   "metadata": {
    "collapsed": false
   },
   "outputs": [
    {
     "name": "stdout",
     "output_type": "stream",
     "text": [
      "Data entry example after clean and reformat:\n",
      "\n"
     ]
    },
    {
     "data": {
      "text/plain": [
       "{'accidenttype_fr': 'accident par tamponnement',\n",
       " 'accidenttypecode': 2,\n",
       " 'accidentyear': 2011,\n",
       " 'canton': 'SO',\n",
       " 'coordinates': [606606.0, 228160.0],\n",
       " 'day': 'lundi',\n",
       " 'fsocommunecode': '2601',\n",
       " 'id': 'A62ACA426CC7E02AE0430A865E33E02A',\n",
       " 'label': 'Auffahrunfall',\n",
       " 'layerName': 'Accidents avec dommages corporels',\n",
       " 'month': 'juin',\n",
       " 'roadtype_fr': 'route principale',\n",
       " 'roadtypecode': 432,\n",
       " 'severitycategory_fr': 'accident avec blessés légers',\n",
       " 'severitycategorycode': 'ULV',\n",
       " 'time': '18h-19h'}"
      ]
     },
     "execution_count": 5,
     "metadata": {},
     "output_type": "execute_result"
    }
   ],
   "source": [
    "print(\"Data entry example after clean and reformat:\\n\")\n",
    "json_data_preprocessed[0]"
   ]
  },
  {
   "cell_type": "code",
   "execution_count": 6,
   "metadata": {
    "collapsed": false
   },
   "outputs": [
    {
     "data": {
      "text/html": [
       "<div>\n",
       "<table border=\"1\" class=\"dataframe\">\n",
       "  <thead>\n",
       "    <tr style=\"text-align: right;\">\n",
       "      <th></th>\n",
       "      <th>accident_type</th>\n",
       "      <th>accident_type_code</th>\n",
       "      <th>accident_year</th>\n",
       "      <th>canton</th>\n",
       "      <th>coordinates</th>\n",
       "      <th>day</th>\n",
       "      <th>fsocommunecode</th>\n",
       "      <th>label</th>\n",
       "      <th>layerName</th>\n",
       "      <th>month</th>\n",
       "      <th>road_type</th>\n",
       "      <th>road_type_code</th>\n",
       "      <th>severity_category</th>\n",
       "      <th>severity_category_code</th>\n",
       "      <th>time</th>\n",
       "    </tr>\n",
       "    <tr>\n",
       "      <th>id</th>\n",
       "      <th></th>\n",
       "      <th></th>\n",
       "      <th></th>\n",
       "      <th></th>\n",
       "      <th></th>\n",
       "      <th></th>\n",
       "      <th></th>\n",
       "      <th></th>\n",
       "      <th></th>\n",
       "      <th></th>\n",
       "      <th></th>\n",
       "      <th></th>\n",
       "      <th></th>\n",
       "      <th></th>\n",
       "      <th></th>\n",
       "    </tr>\n",
       "  </thead>\n",
       "  <tbody>\n",
       "    <tr>\n",
       "      <th>F0F7A9E5754A0156E0430A83942784FB</th>\n",
       "      <td>accident impliquant des piétons</td>\n",
       "      <td>8</td>\n",
       "      <td>2013</td>\n",
       "      <td>VS</td>\n",
       "      <td>[595270.0, 120565.0]</td>\n",
       "      <td>samedi</td>\n",
       "      <td>6266</td>\n",
       "      <td>Fussgängerunfall</td>\n",
       "      <td>Accidents mortels</td>\n",
       "      <td>novembre</td>\n",
       "      <td>route principale</td>\n",
       "      <td>432</td>\n",
       "      <td>accident avec tués</td>\n",
       "      <td>UGT</td>\n",
       "      <td>19h-20h</td>\n",
       "    </tr>\n",
       "    <tr>\n",
       "      <th>233D65CC14FA0070E0530A83942794CB</th>\n",
       "      <td>accident en s'engageant sur une route</td>\n",
       "      <td>4</td>\n",
       "      <td>2015</td>\n",
       "      <td>ZH</td>\n",
       "      <td>[687225.0, 263422.0]</td>\n",
       "      <td>mardi</td>\n",
       "      <td>0056</td>\n",
       "      <td>Einbiegeunfall</td>\n",
       "      <td>Accidents avec la part. de motos</td>\n",
       "      <td>septembre</td>\n",
       "      <td>route principale</td>\n",
       "      <td>432</td>\n",
       "      <td>accident avec blessés légers</td>\n",
       "      <td>ULV</td>\n",
       "      <td>18h-19h</td>\n",
       "    </tr>\n",
       "    <tr>\n",
       "      <th>242DD4AEB6710036E0530A839427492B</th>\n",
       "      <td>accident impliquant des piétons</td>\n",
       "      <td>8</td>\n",
       "      <td>2015</td>\n",
       "      <td>ZH</td>\n",
       "      <td>[682669.0, 247745.0]</td>\n",
       "      <td>mercredi</td>\n",
       "      <td>0261</td>\n",
       "      <td>Fussgängerunfall</td>\n",
       "      <td>Accidents avec la part. de piétons</td>\n",
       "      <td>octobre</td>\n",
       "      <td>route principale</td>\n",
       "      <td>432</td>\n",
       "      <td>accident avec blessés graves</td>\n",
       "      <td>USV</td>\n",
       "      <td>22h-23h</td>\n",
       "    </tr>\n",
       "    <tr>\n",
       "      <th>2058B367FF64014AE0530A8394279839</th>\n",
       "      <td>accident impliquant des piétons</td>\n",
       "      <td>8</td>\n",
       "      <td>2015</td>\n",
       "      <td>BE</td>\n",
       "      <td>[625764.0, 230393.0]</td>\n",
       "      <td>vendredi</td>\n",
       "      <td>0329</td>\n",
       "      <td>Fussgängerunfall</td>\n",
       "      <td>Accidents avec la part. de piétons</td>\n",
       "      <td>septembre</td>\n",
       "      <td>route principale</td>\n",
       "      <td>432</td>\n",
       "      <td>accident avec blessés graves</td>\n",
       "      <td>USV</td>\n",
       "      <td>15h-16h</td>\n",
       "    </tr>\n",
       "    <tr>\n",
       "      <th>2376EF9F4F3801DCE0530A83942775EC</th>\n",
       "      <td>accident lors d'un dépassement ou lors d'un ch...</td>\n",
       "      <td>1</td>\n",
       "      <td>2015</td>\n",
       "      <td>AG</td>\n",
       "      <td>[652135.0, 250333.0]</td>\n",
       "      <td>mercredi</td>\n",
       "      <td>4206</td>\n",
       "      <td>Überholunfall oder Fahrstreifenwechsel</td>\n",
       "      <td>Accidents avec la part. de vélos</td>\n",
       "      <td>octobre</td>\n",
       "      <td>route principale</td>\n",
       "      <td>432</td>\n",
       "      <td>accident avec blessés graves</td>\n",
       "      <td>USV</td>\n",
       "      <td>10h-11h</td>\n",
       "    </tr>\n",
       "  </tbody>\n",
       "</table>\n",
       "</div>"
      ],
      "text/plain": [
       "                                                                      accident_type  \\\n",
       "id                                                                                    \n",
       "F0F7A9E5754A0156E0430A83942784FB                    accident impliquant des piétons   \n",
       "233D65CC14FA0070E0530A83942794CB              accident en s'engageant sur une route   \n",
       "242DD4AEB6710036E0530A839427492B                    accident impliquant des piétons   \n",
       "2058B367FF64014AE0530A8394279839                    accident impliquant des piétons   \n",
       "2376EF9F4F3801DCE0530A83942775EC  accident lors d'un dépassement ou lors d'un ch...   \n",
       "\n",
       "                                  accident_type_code  accident_year canton  \\\n",
       "id                                                                           \n",
       "F0F7A9E5754A0156E0430A83942784FB                   8           2013     VS   \n",
       "233D65CC14FA0070E0530A83942794CB                   4           2015     ZH   \n",
       "242DD4AEB6710036E0530A839427492B                   8           2015     ZH   \n",
       "2058B367FF64014AE0530A8394279839                   8           2015     BE   \n",
       "2376EF9F4F3801DCE0530A83942775EC                   1           2015     AG   \n",
       "\n",
       "                                           coordinates       day  \\\n",
       "id                                                                 \n",
       "F0F7A9E5754A0156E0430A83942784FB  [595270.0, 120565.0]    samedi   \n",
       "233D65CC14FA0070E0530A83942794CB  [687225.0, 263422.0]     mardi   \n",
       "242DD4AEB6710036E0530A839427492B  [682669.0, 247745.0]  mercredi   \n",
       "2058B367FF64014AE0530A8394279839  [625764.0, 230393.0]  vendredi   \n",
       "2376EF9F4F3801DCE0530A83942775EC  [652135.0, 250333.0]  mercredi   \n",
       "\n",
       "                                 fsocommunecode  \\\n",
       "id                                                \n",
       "F0F7A9E5754A0156E0430A83942784FB           6266   \n",
       "233D65CC14FA0070E0530A83942794CB           0056   \n",
       "242DD4AEB6710036E0530A839427492B           0261   \n",
       "2058B367FF64014AE0530A8394279839           0329   \n",
       "2376EF9F4F3801DCE0530A83942775EC           4206   \n",
       "\n",
       "                                                                   label  \\\n",
       "id                                                                         \n",
       "F0F7A9E5754A0156E0430A83942784FB                        Fussgängerunfall   \n",
       "233D65CC14FA0070E0530A83942794CB                          Einbiegeunfall   \n",
       "242DD4AEB6710036E0530A839427492B                        Fussgängerunfall   \n",
       "2058B367FF64014AE0530A8394279839                        Fussgängerunfall   \n",
       "2376EF9F4F3801DCE0530A83942775EC  Überholunfall oder Fahrstreifenwechsel   \n",
       "\n",
       "                                                           layerName  \\\n",
       "id                                                                     \n",
       "F0F7A9E5754A0156E0430A83942784FB                   Accidents mortels   \n",
       "233D65CC14FA0070E0530A83942794CB    Accidents avec la part. de motos   \n",
       "242DD4AEB6710036E0530A839427492B  Accidents avec la part. de piétons   \n",
       "2058B367FF64014AE0530A8394279839  Accidents avec la part. de piétons   \n",
       "2376EF9F4F3801DCE0530A83942775EC    Accidents avec la part. de vélos   \n",
       "\n",
       "                                      month         road_type  road_type_code  \\\n",
       "id                                                                              \n",
       "F0F7A9E5754A0156E0430A83942784FB   novembre  route principale             432   \n",
       "233D65CC14FA0070E0530A83942794CB  septembre  route principale             432   \n",
       "242DD4AEB6710036E0530A839427492B    octobre  route principale             432   \n",
       "2058B367FF64014AE0530A8394279839  septembre  route principale             432   \n",
       "2376EF9F4F3801DCE0530A83942775EC    octobre  route principale             432   \n",
       "\n",
       "                                             severity_category  \\\n",
       "id                                                               \n",
       "F0F7A9E5754A0156E0430A83942784FB            accident avec tués   \n",
       "233D65CC14FA0070E0530A83942794CB  accident avec blessés légers   \n",
       "242DD4AEB6710036E0530A839427492B  accident avec blessés graves   \n",
       "2058B367FF64014AE0530A8394279839  accident avec blessés graves   \n",
       "2376EF9F4F3801DCE0530A83942775EC  accident avec blessés graves   \n",
       "\n",
       "                                 severity_category_code     time  \n",
       "id                                                                \n",
       "F0F7A9E5754A0156E0430A83942784FB                    UGT  19h-20h  \n",
       "233D65CC14FA0070E0530A83942794CB                    ULV  18h-19h  \n",
       "242DD4AEB6710036E0530A839427492B                    USV  22h-23h  \n",
       "2058B367FF64014AE0530A8394279839                    USV  15h-16h  \n",
       "2376EF9F4F3801DCE0530A83942775EC                    USV  10h-11h  "
      ]
     },
     "execution_count": 6,
     "metadata": {},
     "output_type": "execute_result"
    }
   ],
   "source": [
    "df = pd.DataFrame.from_dict(json_data_preprocessed)\n",
    "df.set_index('id', inplace=True)\n",
    "df.columns = ['accident_type','accident_type_code','accident_year','canton','coordinates','day','fsocommunecode','label','layerName','month','road_type','road_type_code','severity_category','severity_category_code','time']\n",
    "df.sample(5)"
   ]
  },
  {
   "cell_type": "code",
   "execution_count": 7,
   "metadata": {
    "collapsed": false
   },
   "outputs": [
    {
     "name": "stdout",
     "output_type": "stream",
     "text": [
      "Plotting all features\n",
      "plotting feature accident_type\n",
      "plotting feature accident_type_code\n",
      "plotting feature accident_year\n",
      "plotting feature canton\n",
      "plotting feature coordinates\n",
      "->    Type Error : unhashable type: 'list'\n",
      "plotting feature day\n",
      "plotting feature label\n",
      "plotting feature layerName\n",
      "->    Key Error : 'layerName'\n",
      "plotting feature month\n",
      "plotting feature road_type\n",
      "plotting feature road_type_code\n",
      "plotting feature severity_category\n",
      "plotting feature severity_category_code\n",
      "plotting feature time\n",
      "Done plotting\n"
     ]
    }
   ],
   "source": [
    "plot_all_features(df)"
   ]
  },
  {
   "cell_type": "markdown",
   "metadata": {},
   "source": [
    "# Data analysis"
   ]
  },
  {
   "cell_type": "markdown",
   "metadata": {},
   "source": [
    "1) Accidents par rapport au temps<br>\n",
    "2) Corrélation nombre/type d'accident avec les endroits (Valais ivresse)<br>\n",
    "3) Tracker des anomalies (fin/début d'une série d'accident) et essayer d'en trouver la cause<br>"
   ]
  },
  {
   "cell_type": "code",
   "execution_count": 8,
   "metadata": {
    "collapsed": false
   },
   "outputs": [
    {
     "name": "stdout",
     "output_type": "stream",
     "text": [
      "Plotting features : ['month', 'accident_year']\n",
      "Done plotting month_accident_year\n"
     ]
    }
   ],
   "source": [
    "plot_feature_combination(df, ['month', 'accident_year'])"
   ]
  },
  {
   "cell_type": "code",
   "execution_count": 9,
   "metadata": {
    "collapsed": false
   },
   "outputs": [
    {
     "name": "stdout",
     "output_type": "stream",
     "text": [
      "Plotting features : ['day', 'canton']\n",
      "Done plotting day_canton\n"
     ]
    }
   ],
   "source": [
    "plot_feature_combination(df, ['day', 'canton'])"
   ]
  },
  {
   "cell_type": "code",
   "execution_count": 10,
   "metadata": {
    "collapsed": false
   },
   "outputs": [
    {
     "name": "stdout",
     "output_type": "stream",
     "text": [
      "Plotting features : ['day', 'road_type']\n",
      "Done plotting day_road_type\n"
     ]
    }
   ],
   "source": [
    "plot_feature_combination(df, ['day', 'road_type'])"
   ]
  },
  {
   "cell_type": "code",
   "execution_count": null,
   "metadata": {
    "collapsed": false
   },
   "outputs": [],
   "source": []
  },
  {
   "cell_type": "code",
   "execution_count": null,
   "metadata": {
    "collapsed": true
   },
   "outputs": [],
   "source": []
  }
 ],
 "metadata": {
  "anaconda-cloud": {},
  "kernelspec": {
   "display_name": "Python [default]",
   "language": "python",
   "name": "python3"
  },
  "language_info": {
   "codemirror_mode": {
    "name": "ipython",
    "version": 3
   },
   "file_extension": ".py",
   "mimetype": "text/x-python",
   "name": "python",
   "nbconvert_exporter": "python",
   "pygments_lexer": "ipython3",
   "version": "3.5.2"
  }
 },
 "nbformat": 4,
 "nbformat_minor": 0
}
