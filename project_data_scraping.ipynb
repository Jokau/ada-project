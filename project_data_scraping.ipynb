{
 "cells": [
  {
   "cell_type": "markdown",
   "metadata": {},
   "source": [
    "# Road Traffic Accidents in Switzerland"
   ]
  },
  {
   "cell_type": "markdown",
   "metadata": {},
   "source": [
    "In this project, we work with the data from Switzerland's road accidents."
   ]
  },
  {
   "cell_type": "code",
   "execution_count": 1,
   "metadata": {
    "collapsed": false
   },
   "outputs": [],
   "source": [
    "import helpers\n",
    "import json\n",
    "import math\n",
    "import matplotlib.pyplot as plt\n",
    "import numpy as np\n",
    "import pandas as pd\n",
    "import pickle\n",
    "import requests\n",
    "import seaborn as sns"
   ]
  },
  {
   "cell_type": "code",
   "execution_count": 2,
   "metadata": {
    "collapsed": false
   },
   "outputs": [],
   "source": [
    "%load_ext autoreload\n",
    "%autoreload 2\n",
    "%matplotlib inline"
   ]
  },
  {
   "cell_type": "markdown",
   "metadata": {},
   "source": [
    "## Scraping the data"
   ]
  },
  {
   "cell_type": "markdown",
   "metadata": {},
   "source": [
    "Writing to the \"Office Fédéral des Statistiques\" was unsuccessful, so we resort to web scraping.\n",
    "\n",
    "The scraped data comes from http://map.donneesaccidents.ch/ (or https://map.geo.admin.ch/?topic=vu&lang=fr&bgLayer=ch.swisstopo.pixelkarte-grau&layers=ch.astra.unfaelle-personenschaeden_alle&layers_timestamp=&catalogNodes=1318, after redirections).\n",
    "\n",
    "![Map](Resources/images/swissaccidentsmap.png)\n",
    "\n",
    "#### Layers\n",
    "\n",
    "The map contains the following layers:\n",
    "* Accidents with personal injury\n",
    "* Accidents with fatalities\n",
    "* Accidents involving a pedestrian\n",
    "* Accidents involving a bicycle\n",
    "* Accidents involving a motorcycle\n",
    "\n",
    "There is no information regarding accidents where nobody is unjured, since by law only accidents in which someone is injured require police intervention. This explains why only these are archived.\n",
    "\n",
    "#### Getting detailed accident data\n",
    "\n",
    "The map only displays markers for each accident. When one or more markers are selected, a web query retrieves the information related to the selected markers. Using postman, we analysed such queries and found a way to select several or all markers on the map.\n",
    "\n",
    "This is achieved by defining a rectangle, and querying for all markers inside it. We declare a rectangle that encompasses all Switzerland. This behaviour can be simulated on the browser by holding the ctrl key (or cmd on mac) and dragging a rectangle over the map.\n",
    "The returned data is paginated, so it is necessary to go over all the pages to obtain all detailed accident data.\n",
    "\n",
    "Example query parameters:\n",
    "```\n",
    "geometry:443999.04209536605,39001.6733318335,870499.0420953662,303001.67333183356\n",
    "geometryFormat:geojson\n",
    "geometryType:esriGeometryEnvelope\n",
    "imageDisplay:1536,759,96\n",
    "lang:en\n",
    "layers:all:LAYER_PARAM\n",
    "offset:200\n",
    "mapExtent:269999.04209536605,9501.673331833561,1037999.042095366,389001.67333183356\n",
    "returnGeometry:true\n",
    "tolerance:5\n",
    "```\n",
    "\n",
    "`LAYER_PARAM` can be replaced by the appropriate layer name and `offset` is optional."
   ]
  },
  {
   "cell_type": "code",
   "execution_count": 3,
   "metadata": {
    "collapsed": false
   },
   "outputs": [],
   "source": [
    "# Import raw data from http://map.donneesaccidents.ch/\n",
    "# Do not run thoses cells if the pickle is already computed\n",
    "# file info : data/data_raw.pickle, md5: c54dd687464afd8ab1f03b2377eff2a8\n",
    "#data = helpers.import_data()"
   ]
  },
  {
   "cell_type": "code",
   "execution_count": 4,
   "metadata": {
    "collapsed": false
   },
   "outputs": [],
   "source": [
    "#pickle.dump(data, open('data/data_raw.pickle', 'wb'))"
   ]
  },
  {
   "cell_type": "code",
   "execution_count": 5,
   "metadata": {
    "collapsed": false
   },
   "outputs": [],
   "source": [
    "#raw_df = pd.DataFrame(data)\n",
    "#raw_df.sample(5)"
   ]
  },
  {
   "cell_type": "markdown",
   "metadata": {},
   "source": [
    "## Cleaning the data"
   ]
  },
  {
   "cell_type": "code",
   "execution_count": 6,
   "metadata": {
    "collapsed": false
   },
   "outputs": [],
   "source": [
    "data = pickle.load(open('data/data_raw.pickle', 'rb'))"
   ]
  },
  {
   "cell_type": "markdown",
   "metadata": {},
   "source": [
    "In this initial data dump, we see the following fields:\n",
    "* **`bbox`** Redundant coordinates to place the accident on the map.\n",
    "* **`featureId`** Unique ID for an accident.\n",
    "* **`geometry`**  GeoJSON *geometry* object for the accident. Example:\n",
    "```\n",
    "{'coordinates': [[663430.0, 193370.0]], 'type': 'MultiPoint'}\n",
    "```\n",
    "* **`geometryType`** GeoJSON type\n",
    "* **`id`** Redundancy of `featureId`\n",
    "* **`layerBodId`** Map layers the accident belongs to\n",
    "* **`layerName`** Layer name\n",
    "* **`properties`** Accident properties. Example:\n",
    "```\n",
    "{'accidentday_de': 'Mittwoch / 12h-13h / Mai 2014',\n",
    " 'accidentday_fr': 'mercredi / 12h-13h / mai 2014',\n",
    " 'accidentday_it': 'Mercoledì / 12h-13h / Maggio 2014',\n",
    " 'accidenttype_de': 'Abbiegeunfall',\n",
    " 'accidenttype_fr': 'accident en quittant une route',\n",
    " 'accidenttype_it': 'Incidente nello svoltare',\n",
    " 'accidenttypecode': 3,\n",
    " 'accidentyear': 2014,\n",
    " 'canton': 'BE',\n",
    " 'fsocommunecode': '0979',\n",
    " 'label': 'Abbiegeunfall',\n",
    " 'roadtype_de': 'Nebenstrasse',\n",
    " 'roadtype_fr': 'route secondaire',\n",
    " 'roadtype_it': 'Strada secondaria',\n",
    " 'roadtypecode': 433,\n",
    " 'severitycategory_de': 'Unfall mit Leichtverletzten',\n",
    " 'severitycategory_fr': 'accident avec blessés légers',\n",
    " 'severitycategory_it': 'Incidente con feriti leggeri',\n",
    " 'severitycategorycode': 'ULV'}\n",
    "```\n",
    "* **`type`** Redundancy of `geometryType`\n",
    "\n",
    "The first step to be able to fully manipulate this data is to flatten it:"
   ]
  },
  {
   "cell_type": "code",
   "execution_count": 7,
   "metadata": {
    "collapsed": false
   },
   "outputs": [],
   "source": [
    "flat_data = [helpers.flatten(entry) for entry in data]"
   ]
  },
  {
   "cell_type": "code",
   "execution_count": 8,
   "metadata": {
    "collapsed": false
   },
   "outputs": [
    {
     "data": {
      "text/plain": [
       "Index(['bbox', 'featureId', 'geometryType', 'geometry_coordinates',\n",
       "       'geometry_type', 'id', 'layerBodId', 'layerName',\n",
       "       'properties_accidentday_de', 'properties_accidentday_fr',\n",
       "       'properties_accidentday_it', 'properties_accidenttype_de',\n",
       "       'properties_accidenttype_fr', 'properties_accidenttype_it',\n",
       "       'properties_accidenttypecode', 'properties_accidentyear',\n",
       "       'properties_canton', 'properties_fsocommunecode', 'properties_label',\n",
       "       'properties_roadtype_de', 'properties_roadtype_fr',\n",
       "       'properties_roadtype_it', 'properties_roadtypecode',\n",
       "       'properties_severitycategory_de', 'properties_severitycategory_fr',\n",
       "       'properties_severitycategory_it', 'properties_severitycategorycode',\n",
       "       'type'],\n",
       "      dtype='object')"
      ]
     },
     "execution_count": 8,
     "metadata": {},
     "output_type": "execute_result"
    }
   ],
   "source": [
    "accidents_df = pd.DataFrame(flat_data)\n",
    "accidents_df.columns"
   ]
  },
  {
   "cell_type": "markdown",
   "metadata": {},
   "source": [
    "To clean the data, we start by removing the columns that are irrelevant or redundant, such as:\n",
    "* **`bbox`** coordinates for the accident are available in the `geometry_coordinates` column.\n",
    "* **`featureId`** we keep `id`\n",
    "* **`geometryType` and `type`** Innecessary GeoJSON info\n",
    "* **`layerBodId`** we keep `layerName`\n",
    "* **Translations**: all translated fields are only kept in french (english not available).\n",
    "\n",
    "After removing all "
   ]
  },
  {
   "cell_type": "code",
   "execution_count": 9,
   "metadata": {
    "collapsed": false
   },
   "outputs": [],
   "source": [
    "accidents_df = accidents_df.drop([\n",
    "    'bbox',\n",
    "    'featureId',\n",
    "    'geometryType',\n",
    "    'type',\n",
    "    'layerName',\n",
    "    'properties_accidentday_de',\n",
    "    'properties_accidentday_it',\n",
    "    'properties_severitycategory_de',\n",
    "    'properties_severitycategory_it',\n",
    "    'properties_severitycategory_fr',\n",
    "    'properties_roadtype_de',\n",
    "    'properties_roadtype_it',\n",
    "    'properties_accidenttype_de',\n",
    "    'properties_accidenttype_it',\n",
    "    'properties_accidenttype_fr',\n",
    "    'properties_roadtype_fr',\n",
    "    'properties_label',\n",
    "    'geometry_type'\n",
    "], axis=1)\n",
    "\n",
    "# Select one set of coordinates for the accident\n",
    "accidents_df.geometry_coordinates = accidents_df.geometry_coordinates.apply(lambda x: x[0])\n",
    "\n",
    "accidents_df = accidents_df.set_index('id')\n",
    "accidents_df = accidents_df.sort_index()"
   ]
  },
  {
   "cell_type": "code",
   "execution_count": 10,
   "metadata": {
    "collapsed": false
   },
   "outputs": [
    {
     "data": {
      "text/html": [
       "<div>\n",
       "<table border=\"1\" class=\"dataframe\">\n",
       "  <thead>\n",
       "    <tr style=\"text-align: right;\">\n",
       "      <th></th>\n",
       "      <th>geometry_coordinates</th>\n",
       "      <th>layerBodId</th>\n",
       "      <th>properties_accidentday_fr</th>\n",
       "      <th>properties_accidenttypecode</th>\n",
       "      <th>properties_accidentyear</th>\n",
       "      <th>properties_canton</th>\n",
       "      <th>properties_fsocommunecode</th>\n",
       "      <th>properties_roadtypecode</th>\n",
       "      <th>properties_severitycategorycode</th>\n",
       "    </tr>\n",
       "    <tr>\n",
       "      <th>id</th>\n",
       "      <th></th>\n",
       "      <th></th>\n",
       "      <th></th>\n",
       "      <th></th>\n",
       "      <th></th>\n",
       "      <th></th>\n",
       "      <th></th>\n",
       "      <th></th>\n",
       "      <th></th>\n",
       "    </tr>\n",
       "  </thead>\n",
       "  <tbody>\n",
       "    <tr>\n",
       "      <th>000632B7E4500082E0530A83942743EA</th>\n",
       "      <td>[647210.0, 177439.0]</td>\n",
       "      <td>ch.astra.unfaelle-personenschaeden_alle</td>\n",
       "      <td>samedi / 22h-23h / juillet 2014</td>\n",
       "      <td>4</td>\n",
       "      <td>2014</td>\n",
       "      <td>BE</td>\n",
       "      <td>0573</td>\n",
       "      <td>432</td>\n",
       "      <td>USV</td>\n",
       "    </tr>\n",
       "    <tr>\n",
       "      <th>000632B7E4500082E0530A83942743EA</th>\n",
       "      <td>[647210.0, 177439.0]</td>\n",
       "      <td>ch.astra.unfaelle-personenschaeden_alle</td>\n",
       "      <td>samedi / 22h-23h / juillet 2014</td>\n",
       "      <td>4</td>\n",
       "      <td>2014</td>\n",
       "      <td>BE</td>\n",
       "      <td>0573</td>\n",
       "      <td>432</td>\n",
       "      <td>USV</td>\n",
       "    </tr>\n",
       "    <tr>\n",
       "      <th>000632B7E4500082E0530A83942743EA</th>\n",
       "      <td>[647210.0, 177439.0]</td>\n",
       "      <td>ch.astra.unfaelle-personenschaeden_fahrraeder</td>\n",
       "      <td>samedi / 22h-23h / juillet 2014</td>\n",
       "      <td>4</td>\n",
       "      <td>2014</td>\n",
       "      <td>BE</td>\n",
       "      <td>0573</td>\n",
       "      <td>432</td>\n",
       "      <td>USV</td>\n",
       "    </tr>\n",
       "    <tr>\n",
       "      <th>000750DA26760038E0530A8394272B98</th>\n",
       "      <td>[685704.0, 252693.0]</td>\n",
       "      <td>ch.astra.unfaelle-personenschaeden_alle</td>\n",
       "      <td>jeudi / 16h-17h / juillet 2014</td>\n",
       "      <td>2</td>\n",
       "      <td>2014</td>\n",
       "      <td>ZH</td>\n",
       "      <td>0069</td>\n",
       "      <td>430</td>\n",
       "      <td>ULV</td>\n",
       "    </tr>\n",
       "    <tr>\n",
       "      <th>000750DA26760038E0530A8394272B98</th>\n",
       "      <td>[685704.0, 252693.0]</td>\n",
       "      <td>ch.astra.unfaelle-personenschaeden_alle</td>\n",
       "      <td>jeudi / 16h-17h / juillet 2014</td>\n",
       "      <td>2</td>\n",
       "      <td>2014</td>\n",
       "      <td>ZH</td>\n",
       "      <td>0069</td>\n",
       "      <td>430</td>\n",
       "      <td>ULV</td>\n",
       "    </tr>\n",
       "  </tbody>\n",
       "</table>\n",
       "</div>"
      ],
      "text/plain": [
       "                                  geometry_coordinates  \\\n",
       "id                                                       \n",
       "000632B7E4500082E0530A83942743EA  [647210.0, 177439.0]   \n",
       "000632B7E4500082E0530A83942743EA  [647210.0, 177439.0]   \n",
       "000632B7E4500082E0530A83942743EA  [647210.0, 177439.0]   \n",
       "000750DA26760038E0530A8394272B98  [685704.0, 252693.0]   \n",
       "000750DA26760038E0530A8394272B98  [685704.0, 252693.0]   \n",
       "\n",
       "                                                                     layerBodId  \\\n",
       "id                                                                                \n",
       "000632B7E4500082E0530A83942743EA        ch.astra.unfaelle-personenschaeden_alle   \n",
       "000632B7E4500082E0530A83942743EA        ch.astra.unfaelle-personenschaeden_alle   \n",
       "000632B7E4500082E0530A83942743EA  ch.astra.unfaelle-personenschaeden_fahrraeder   \n",
       "000750DA26760038E0530A8394272B98        ch.astra.unfaelle-personenschaeden_alle   \n",
       "000750DA26760038E0530A8394272B98        ch.astra.unfaelle-personenschaeden_alle   \n",
       "\n",
       "                                        properties_accidentday_fr  \\\n",
       "id                                                                  \n",
       "000632B7E4500082E0530A83942743EA  samedi / 22h-23h / juillet 2014   \n",
       "000632B7E4500082E0530A83942743EA  samedi / 22h-23h / juillet 2014   \n",
       "000632B7E4500082E0530A83942743EA  samedi / 22h-23h / juillet 2014   \n",
       "000750DA26760038E0530A8394272B98   jeudi / 16h-17h / juillet 2014   \n",
       "000750DA26760038E0530A8394272B98   jeudi / 16h-17h / juillet 2014   \n",
       "\n",
       "                                  properties_accidenttypecode  \\\n",
       "id                                                              \n",
       "000632B7E4500082E0530A83942743EA                            4   \n",
       "000632B7E4500082E0530A83942743EA                            4   \n",
       "000632B7E4500082E0530A83942743EA                            4   \n",
       "000750DA26760038E0530A8394272B98                            2   \n",
       "000750DA26760038E0530A8394272B98                            2   \n",
       "\n",
       "                                  properties_accidentyear properties_canton  \\\n",
       "id                                                                            \n",
       "000632B7E4500082E0530A83942743EA                     2014                BE   \n",
       "000632B7E4500082E0530A83942743EA                     2014                BE   \n",
       "000632B7E4500082E0530A83942743EA                     2014                BE   \n",
       "000750DA26760038E0530A8394272B98                     2014                ZH   \n",
       "000750DA26760038E0530A8394272B98                     2014                ZH   \n",
       "\n",
       "                                 properties_fsocommunecode  \\\n",
       "id                                                           \n",
       "000632B7E4500082E0530A83942743EA                      0573   \n",
       "000632B7E4500082E0530A83942743EA                      0573   \n",
       "000632B7E4500082E0530A83942743EA                      0573   \n",
       "000750DA26760038E0530A8394272B98                      0069   \n",
       "000750DA26760038E0530A8394272B98                      0069   \n",
       "\n",
       "                                  properties_roadtypecode  \\\n",
       "id                                                          \n",
       "000632B7E4500082E0530A83942743EA                      432   \n",
       "000632B7E4500082E0530A83942743EA                      432   \n",
       "000632B7E4500082E0530A83942743EA                      432   \n",
       "000750DA26760038E0530A8394272B98                      430   \n",
       "000750DA26760038E0530A8394272B98                      430   \n",
       "\n",
       "                                 properties_severitycategorycode  \n",
       "id                                                                \n",
       "000632B7E4500082E0530A83942743EA                             USV  \n",
       "000632B7E4500082E0530A83942743EA                             USV  \n",
       "000632B7E4500082E0530A83942743EA                             USV  \n",
       "000750DA26760038E0530A8394272B98                             ULV  \n",
       "000750DA26760038E0530A8394272B98                             ULV  "
      ]
     },
     "execution_count": 10,
     "metadata": {},
     "output_type": "execute_result"
    }
   ],
   "source": [
    "accidents_df.head(5)"
   ]
  },
  {
   "cell_type": "code",
   "execution_count": 11,
   "metadata": {
    "collapsed": false
   },
   "outputs": [
    {
     "name": "stdout",
     "output_type": "stream",
     "text": [
      "Total accident entries: 141461\n"
     ]
    },
    {
     "data": {
      "text/html": [
       "<div>\n",
       "<table border=\"1\" class=\"dataframe\">\n",
       "  <thead>\n",
       "    <tr style=\"text-align: right;\">\n",
       "      <th></th>\n",
       "      <th>geometry_coordinates</th>\n",
       "      <th>properties_accidenttypecode</th>\n",
       "      <th>properties_canton</th>\n",
       "      <th>properties_fsocommunecode</th>\n",
       "      <th>properties_roadtypecode</th>\n",
       "      <th>properties_severitycategorycode</th>\n",
       "      <th>withBodilyDamage</th>\n",
       "      <th>involvesBicycles</th>\n",
       "      <th>involvesMotorcycles</th>\n",
       "      <th>involvesPedestrians</th>\n",
       "      <th>withFatality</th>\n",
       "      <th>weekday</th>\n",
       "      <th>time</th>\n",
       "      <th>month</th>\n",
       "      <th>year</th>\n",
       "    </tr>\n",
       "    <tr>\n",
       "      <th>id</th>\n",
       "      <th></th>\n",
       "      <th></th>\n",
       "      <th></th>\n",
       "      <th></th>\n",
       "      <th></th>\n",
       "      <th></th>\n",
       "      <th></th>\n",
       "      <th></th>\n",
       "      <th></th>\n",
       "      <th></th>\n",
       "      <th></th>\n",
       "      <th></th>\n",
       "      <th></th>\n",
       "      <th></th>\n",
       "      <th></th>\n",
       "    </tr>\n",
       "  </thead>\n",
       "  <tbody>\n",
       "    <tr>\n",
       "      <th>E97BCDF957AA0052E0430A8394271835</th>\n",
       "      <td>[689035.0, 253585.0]</td>\n",
       "      <td>Skidding or control loss</td>\n",
       "      <td>ZH</td>\n",
       "      <td>0054</td>\n",
       "      <td>Secondary road</td>\n",
       "      <td>light injuries</td>\n",
       "      <td>True</td>\n",
       "      <td>False</td>\n",
       "      <td>False</td>\n",
       "      <td>False</td>\n",
       "      <td>False</td>\n",
       "      <td>4 Thursday</td>\n",
       "      <td>07h-08h</td>\n",
       "      <td>09 September</td>\n",
       "      <td>2013</td>\n",
       "    </tr>\n",
       "    <tr>\n",
       "      <th>A376404D30056030E0430A865E336030</th>\n",
       "      <td>[535788.0, 152200.0]</td>\n",
       "      <td>Leaving a road</td>\n",
       "      <td>VD</td>\n",
       "      <td>5586</td>\n",
       "      <td>Primary road</td>\n",
       "      <td>light injuries</td>\n",
       "      <td>False</td>\n",
       "      <td>False</td>\n",
       "      <td>True</td>\n",
       "      <td>False</td>\n",
       "      <td>False</td>\n",
       "      <td>4 Thursday</td>\n",
       "      <td>15h-16h</td>\n",
       "      <td>05 May</td>\n",
       "      <td>2011</td>\n",
       "    </tr>\n",
       "    <tr>\n",
       "      <th>0AF3168D0165015AE0530A8394275B86</th>\n",
       "      <td>[621213.0, 236785.0]</td>\n",
       "      <td>Joining a road</td>\n",
       "      <td>SO</td>\n",
       "      <td>2407</td>\n",
       "      <td>Secondary road</td>\n",
       "      <td>light injuries</td>\n",
       "      <td>True</td>\n",
       "      <td>False</td>\n",
       "      <td>False</td>\n",
       "      <td>False</td>\n",
       "      <td>False</td>\n",
       "      <td>7 Sunday</td>\n",
       "      <td>15h-16h</td>\n",
       "      <td>12 December</td>\n",
       "      <td>2014</td>\n",
       "    </tr>\n",
       "    <tr>\n",
       "      <th>CFE292FE9C58007CE0430A839427412F</th>\n",
       "      <td>[685017.0, 247138.0]</td>\n",
       "      <td>Collision</td>\n",
       "      <td>ZH</td>\n",
       "      <td>0261</td>\n",
       "      <td>Primary road</td>\n",
       "      <td>heavy injuries</td>\n",
       "      <td>True</td>\n",
       "      <td>False</td>\n",
       "      <td>False</td>\n",
       "      <td>False</td>\n",
       "      <td>False</td>\n",
       "      <td>2 Tuesday</td>\n",
       "      <td>08h-09h</td>\n",
       "      <td>10 October</td>\n",
       "      <td>2012</td>\n",
       "    </tr>\n",
       "    <tr>\n",
       "      <th>195658CF1F2101D2E0530A8394278A54</th>\n",
       "      <td>[733874.0, 153619.0]</td>\n",
       "      <td>Skidding or control loss</td>\n",
       "      <td>GR</td>\n",
       "      <td>3691</td>\n",
       "      <td>Primary road</td>\n",
       "      <td>light injuries</td>\n",
       "      <td>False</td>\n",
       "      <td>False</td>\n",
       "      <td>True</td>\n",
       "      <td>False</td>\n",
       "      <td>False</td>\n",
       "      <td>1 Monday</td>\n",
       "      <td>12h-13h</td>\n",
       "      <td>06 June</td>\n",
       "      <td>2015</td>\n",
       "    </tr>\n",
       "  </tbody>\n",
       "</table>\n",
       "</div>"
      ],
      "text/plain": [
       "                                  geometry_coordinates  \\\n",
       "id                                                       \n",
       "E97BCDF957AA0052E0430A8394271835  [689035.0, 253585.0]   \n",
       "A376404D30056030E0430A865E336030  [535788.0, 152200.0]   \n",
       "0AF3168D0165015AE0530A8394275B86  [621213.0, 236785.0]   \n",
       "CFE292FE9C58007CE0430A839427412F  [685017.0, 247138.0]   \n",
       "195658CF1F2101D2E0530A8394278A54  [733874.0, 153619.0]   \n",
       "\n",
       "                                 properties_accidenttypecode  \\\n",
       "id                                                             \n",
       "E97BCDF957AA0052E0430A8394271835    Skidding or control loss   \n",
       "A376404D30056030E0430A865E336030              Leaving a road   \n",
       "0AF3168D0165015AE0530A8394275B86              Joining a road   \n",
       "CFE292FE9C58007CE0430A839427412F                   Collision   \n",
       "195658CF1F2101D2E0530A8394278A54    Skidding or control loss   \n",
       "\n",
       "                                 properties_canton properties_fsocommunecode  \\\n",
       "id                                                                             \n",
       "E97BCDF957AA0052E0430A8394271835                ZH                      0054   \n",
       "A376404D30056030E0430A865E336030                VD                      5586   \n",
       "0AF3168D0165015AE0530A8394275B86                SO                      2407   \n",
       "CFE292FE9C58007CE0430A839427412F                ZH                      0261   \n",
       "195658CF1F2101D2E0530A8394278A54                GR                      3691   \n",
       "\n",
       "                                 properties_roadtypecode  \\\n",
       "id                                                         \n",
       "E97BCDF957AA0052E0430A8394271835          Secondary road   \n",
       "A376404D30056030E0430A865E336030            Primary road   \n",
       "0AF3168D0165015AE0530A8394275B86          Secondary road   \n",
       "CFE292FE9C58007CE0430A839427412F            Primary road   \n",
       "195658CF1F2101D2E0530A8394278A54            Primary road   \n",
       "\n",
       "                                 properties_severitycategorycode  \\\n",
       "id                                                                 \n",
       "E97BCDF957AA0052E0430A8394271835                  light injuries   \n",
       "A376404D30056030E0430A865E336030                  light injuries   \n",
       "0AF3168D0165015AE0530A8394275B86                  light injuries   \n",
       "CFE292FE9C58007CE0430A839427412F                  heavy injuries   \n",
       "195658CF1F2101D2E0530A8394278A54                  light injuries   \n",
       "\n",
       "                                 withBodilyDamage involvesBicycles  \\\n",
       "id                                                                   \n",
       "E97BCDF957AA0052E0430A8394271835             True            False   \n",
       "A376404D30056030E0430A865E336030            False            False   \n",
       "0AF3168D0165015AE0530A8394275B86             True            False   \n",
       "CFE292FE9C58007CE0430A839427412F             True            False   \n",
       "195658CF1F2101D2E0530A8394278A54            False            False   \n",
       "\n",
       "                                 involvesMotorcycles involvesPedestrians  \\\n",
       "id                                                                         \n",
       "E97BCDF957AA0052E0430A8394271835               False               False   \n",
       "A376404D30056030E0430A865E336030                True               False   \n",
       "0AF3168D0165015AE0530A8394275B86               False               False   \n",
       "CFE292FE9C58007CE0430A839427412F               False               False   \n",
       "195658CF1F2101D2E0530A8394278A54                True               False   \n",
       "\n",
       "                                 withFatality     weekday     time  \\\n",
       "id                                                                   \n",
       "E97BCDF957AA0052E0430A8394271835        False  4 Thursday  07h-08h   \n",
       "A376404D30056030E0430A865E336030        False  4 Thursday  15h-16h   \n",
       "0AF3168D0165015AE0530A8394275B86        False    7 Sunday  15h-16h   \n",
       "CFE292FE9C58007CE0430A839427412F        False   2 Tuesday  08h-09h   \n",
       "195658CF1F2101D2E0530A8394278A54        False    1 Monday  12h-13h   \n",
       "\n",
       "                                         month  year  \n",
       "id                                                    \n",
       "E97BCDF957AA0052E0430A8394271835  09 September  2013  \n",
       "A376404D30056030E0430A865E336030        05 May  2011  \n",
       "0AF3168D0165015AE0530A8394275B86   12 December  2014  \n",
       "CFE292FE9C58007CE0430A839427412F    10 October  2012  \n",
       "195658CF1F2101D2E0530A8394278A54       06 June  2015  "
      ]
     },
     "execution_count": 11,
     "metadata": {},
     "output_type": "execute_result"
    }
   ],
   "source": [
    "# Accident layers\n",
    "accidents_df['withBodilyDamage'] = accidents_df.layerBodId == 'ch.astra.unfaelle-personenschaeden_alle'\n",
    "accidents_df['involvesBicycles'] = accidents_df.layerBodId == 'ch.astra.unfaelle-personenschaeden_fahrraeder'\n",
    "accidents_df['involvesMotorcycles'] = accidents_df.layerBodId == 'ch.astra.unfaelle-personenschaeden_motorraeder'\n",
    "accidents_df['involvesPedestrians'] = accidents_df.layerBodId == 'ch.astra.unfaelle-personenschaeden_fussgaenger'\n",
    "accidents_df['withFatality'] = accidents_df.layerBodId == 'ch.astra.unfaelle-personenschaeden_getoetete'\n",
    "accidents_df = accidents_df.drop('layerBodId', axis=1)\n",
    "\n",
    "# Time properties\n",
    "weekdays_fr_en = {\n",
    "    'lundi': '1 Monday',\n",
    "    'mardi': '2 Tuesday',\n",
    "    'mercredi': '3 Wednesday',\n",
    "    'jeudi': '4 Thursday',\n",
    "    'vendredi': '5 Friday',\n",
    "    'samedi': '6 Saturday',\n",
    "    'dimanche': '7 Sunday'\n",
    "}\n",
    "accidents_df.properties_accidentday_fr = accidents_df.properties_accidentday_fr.apply(lambda x: str.split(x, '/'))\n",
    "accidents_df['weekday'] = accidents_df.properties_accidentday_fr.apply(lambda x: weekdays_fr_en[x[0].strip(' ')])\n",
    "accidents_df['time'] = accidents_df.properties_accidentday_fr.apply(lambda x: x[1].strip(' '))\n",
    "accidents_df['month'] = accidents_df.properties_accidentday_fr.apply(lambda x: x[2].split()[0])\n",
    "accidents_df['year'] = accidents_df.properties_accidentyear\n",
    "accidents_df = accidents_df.drop('properties_accidentday_fr', axis=1)\n",
    "accidents_df = accidents_df.drop('properties_accidentyear', axis=1)\n",
    "months_fr_en = {\n",
    "    'janvier': '01 January',\n",
    "    'février': '02 February',\n",
    "    'mars': '03 March',\n",
    "    'avril': '04 April',\n",
    "    'mai': '05 May',\n",
    "    'juin': '06 June',\n",
    "    'juillet': '07 July',\n",
    "    'août': '08 August',\n",
    "    'septembre': '09 September',\n",
    "    'octobre': '10 October',\n",
    "    'novembre': '11 November',\n",
    "    'décembre': '12 December'\n",
    "}\n",
    "accidents_df.month = accidents_df.month.apply(lambda x: months_fr_en[x])\n",
    "\n",
    "# Accident severity\n",
    "severity_codes = {\n",
    "    'ULV': 'light injuries',\n",
    "    'USV': 'heavy injuries',\n",
    "    'UGT': 'deceased'\n",
    "}\n",
    "accidents_df.properties_severitycategorycode = accidents_df.properties_severitycategorycode.apply(lambda x: severity_codes[x])\n",
    "\n",
    "# Accident type\n",
    "type_of_accident = {\n",
    "    0: 'Skidding or control loss',\n",
    "    1: 'Overtaking or changing roads',\n",
    "    2: 'Collision',\n",
    "    3: 'Leaving a road',\n",
    "    4: \"Joining a road\",\n",
    "    5: 'Crossing a road',\n",
    "    6: 'Frontal collision',\n",
    "    7: 'Parking accident',\n",
    "    8: 'With pedestrians',\n",
    "    9: 'With animals',\n",
    "    99: 'Other'\n",
    "}\n",
    "accidents_df.properties_accidenttypecode = accidents_df.properties_accidenttypecode.apply(lambda x: type_of_accident[x])\n",
    "\n",
    "# Road type\n",
    "road_type = {\n",
    "    433: 'Secondary road',\n",
    "    432: 'Primary road',\n",
    "    431: 'Fast road',\n",
    "    430: 'Motorway',\n",
    "    439: 'Other',\n",
    "    434: 'Accessory road'\n",
    "}\n",
    "accidents_df.properties_roadtypecode = accidents_df.properties_roadtypecode.apply(lambda x: road_type[x])\n",
    "\n",
    "print('Total accident entries:', len(accidents_df))\n",
    "accidents_df.sample(5)"
   ]
  },
  {
   "cell_type": "markdown",
   "metadata": {},
   "source": [
    "Many accidents appear in several layers of the map with different attributes.\n",
    "We group all these accidents to avoid duplicates and we make sure not to loose any information associated to the incidents.\n",
    "\n",
    "Most data is exactly the same among duplicates except the information in columns that tell if the accident produced bodily damage, involved pedestrians, bicycles or motorcycles and if the accident had one or more fatalities."
   ]
  },
  {
   "cell_type": "code",
   "execution_count": 12,
   "metadata": {
    "collapsed": false
   },
   "outputs": [
    {
     "name": "stdout",
     "output_type": "stream",
     "text": [
      "There are 75257 accidents\n"
     ]
    }
   ],
   "source": [
    "accidents_df = accidents_df.groupby(by=accidents_df.index).agg({\n",
    "    'geometry_coordinates': 'first',\n",
    "    'properties_accidenttypecode': 'first',\n",
    "    'properties_canton': 'first',\n",
    "    'properties_fsocommunecode': 'first',\n",
    "    'properties_roadtypecode': 'first',\n",
    "    'properties_severitycategorycode': 'first',\n",
    "    'withBodilyDamage': np.max,\n",
    "    'involvesBicycles': np.max,\n",
    "    'involvesMotorcycles': np.max,\n",
    "    'involvesPedestrians': np.max,\n",
    "    'withFatality': np.max,\n",
    "    'weekday': 'first',\n",
    "    'time': 'first',\n",
    "    'month': 'first',\n",
    "    'year': 'first'\n",
    "})\n",
    "\n",
    "print('There are', len(accidents_df), 'accidents')"
   ]
  },
  {
   "cell_type": "markdown",
   "metadata": {},
   "source": [
    "All fields look good except ```time```, which has 2 unwanted values"
   ]
  },
  {
   "cell_type": "code",
   "execution_count": 13,
   "metadata": {
    "collapsed": false
   },
   "outputs": [
    {
     "name": "stdout",
     "output_type": "stream",
     "text": [
      "All values :  ['00h-01h', '01h-02h', '02h-03h', '03h-04h', '04h-05h', '05h-06h', '06h-07h', '07h-08h', '08h-09h', '09h-10h', '10h-11h', '11h-12h', '12h-13h', '13h-14h', '14h-15h', '15h-16h', '16h-17h', '17h-18h', '18h-19h', '19h-20h', '20h-21h', '21h-22h', '22h-23h', '23h-00h', 'ERROR!!!', 'inconnu'] \n",
      "\n",
      "562 values replaced with 'unknown', 0.007% of all entries\n"
     ]
    }
   ],
   "source": [
    "print('All values : ', sorted(set(accidents_df['time'].values)), '\\n')\n",
    "accidents_df['time'].replace(to_replace=['ERROR!!!', 'inconnu'], value='unknown', inplace=True, method='pad')\n",
    "\n",
    "nb_replaced = len(accidents_df[accidents_df['time'] == 'unknown'])\n",
    "print(nb_replaced, 'values replaced with \\'unknown\\', {0}% of all entries'.format(\"%.3f\" %(nb_replaced/len(accidents_df))))"
   ]
  },
  {
   "cell_type": "code",
   "execution_count": 14,
   "metadata": {
    "collapsed": false
   },
   "outputs": [],
   "source": [
    "categorical_columns = list(accidents_df.columns)\n",
    "categorical_columns.remove('geometry_coordinates')\n",
    "for col in categorical_columns:\n",
    "    accidents_df[col] = accidents_df[col].astype('category')"
   ]
  },
  {
   "cell_type": "code",
   "execution_count": 15,
   "metadata": {
    "collapsed": false
   },
   "outputs": [],
   "source": [
    "accidents_df.to_csv('data/accidents.csv')"
   ]
  },
  {
   "cell_type": "markdown",
   "metadata": {},
   "source": [
    "## Transforming the coordinates\n",
    "\n",
    "The coordinate system used in this dataset is the swiss coordinate system, which doesn't play well with most software.\n",
    "Thus, we using the formulas described by *U. Marti, 1999* (based on Bollinger, 1967) we convert the accident coordinates from the Swiss projection coordinates to WGS84 coordinate system."
   ]
  },
  {
   "cell_type": "code",
   "execution_count": 16,
   "metadata": {
    "collapsed": false
   },
   "outputs": [],
   "source": [
    "def ch1903_to_wgs84(east, north):\n",
    "    # Convert origin, where Bern is 0,0\n",
    "    east -= 600000\n",
    "    north -= 200000\n",
    "    east /= 1000000\n",
    "    north /= 1000000\n",
    "    # Calculate longitude and latitude in 10000\" units\n",
    "    lon = 2.6779094\n",
    "    lon += 4.728982 * east\n",
    "    lon += 0.791484 * east * north\n",
    "    lon += 0.1306 * east * north * north\n",
    "    lon -= 0.0436 * east * east * east\n",
    "    lat = 16.9023892\n",
    "    lat += 3.238272 * north;\n",
    "    lat -= 0.270978 * east * east\n",
    "    lat -= 0.002528 * north * north\n",
    "    lat -= 0.0447 * east * east * north\n",
    "    lat -= 0.0140 * north * north * north\n",
    "    # Convert longitude and latitude back in degrees.\n",
    "    lon *= 100 / 36\n",
    "    lat *= 100 / 36\n",
    "    return [lat, lon]"
   ]
  },
  {
   "cell_type": "code",
   "execution_count": 17,
   "metadata": {
    "collapsed": false
   },
   "outputs": [],
   "source": [
    "accidents_df['wgs84_coordinates'] = accidents_df.geometry_coordinates.apply(lambda x: ch1903_to_wgs84(*x))"
   ]
  },
  {
   "cell_type": "code",
   "execution_count": 18,
   "metadata": {
    "collapsed": false
   },
   "outputs": [
    {
     "data": {
      "text/html": [
       "<div>\n",
       "<table border=\"1\" class=\"dataframe\">\n",
       "  <thead>\n",
       "    <tr style=\"text-align: right;\">\n",
       "      <th></th>\n",
       "      <th>year</th>\n",
       "      <th>month</th>\n",
       "      <th>properties_fsocommunecode</th>\n",
       "      <th>properties_severitycategorycode</th>\n",
       "      <th>involvesBicycles</th>\n",
       "      <th>withBodilyDamage</th>\n",
       "      <th>involvesPedestrians</th>\n",
       "      <th>withFatality</th>\n",
       "      <th>involvesMotorcycles</th>\n",
       "      <th>properties_accidenttypecode</th>\n",
       "      <th>geometry_coordinates</th>\n",
       "      <th>time</th>\n",
       "      <th>weekday</th>\n",
       "      <th>properties_canton</th>\n",
       "      <th>properties_roadtypecode</th>\n",
       "      <th>wgs84_coordinates</th>\n",
       "    </tr>\n",
       "    <tr>\n",
       "      <th>id</th>\n",
       "      <th></th>\n",
       "      <th></th>\n",
       "      <th></th>\n",
       "      <th></th>\n",
       "      <th></th>\n",
       "      <th></th>\n",
       "      <th></th>\n",
       "      <th></th>\n",
       "      <th></th>\n",
       "      <th></th>\n",
       "      <th></th>\n",
       "      <th></th>\n",
       "      <th></th>\n",
       "      <th></th>\n",
       "      <th></th>\n",
       "      <th></th>\n",
       "    </tr>\n",
       "  </thead>\n",
       "  <tbody>\n",
       "    <tr>\n",
       "      <th>F985438538B501A8E0430A83942713D7</th>\n",
       "      <td>2014</td>\n",
       "      <td>04 April</td>\n",
       "      <td>0298</td>\n",
       "      <td>light injuries</td>\n",
       "      <td>False</td>\n",
       "      <td>True</td>\n",
       "      <td>False</td>\n",
       "      <td>False</td>\n",
       "      <td>False</td>\n",
       "      <td>Skidding or control loss</td>\n",
       "      <td>[702832.0, 265454.0]</td>\n",
       "      <td>14h-15h</td>\n",
       "      <td>7 Sunday</td>\n",
       "      <td>ZH</td>\n",
       "      <td>Motorway</td>\n",
       "      <td>[47.53176645908744, 8.804270824467084]</td>\n",
       "    </tr>\n",
       "    <tr>\n",
       "      <th>D41A047982150106E0430A8394274BF8</th>\n",
       "      <td>2013</td>\n",
       "      <td>01 January</td>\n",
       "      <td>1021</td>\n",
       "      <td>light injuries</td>\n",
       "      <td>False</td>\n",
       "      <td>True</td>\n",
       "      <td>False</td>\n",
       "      <td>False</td>\n",
       "      <td>False</td>\n",
       "      <td>Joining a road</td>\n",
       "      <td>[661018.0, 234869.0]</td>\n",
       "      <td>11h-12h</td>\n",
       "      <td>4 Thursday</td>\n",
       "      <td>LU</td>\n",
       "      <td>Secondary road</td>\n",
       "      <td>[47.26190592149699, 8.24485054979793]</td>\n",
       "    </tr>\n",
       "    <tr>\n",
       "      <th>F1834B7E809B01D4E0430A8394278CC1</th>\n",
       "      <td>2014</td>\n",
       "      <td>01 January</td>\n",
       "      <td>0544</td>\n",
       "      <td>light injuries</td>\n",
       "      <td>False</td>\n",
       "      <td>True</td>\n",
       "      <td>False</td>\n",
       "      <td>False</td>\n",
       "      <td>False</td>\n",
       "      <td>Skidding or control loss</td>\n",
       "      <td>[604097.0, 205848.0]</td>\n",
       "      <td>06h-07h</td>\n",
       "      <td>6 Saturday</td>\n",
       "      <td>BE</td>\n",
       "      <td>Motorway</td>\n",
       "      <td>[47.00367214593432, 7.492508383117402]</td>\n",
       "    </tr>\n",
       "    <tr>\n",
       "      <th>20CA4C887C2301E0E0530A839427D2B3</th>\n",
       "      <td>2015</td>\n",
       "      <td>10 October</td>\n",
       "      <td>5263</td>\n",
       "      <td>heavy injuries</td>\n",
       "      <td>False</td>\n",
       "      <td>True</td>\n",
       "      <td>False</td>\n",
       "      <td>False</td>\n",
       "      <td>False</td>\n",
       "      <td>Collision</td>\n",
       "      <td>[718823.0, 86765.0]</td>\n",
       "      <td>09h-10h</td>\n",
       "      <td>6 Saturday</td>\n",
       "      <td>TI</td>\n",
       "      <td>Secondary road</td>\n",
       "      <td>[45.922047039119775, 8.970271402250278]</td>\n",
       "    </tr>\n",
       "    <tr>\n",
       "      <th>14C6691D8ED30148E0530A839427BB00</th>\n",
       "      <td>2015</td>\n",
       "      <td>02 February</td>\n",
       "      <td>2099</td>\n",
       "      <td>deceased</td>\n",
       "      <td>False</td>\n",
       "      <td>False</td>\n",
       "      <td>False</td>\n",
       "      <td>True</td>\n",
       "      <td>False</td>\n",
       "      <td>Skidding or control loss</td>\n",
       "      <td>[555963.0, 166560.0]</td>\n",
       "      <td>20h-21h</td>\n",
       "      <td>5 Friday</td>\n",
       "      <td>FR</td>\n",
       "      <td>Primary road</td>\n",
       "      <td>[46.648823565539494, 6.8633945806395085]</td>\n",
       "    </tr>\n",
       "  </tbody>\n",
       "</table>\n",
       "</div>"
      ],
      "text/plain": [
       "                                  year        month properties_fsocommunecode  \\\n",
       "id                                                                              \n",
       "F985438538B501A8E0430A83942713D7  2014     04 April                      0298   \n",
       "D41A047982150106E0430A8394274BF8  2013   01 January                      1021   \n",
       "F1834B7E809B01D4E0430A8394278CC1  2014   01 January                      0544   \n",
       "20CA4C887C2301E0E0530A839427D2B3  2015   10 October                      5263   \n",
       "14C6691D8ED30148E0530A839427BB00  2015  02 February                      2099   \n",
       "\n",
       "                                 properties_severitycategorycode  \\\n",
       "id                                                                 \n",
       "F985438538B501A8E0430A83942713D7                  light injuries   \n",
       "D41A047982150106E0430A8394274BF8                  light injuries   \n",
       "F1834B7E809B01D4E0430A8394278CC1                  light injuries   \n",
       "20CA4C887C2301E0E0530A839427D2B3                  heavy injuries   \n",
       "14C6691D8ED30148E0530A839427BB00                        deceased   \n",
       "\n",
       "                                 involvesBicycles withBodilyDamage  \\\n",
       "id                                                                   \n",
       "F985438538B501A8E0430A83942713D7            False             True   \n",
       "D41A047982150106E0430A8394274BF8            False             True   \n",
       "F1834B7E809B01D4E0430A8394278CC1            False             True   \n",
       "20CA4C887C2301E0E0530A839427D2B3            False             True   \n",
       "14C6691D8ED30148E0530A839427BB00            False            False   \n",
       "\n",
       "                                 involvesPedestrians withFatality  \\\n",
       "id                                                                  \n",
       "F985438538B501A8E0430A83942713D7               False        False   \n",
       "D41A047982150106E0430A8394274BF8               False        False   \n",
       "F1834B7E809B01D4E0430A8394278CC1               False        False   \n",
       "20CA4C887C2301E0E0530A839427D2B3               False        False   \n",
       "14C6691D8ED30148E0530A839427BB00               False         True   \n",
       "\n",
       "                                 involvesMotorcycles  \\\n",
       "id                                                     \n",
       "F985438538B501A8E0430A83942713D7               False   \n",
       "D41A047982150106E0430A8394274BF8               False   \n",
       "F1834B7E809B01D4E0430A8394278CC1               False   \n",
       "20CA4C887C2301E0E0530A839427D2B3               False   \n",
       "14C6691D8ED30148E0530A839427BB00               False   \n",
       "\n",
       "                                 properties_accidenttypecode  \\\n",
       "id                                                             \n",
       "F985438538B501A8E0430A83942713D7    Skidding or control loss   \n",
       "D41A047982150106E0430A8394274BF8              Joining a road   \n",
       "F1834B7E809B01D4E0430A8394278CC1    Skidding or control loss   \n",
       "20CA4C887C2301E0E0530A839427D2B3                   Collision   \n",
       "14C6691D8ED30148E0530A839427BB00    Skidding or control loss   \n",
       "\n",
       "                                  geometry_coordinates     time     weekday  \\\n",
       "id                                                                            \n",
       "F985438538B501A8E0430A83942713D7  [702832.0, 265454.0]  14h-15h    7 Sunday   \n",
       "D41A047982150106E0430A8394274BF8  [661018.0, 234869.0]  11h-12h  4 Thursday   \n",
       "F1834B7E809B01D4E0430A8394278CC1  [604097.0, 205848.0]  06h-07h  6 Saturday   \n",
       "20CA4C887C2301E0E0530A839427D2B3   [718823.0, 86765.0]  09h-10h  6 Saturday   \n",
       "14C6691D8ED30148E0530A839427BB00  [555963.0, 166560.0]  20h-21h    5 Friday   \n",
       "\n",
       "                                 properties_canton properties_roadtypecode  \\\n",
       "id                                                                           \n",
       "F985438538B501A8E0430A83942713D7                ZH                Motorway   \n",
       "D41A047982150106E0430A8394274BF8                LU          Secondary road   \n",
       "F1834B7E809B01D4E0430A8394278CC1                BE                Motorway   \n",
       "20CA4C887C2301E0E0530A839427D2B3                TI          Secondary road   \n",
       "14C6691D8ED30148E0530A839427BB00                FR            Primary road   \n",
       "\n",
       "                                                         wgs84_coordinates  \n",
       "id                                                                          \n",
       "F985438538B501A8E0430A83942713D7    [47.53176645908744, 8.804270824467084]  \n",
       "D41A047982150106E0430A8394274BF8     [47.26190592149699, 8.24485054979793]  \n",
       "F1834B7E809B01D4E0430A8394278CC1    [47.00367214593432, 7.492508383117402]  \n",
       "20CA4C887C2301E0E0530A839427D2B3   [45.922047039119775, 8.970271402250278]  \n",
       "14C6691D8ED30148E0530A839427BB00  [46.648823565539494, 6.8633945806395085]  "
      ]
     },
     "execution_count": 18,
     "metadata": {},
     "output_type": "execute_result"
    }
   ],
   "source": [
    "accidents_df.sample(5)"
   ]
  },
  {
   "cell_type": "markdown",
   "metadata": {},
   "source": [
    "## Exploring the data"
   ]
  },
  {
   "cell_type": "code",
   "execution_count": 19,
   "metadata": {
    "collapsed": false
   },
   "outputs": [
    {
     "data": {
      "text/plain": [
       "<matplotlib.axes._subplots.AxesSubplot at 0x1c04528d390>"
      ]
     },
     "execution_count": 19,
     "metadata": {},
     "output_type": "execute_result"
    },
    {
     "data": {
      "image/png": "[encoded data removed]",
      "text/plain": [
       "<matplotlib.figure.Figure at 0x1c044793198>"
      ]
     },
     "metadata": {},
     "output_type": "display_data"
    }
   ],
   "source": [
    "plt.figure(figsize=(14, 5))\n",
    "sns.countplot(x='year', hue='properties_severitycategorycode', data=accidents_df)"
   ]
  },
  {
   "cell_type": "markdown",
   "metadata": {},
   "source": [
    "We observe no big variations in accidents in the last 5 years."
   ]
  },
  {
   "cell_type": "code",
   "execution_count": 20,
   "metadata": {
    "collapsed": false
   },
   "outputs": [
    {
     "data": {
      "text/plain": [
       "(2012    15709\n",
       " 2011    15513\n",
       " 2015    15082\n",
       " 2014    15009\n",
       " 2013    13944\n",
       " Name: year, dtype: int64, 15051.4)"
      ]
     },
     "execution_count": 20,
     "metadata": {},
     "output_type": "execute_result"
    }
   ],
   "source": [
    "accidents_df.year.value_counts(), accidents_df.year.value_counts().mean()"
   ]
  },
  {
   "cell_type": "code",
   "execution_count": 21,
   "metadata": {
    "collapsed": false
   },
   "outputs": [
    {
     "name": "stdout",
     "output_type": "stream",
     "text": [
      "Average number of accidents over 5 years : 3602.8\n"
     ]
    },
    {
     "data": {
      "text/plain": [
       "<matplotlib.axes._subplots.AxesSubplot at 0x1c041381080>"
      ]
     },
     "execution_count": 21,
     "metadata": {},
     "output_type": "execute_result"
    },
    {
     "data": {
      "image/png": "[encoded data removed]",
      "text/plain": [
       "<matplotlib.figure.Figure at 0x1c0413305c0>"
      ]
     },
     "metadata": {},
     "output_type": "display_data"
    }
   ],
   "source": [
    "# Bicycle accidents\n",
    "print('Average number of accidents over 5 years :', accidents_df[accidents_df.involvesBicycles == True].year.value_counts().mean())\n",
    "accidents_df[accidents_df.involvesBicycles == True].year.value_counts().sort_index().plot(title='Number of Bicycle accidents')"
   ]
  },
  {
   "cell_type": "markdown",
   "metadata": {},
   "source": [
    "We observe that the number of Bicycle accidents has strongly increased since 2013"
   ]
  },
  {
   "cell_type": "code",
   "execution_count": 22,
   "metadata": {
    "collapsed": false
   },
   "outputs": [
    {
     "name": "stdout",
     "output_type": "stream",
     "text": [
      "Average number of accidents over 5 years : 3915.8\n"
     ]
    },
    {
     "data": {
      "text/plain": [
       "<matplotlib.axes._subplots.AxesSubplot at 0x1c0413ecbe0>"
      ]
     },
     "execution_count": 22,
     "metadata": {},
     "output_type": "execute_result"
    },
    {
     "data": {
      "image/png": "[encoded data removed]",
      "text/plain": [
       "<matplotlib.figure.Figure at 0x1c0413f3da0>"
      ]
     },
     "metadata": {},
     "output_type": "display_data"
    }
   ],
   "source": [
    "# Motorcycle accidents\n",
    "print('Average number of accidents over 5 years :', accidents_df[accidents_df.involvesMotorcycles == True].year.value_counts().mean())\n",
    "accidents_df[accidents_df.involvesMotorcycles == True].year.value_counts().sort_index().plot(title='Number of Motorcycle accidents')"
   ]
  },
  {
   "cell_type": "code",
   "execution_count": 23,
   "metadata": {
    "collapsed": false
   },
   "outputs": [
    {
     "name": "stdout",
     "output_type": "stream",
     "text": [
      "Average number of accidents over 5 years : 2336.0\n"
     ]
    },
    {
     "data": {
      "text/plain": [
       "<matplotlib.axes._subplots.AxesSubplot at 0x1c041c7a208>"
      ]
     },
     "execution_count": 23,
     "metadata": {},
     "output_type": "execute_result"
    },
    {
     "data": {
      "image/png": "[encoded data removed]",
      "text/plain": [
       "<matplotlib.figure.Figure at 0x1c041c551d0>"
      ]
     },
     "metadata": {},
     "output_type": "display_data"
    }
   ],
   "source": [
    "# Pedestrian accidents\n",
    "print('Average number of accidents over 5 years :', accidents_df[accidents_df.involvesPedestrians == True].year.value_counts().mean())\n",
    "accidents_df[accidents_df.involvesPedestrians == True].year.value_counts().sort_index().plot(title='Number of pedestrian accidents')"
   ]
  },
  {
   "cell_type": "code",
   "execution_count": 24,
   "metadata": {
    "collapsed": false
   },
   "outputs": [
    {
     "data": {
      "image/png": "[encoded data removed]",
      "text/plain": [
       "<matplotlib.figure.Figure at 0x1c0421a8160>"
      ]
     },
     "metadata": {},
     "output_type": "display_data"
    }
   ],
   "source": [
    "fig, ax = plt.subplots()\n",
    "fig.set_size_inches(12, 4)\n",
    "g = sns.countplot(x='time', data=accidents_df, color='grey')\n",
    "g.set_xticklabels(g.get_xticklabels(), rotation=60)\n",
    "plt.title('Number of accidents depending on day hours between 2011 and 2015')\n",
    "plt.show()"
   ]
  },
  {
   "cell_type": "markdown",
   "metadata": {},
   "source": [
    "This plot shows two peaks of accidents located around 7-8am and 5-6pm, which makes sense since it corresponds to the periods of time where people go to work and go back home, so the traffic is the most dense.\n",
    "One can imagine that there are more accident in the evening because people are tired or eager to get back home."
   ]
  },
  {
   "cell_type": "markdown",
   "metadata": {},
   "source": [
    "Accidents distribution over the whole set of data (2011-2015) : Hour of day"
   ]
  },
  {
   "cell_type": "code",
   "execution_count": 25,
   "metadata": {
    "collapsed": false
   },
   "outputs": [
    {
     "data": {
      "text/plain": [
       "<matplotlib.axes._subplots.AxesSubplot at 0x1c04220c8d0>"
      ]
     },
     "execution_count": 25,
     "metadata": {},
     "output_type": "execute_result"
    },
    {
     "data": {
      "image/png": "[encoded data removed]",
      "text/plain": [
       "<matplotlib.figure.Figure at 0x1c0422738d0>"
      ]
     },
     "metadata": {},
     "output_type": "display_data"
    }
   ],
   "source": [
    "plt.figure(figsize=(14, 5))\n",
    "time_aware_accidents_df = accidents_df[(accidents_df.time != 'unknown')]\n",
    "time_aware_accidents_df = time_aware_accidents_df[['time', 'weekday']]\n",
    "time_aware_accidents_df = time_aware_accidents_df.reset_index()\n",
    "time_aware_accidents_df = time_aware_accidents_df.groupby(('weekday', 'time')).count().reset_index()\n",
    "time_aware_accidents_df = time_aware_accidents_df.pivot('weekday', 'time', 'id')\n",
    "sns.heatmap(time_aware_accidents_df, cmap=\"YlGnBu\")"
   ]
  },
  {
   "cell_type": "markdown",
   "metadata": {},
   "source": [
    "This heatmap confirms the results of the previous plots, as most accidents occur between 5pm and 6pm, only during weekdays, as the density of traffic at that time is due to the end of workdays."
   ]
  },
  {
   "cell_type": "markdown",
   "metadata": {},
   "source": [
    "Accidents distribution over the whole set of data (2011-2015) : Day of month"
   ]
  },
  {
   "cell_type": "code",
   "execution_count": 26,
   "metadata": {
    "collapsed": false
   },
   "outputs": [
    {
     "data": {
      "image/png": "[encoded data removed]",
      "text/plain": [
       "<matplotlib.figure.Figure at 0x1c042676780>"
      ]
     },
     "metadata": {},
     "output_type": "display_data"
    }
   ],
   "source": [
    "plt.figure(figsize=(14, 5))\n",
    "time_aware_accidents_df = accidents_df[(accidents_df.time != 'unknown')]\n",
    "time_aware_accidents_df = time_aware_accidents_df[['month', 'weekday']]\n",
    "time_aware_accidents_df = time_aware_accidents_df.reset_index()\n",
    "time_aware_accidents_df = time_aware_accidents_df.groupby(('weekday', 'month')).count().reset_index()\n",
    "time_aware_accidents_df = time_aware_accidents_df.pivot('weekday', 'month', 'id')\n",
    "g = sns.heatmap(time_aware_accidents_df, cmap=\"YlGnBu\")\n",
    "g.set_xticklabels(g.get_xticklabels(), rotation=60)\n",
    "plt.show()"
   ]
  },
  {
   "cell_type": "markdown",
   "metadata": {},
   "source": [
    "This heatmap contradicts our initial beliefs. We assumed at first that there would be more accidents during the winter season due to the meteorological conditions (rain, frozen roads), but the data shows us that the most dense period of the year in terms of accidents is the summer season.\n",
    "This result might be caused by the fact that during winter, drivers are more careful, knowing the risks that come with winter, while during summer, drivers tend to drive faster."
   ]
  },
  {
   "cell_type": "markdown",
   "metadata": {},
   "source": [
    "Accidents distribution over the whole set of data (2011-2015) : Month"
   ]
  },
  {
   "cell_type": "code",
   "execution_count": 27,
   "metadata": {
    "collapsed": false
   },
   "outputs": [
    {
     "data": {
      "image/png": "[encoded data removed]",
      "text/plain": [
       "<matplotlib.figure.Figure at 0x1c0426deda0>"
      ]
     },
     "metadata": {},
     "output_type": "display_data"
    }
   ],
   "source": [
    "fig, ax = plt.subplots()\n",
    "fig.set_size_inches(12, 4)\n",
    "g = sns.countplot(x='month', data=accidents_df, color='grey')\n",
    "g.set_xticklabels(g.get_xticklabels(), rotation=60)\n",
    "plt.show()"
   ]
  },
  {
   "cell_type": "markdown",
   "metadata": {},
   "source": [
    "Accidents distribution over the whole set of data (2011-2015) : Road type per day of week"
   ]
  },
  {
   "cell_type": "code",
   "execution_count": 28,
   "metadata": {
    "collapsed": false
   },
   "outputs": [
    {
     "data": {
      "image/png": "[encoded data removed]",
      "text/plain": [
       "<matplotlib.figure.Figure at 0x1c04293cef0>"
      ]
     },
     "metadata": {},
     "output_type": "display_data"
    }
   ],
   "source": [
    "fig, ax = plt.subplots()\n",
    "fig.set_size_inches(12, 4)\n",
    "g = sns.countplot(x='properties_roadtypecode', hue='weekday', data=accidents_df, color='grey')\n",
    "g.set_xticklabels(g.get_xticklabels(), rotation=60)\n",
    "plt.show()"
   ]
  },
  {
   "cell_type": "markdown",
   "metadata": {},
   "source": [
    "# Vizualisation"
   ]
  },
  {
   "cell_type": "markdown",
   "metadata": {},
   "source": [
    "This heatmap shows the accidents density (all accidents type).\n",
    "\n",
    "Clicking on the top right button allows the user to select the year(s) to display"
   ]
  },
  {
   "cell_type": "code",
   "execution_count": 29,
   "metadata": {
    "collapsed": true
   },
   "outputs": [],
   "source": [
    "accidents_df.to_json('data/accidents.json', orient='index')"
   ]
  },
  {
   "cell_type": "code",
   "execution_count": 30,
   "metadata": {
    "collapsed": false,
    "scrolled": true
   },
   "outputs": [
    {
     "data": {
      "text/html": [
       "<iframe src=\"heatmap.html\" width=\"1000px\" height=\"600px\"></iframe>"
      ],
      "text/plain": [
       "<IPython.core.display.HTML object>"
      ]
     },
     "metadata": {},
     "output_type": "display_data"
    }
   ],
   "source": [
    "%%html\n",
    "<iframe src=\"heatmap.html\" width=\"1000px\" height=\"600px\"></iframe>"
   ]
  },
  {
   "cell_type": "markdown",
   "metadata": {},
   "source": [
    "## Grid\n",
    "\n",
    "Our idea is to create squares all over the swiss map to create areas and then count the accident per area.\n",
    "\n",
    "Swiss coordinates system is designed so that no two x and y coordinates can be mixed, 1 unit is one meter on the field.\n",
    "\n",
    "min coord Y : 480000, 070000 (bottom left)\n",
    "max coord X : 840000, 300000 (top right)\n",
    "\n",
    "There are squares that are outside Switzerland, but we are not interested in areas with 0 value (as if there are no roads, there cannot be any accident either)."
   ]
  },
  {
   "cell_type": "code",
   "execution_count": 31,
   "metadata": {
    "collapsed": true
   },
   "outputs": [],
   "source": [
    "def create_grid_per_year(all_data_df, square_size):\n",
    "    grid_count_list = list()\n",
    "    years = [2011, 2012, 2013, 2014, 2015]\n",
    "    for year in years:\n",
    "        filterer_year_df = all_data_df[all_data_df['year'] == year]\n",
    "        year_grid = create_count_grid(square_size, filterer_year_df)\n",
    "        grid_count_list.append(year_grid)\n",
    "    return grid_count_list"
   ]
  },
  {
   "cell_type": "code",
   "execution_count": 32,
   "metadata": {
    "collapsed": true
   },
   "outputs": [],
   "source": [
    "def create_count_grid(square_size, df):\n",
    "    \"\"\"\n",
    "        Creates and fills an array with the count of accidents per squares\n",
    "        of size square_size on the map with the provided DataFrame df.\n",
    "    \"\"\"\n",
    "    \n",
    "    xRange=840000-480000\n",
    "    yRange=300000-70000\n",
    "\n",
    "    nb_x = math.ceil(xRange/square_size)\n",
    "    nb_y = math.ceil(yRange/square_size)\n",
    "    \n",
    "    grid = np.zeros((nb_x, nb_y))\n",
    "    #print(nb_x, nb_y, square_size, grid.shape)\n",
    "    \n",
    "    for index, row in df.iterrows():\n",
    "        x = math.floor((row['geometry_coordinates'][0] - 480000) / square_size)\n",
    "        y = math.floor((row['geometry_coordinates'][1] - 70000) / square_size)\n",
    "        grid[x, y] += 1\n",
    "    return grid"
   ]
  },
  {
   "cell_type": "code",
   "execution_count": 33,
   "metadata": {
    "collapsed": true
   },
   "outputs": [],
   "source": [
    "def create_grid_per_year(all_data_df, square_size):\n",
    "    '''\n",
    "        creates a grid per year in our data set\n",
    "    '''\n",
    "    grid_count_list = list()\n",
    "    years = [2011, 2012, 2013, 2014, 2015]\n",
    "    for year in years:\n",
    "        filterer_year_df = all_data_df[all_data_df['year'] == year]\n",
    "        year_grid = create_count_grid(square_size, filterer_year_df)\n",
    "        grid_count_list.append(year_grid)\n",
    "    return grid_count_list"
   ]
  },
  {
   "cell_type": "code",
   "execution_count": 34,
   "metadata": {
    "collapsed": true
   },
   "outputs": [],
   "source": [
    "def generate_goejson_polygon(point, year, square_size):\n",
    "    '''\n",
    "        This function generates a geojson polygon for a square area computed using the \n",
    "        coordinates of the lower left corner of the area.\n",
    "    '''\n",
    "    #print(point)\n",
    "    p1, p2, p3, p4 = find_square_coords(point, square_size)\n",
    "    s='''{ \"type\": \"Polygon\", \"year\":%d,\n",
    "    \"coordinates\": [\n",
    "        [ [%3f, %3f], [%3f, %3f], [%3f, %3f], [%3f, %3f], [%3f, %3f] ]\n",
    "      ]\n",
    "   }\\n'''%(year, p1[0], p1[1], p4[0], p4[1], p3[0], p3[1], p2[0], p2[1], p1[0], p1[1])\n",
    "    return s"
   ]
  },
  {
   "cell_type": "code",
   "execution_count": 35,
   "metadata": {
    "collapsed": true
   },
   "outputs": [],
   "source": [
    "def find_square_coords(point_coords, square_size):\n",
    "    '''\n",
    "        Given 4 points, returns the wgs84 coordinates\n",
    "    '''\n",
    "    xOffset = 480000\n",
    "    yOffset = 70000\n",
    "    \n",
    "    x1 = point_coords[0]*square_size + xOffset\n",
    "    y1 = point_coords[1]*square_size + yOffset\n",
    "    \n",
    "    x2, y2, x3, y3, x4, y4 = find_surrounding_points(x1, y1, square_size)\n",
    "    \n",
    "    p1 = ch1903_to_wgs84(x1, y1)\n",
    "    p2 = ch1903_to_wgs84(x2, y2)\n",
    "    p3 = ch1903_to_wgs84(x3, y3)\n",
    "    p4 = ch1903_to_wgs84(x4, y4)\n",
    "    \n",
    "    return p1, p2, p3, p4"
   ]
  },
  {
   "cell_type": "code",
   "execution_count": 36,
   "metadata": {
    "collapsed": true
   },
   "outputs": [],
   "source": [
    "def find_surrounding_points(x, y, square_size):\n",
    "    '''\n",
    "        Compute the coordinates of each corner of the square area based on the coordinates\n",
    "        of the lower left corner of the area.\n",
    "    '''\n",
    "    x2 = x+square_size\n",
    "    y2 = y\n",
    "    \n",
    "    x3 = x2\n",
    "    y3 = y+square_size\n",
    "    \n",
    "    x4 = x\n",
    "    y4 = y3\n",
    "\n",
    "    return x2, y2, x3, y3, x4, y4"
   ]
  },
  {
   "cell_type": "code",
   "execution_count": 37,
   "metadata": {
    "collapsed": true
   },
   "outputs": [],
   "source": [
    "def geojson_highest_variance_areas(df, square_size, threshold=5):\n",
    "    '''\n",
    "        Write the file containing the geoJSON coords of squares with high variance\n",
    "    '''\n",
    "    year_grids = create_grid_per_year(df, square_size)\n",
    "    comp_grids = [np.abs(year_grids[i] - year_grids[i+1]) for i in range(len(year_grids) - 1)]\n",
    "\n",
    "    polygons='''{\n",
    "      \"type\": \"Feature\",    \n",
    "      \"geometry\": {\n",
    "        \"type\": \"GeometryCollection\",    \n",
    "        \"geometries\": ['''\n",
    "    year=2012\n",
    "\n",
    "    for i in range(len(comp_grids)):\n",
    "        x=comp_grids[i]\n",
    "        where = np.where(x > x.max() - threshold)\n",
    "        if(i!=0):\n",
    "            polygons+=','\n",
    "\n",
    "        for j in range(len(where[0])):\n",
    "            if(j!=0):\n",
    "                polygons+=','\n",
    "            point=list()\n",
    "            point.append(where[0][j])\n",
    "            point.append(where[1][j])\n",
    "            polygons+=(generate_goejson_polygon(point, year, square_size))\n",
    "\n",
    "        year+=1\n",
    "\n",
    "    polygons+=''']\n",
    "      },\n",
    "      \"properties\": {\n",
    "        \"name\": \"null island\"\n",
    "      }\n",
    "    }'''\n",
    "\n",
    "    polygons=polygons.replace('\\n', \"\")\n",
    "\n",
    "    with open(\"data/high_variance_areas.json\", \"w\") as text_file:\n",
    "                    text_file.write(polygons)"
   ]
  },
  {
   "cell_type": "markdown",
   "metadata": {},
   "source": [
    "Finding the good square dimensions"
   ]
  },
  {
   "cell_type": "code",
   "execution_count": 38,
   "metadata": {
    "collapsed": true
   },
   "outputs": [],
   "source": [
    "def compute_ratio(grid):\n",
    "    \"\"\"\n",
    "        To find a good square size length, we compute a ratio that is (% of non empty squares)/(mean of non zero values)\n",
    "    \"\"\"\n",
    "    non_empty_indices = np.nonzero(grid)\n",
    "    grid_non_zero = grid[non_empty_indices]\n",
    "    \n",
    "    non_empty_pct = len(non_empty_indices) / (grid.shape[0] * grid.shape[1])\n",
    "    \n",
    "    mean = grid.mean()\n",
    "    mean_non_zero = grid_non_zero.mean()\n",
    "    \n",
    "    return non_empty_pct / mean_non_zero, non_empty_pct / mean"
   ]
  },
  {
   "cell_type": "code",
   "execution_count": 39,
   "metadata": {
    "collapsed": true
   },
   "outputs": [],
   "source": [
    "def optimality_plot(df):\n",
    "    \"\"\"\n",
    "        Plot the result of the ratio per square length, min is better\n",
    "    \"\"\"\n",
    "    optimality_list = [[i, compute_ratio(create_count_grid(i, df))] for i in range (500, 15000, 1000)]\n",
    "    xaxis = list()\n",
    "    non_zero = list()\n",
    "    mean = list()\n",
    "\n",
    "    for item in optimality_list:\n",
    "            xaxis.append(item[0])\n",
    "            non_zero.append(item[1][0])\n",
    "            mean.append(item[1][1])\n",
    "    return xaxis, non_zero, mean"
   ]
  },
  {
   "cell_type": "code",
   "execution_count": 40,
   "metadata": {
    "collapsed": false
   },
   "outputs": [
    {
     "data": {
      "image/png": "[encoded data removed]",
      "text/plain": [
       "<matplotlib.figure.Figure at 0x1c043beda58>"
      ]
     },
     "metadata": {},
     "output_type": "display_data"
    }
   ],
   "source": [
    "xaxis, non_zero, mean = optimality_plot(accidents_df)\n",
    "plt.plot(xaxis, non_zero, 'go', label='non zero')\n",
    "plt.plot(xaxis, mean, 'bo', label='all')\n",
    "plt.legend(loc='lower right')\n",
    "plt.show()"
   ]
  },
  {
   "cell_type": "markdown",
   "metadata": {},
   "source": [
    "We choose the value 1000 as the ratio is good enough and if the square size is too small we wouldn't find interesting accident location changes \n",
    "\n",
    "We can now run the pipeline for computing the coordinates of the areas with highest variances in the number of accidents"
   ]
  },
  {
   "cell_type": "code",
   "execution_count": 41,
   "metadata": {
    "collapsed": false
   },
   "outputs": [],
   "source": [
    "geojson_highest_variance_areas(accidents_df, 1000, 5)"
   ]
  },
  {
   "cell_type": "code",
   "execution_count": 42,
   "metadata": {
    "collapsed": false
   },
   "outputs": [
    {
     "data": {
      "text/html": [
       "<iframe src=\"heatmap_w_grid.html\" width=\"1000px\" height=\"600px\"></iframe>"
      ],
      "text/plain": [
       "<IPython.core.display.HTML object>"
      ]
     },
     "metadata": {},
     "output_type": "display_data"
    }
   ],
   "source": [
    "%%html\n",
    "<iframe src=\"heatmap_w_grid.html\" width=\"1000px\" height=\"600px\"></iframe>"
   ]
  },
  {
   "cell_type": "markdown",
   "metadata": {},
   "source": [
    "The red squares in this heatmap represent the areas with the highest variation in the number of accidents between two given year.\n",
    "Unluckily we found that most results are representing cities area, and the high different isn't really big if we take into account the hole city.\n",
    "\n",
    "La Poya bridge : The pin in Fribourg is here to show an area in which we observed an interesting change in the number of accidents but that our algorithm did not find. The opening of the bridge, \"Pont de la Poya\", in late 2014 has caused a massive decrease in the number of accidents in the area. Since the bridge opened, the area marked by the pin has had its traffic load greatly decrease, causing at the same time a decrease in the number of accidents, since a big portion of that traffic is now redirected through the bridge.\n",
    "\n",
    "Lenzburg : we observed that in Lenzburg there are significantly more accidents in 2012 and 2015 at the highway exit, but couldn't find out if there is a particular reason. If course the urbanism has changed throughout the years in https://map.geo.admin.ch we can enable a historical layer and here are the map form 2007 and now:\n",
    "![Image](Resources/images/lenz_2007_2.png) ![Image](Resources/images/lenz_now_2.png)"
   ]
  }
 ],
 "metadata": {
  "anaconda-cloud": {},
  "kernelspec": {
   "display_name": "Python [Root]",
   "language": "python",
   "name": "Python [Root]"
  },
  "language_info": {
   "codemirror_mode": {
    "name": "ipython",
    "version": 3
   },
   "file_extension": ".py",
   "mimetype": "text/x-python",
   "name": "python",
   "nbconvert_exporter": "python",
   "pygments_lexer": "ipython3",
   "version": "3.5.2"
  }
 },
 "nbformat": 4,
 "nbformat_minor": 0
}
