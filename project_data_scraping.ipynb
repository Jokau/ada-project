{
 "cells": [
  {
   "cell_type": "markdown",
   "metadata": {},
   "source": [
    "# Road Traffic Accidents in Switzerland"
   ]
  },
  {
   "cell_type": "markdown",
   "metadata": {},
   "source": [
    "Our project goal is to scrap all traffic accidents from the accidents map from http://map.donneesaccidents.ch/"
   ]
  },
  {
   "cell_type": "markdown",
   "metadata": {},
   "source": [
    "## Data scraping strategy"
   ]
  },
  {
   "cell_type": "markdown",
   "metadata": {},
   "source": [
    "Accessing http://map.donneesaccidents.ch/, wich redirects to : <br>\n",
    "https://map.geo.admin.ch/?topic=vu&lang=fr&bgLayer=ch.swisstopo.pixelkarte-grau&layers=ch.astra.unfaelle-personenschaeden_alle&layers_timestamp=&catalogNodes=1318\n",
    "\n",
    "\n",
    "Postman parses the following parameters : \n",
    "<code>\n",
    "topic:vu\n",
    "lang:en\n",
    "bgLayer:ch.swisstopo.pixelkarte-grau\n",
    "layers:ch.astra.unfaelle-personenschaeden_alle\n",
    "layers_timestamp:\n",
    "catalogNodes:1318\n",
    "</code>\n",
    "\n",
    "The most important one is layers:ch.astra.unfaelle-personenschaeden_alle.<br>\n",
    "It is the layer that contains all the geo-information dots on \"Accidents with personal injury\" which is the selected data layer.\n",
    "<img src=\"layer_selector.png\">\n",
    "\n",
    "Selection all kinds of accidents returns the following :<br>\n",
    "<img src=\"layer_selector_all.png\">\n",
    "with layer parameters :<br>\n",
    "layers:<br>\n",
    "    &nbsp;ch.astra.unfaelle-personenschaeden_alle,<br>\n",
    "    &nbsp;ch.astra.unfaelle-personenschaeden_getoetete,<br>\n",
    "    &nbsp;ch.astra.unfaelle-personenschaeden_fussgaenger,<br>\n",
    "    &nbsp;ch.astra.unfaelle-personenschaeden_fahrraeder,<br>\n",
    "    &nbsp;ch.astra.unfaelle-personenschaeden_motorraeder<br>\n",
    "layers_timestamp:,,,,<br>\n",
    "\n",
    "Now we want every data for each layer. By selecting a dot on the map, it queries the related data to the server.\n",
    "What we want to do is selecting all the entries in the map to retrieves all data. This is done by ctrl clicking the whole area.\n",
    "\n",
    "This makes a query for each \"layers\" parameter :\n",
    "<code>\n",
    "geometry:443999.04209536605,39001.6733318335,870499.0420953662,303001.67333183356\n",
    "geometryFormat:geojson\n",
    "geometryType:esriGeometryEnvelope\n",
    "imageDisplay:1536,759,96\n",
    "lang:en\n",
    "layers:all:<i>LAYER_PARAM</i>\n",
    "mapExtent:269999.04209536605,9501.673331833561,1037999.042095366,389001.67333183356\n",
    "returnGeometry:true\n",
    "tolerance:5\n",
    "</code><br>\n",
    "But doesn't select all dots on map, so let's try the \"load more results\" button on a 'accidetns with fatalities' layer, we get :\n",
    "<code>\n",
    "geometry:443999.04209536605,39001.6733318335,870499.0420953662,303001.67333183356\n",
    "geometryFormat:geojson\n",
    "geometryType:esriGeometryEnvelope\n",
    "imageDisplay:1536,759,96\n",
    "lang:en\n",
    "layers:all:ch.astra.unfaelle-personenschaeden_getoetete\n",
    "mapExtent:136199.04209536605,-28148.32666816644,1134599.042095366,465201.67333183356\n",
    "<b>offset:200</b>\n",
    "returnGeometry:true\n",
    "tolerance:5\n",
    "</code>\n",
    "Pressing load more until no more possible give offset=1200 (for a total of 1337 objects) i.e it loads data entries 200 by 200"
   ]
  },
  {
   "cell_type": "markdown",
   "metadata": {},
   "source": [
    "## JSON Data scraping"
   ]
  },
  {
   "cell_type": "code",
   "execution_count": 1,
   "metadata": {
    "collapsed": false
   },
   "outputs": [],
   "source": [
    "import requests\n",
    "import json\n",
    "\n",
    "import numpy as np\n",
    "import pandas as pd\n",
    "\n",
    "import matplotlib.pyplot as plt\n",
    "\n",
    "from Scripts.helpers import *\n",
    "\n",
    "\n",
    "import pprint\n",
    "#from bs4 import BeautifulSoup"
   ]
  },
  {
   "cell_type": "code",
   "execution_count": 2,
   "metadata": {
    "collapsed": false
   },
   "outputs": [],
   "source": [
    "pp = pprint.PrettyPrinter(indent=4)"
   ]
  },
  {
   "cell_type": "code",
   "execution_count": 3,
   "metadata": {
    "collapsed": false
   },
   "outputs": [
    {
     "name": "stdout",
     "output_type": "stream",
     "text": [
      "Processing layer : ch.astra.unfaelle-personenschaeden_alle\n",
      "Layer processed : 201 records\n",
      "\n",
      "Whole dataset processed : 201 records\n",
      "\n"
     ]
    },
    {
     "data": {
      "text/plain": [
       "list"
      ]
     },
     "execution_count": 3,
     "metadata": {},
     "output_type": "execute_result"
    }
   ],
   "source": [
    "#import raw data\n",
    "data = import_data(all_data = False)\n",
    "type(data)"
   ]
  },
  {
   "cell_type": "code",
   "execution_count": 4,
   "metadata": {
    "collapsed": false
   },
   "outputs": [],
   "source": [
    "#translate data from german\n",
    "json_data_preprocessed = preprocess_data(data)"
   ]
  },
  {
   "cell_type": "code",
   "execution_count": 5,
   "metadata": {
    "collapsed": false
   },
   "outputs": [
    {
     "name": "stdout",
     "output_type": "stream",
     "text": [
      "Data entry example after clean and reformat:\n",
      "\n"
     ]
    },
    {
     "data": {
      "text/plain": [
       "{'accidentday_fr': 'vendredi / 12h-13h / septembre 2013',\n",
       " 'accidenttype_fr': 'accident impliquant des piétons',\n",
       " 'accidenttypecode': 8,\n",
       " 'accidentyear': 2013,\n",
       " 'bbox': [705812.0, 232162.0, 705812.0, 232162.0],\n",
       " 'canton': 'SG',\n",
       " 'coordinates': [[705812.0, 232162.0]],\n",
       " 'featureId': 'E7C1164820D1026CE0430A8394271261',\n",
       " 'fsocommunecode': '3340',\n",
       " 'geometryType': 'Feature',\n",
       " 'id': 'E7C1164820D1026CE0430A8394271261',\n",
       " 'label': 'Fussgängerunfall',\n",
       " 'layerBodId': 'ch.astra.unfaelle-personenschaeden_alle',\n",
       " 'layerName': 'Accidents avec dommages corporels',\n",
       " 'roadtype_de': 'Nebenstrasse',\n",
       " 'roadtype_fr': 'route secondaire',\n",
       " 'roadtype_it': 'Strada secondaria',\n",
       " 'roadtypecode': 433,\n",
       " 'severitycategory_fr': 'accident avec blessés légers',\n",
       " 'severitycategorycode': 'ULV',\n",
       " 'type': 'Feature'}"
      ]
     },
     "execution_count": 5,
     "metadata": {},
     "output_type": "execute_result"
    }
   ],
   "source": [
    "print(\"Data entry example after clean and reformat:\\n\")\n",
    "#pp.pprint(json_data_clean[0])\n",
    "if 'properties' in json_data_preprocessed[0]:\n",
    "    print('hi')\n",
    "json_data_preprocessed[0]"
   ]
  },
  {
   "cell_type": "code",
   "execution_count": 6,
   "metadata": {
    "collapsed": false
   },
   "outputs": [
    {
     "data": {
      "text/html": [
       "<div>\n",
       "<table border=\"1\" class=\"dataframe\">\n",
       "  <thead>\n",
       "    <tr style=\"text-align: right;\">\n",
       "      <th></th>\n",
       "      <th>accidentday_fr</th>\n",
       "      <th>accidenttype_fr</th>\n",
       "      <th>accidenttypecode</th>\n",
       "      <th>accidentyear</th>\n",
       "      <th>bbox</th>\n",
       "      <th>canton</th>\n",
       "      <th>coordinates</th>\n",
       "      <th>featureId</th>\n",
       "      <th>fsocommunecode</th>\n",
       "      <th>geometryType</th>\n",
       "      <th>label</th>\n",
       "      <th>layerBodId</th>\n",
       "      <th>layerName</th>\n",
       "      <th>roadtype_de</th>\n",
       "      <th>roadtype_fr</th>\n",
       "      <th>roadtype_it</th>\n",
       "      <th>roadtypecode</th>\n",
       "      <th>severitycategory_fr</th>\n",
       "      <th>severitycategorycode</th>\n",
       "      <th>type</th>\n",
       "    </tr>\n",
       "    <tr>\n",
       "      <th>id</th>\n",
       "      <th></th>\n",
       "      <th></th>\n",
       "      <th></th>\n",
       "      <th></th>\n",
       "      <th></th>\n",
       "      <th></th>\n",
       "      <th></th>\n",
       "      <th></th>\n",
       "      <th></th>\n",
       "      <th></th>\n",
       "      <th></th>\n",
       "      <th></th>\n",
       "      <th></th>\n",
       "      <th></th>\n",
       "      <th></th>\n",
       "      <th></th>\n",
       "      <th></th>\n",
       "      <th></th>\n",
       "      <th></th>\n",
       "      <th></th>\n",
       "    </tr>\n",
       "  </thead>\n",
       "  <tbody>\n",
       "    <tr>\n",
       "      <th>E7C1164820D1026CE0430A8394271261</th>\n",
       "      <td>vendredi / 12h-13h / septembre 2013</td>\n",
       "      <td>accident impliquant des piétons</td>\n",
       "      <td>8</td>\n",
       "      <td>2013</td>\n",
       "      <td>[705812.0, 232162.0, 705812.0, 232162.0]</td>\n",
       "      <td>SG</td>\n",
       "      <td>[[705812.0, 232162.0]]</td>\n",
       "      <td>E7C1164820D1026CE0430A8394271261</td>\n",
       "      <td>3340</td>\n",
       "      <td>Feature</td>\n",
       "      <td>Fussgängerunfall</td>\n",
       "      <td>ch.astra.unfaelle-personenschaeden_alle</td>\n",
       "      <td>Accidents avec dommages corporels</td>\n",
       "      <td>Nebenstrasse</td>\n",
       "      <td>route secondaire</td>\n",
       "      <td>Strada secondaria</td>\n",
       "      <td>433</td>\n",
       "      <td>accident avec blessés légers</td>\n",
       "      <td>ULV</td>\n",
       "      <td>Feature</td>\n",
       "    </tr>\n",
       "    <tr>\n",
       "      <th>E7D2B416CFE90026E0430A8394278A4B</th>\n",
       "      <td>vendredi / 23h-00h / septembre 2013</td>\n",
       "      <td>accident en quittant une route</td>\n",
       "      <td>3</td>\n",
       "      <td>2013</td>\n",
       "      <td>[627642.0, 241257.0, 627642.0, 241257.0]</td>\n",
       "      <td>SO</td>\n",
       "      <td>[[627642.0, 241257.0]]</td>\n",
       "      <td>E7D2B416CFE90026E0430A8394278A4B</td>\n",
       "      <td>2401</td>\n",
       "      <td>Feature</td>\n",
       "      <td>Abbiegeunfall</td>\n",
       "      <td>ch.astra.unfaelle-personenschaeden_alle</td>\n",
       "      <td>Accidents avec dommages corporels</td>\n",
       "      <td>Hauptstrasse</td>\n",
       "      <td>route principale</td>\n",
       "      <td>Strada principale</td>\n",
       "      <td>432</td>\n",
       "      <td>accident avec blessés légers</td>\n",
       "      <td>ULV</td>\n",
       "      <td>Feature</td>\n",
       "    </tr>\n",
       "    <tr>\n",
       "      <th>E7E3FBBEAA1E0192E0430A8394272005</th>\n",
       "      <td>vendredi / 07h-08h / septembre 2013</td>\n",
       "      <td>dérapage ou perte de maîtrise</td>\n",
       "      <td>0</td>\n",
       "      <td>2013</td>\n",
       "      <td>[612312.0, 265695.0, 612312.0, 265695.0]</td>\n",
       "      <td>BS</td>\n",
       "      <td>[[612312.0, 265695.0]]</td>\n",
       "      <td>E7E3FBBEAA1E0192E0430A8394272005</td>\n",
       "      <td>2701</td>\n",
       "      <td>Feature</td>\n",
       "      <td>Schleuder- oder Selbstunfall</td>\n",
       "      <td>ch.astra.unfaelle-personenschaeden_alle</td>\n",
       "      <td>Accidents avec dommages corporels</td>\n",
       "      <td>Nebenstrasse</td>\n",
       "      <td>route secondaire</td>\n",
       "      <td>Strada secondaria</td>\n",
       "      <td>433</td>\n",
       "      <td>accident avec blessés graves</td>\n",
       "      <td>USV</td>\n",
       "      <td>Feature</td>\n",
       "    </tr>\n",
       "    <tr>\n",
       "      <th>E80E79B04BB60174E0430A839427D8F3</th>\n",
       "      <td>vendredi / 17h-18h / septembre 2013</td>\n",
       "      <td>accident en s'engageant sur une route</td>\n",
       "      <td>4</td>\n",
       "      <td>2013</td>\n",
       "      <td>[639596.0, 215393.0, 639596.0, 215393.0]</td>\n",
       "      <td>LU</td>\n",
       "      <td>[[639596.0, 215393.0]]</td>\n",
       "      <td>E80E79B04BB60174E0430A839427D8F3</td>\n",
       "      <td>1132</td>\n",
       "      <td>Feature</td>\n",
       "      <td>Einbiegeunfall</td>\n",
       "      <td>ch.astra.unfaelle-personenschaeden_alle</td>\n",
       "      <td>Accidents avec dommages corporels</td>\n",
       "      <td>Nebenstrasse</td>\n",
       "      <td>route secondaire</td>\n",
       "      <td>Strada secondaria</td>\n",
       "      <td>433</td>\n",
       "      <td>accident avec blessés graves</td>\n",
       "      <td>USV</td>\n",
       "      <td>Feature</td>\n",
       "    </tr>\n",
       "    <tr>\n",
       "      <th>E838543221E4014EE0430A839427E3DE</th>\n",
       "      <td>vendredi / 09h-10h / septembre 2013</td>\n",
       "      <td>accident en quittant une route</td>\n",
       "      <td>3</td>\n",
       "      <td>2013</td>\n",
       "      <td>[494559.0, 119517.0, 494559.0, 119517.0]</td>\n",
       "      <td>GE</td>\n",
       "      <td>[[494559.0, 119517.0]]</td>\n",
       "      <td>E838543221E4014EE0430A839427E3DE</td>\n",
       "      <td>6630</td>\n",
       "      <td>Feature</td>\n",
       "      <td>Abbiegeunfall</td>\n",
       "      <td>ch.astra.unfaelle-personenschaeden_alle</td>\n",
       "      <td>Accidents avec dommages corporels</td>\n",
       "      <td>Hauptstrasse</td>\n",
       "      <td>route principale</td>\n",
       "      <td>Strada principale</td>\n",
       "      <td>432</td>\n",
       "      <td>accident avec blessés légers</td>\n",
       "      <td>ULV</td>\n",
       "      <td>Feature</td>\n",
       "    </tr>\n",
       "  </tbody>\n",
       "</table>\n",
       "</div>"
      ],
      "text/plain": [
       "                                                       accidentday_fr  \\\n",
       "id                                                                      \n",
       "E7C1164820D1026CE0430A8394271261  vendredi / 12h-13h / septembre 2013   \n",
       "E7D2B416CFE90026E0430A8394278A4B  vendredi / 23h-00h / septembre 2013   \n",
       "E7E3FBBEAA1E0192E0430A8394272005  vendredi / 07h-08h / septembre 2013   \n",
       "E80E79B04BB60174E0430A839427D8F3  vendredi / 17h-18h / septembre 2013   \n",
       "E838543221E4014EE0430A839427E3DE  vendredi / 09h-10h / septembre 2013   \n",
       "\n",
       "                                                        accidenttype_fr  \\\n",
       "id                                                                        \n",
       "E7C1164820D1026CE0430A8394271261        accident impliquant des piétons   \n",
       "E7D2B416CFE90026E0430A8394278A4B         accident en quittant une route   \n",
       "E7E3FBBEAA1E0192E0430A8394272005          dérapage ou perte de maîtrise   \n",
       "E80E79B04BB60174E0430A839427D8F3  accident en s'engageant sur une route   \n",
       "E838543221E4014EE0430A839427E3DE         accident en quittant une route   \n",
       "\n",
       "                                  accidenttypecode  accidentyear  \\\n",
       "id                                                                 \n",
       "E7C1164820D1026CE0430A8394271261                 8          2013   \n",
       "E7D2B416CFE90026E0430A8394278A4B                 3          2013   \n",
       "E7E3FBBEAA1E0192E0430A8394272005                 0          2013   \n",
       "E80E79B04BB60174E0430A839427D8F3                 4          2013   \n",
       "E838543221E4014EE0430A839427E3DE                 3          2013   \n",
       "\n",
       "                                                                      bbox  \\\n",
       "id                                                                           \n",
       "E7C1164820D1026CE0430A8394271261  [705812.0, 232162.0, 705812.0, 232162.0]   \n",
       "E7D2B416CFE90026E0430A8394278A4B  [627642.0, 241257.0, 627642.0, 241257.0]   \n",
       "E7E3FBBEAA1E0192E0430A8394272005  [612312.0, 265695.0, 612312.0, 265695.0]   \n",
       "E80E79B04BB60174E0430A839427D8F3  [639596.0, 215393.0, 639596.0, 215393.0]   \n",
       "E838543221E4014EE0430A839427E3DE  [494559.0, 119517.0, 494559.0, 119517.0]   \n",
       "\n",
       "                                 canton             coordinates  \\\n",
       "id                                                                \n",
       "E7C1164820D1026CE0430A8394271261     SG  [[705812.0, 232162.0]]   \n",
       "E7D2B416CFE90026E0430A8394278A4B     SO  [[627642.0, 241257.0]]   \n",
       "E7E3FBBEAA1E0192E0430A8394272005     BS  [[612312.0, 265695.0]]   \n",
       "E80E79B04BB60174E0430A839427D8F3     LU  [[639596.0, 215393.0]]   \n",
       "E838543221E4014EE0430A839427E3DE     GE  [[494559.0, 119517.0]]   \n",
       "\n",
       "                                                         featureId  \\\n",
       "id                                                                   \n",
       "E7C1164820D1026CE0430A8394271261  E7C1164820D1026CE0430A8394271261   \n",
       "E7D2B416CFE90026E0430A8394278A4B  E7D2B416CFE90026E0430A8394278A4B   \n",
       "E7E3FBBEAA1E0192E0430A8394272005  E7E3FBBEAA1E0192E0430A8394272005   \n",
       "E80E79B04BB60174E0430A839427D8F3  E80E79B04BB60174E0430A839427D8F3   \n",
       "E838543221E4014EE0430A839427E3DE  E838543221E4014EE0430A839427E3DE   \n",
       "\n",
       "                                 fsocommunecode geometryType  \\\n",
       "id                                                             \n",
       "E7C1164820D1026CE0430A8394271261           3340      Feature   \n",
       "E7D2B416CFE90026E0430A8394278A4B           2401      Feature   \n",
       "E7E3FBBEAA1E0192E0430A8394272005           2701      Feature   \n",
       "E80E79B04BB60174E0430A839427D8F3           1132      Feature   \n",
       "E838543221E4014EE0430A839427E3DE           6630      Feature   \n",
       "\n",
       "                                                         label  \\\n",
       "id                                                               \n",
       "E7C1164820D1026CE0430A8394271261              Fussgängerunfall   \n",
       "E7D2B416CFE90026E0430A8394278A4B                 Abbiegeunfall   \n",
       "E7E3FBBEAA1E0192E0430A8394272005  Schleuder- oder Selbstunfall   \n",
       "E80E79B04BB60174E0430A839427D8F3                Einbiegeunfall   \n",
       "E838543221E4014EE0430A839427E3DE                 Abbiegeunfall   \n",
       "\n",
       "                                                               layerBodId  \\\n",
       "id                                                                          \n",
       "E7C1164820D1026CE0430A8394271261  ch.astra.unfaelle-personenschaeden_alle   \n",
       "E7D2B416CFE90026E0430A8394278A4B  ch.astra.unfaelle-personenschaeden_alle   \n",
       "E7E3FBBEAA1E0192E0430A8394272005  ch.astra.unfaelle-personenschaeden_alle   \n",
       "E80E79B04BB60174E0430A839427D8F3  ch.astra.unfaelle-personenschaeden_alle   \n",
       "E838543221E4014EE0430A839427E3DE  ch.astra.unfaelle-personenschaeden_alle   \n",
       "\n",
       "                                                          layerName  \\\n",
       "id                                                                    \n",
       "E7C1164820D1026CE0430A8394271261  Accidents avec dommages corporels   \n",
       "E7D2B416CFE90026E0430A8394278A4B  Accidents avec dommages corporels   \n",
       "E7E3FBBEAA1E0192E0430A8394272005  Accidents avec dommages corporels   \n",
       "E80E79B04BB60174E0430A839427D8F3  Accidents avec dommages corporels   \n",
       "E838543221E4014EE0430A839427E3DE  Accidents avec dommages corporels   \n",
       "\n",
       "                                   roadtype_de       roadtype_fr  \\\n",
       "id                                                                 \n",
       "E7C1164820D1026CE0430A8394271261  Nebenstrasse  route secondaire   \n",
       "E7D2B416CFE90026E0430A8394278A4B  Hauptstrasse  route principale   \n",
       "E7E3FBBEAA1E0192E0430A8394272005  Nebenstrasse  route secondaire   \n",
       "E80E79B04BB60174E0430A839427D8F3  Nebenstrasse  route secondaire   \n",
       "E838543221E4014EE0430A839427E3DE  Hauptstrasse  route principale   \n",
       "\n",
       "                                        roadtype_it  roadtypecode  \\\n",
       "id                                                                  \n",
       "E7C1164820D1026CE0430A8394271261  Strada secondaria           433   \n",
       "E7D2B416CFE90026E0430A8394278A4B  Strada principale           432   \n",
       "E7E3FBBEAA1E0192E0430A8394272005  Strada secondaria           433   \n",
       "E80E79B04BB60174E0430A839427D8F3  Strada secondaria           433   \n",
       "E838543221E4014EE0430A839427E3DE  Strada principale           432   \n",
       "\n",
       "                                           severitycategory_fr  \\\n",
       "id                                                               \n",
       "E7C1164820D1026CE0430A8394271261  accident avec blessés légers   \n",
       "E7D2B416CFE90026E0430A8394278A4B  accident avec blessés légers   \n",
       "E7E3FBBEAA1E0192E0430A8394272005  accident avec blessés graves   \n",
       "E80E79B04BB60174E0430A839427D8F3  accident avec blessés graves   \n",
       "E838543221E4014EE0430A839427E3DE  accident avec blessés légers   \n",
       "\n",
       "                                 severitycategorycode     type  \n",
       "id                                                              \n",
       "E7C1164820D1026CE0430A8394271261                  ULV  Feature  \n",
       "E7D2B416CFE90026E0430A8394278A4B                  ULV  Feature  \n",
       "E7E3FBBEAA1E0192E0430A8394272005                  USV  Feature  \n",
       "E80E79B04BB60174E0430A839427D8F3                  USV  Feature  \n",
       "E838543221E4014EE0430A839427E3DE                  ULV  Feature  "
      ]
     },
     "execution_count": 6,
     "metadata": {},
     "output_type": "execute_result"
    }
   ],
   "source": [
    "df = pd.DataFrame.from_dict(json_data_preprocessed)\n",
    "df.set_index('id', inplace=True)\n",
    "df.head()"
   ]
  },
  {
   "cell_type": "code",
   "execution_count": 7,
   "metadata": {
    "collapsed": false
   },
   "outputs": [
    {
     "data": {
      "image/png": "[encoded data removed]",
      "text/plain": [
       "<matplotlib.figure.Figure at 0x1c853088630>"
      ]
     },
     "metadata": {},
     "output_type": "display_data"
    }
   ],
   "source": [
    "accident_type_stats = (df.groupby('accidenttype_fr').count())['accidentday_fr']\n",
    "accident_type_stats.plot(kind='bar', stacked=True)\n",
    "plt.xlabel(\"Accident Type\")\n",
    "plt.ylabel(\"Number of events\")\n",
    "plt.show()"
   ]
  },
  {
   "cell_type": "markdown",
   "metadata": {},
   "source": [
    "# Data analysis"
   ]
  },
  {
   "cell_type": "markdown",
   "metadata": {},
   "source": [
    "1) Accidents par rapport au temps<br>\n",
    "2) Corrélation nombre/type d'accident avec les endroits (Valais ivresse)<br>\n",
    "3) Tracker des anomalies (fin/début d'une série d'accident) et essayer d'en trouver la cause<br>"
   ]
  },
  {
   "cell_type": "code",
   "execution_count": null,
   "metadata": {
    "collapsed": true
   },
   "outputs": [],
   "source": []
  }
 ],
 "metadata": {
  "anaconda-cloud": {},
  "kernelspec": {
   "display_name": "Python [default]",
   "language": "python",
   "name": "python3"
  },
  "language_info": {
   "codemirror_mode": {
    "name": "ipython",
    "version": 3
   },
   "file_extension": ".py",
   "mimetype": "text/x-python",
   "name": "python",
   "nbconvert_exporter": "python",
   "pygments_lexer": "ipython3",
   "version": "3.5.2"
  }
 },
 "nbformat": 4,
 "nbformat_minor": 0
}
