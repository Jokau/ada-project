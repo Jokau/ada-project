{
 "cells": [
  {
   "cell_type": "markdown",
   "metadata": {},
   "source": [
    "# Road Traffic Accidents in Switzerland"
   ]
  },
  {
   "cell_type": "markdown",
   "metadata": {},
   "source": [
    "Our project goal is to scrap all traffic accidents from the accidents map from http://map.donneesaccidents.ch/"
   ]
  },
  {
   "cell_type": "markdown",
   "metadata": {},
   "source": [
    "## Data scraping strategy"
   ]
  },
  {
   "cell_type": "markdown",
   "metadata": {},
   "source": [
    "Accessing http://map.donneesaccidents.ch/, wich redirects to : <br>\n",
    "https://map.geo.admin.ch/?topic=vu&lang=fr&bgLayer=ch.swisstopo.pixelkarte-grau&layers=ch.astra.unfaelle-personenschaeden_alle&layers_timestamp=&catalogNodes=1318\n",
    "\n",
    "\n",
    "Postman parses the following parameters : \n",
    "<code>\n",
    "topic:vu\n",
    "lang:en\n",
    "bgLayer:ch.swisstopo.pixelkarte-grau\n",
    "layers:ch.astra.unfaelle-personenschaeden_alle\n",
    "layers_timestamp:\n",
    "catalogNodes:1318\n",
    "</code>\n",
    "\n",
    "The most important one is layers:ch.astra.unfaelle-personenschaeden_alle.<br>\n",
    "It is the layer that contains all the geo-information dots on \"Accidents with personal injury\" which is the selected data layer.\n",
    "<img src=\"Resources/images/layer_selector.png\">\n",
    "\n",
    "Selection all kinds of accidents returns the following :<br>\n",
    "<img src=\"Resources/images/layer_selector_all.png\">\n",
    "with layer parameters :<br>\n",
    "layers:<br>\n",
    "    &nbsp;ch.astra.unfaelle-personenschaeden_alle,<br>\n",
    "    &nbsp;ch.astra.unfaelle-personenschaeden_getoetete,<br>\n",
    "    &nbsp;ch.astra.unfaelle-personenschaeden_fussgaenger,<br>\n",
    "    &nbsp;ch.astra.unfaelle-personenschaeden_fahrraeder,<br>\n",
    "    &nbsp;ch.astra.unfaelle-personenschaeden_motorraeder<br>\n",
    "layers_timestamp:,,,,<br>\n",
    "\n",
    "Now we want every data for each layer. By selecting a dot on the map, it queries the related data to the server.\n",
    "What we want to do is selecting all the entries in the map to retrieves all data. This is done by ctrl clicking the whole area.\n",
    "\n",
    "This makes a query for each \"layers\" parameter :\n",
    "<code>\n",
    "geometry:443999.04209536605,39001.6733318335,870499.0420953662,303001.67333183356\n",
    "geometryFormat:geojson\n",
    "geometryType:esriGeometryEnvelope\n",
    "imageDisplay:1536,759,96\n",
    "lang:en\n",
    "layers:all:<i>LAYER_PARAM</i>\n",
    "mapExtent:269999.04209536605,9501.673331833561,1037999.042095366,389001.67333183356\n",
    "returnGeometry:true\n",
    "tolerance:5\n",
    "</code><br>\n",
    "But doesn't select all dots on map, so let's try the \"load more results\" button on a 'accidetns with fatalities' layer, we get :\n",
    "<code>\n",
    "geometry:443999.04209536605,39001.6733318335,870499.0420953662,303001.67333183356\n",
    "geometryFormat:geojson\n",
    "geometryType:esriGeometryEnvelope\n",
    "imageDisplay:1536,759,96\n",
    "lang:en\n",
    "layers:all:ch.astra.unfaelle-personenschaeden_getoetete\n",
    "mapExtent:136199.04209536605,-28148.32666816644,1134599.042095366,465201.67333183356\n",
    "<b>offset:200</b>\n",
    "returnGeometry:true\n",
    "tolerance:5\n",
    "</code>\n",
    "Pressing load more until no more possible give offset=1200 (for a total of 1337 objects) i.e it loads data entries 200 by 200"
   ]
  },
  {
   "cell_type": "markdown",
   "metadata": {},
   "source": [
    "## JSON Data scraping"
   ]
  },
  {
   "cell_type": "code",
   "execution_count": 1,
   "metadata": {
    "collapsed": false
   },
   "outputs": [],
   "source": [
    "import requests\n",
    "import json\n",
    "\n",
    "import numpy as np\n",
    "import pandas as pd\n",
    "\n",
    "import matplotlib.pyplot as plt\n",
    "\n",
    "from Scripts.helpers import *\n",
    "from Scripts.plots import *\n",
    "\n",
    "\n",
    "import pprint\n",
    "\n",
    "%load_ext autoreload\n",
    "%autoreload 2\n",
    "#from bs4 import BeautifulSoup"
   ]
  },
  {
   "cell_type": "code",
   "execution_count": 2,
   "metadata": {
    "collapsed": false
   },
   "outputs": [],
   "source": [
    "pp = pprint.PrettyPrinter(indent=4)"
   ]
  },
  {
   "cell_type": "code",
   "execution_count": 3,
   "metadata": {
    "collapsed": false
   },
   "outputs": [
    {
     "name": "stdout",
     "output_type": "stream",
     "text": [
      "Processing layer : ch.astra.unfaelle-personenschaeden_alle\n",
      "Layer processed : 90600 records\n",
      "\n",
      "Processing layer : ch.astra.unfaelle-personenschaeden_getoetete\n",
      "Layer processed : 1343 records\n",
      "\n",
      "Processing layer : ch.astra.unfaelle-personenschaeden_fussgaenger\n",
      "Layer processed : 11738 records\n",
      "\n",
      "Processing layer : ch.astra.unfaelle-personenschaeden_fahrraeder\n",
      "Layer processed : 18104 records\n",
      "\n",
      "Processing layer : ch.astra.unfaelle-personenschaeden_motorraeder\n",
      "Layer processed : 19676 records\n",
      "\n",
      "Whole dataset processed : 141461 records\n",
      "\n"
     ]
    }
   ],
   "source": [
    "#import raw data\n",
    "data = import_data(all_data = True)"
   ]
  },
  {
   "cell_type": "code",
   "execution_count": 4,
   "metadata": {
    "collapsed": false
   },
   "outputs": [],
   "source": [
    "json_data_preprocessed = preprocess_data(data)"
   ]
  },
  {
   "cell_type": "code",
   "execution_count": 5,
   "metadata": {
    "collapsed": false
   },
   "outputs": [
    {
     "name": "stdout",
     "output_type": "stream",
     "text": [
      "Data entry example after clean and reformat:\n",
      "\n"
     ]
    },
    {
     "data": {
      "text/plain": [
       "{'accidenttype_fr': 'dérapage ou perte de maîtrise',\n",
       " 'accidenttypecode': 0,\n",
       " 'accidentyear': 2014,\n",
       " 'canton': 'AG',\n",
       " 'coordinates': [630182.0, 232290.0],\n",
       " 'day': 'samedi',\n",
       " 'fsocommunecode': '4279',\n",
       " 'id': 'F8D9FD92E6AC0196E0430A8394274F00',\n",
       " 'label': 'Schleuder- oder Selbstunfall',\n",
       " 'layerName': 'Accidents avec dommages corporels',\n",
       " 'month': 'mai',\n",
       " 'roadtype_fr': 'route principale',\n",
       " 'roadtypecode': 432,\n",
       " 'severitycategory_fr': 'accident avec blessés légers',\n",
       " 'severitycategorycode': 'ULV',\n",
       " 'time': '01h-02h'}"
      ]
     },
     "execution_count": 5,
     "metadata": {},
     "output_type": "execute_result"
    }
   ],
   "source": [
    "print(\"Data entry example after clean and reformat:\\n\")\n",
    "json_data_preprocessed[0]"
   ]
  },
  {
   "cell_type": "code",
   "execution_count": 6,
   "metadata": {
    "collapsed": false
   },
   "outputs": [
    {
     "data": {
      "text/html": [
       "<div>\n",
       "<table border=\"1\" class=\"dataframe\">\n",
       "  <thead>\n",
       "    <tr style=\"text-align: right;\">\n",
       "      <th></th>\n",
       "      <th>accident_type</th>\n",
       "      <th>accident_type_code</th>\n",
       "      <th>accident_year</th>\n",
       "      <th>canton</th>\n",
       "      <th>coordinates</th>\n",
       "      <th>day</th>\n",
       "      <th>fsocommunecode</th>\n",
       "      <th>label</th>\n",
       "      <th>layerName</th>\n",
       "      <th>month</th>\n",
       "      <th>road_type</th>\n",
       "      <th>road_type_code</th>\n",
       "      <th>severity_category</th>\n",
       "      <th>severity_category_code</th>\n",
       "      <th>time</th>\n",
       "    </tr>\n",
       "    <tr>\n",
       "      <th>id</th>\n",
       "      <th></th>\n",
       "      <th></th>\n",
       "      <th></th>\n",
       "      <th></th>\n",
       "      <th></th>\n",
       "      <th></th>\n",
       "      <th></th>\n",
       "      <th></th>\n",
       "      <th></th>\n",
       "      <th></th>\n",
       "      <th></th>\n",
       "      <th></th>\n",
       "      <th></th>\n",
       "      <th></th>\n",
       "      <th></th>\n",
       "    </tr>\n",
       "  </thead>\n",
       "  <tbody>\n",
       "    <tr>\n",
       "      <th>1DCCE59B4E9A00F8E0530A8394274F10</th>\n",
       "      <td>accident lors d'un dépassement ou lors d'un ch...</td>\n",
       "      <td>1</td>\n",
       "      <td>2015</td>\n",
       "      <td>SO</td>\n",
       "      <td>[597045.0, 215853.0]</td>\n",
       "      <td>mardi</td>\n",
       "      <td>2461</td>\n",
       "      <td>Überholunfall oder Fahrstreifenwechsel</td>\n",
       "      <td>Accidents avec dommages corporels</td>\n",
       "      <td>juillet</td>\n",
       "      <td>route principale</td>\n",
       "      <td>432</td>\n",
       "      <td>accident avec blessés légers</td>\n",
       "      <td>ULV</td>\n",
       "      <td>13h-14h</td>\n",
       "    </tr>\n",
       "    <tr>\n",
       "      <th>C7D89DCEFB510080E0430A8394279F87</th>\n",
       "      <td>dérapage ou perte de maîtrise</td>\n",
       "      <td>0</td>\n",
       "      <td>2012</td>\n",
       "      <td>GR</td>\n",
       "      <td>[791058.0, 181902.0]</td>\n",
       "      <td>vendredi</td>\n",
       "      <td>3851</td>\n",
       "      <td>Schleuder- oder Selbstunfall</td>\n",
       "      <td>Accidents avec dommages corporels</td>\n",
       "      <td>août</td>\n",
       "      <td>route principale</td>\n",
       "      <td>432</td>\n",
       "      <td>accident avec blessés légers</td>\n",
       "      <td>ULV</td>\n",
       "      <td>15h-16h</td>\n",
       "    </tr>\n",
       "    <tr>\n",
       "      <th>DF1A87D80E0501FCE0430A8394279877</th>\n",
       "      <td>accident en s'engageant sur une route</td>\n",
       "      <td>4</td>\n",
       "      <td>2013</td>\n",
       "      <td>LU</td>\n",
       "      <td>[665672.0, 214562.0]</td>\n",
       "      <td>mardi</td>\n",
       "      <td>1024</td>\n",
       "      <td>Einbiegeunfall</td>\n",
       "      <td>Accidents avec dommages corporels</td>\n",
       "      <td>mai</td>\n",
       "      <td>route principale</td>\n",
       "      <td>432</td>\n",
       "      <td>accident avec blessés légers</td>\n",
       "      <td>ULV</td>\n",
       "      <td>10h-11h</td>\n",
       "    </tr>\n",
       "  </tbody>\n",
       "</table>\n",
       "</div>"
      ],
      "text/plain": [
       "                                                                      accident_type  \\\n",
       "id                                                                                    \n",
       "1DCCE59B4E9A00F8E0530A8394274F10  accident lors d'un dépassement ou lors d'un ch...   \n",
       "C7D89DCEFB510080E0430A8394279F87                      dérapage ou perte de maîtrise   \n",
       "DF1A87D80E0501FCE0430A8394279877              accident en s'engageant sur une route   \n",
       "\n",
       "                                  accident_type_code  accident_year canton  \\\n",
       "id                                                                           \n",
       "1DCCE59B4E9A00F8E0530A8394274F10                   1           2015     SO   \n",
       "C7D89DCEFB510080E0430A8394279F87                   0           2012     GR   \n",
       "DF1A87D80E0501FCE0430A8394279877                   4           2013     LU   \n",
       "\n",
       "                                           coordinates       day  \\\n",
       "id                                                                 \n",
       "1DCCE59B4E9A00F8E0530A8394274F10  [597045.0, 215853.0]     mardi   \n",
       "C7D89DCEFB510080E0430A8394279F87  [791058.0, 181902.0]  vendredi   \n",
       "DF1A87D80E0501FCE0430A8394279877  [665672.0, 214562.0]     mardi   \n",
       "\n",
       "                                 fsocommunecode  \\\n",
       "id                                                \n",
       "1DCCE59B4E9A00F8E0530A8394274F10           2461   \n",
       "C7D89DCEFB510080E0430A8394279F87           3851   \n",
       "DF1A87D80E0501FCE0430A8394279877           1024   \n",
       "\n",
       "                                                                   label  \\\n",
       "id                                                                         \n",
       "1DCCE59B4E9A00F8E0530A8394274F10  Überholunfall oder Fahrstreifenwechsel   \n",
       "C7D89DCEFB510080E0430A8394279F87            Schleuder- oder Selbstunfall   \n",
       "DF1A87D80E0501FCE0430A8394279877                          Einbiegeunfall   \n",
       "\n",
       "                                                          layerName    month  \\\n",
       "id                                                                             \n",
       "1DCCE59B4E9A00F8E0530A8394274F10  Accidents avec dommages corporels  juillet   \n",
       "C7D89DCEFB510080E0430A8394279F87  Accidents avec dommages corporels     août   \n",
       "DF1A87D80E0501FCE0430A8394279877  Accidents avec dommages corporels      mai   \n",
       "\n",
       "                                         road_type  road_type_code  \\\n",
       "id                                                                   \n",
       "1DCCE59B4E9A00F8E0530A8394274F10  route principale             432   \n",
       "C7D89DCEFB510080E0430A8394279F87  route principale             432   \n",
       "DF1A87D80E0501FCE0430A8394279877  route principale             432   \n",
       "\n",
       "                                             severity_category  \\\n",
       "id                                                               \n",
       "1DCCE59B4E9A00F8E0530A8394274F10  accident avec blessés légers   \n",
       "C7D89DCEFB510080E0430A8394279F87  accident avec blessés légers   \n",
       "DF1A87D80E0501FCE0430A8394279877  accident avec blessés légers   \n",
       "\n",
       "                                 severity_category_code     time  \n",
       "id                                                                \n",
       "1DCCE59B4E9A00F8E0530A8394274F10                    ULV  13h-14h  \n",
       "C7D89DCEFB510080E0430A8394279F87                    ULV  15h-16h  \n",
       "DF1A87D80E0501FCE0430A8394279877                    ULV  10h-11h  "
      ]
     },
     "execution_count": 6,
     "metadata": {},
     "output_type": "execute_result"
    }
   ],
   "source": [
    "df = pd.DataFrame.from_dict(json_data_preprocessed)\n",
    "df.set_index('id', inplace=True)\n",
    "df.columns = ['accident_type','accident_type_code','accident_year','canton','coordinates','day','fsocommunecode','label','layerName','month','road_type','road_type_code','severity_category','severity_category_code','time']\n",
    "df.sample(3)"
   ]
  },
  {
   "cell_type": "code",
   "execution_count": 7,
   "metadata": {
    "collapsed": false
   },
   "outputs": [
    {
     "name": "stdout",
     "output_type": "stream",
     "text": [
      "Plotting all features\n",
      "plotting feature accident_type\n",
      "plotting feature accident_type_code\n",
      "plotting feature accident_year\n",
      "plotting feature canton\n",
      "plotting feature day\n",
      "plotting feature label\n",
      "plotting feature layerName\n",
      "plotting feature month\n",
      "plotting feature road_type\n",
      "plotting feature road_type_code\n",
      "plotting feature severity_category\n",
      "plotting feature severity_category_code\n",
      "plotting feature time\n",
      "-> Done plotting\n"
     ]
    }
   ],
   "source": [
    "plot_all_features(df)"
   ]
  },
  {
   "cell_type": "markdown",
   "metadata": {},
   "source": [
    "# Data analysis"
   ]
  },
  {
   "cell_type": "markdown",
   "metadata": {},
   "source": [
    "1) Accidents par rapport au temps<br>\n",
    "2) Corrélation nombre/type d'accident avec les endroits (Valais ivresse)<br>\n",
    "3) Tracker des anomalies (fin/début d'une série d'accident) et essayer d'en trouver la cause<br>"
   ]
  },
  {
   "cell_type": "code",
   "execution_count": 8,
   "metadata": {
    "collapsed": false
   },
   "outputs": [],
   "source": [
    "plot_feature_combination(df, ['accident_year', 'month'])"
   ]
  },
  {
   "cell_type": "code",
   "execution_count": 9,
   "metadata": {
    "collapsed": false
   },
   "outputs": [],
   "source": [
    "plot_feature_combination(df, ['canton','day'])"
   ]
  },
  {
   "cell_type": "code",
   "execution_count": 10,
   "metadata": {
    "collapsed": false
   },
   "outputs": [],
   "source": [
    "plot_feature_combination(df, ['road_type','day'])"
   ]
  },
  {
   "cell_type": "code",
   "execution_count": 11,
   "metadata": {
    "collapsed": false
   },
   "outputs": [],
   "source": [
    "plot_feature_combination(df, ['time', 'severity_category'])"
   ]
  },
  {
   "cell_type": "code",
   "execution_count": 12,
   "metadata": {
    "collapsed": false
   },
   "outputs": [
    {
     "data": {
      "text/plain": [
       "2191"
      ]
     },
     "execution_count": 12,
     "metadata": {},
     "output_type": "execute_result"
    }
   ],
   "source": [
    "len(df.fsocommunecode.unique())\n"
   ]
  },
  {
   "cell_type": "code",
   "execution_count": 13,
   "metadata": {
    "collapsed": false
   },
   "outputs": [],
   "source": [
    "plot_feature_combination(df, ['accident_type_code', 'severity_category_code'])"
   ]
  },
  {
   "cell_type": "code",
   "execution_count": 14,
   "metadata": {
    "collapsed": false
   },
   "outputs": [
    {
     "name": "stdout",
     "output_type": "stream",
     "text": [
      "***Generating feature combinations***\n",
      "-> Done\n",
      "***Plotting feature combinations***\n",
      "-> Done\n"
     ]
    }
   ],
   "source": [
    "plot_all_feature_combinations(df, ['coordinates'], 2)"
   ]
  },
  {
   "cell_type": "code",
   "execution_count": null,
   "metadata": {
    "collapsed": true
   },
   "outputs": [],
   "source": []
  }
 ],
 "metadata": {
  "anaconda-cloud": {},
  "kernelspec": {
   "display_name": "Python [default]",
   "language": "python",
   "name": "python3"
  },
  "language_info": {
   "codemirror_mode": {
    "name": "ipython",
    "version": 3
   },
   "file_extension": ".py",
   "mimetype": "text/x-python",
   "name": "python",
   "nbconvert_exporter": "python",
   "pygments_lexer": "ipython3",
   "version": "3.5.2"
  }
 },
 "nbformat": 4,
 "nbformat_minor": 0
}
